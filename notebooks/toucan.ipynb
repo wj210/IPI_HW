{
 "cells": [
  {
   "cell_type": "code",
   "execution_count": 38,
   "id": "b59edd3e",
   "metadata": {},
   "outputs": [],
   "source": [
    "import os,json,sys\n",
    "sys.path.append(os.path.abspath(\".\")) \n",
    "sys.path.append(os.path.abspath(\"..\")) \n",
    "from torch.utils.data import Dataset\n",
    "from transformers import AutoTokenizer\n",
    "import re\n",
    "from tqdm import tqdm\n",
    "from utils.utils import *\n",
    "from datasets import load_dataset\n",
    "import ast\n",
    "from collections import defaultdict\n",
    "sys.path.append(os.path.abspath(\"aside\")) # to access aside.experiments\n",
    "from utils.model_utils import load_model\n",
    "from vllm import SamplingParams"
   ]
  },
  {
   "cell_type": "code",
   "execution_count": 27,
   "id": "dc1bd546",
   "metadata": {},
   "outputs": [
    {
     "name": "stdout",
     "output_type": "stream",
     "text": [
      "INFO 10-06 11:38:04 [utils.py:328] non-default args: {'max_model_len': 32768, 'gpu_memory_utilization': 0.8, 'disable_log_stats': True, 'enable_chunked_prefill': False, 'model': 'Qwen/Qwen3-8B'}\n",
      "INFO 10-06 11:38:23 [__init__.py:742] Resolved architecture: Qwen3ForCausalLM\n"
     ]
    },
    {
     "name": "stderr",
     "output_type": "stream",
     "text": [
      "`torch_dtype` is deprecated! Use `dtype` instead!\n"
     ]
    },
    {
     "name": "stdout",
     "output_type": "stream",
     "text": [
      "INFO 10-06 11:38:23 [__init__.py:1815] Using max model len 32768\n",
      "INFO 10-06 11:38:27 [scheduler.py:222] Chunked prefill is enabled with max_num_batched_tokens=8192.\n",
      "WARNING 10-06 11:38:30 [__init__.py:2974] We must use the `spawn` multiprocessing start method. Overriding VLLM_WORKER_MULTIPROC_METHOD to 'spawn'. See https://docs.vllm.ai/en/latest/usage/troubleshooting.html#python-multiprocessing for more information. Reasons: CUDA is initialized\n",
      "INFO 10-06 11:38:42 [__init__.py:216] Automatically detected platform cuda.\n",
      "\u001b[1;36m(EngineCore_DP0 pid=89642)\u001b[0;0m INFO 10-06 11:38:44 [core.py:654] Waiting for init message from front-end.\n",
      "\u001b[1;36m(EngineCore_DP0 pid=89642)\u001b[0;0m INFO 10-06 11:38:44 [core.py:76] Initializing a V1 LLM engine (v0.10.2) with config: model='Qwen/Qwen3-8B', speculative_config=None, tokenizer='Qwen/Qwen3-8B', skip_tokenizer_init=False, tokenizer_mode=auto, revision=None, tokenizer_revision=None, trust_remote_code=False, dtype=torch.bfloat16, max_seq_len=32768, download_dir=None, load_format=auto, tensor_parallel_size=1, pipeline_parallel_size=1, data_parallel_size=1, disable_custom_all_reduce=False, quantization=None, enforce_eager=False, kv_cache_dtype=auto, device_config=cuda, decoding_config=DecodingConfig(backend='auto', disable_fallback=False, disable_any_whitespace=False, disable_additional_properties=False, reasoning_backend=''), observability_config=ObservabilityConfig(show_hidden_metrics_for_version=None, otlp_traces_endpoint=None, collect_detailed_traces=None), seed=0, served_model_name=Qwen/Qwen3-8B, enable_prefix_caching=True, chunked_prefill_enabled=True, use_async_output_proc=True, pooler_config=None, compilation_config={\"level\":3,\"debug_dump_path\":\"\",\"cache_dir\":\"\",\"backend\":\"\",\"custom_ops\":[],\"splitting_ops\":[\"vllm.unified_attention\",\"vllm.unified_attention_with_output\",\"vllm.mamba_mixer2\",\"vllm.mamba_mixer\",\"vllm.short_conv\",\"vllm.linear_attention\",\"vllm.plamo2_mamba_mixer\",\"vllm.gdn_attention\"],\"use_inductor\":true,\"compile_sizes\":[],\"inductor_compile_config\":{\"enable_auto_functionalized_v2\":false},\"inductor_passes\":{},\"cudagraph_mode\":1,\"use_cudagraph\":true,\"cudagraph_num_of_warmups\":1,\"cudagraph_capture_sizes\":[512,504,496,488,480,472,464,456,448,440,432,424,416,408,400,392,384,376,368,360,352,344,336,328,320,312,304,296,288,280,272,264,256,248,240,232,224,216,208,200,192,184,176,168,160,152,144,136,128,120,112,104,96,88,80,72,64,56,48,40,32,24,16,8,4,2,1],\"cudagraph_copy_inputs\":false,\"full_cuda_graph\":false,\"pass_config\":{},\"max_capture_size\":512,\"local_cache_dir\":null}\n"
     ]
    },
    {
     "name": "stderr",
     "output_type": "stream",
     "text": [
      "[W1006 11:38:49.130278224 ProcessGroupNCCL.cpp:981] Warning: TORCH_NCCL_AVOID_RECORD_STREAMS is the default now, this environment variable is thus deprecated. (function operator())\n"
     ]
    },
    {
     "name": "stdout",
     "output_type": "stream",
     "text": [
      "[Gloo] Rank 0 is connected to 0 peer ranks. Expected number of connected peer ranks is : 0\n",
      "[Gloo] Rank 0 is connected to 0 peer ranks. Expected number of connected peer ranks is : 0\n",
      "[Gloo] Rank 0 is connected to 0 peer ranks. Expected number of connected peer ranks is : 0\n",
      "[Gloo] Rank 0 is connected to 0 peer ranks. Expected number of connected peer ranks is : 0\n",
      "[Gloo] Rank 0 is connected to 0 peer ranks. Expected number of connected peer ranks is : 0\n",
      "[Gloo] Rank 0 is connected to 0 peer ranks. Expected number of connected peer ranks is : 0\n",
      "\u001b[1;36m(EngineCore_DP0 pid=89642)\u001b[0;0m INFO 10-06 11:38:49 [parallel_state.py:1165] rank 0 in world size 1 is assigned as DP rank 0, PP rank 0, TP rank 0, EP rank 0\n",
      "\u001b[1;36m(EngineCore_DP0 pid=89642)\u001b[0;0m WARNING 10-06 11:38:49 [topk_topp_sampler.py:69] FlashInfer is not available. Falling back to the PyTorch-native implementation of top-p & top-k sampling. For the best performance, please install FlashInfer.\n",
      "\u001b[1;36m(EngineCore_DP0 pid=89642)\u001b[0;0m INFO 10-06 11:38:49 [gpu_model_runner.py:2338] Starting to load model Qwen/Qwen3-8B...\n",
      "\u001b[1;36m(EngineCore_DP0 pid=89642)\u001b[0;0m INFO 10-06 11:38:50 [gpu_model_runner.py:2370] Loading model from scratch...\n",
      "\u001b[1;36m(EngineCore_DP0 pid=89642)\u001b[0;0m INFO 10-06 11:38:50 [cuda.py:362] Using Flash Attention backend on V1 engine.\n",
      "\u001b[1;36m(EngineCore_DP0 pid=89642)\u001b[0;0m INFO 10-06 11:38:53 [weight_utils.py:348] Using model weights format ['*.safetensors']\n"
     ]
    },
    {
     "name": "stderr",
     "output_type": "stream",
     "text": [
      "Loading safetensors checkpoint shards:   0% Completed | 0/5 [00:00<?, ?it/s]\n",
      "Loading safetensors checkpoint shards:  20% Completed | 1/5 [00:00<00:02,  1.91it/s]\n",
      "Loading safetensors checkpoint shards:  40% Completed | 2/5 [00:01<00:03,  1.08s/it]\n",
      "Loading safetensors checkpoint shards:  60% Completed | 3/5 [00:03<00:02,  1.50s/it]\n",
      "Loading safetensors checkpoint shards:  80% Completed | 4/5 [00:06<00:01,  1.71s/it]\n",
      "Loading safetensors checkpoint shards: 100% Completed | 5/5 [00:08<00:00,  1.83s/it]\n",
      "Loading safetensors checkpoint shards: 100% Completed | 5/5 [00:08<00:00,  1.62s/it]\n",
      "\u001b[1;36m(EngineCore_DP0 pid=89642)\u001b[0;0m \n"
     ]
    },
    {
     "name": "stdout",
     "output_type": "stream",
     "text": [
      "\u001b[1;36m(EngineCore_DP0 pid=89642)\u001b[0;0m INFO 10-06 11:39:01 [default_loader.py:268] Loading weights took 8.29 seconds\n",
      "\u001b[1;36m(EngineCore_DP0 pid=89642)\u001b[0;0m INFO 10-06 11:39:02 [gpu_model_runner.py:2392] Model loading took 15.2683 GiB and 11.947722 seconds\n",
      "\u001b[1;36m(EngineCore_DP0 pid=89642)\u001b[0;0m INFO 10-06 11:39:12 [backends.py:539] Using cache directory: /export/home2/weijie210/.cache/vllm/torch_compile_cache/77df5711bc/rank_0_0/backbone for vLLM's torch.compile\n",
      "\u001b[1;36m(EngineCore_DP0 pid=89642)\u001b[0;0m INFO 10-06 11:39:12 [backends.py:550] Dynamo bytecode transform time: 9.59 s\n",
      "\u001b[1;36m(EngineCore_DP0 pid=89642)\u001b[0;0m INFO 10-06 11:39:26 [backends.py:161] Directly load the compiled graph(s) for dynamic shape from the cache, took 12.834 s\n",
      "\u001b[1;36m(EngineCore_DP0 pid=89642)\u001b[0;0m INFO 10-06 11:39:27 [monitor.py:34] torch.compile takes 9.59 s in total\n",
      "\u001b[1;36m(EngineCore_DP0 pid=89642)\u001b[0;0m INFO 10-06 11:39:31 [gpu_worker.py:298] Available KV cache memory: 46.66 GiB\n",
      "\u001b[1;36m(EngineCore_DP0 pid=89642)\u001b[0;0m INFO 10-06 11:39:31 [kv_cache_utils.py:864] GPU KV cache size: 339,792 tokens\n",
      "\u001b[1;36m(EngineCore_DP0 pid=89642)\u001b[0;0m INFO 10-06 11:39:31 [kv_cache_utils.py:868] Maximum concurrency for 32,768 tokens per request: 10.37x\n"
     ]
    },
    {
     "name": "stderr",
     "output_type": "stream",
     "text": [
      "Capturing CUDA graphs (mixed prefill-decode, PIECEWISE): 100%|█| 67/67 [00:08<0\n"
     ]
    },
    {
     "name": "stdout",
     "output_type": "stream",
     "text": [
      "\u001b[1;36m(EngineCore_DP0 pid=89642)\u001b[0;0m INFO 10-06 11:39:41 [gpu_model_runner.py:3118] Graph capturing finished in 10 secs, took 0.62 GiB\n",
      "\u001b[1;36m(EngineCore_DP0 pid=89642)\u001b[0;0m INFO 10-06 11:39:41 [gpu_worker.py:391] Free memory on device (78.76/79.25 GiB) on startup. Desired GPU memory utilization is (0.8, 63.4 GiB). Actual usage is 15.27 GiB for weight, 1.45 GiB for peak activation, 0.02 GiB for non-torch memory, and 0.62 GiB for CUDAGraph memory. Replace gpu_memory_utilization config with `--kv-cache-memory=49284854784` to fit into requested memory, or `--kv-cache-memory=65780986880` to fully utilize gpu memory. Current kv cache memory in use is 50104841216 bytes.\n",
      "\u001b[1;36m(EngineCore_DP0 pid=89642)\u001b[0;0m INFO 10-06 11:39:41 [core.py:218] init engine (profile, create kv cache, warmup model) took 39.16 seconds\n",
      "INFO 10-06 11:39:44 [llm.py:295] Supported_tasks: ['generate']\n",
      "INFO 10-06 11:39:44 [__init__.py:36] No IOProcessor plugins requested by the model\n"
     ]
    }
   ],
   "source": [
    "model,tokenizer,is_aside = load_model('Qwen/Qwen3-8B',use_vllm=True,vllm_kwargs = {'gpu_memory_utilization':0.8,'enable_chunked_prefill':False})"
   ]
  },
  {
   "cell_type": "code",
   "execution_count": 4,
   "id": "4a5691b3",
   "metadata": {},
   "outputs": [
    {
     "data": {
      "application/vnd.jupyter.widget-view+json": {
       "model_id": "79f5f3f19b974ba7b23826a07150ca08",
       "version_major": 2,
       "version_minor": 0
      },
      "text/plain": [
       "Resolving data files:   0%|          | 0/40 [00:00<?, ?it/s]"
      ]
     },
     "metadata": {},
     "output_type": "display_data"
    }
   ],
   "source": [
    "ds = load_dataset('Agent-Ark/Toucan-1.5M','SFT',split = 'train').to_list()"
   ]
  },
  {
   "cell_type": "code",
   "execution_count": 42,
   "id": "82779230",
   "metadata": {},
   "outputs": [
    {
     "name": "stderr",
     "output_type": "stream",
     "text": [
      "100%|██████████████████████████████████████████████████████████████████| 119287/119287 [00:18<00:00, 6367.68it/s]\n"
     ]
    },
    {
     "data": {
      "text/html": [
       "<pre style=\"white-space:pre;overflow-x:auto;line-height:normal;font-family:Menlo,'DejaVu Sans Mono',consolas,'Courier New',monospace\"><span style=\"color: #000080; text-decoration-color: #000080\">╭──────────────────────────────────────────────────────────────────────────────────────────────────╮</span>\n",
       "<span style=\"color: #000080; text-decoration-color: #000080\">│</span> Invalid cat no_tool_use: 40000 samples                                                           <span style=\"color: #000080; text-decoration-color: #000080\">│</span>\n",
       "<span style=\"color: #000080; text-decoration-color: #000080\">╰──────────────────────────────────────────────────────────────────────────────────────────────────╯</span>\n",
       "</pre>\n"
      ],
      "text/plain": [
       "\u001b[34m╭──────────────────────────────────────────────────────────────────────────────────────────────────╮\u001b[0m\n",
       "\u001b[34m│\u001b[0m Invalid cat no_tool_use: 40000 samples                                                           \u001b[34m│\u001b[0m\n",
       "\u001b[34m╰──────────────────────────────────────────────────────────────────────────────────────────────────╯\u001b[0m\n"
      ]
     },
     "metadata": {},
     "output_type": "display_data"
    },
    {
     "data": {
      "text/html": [
       "<pre style=\"white-space:pre;overflow-x:auto;line-height:normal;font-family:Menlo,'DejaVu Sans Mono',consolas,'Courier New',monospace\"><span style=\"color: #000080; text-decoration-color: #000080\">╭──────────────────────────────────────────────────────────────────────────────────────────────────╮</span>\n",
       "<span style=\"color: #000080; text-decoration-color: #000080\">│</span> Valid cat single-turn-original: 28254 samples                                                    <span style=\"color: #000080; text-decoration-color: #000080\">│</span>\n",
       "<span style=\"color: #000080; text-decoration-color: #000080\">╰──────────────────────────────────────────────────────────────────────────────────────────────────╯</span>\n",
       "</pre>\n"
      ],
      "text/plain": [
       "\u001b[34m╭──────────────────────────────────────────────────────────────────────────────────────────────────╮\u001b[0m\n",
       "\u001b[34m│\u001b[0m Valid cat single-turn-original: 28254 samples                                                    \u001b[34m│\u001b[0m\n",
       "\u001b[34m╰──────────────────────────────────────────────────────────────────────────────────────────────────╯\u001b[0m\n"
      ]
     },
     "metadata": {},
     "output_type": "display_data"
    },
    {
     "data": {
      "text/html": [
       "<pre style=\"white-space:pre;overflow-x:auto;line-height:normal;font-family:Menlo,'DejaVu Sans Mono',consolas,'Courier New',monospace\"><span style=\"color: #000080; text-decoration-color: #000080\">╭──────────────────────────────────────────────────────────────────────────────────────────────────╮</span>\n",
       "<span style=\"color: #000080; text-decoration-color: #000080\">│</span> Valid cat single-turn-diversify: 15790 samples                                                   <span style=\"color: #000080; text-decoration-color: #000080\">│</span>\n",
       "<span style=\"color: #000080; text-decoration-color: #000080\">╰──────────────────────────────────────────────────────────────────────────────────────────────────╯</span>\n",
       "</pre>\n"
      ],
      "text/plain": [
       "\u001b[34m╭──────────────────────────────────────────────────────────────────────────────────────────────────╮\u001b[0m\n",
       "\u001b[34m│\u001b[0m Valid cat single-turn-diversify: 15790 samples                                                   \u001b[34m│\u001b[0m\n",
       "\u001b[34m╰──────────────────────────────────────────────────────────────────────────────────────────────────╯\u001b[0m\n"
      ]
     },
     "metadata": {},
     "output_type": "display_data"
    },
    {
     "data": {
      "text/html": [
       "<pre style=\"white-space:pre;overflow-x:auto;line-height:normal;font-family:Menlo,'DejaVu Sans Mono',consolas,'Courier New',monospace\"><span style=\"color: #000080; text-decoration-color: #000080\">╭──────────────────────────────────────────────────────────────────────────────────────────────────╮</span>\n",
       "<span style=\"color: #000080; text-decoration-color: #000080\">│</span> Valid cat multi-turn: 35243 samples                                                              <span style=\"color: #000080; text-decoration-color: #000080\">│</span>\n",
       "<span style=\"color: #000080; text-decoration-color: #000080\">╰──────────────────────────────────────────────────────────────────────────────────────────────────╯</span>\n",
       "</pre>\n"
      ],
      "text/plain": [
       "\u001b[34m╭──────────────────────────────────────────────────────────────────────────────────────────────────╮\u001b[0m\n",
       "\u001b[34m│\u001b[0m Valid cat multi-turn: 35243 samples                                                              \u001b[34m│\u001b[0m\n",
       "\u001b[34m╰──────────────────────────────────────────────────────────────────────────────────────────────────╯\u001b[0m\n"
      ]
     },
     "metadata": {},
     "output_type": "display_data"
    }
   ],
   "source": [
    "## reformat the dataset\n",
    "toolcall_format = \"<tool_call>\\n{tool}\\n</tool_call>\\n\"\n",
    "\n",
    "cat_ds = defaultdict(list)\n",
    "invalid_cats = defaultdict(int)\n",
    "for sample in tqdm(ds,total = len(ds)):\n",
    "    try: # have to be able to parse both of them.\n",
    "        tools = json.loads(sample['tools'])\n",
    "        messages = json.loads(sample['messages'])\n",
    "    except:\n",
    "        invalid_cats['parsing_error'] += 1\n",
    "        continue\n",
    "    \n",
    "    cat = sample['subset_name']\n",
    "    roles = [m['role'] for m in messages]\n",
    "    if not any([r == 'tool_response' for r in roles]): # no tool roles\n",
    "        invalid_cats['no_tool_use'] += 1\n",
    "        continue\n",
    "    \n",
    "    structured_msg = []\n",
    "    curr_tool_call = ''\n",
    "    assistant_start = False\n",
    "    for msg_id,m in enumerate(messages): # we ignore the assistant role since Qwen do not generate any text other than the MCP tools\n",
    "        if m['role'] == 'tool_call':\n",
    "            curr_tool_call += toolcall_format.format(tool = m['content'])\n",
    "        else:\n",
    "            if curr_tool_call != '': # if the next msg is not tool_call, we dump the curr_tool_call\n",
    "                structured_msg.append({'role':'assistant','content':curr_tool_call.strip()})\n",
    "                curr_tool_call = ''\n",
    "            if m['role'] == 'user':\n",
    "                structured_msg.append(m)\n",
    "            elif m['role'] == 'tool_response':\n",
    "                structured_msg.append({'role':'tool','content':m['content']})\n",
    "            elif m['role'] == 'assistant': # if is assistant, we only keep it if it is the last msg or if the next msg is not tool_call.\n",
    "                if msg_id == len(messages) - 1 or messages[msg_id + 1]['role'] != 'tool_call':\n",
    "                    structured_msg.append(m)\n",
    "                \n",
    "            \n",
    "    cat_ds[cat].append(\n",
    "        {'conversations':structured_msg,\n",
    "         'tools':tools,}\n",
    "    )\n",
    "\n",
    "for k in invalid_cats:\n",
    "    pprint(f\"Invalid cat {k}: {invalid_cats[k]} samples\")\n",
    "\n",
    "for k in cat_ds:\n",
    "    pprint(f\"Valid cat {k}: {len(cat_ds[k])} samples\")\n",
    "        \n",
    "    "
   ]
  },
  {
   "cell_type": "code",
   "execution_count": 46,
   "id": "f9c1ed28",
   "metadata": {},
   "outputs": [
    {
     "data": {
      "text/html": [
       "<pre style=\"white-space:pre;overflow-x:auto;line-height:normal;font-family:Menlo,'DejaVu Sans Mono',consolas,'Courier New',monospace\"><span style=\"color: #000080; text-decoration-color: #000080\">╭──────────────────────────────────────────────────────────────────────────────────────────────────╮</span>\n",
       "<span style=\"color: #000080; text-decoration-color: #000080\">│</span> &lt;|im_start|&gt;system                                                                               <span style=\"color: #000080; text-decoration-color: #000080\">│</span>\n",
       "<span style=\"color: #000080; text-decoration-color: #000080\">│</span> # Tools                                                                                          <span style=\"color: #000080; text-decoration-color: #000080\">│</span>\n",
       "<span style=\"color: #000080; text-decoration-color: #000080\">│</span>                                                                                                  <span style=\"color: #000080; text-decoration-color: #000080\">│</span>\n",
       "<span style=\"color: #000080; text-decoration-color: #000080\">│</span> You may call one or more functions to assist with the user query.                                <span style=\"color: #000080; text-decoration-color: #000080\">│</span>\n",
       "<span style=\"color: #000080; text-decoration-color: #000080\">│</span>                                                                                                  <span style=\"color: #000080; text-decoration-color: #000080\">│</span>\n",
       "<span style=\"color: #000080; text-decoration-color: #000080\">│</span> You are provided with function signatures within &lt;tools&gt;&lt;/tools&gt; XML tags:                       <span style=\"color: #000080; text-decoration-color: #000080\">│</span>\n",
       "<span style=\"color: #000080; text-decoration-color: #000080\">│</span> &lt;tools&gt;                                                                                          <span style=\"color: #000080; text-decoration-color: #000080\">│</span>\n",
       "<span style=\"color: #000080; text-decoration-color: #000080\">│</span> {\"type\": \"function\", \"function\": {\"name\": \"pokémcp-random-pokemon\", \"description\": \"Get a random <span style=\"color: #000080; text-decoration-color: #000080\">│</span>\n",
       "<span style=\"color: #000080; text-decoration-color: #000080\">│</span> Pokémon\", \"parameters\": {\"type\": \"object\", \"properties\": {}, \"additionalProperties\": false,      <span style=\"color: #000080; text-decoration-color: #000080\">│</span>\n",
       "<span style=\"color: #000080; text-decoration-color: #000080\">│</span> \"$schema\": \"http://json-schema.org/draft-07/schema#\"}}}                                          <span style=\"color: #000080; text-decoration-color: #000080\">│</span>\n",
       "<span style=\"color: #000080; text-decoration-color: #000080\">│</span> {\"type\": \"function\", \"function\": {\"name\": \"pokémcp-random-pokemon-from-region\", \"description\":   <span style=\"color: #000080; text-decoration-color: #000080\">│</span>\n",
       "<span style=\"color: #000080; text-decoration-color: #000080\">│</span> \"Get a random Pokémon from a specific region\", \"parameters\": {\"type\": \"object\", \"properties\":    <span style=\"color: #000080; text-decoration-color: #000080\">│</span>\n",
       "<span style=\"color: #000080; text-decoration-color: #000080\">│</span> {\"region\": {\"type\": \"string\", \"description\": \"The Pokémon region (e.g., kanto, johto, hoenn,     <span style=\"color: #000080; text-decoration-color: #000080\">│</span>\n",
       "<span style=\"color: #000080; text-decoration-color: #000080\">│</span> etc.)\"}}, \"required\": [\"region\"], \"additionalProperties\": false, \"$schema\":                      <span style=\"color: #000080; text-decoration-color: #000080\">│</span>\n",
       "<span style=\"color: #000080; text-decoration-color: #000080\">│</span> \"http://json-schema.org/draft-07/schema#\"}}}                                                     <span style=\"color: #000080; text-decoration-color: #000080\">│</span>\n",
       "<span style=\"color: #000080; text-decoration-color: #000080\">│</span> {\"type\": \"function\", \"function\": {\"name\": \"pokémcp-random-pokemon-by-type\", \"description\": \"Get  <span style=\"color: #000080; text-decoration-color: #000080\">│</span>\n",
       "<span style=\"color: #000080; text-decoration-color: #000080\">│</span> a random Pokémon of a specific type\", \"parameters\": {\"type\": \"object\", \"properties\": {\"type\":    <span style=\"color: #000080; text-decoration-color: #000080\">│</span>\n",
       "<span style=\"color: #000080; text-decoration-color: #000080\">│</span> {\"type\": \"string\", \"description\": \"The Pokémon type (e.g., fire, water, grass, etc.)\"}},         <span style=\"color: #000080; text-decoration-color: #000080\">│</span>\n",
       "<span style=\"color: #000080; text-decoration-color: #000080\">│</span> \"required\": [\"type\"], \"additionalProperties\": false, \"$schema\":                                  <span style=\"color: #000080; text-decoration-color: #000080\">│</span>\n",
       "<span style=\"color: #000080; text-decoration-color: #000080\">│</span> \"http://json-schema.org/draft-07/schema#\"}}}                                                     <span style=\"color: #000080; text-decoration-color: #000080\">│</span>\n",
       "<span style=\"color: #000080; text-decoration-color: #000080\">│</span> {\"type\": \"function\", \"function\": {\"name\": \"pokémcp-pokemon-query\", \"description\": \"Answer        <span style=\"color: #000080; text-decoration-color: #000080\">│</span>\n",
       "<span style=\"color: #000080; text-decoration-color: #000080\">│</span> natural language Pokémon queries\", \"parameters\": {\"type\": \"object\", \"properties\": {\"query\":      <span style=\"color: #000080; text-decoration-color: #000080\">│</span>\n",
       "<span style=\"color: #000080; text-decoration-color: #000080\">│</span> {\"type\": \"string\", \"description\": \"A natural language query about Pokémon\"}}, \"required\":        <span style=\"color: #000080; text-decoration-color: #000080\">│</span>\n",
       "<span style=\"color: #000080; text-decoration-color: #000080\">│</span> [\"query\"], \"additionalProperties\": false, \"$schema\":                                             <span style=\"color: #000080; text-decoration-color: #000080\">│</span>\n",
       "<span style=\"color: #000080; text-decoration-color: #000080\">│</span> \"http://json-schema.org/draft-07/schema#\"}}}                                                     <span style=\"color: #000080; text-decoration-color: #000080\">│</span>\n",
       "<span style=\"color: #000080; text-decoration-color: #000080\">│</span> {\"type\": \"function\", \"function\": {\"name\": \"bible-verse-access-server-get_random_bible_verse\",    <span style=\"color: #000080; text-decoration-color: #000080\">│</span>\n",
       "<span style=\"color: #000080; text-decoration-color: #000080\">│</span> \"description\": \"\\n    Get a random Bible verse.\\n\\n    Args:\\n        book_ids: Optional         <span style=\"color: #000080; text-decoration-color: #000080\">│</span>\n",
       "<span style=\"color: #000080; text-decoration-color: #000080\">│</span> comma-separated list of book IDs (e.g., \\\"GEN,JHN\\\")\\n                 or special strings \\\"OT\\\" <span style=\"color: #000080; text-decoration-color: #000080\">│</span>\n",
       "<span style=\"color: #000080; text-decoration-color: #000080\">│</span> (Old Testament) or \\\"NT\\\" (New Testament)\\n\\n    Returns:\\n        Random verse data including   <span style=\"color: #000080; text-decoration-color: #000080\">│</span>\n",
       "<span style=\"color: #000080; text-decoration-color: #000080\">│</span> reference, text, and translation info\\n    \", \"parameters\": {\"properties\": {\"book_ids\":          <span style=\"color: #000080; text-decoration-color: #000080\">│</span>\n",
       "<span style=\"color: #000080; text-decoration-color: #000080\">│</span> {\"default\": null, \"title\": \"Book Ids\", \"type\": \"string\"}}, \"title\":                              <span style=\"color: #000080; text-decoration-color: #000080\">│</span>\n",
       "<span style=\"color: #000080; text-decoration-color: #000080\">│</span> \"get_random_bible_verseArguments\", \"type\": \"object\"}}}                                           <span style=\"color: #000080; text-decoration-color: #000080\">│</span>\n",
       "<span style=\"color: #000080; text-decoration-color: #000080\">│</span> {\"type\": \"function\", \"function\": {\"name\": \"bible-verse-access-server-get_bible_verse\",           <span style=\"color: #000080; text-decoration-color: #000080\">│</span>\n",
       "<span style=\"color: #000080; text-decoration-color: #000080\">│</span> \"description\": \"\\n    Get a specific Bible verse or passage.\\n\\n    Args:\\n        reference:    <span style=\"color: #000080; text-decoration-color: #000080\">│</span>\n",
       "<span style=\"color: #000080; text-decoration-color: #000080\">│</span> Bible reference (e.g., \\\"John 3:16\\\", \\\"Genesis 1:1-3\\\")\\n        translation: Translation       <span style=\"color: #000080; text-decoration-color: #000080\">│</span>\n",
       "<span style=\"color: #000080; text-decoration-color: #000080\">│</span> identifier (default: \\\"web\\\" for World English Bible)\\n\\n    Returns:\\n        Verse data        <span style=\"color: #000080; text-decoration-color: #000080\">│</span>\n",
       "<span style=\"color: #000080; text-decoration-color: #000080\">│</span> including reference, text, and translation info\\n    \", \"parameters\": {\"properties\":             <span style=\"color: #000080; text-decoration-color: #000080\">│</span>\n",
       "<span style=\"color: #000080; text-decoration-color: #000080\">│</span> {\"reference\": {\"title\": \"Reference\", \"type\": \"string\"}, \"translation\": {\"default\": \"web\",        <span style=\"color: #000080; text-decoration-color: #000080\">│</span>\n",
       "<span style=\"color: #000080; text-decoration-color: #000080\">│</span> \"title\": \"Translation\", \"type\": \"string\"}}, \"required\": [\"reference\"], \"title\":                  <span style=\"color: #000080; text-decoration-color: #000080\">│</span>\n",
       "<span style=\"color: #000080; text-decoration-color: #000080\">│</span> \"get_bible_verseArguments\", \"type\": \"object\"}}}                                                  <span style=\"color: #000080; text-decoration-color: #000080\">│</span>\n",
       "<span style=\"color: #000080; text-decoration-color: #000080\">│</span> {\"type\": \"function\", \"function\": {\"name\": \"bible-verse-access-server-list_bible_translations\",   <span style=\"color: #000080; text-decoration-color: #000080\">│</span>\n",
       "<span style=\"color: #000080; text-decoration-color: #000080\">│</span> \"description\": \"\\n    Get list of all available Bible translations.\\n\\n    Returns:\\n            <span style=\"color: #000080; text-decoration-color: #000080\">│</span>\n",
       "<span style=\"color: #000080; text-decoration-color: #000080\">│</span> List of available translations with their identifiers and names\\n    \", \"parameters\":            <span style=\"color: #000080; text-decoration-color: #000080\">│</span>\n",
       "<span style=\"color: #000080; text-decoration-color: #000080\">│</span> {\"properties\": {}, \"title\": \"list_bible_translationsArguments\", \"type\": \"object\"}}}              <span style=\"color: #000080; text-decoration-color: #000080\">│</span>\n",
       "<span style=\"color: #000080; text-decoration-color: #000080\">│</span> {\"type\": \"function\", \"function\": {\"name\": \"bible-verse-access-server-list_bible_books\",          <span style=\"color: #000080; text-decoration-color: #000080\">│</span>\n",
       "<span style=\"color: #000080; text-decoration-color: #000080\">│</span> \"description\": \"\\n    Get list of books for a specific Bible translation.\\n\\n    Args:\\n         <span style=\"color: #000080; text-decoration-color: #000080\">│</span>\n",
       "<span style=\"color: #000080; text-decoration-color: #000080\">│</span> translation: Translation identifier (default: \\\"web\\\")\\n\\n    Returns:\\n        List of books    <span style=\"color: #000080; text-decoration-color: #000080\">│</span>\n",
       "<span style=\"color: #000080; text-decoration-color: #000080\">│</span> with their identifiers and names\\n    \", \"parameters\": {\"properties\": {\"translation\":            <span style=\"color: #000080; text-decoration-color: #000080\">│</span>\n",
       "<span style=\"color: #000080; text-decoration-color: #000080\">│</span> {\"default\": \"web\", \"title\": \"Translation\", \"type\": \"string\"}}, \"title\":                          <span style=\"color: #000080; text-decoration-color: #000080\">│</span>\n",
       "<span style=\"color: #000080; text-decoration-color: #000080\">│</span> \"list_bible_booksArguments\", \"type\": \"object\"}}}                                                 <span style=\"color: #000080; text-decoration-color: #000080\">│</span>\n",
       "<span style=\"color: #000080; text-decoration-color: #000080\">│</span> {\"type\": \"function\", \"function\": {\"name\": \"bible-verse-access-server-list_bible_chapters\",       <span style=\"color: #000080; text-decoration-color: #000080\">│</span>\n",
       "<span style=\"color: #000080; text-decoration-color: #000080\">│</span> \"description\": \"\\n    Get chapters for a specific Bible book.\\n\\n    Args:\\n        book: Book   <span style=\"color: #000080; text-decoration-color: #000080\">│</span>\n",
       "<span style=\"color: #000080; text-decoration-color: #000080\">│</span> identifier (e.g., \\\"JHN\\\" for John, \\\"GEN\\\" for Genesis)\\n        translation: Translation       <span style=\"color: #000080; text-decoration-color: #000080\">│</span>\n",
       "<span style=\"color: #000080; text-decoration-color: #000080\">│</span> identifier (default: \\\"web\\\")\\n\\n    Returns:\\n        List of chapters for the specified book\\n <span style=\"color: #000080; text-decoration-color: #000080\">│</span>\n",
       "<span style=\"color: #000080; text-decoration-color: #000080\">│</span> \", \"parameters\": {\"properties\": {\"book\": {\"title\": \"Book\", \"type\": \"string\"}, \"translation\":     <span style=\"color: #000080; text-decoration-color: #000080\">│</span>\n",
       "<span style=\"color: #000080; text-decoration-color: #000080\">│</span> {\"default\": \"web\", \"title\": \"Translation\", \"type\": \"string\"}}, \"required\": [\"book\"], \"title\":    <span style=\"color: #000080; text-decoration-color: #000080\">│</span>\n",
       "<span style=\"color: #000080; text-decoration-color: #000080\">│</span> \"list_bible_chaptersArguments\", \"type\": \"object\"}}}                                              <span style=\"color: #000080; text-decoration-color: #000080\">│</span>\n",
       "<span style=\"color: #000080; text-decoration-color: #000080\">│</span> {\"type\": \"function\", \"function\": {\"name\": \"calculator-service-multiply\", \"description\":          <span style=\"color: #000080; text-decoration-color: #000080\">│</span>\n",
       "<span style=\"color: #000080; text-decoration-color: #000080\">│</span> \"Multiplies two numbers together.\", \"parameters\": {\"properties\": {\"a\": {\"title\": \"A\", \"type\":    <span style=\"color: #000080; text-decoration-color: #000080\">│</span>\n",
       "<span style=\"color: #000080; text-decoration-color: #000080\">│</span> \"number\"}, \"b\": {\"title\": \"B\", \"type\": \"number\"}}, \"required\": [\"a\", \"b\"], \"type\": \"object\"}}}   <span style=\"color: #000080; text-decoration-color: #000080\">│</span>\n",
       "<span style=\"color: #000080; text-decoration-color: #000080\">│</span> &lt;/tools&gt;                                                                                         <span style=\"color: #000080; text-decoration-color: #000080\">│</span>\n",
       "<span style=\"color: #000080; text-decoration-color: #000080\">│</span>                                                                                                  <span style=\"color: #000080; text-decoration-color: #000080\">│</span>\n",
       "<span style=\"color: #000080; text-decoration-color: #000080\">│</span> For each function call, return a json object with function name and arguments within             <span style=\"color: #000080; text-decoration-color: #000080\">│</span>\n",
       "<span style=\"color: #000080; text-decoration-color: #000080\">│</span> &lt;tool_call&gt;&lt;/tool_call&gt; XML tags:                                                                <span style=\"color: #000080; text-decoration-color: #000080\">│</span>\n",
       "<span style=\"color: #000080; text-decoration-color: #000080\">│</span> &lt;tool_call&gt;                                                                                      <span style=\"color: #000080; text-decoration-color: #000080\">│</span>\n",
       "<span style=\"color: #000080; text-decoration-color: #000080\">│</span> {\"name\": &lt;function-name&gt;, \"arguments\": &lt;args-json-object&gt;}                                       <span style=\"color: #000080; text-decoration-color: #000080\">│</span>\n",
       "<span style=\"color: #000080; text-decoration-color: #000080\">│</span> &lt;/tool_call&gt;&lt;|im_end|&gt;                                                                           <span style=\"color: #000080; text-decoration-color: #000080\">│</span>\n",
       "<span style=\"color: #000080; text-decoration-color: #000080\">│</span> &lt;|im_start|&gt;user                                                                                 <span style=\"color: #000080; text-decoration-color: #000080\">│</span>\n",
       "<span style=\"color: #000080; text-decoration-color: #000080\">│</span> Please give me a random Fire‑type Pokémon and its base experience value.&lt;|im_end|&gt;               <span style=\"color: #000080; text-decoration-color: #000080\">│</span>\n",
       "<span style=\"color: #000080; text-decoration-color: #000080\">│</span> &lt;|im_start|&gt;assistant                                                                            <span style=\"color: #000080; text-decoration-color: #000080\">│</span>\n",
       "<span style=\"color: #000080; text-decoration-color: #000080\">│</span> &lt;tool_call&gt;                                                                                      <span style=\"color: #000080; text-decoration-color: #000080\">│</span>\n",
       "<span style=\"color: #000080; text-decoration-color: #000080\">│</span> {'name': 'pokémcp-random-pokemon-by-type', 'arguments': '{\"type\": \"fire\"}'}                      <span style=\"color: #000080; text-decoration-color: #000080\">│</span>\n",
       "<span style=\"color: #000080; text-decoration-color: #000080\">│</span> &lt;/tool_call&gt;&lt;|im_end|&gt;                                                                           <span style=\"color: #000080; text-decoration-color: #000080\">│</span>\n",
       "<span style=\"color: #000080; text-decoration-color: #000080\">│</span> &lt;|im_start|&gt;user                                                                                 <span style=\"color: #000080; text-decoration-color: #000080\">│</span>\n",
       "<span style=\"color: #000080; text-decoration-color: #000080\">│</span> &lt;tool_response&gt;                                                                                  <span style=\"color: #000080; text-decoration-color: #000080\">│</span>\n",
       "<span style=\"color: #000080; text-decoration-color: #000080\">│</span> # Random Fire Pokémon: Cyndaquil (#155)                                                          <span style=\"color: #000080; text-decoration-color: #000080\">│</span>\n",
       "<span style=\"color: #000080; text-decoration-color: #000080\">│</span>                                                                                                  <span style=\"color: #000080; text-decoration-color: #000080\">│</span>\n",
       "<span style=\"color: #000080; text-decoration-color: #000080\">│</span> **Types:** Fire                                                                                  <span style=\"color: #000080; text-decoration-color: #000080\">│</span>\n",
       "<span style=\"color: #000080; text-decoration-color: #000080\">│</span> **Height:** 0.5m                                                                                 <span style=\"color: #000080; text-decoration-color: #000080\">│</span>\n",
       "<span style=\"color: #000080; text-decoration-color: #000080\">│</span> **Weight:** 7.9kg                                                                                <span style=\"color: #000080; text-decoration-color: #000080\">│</span>\n",
       "<span style=\"color: #000080; text-decoration-color: #000080\">│</span> **Abilities:** Blaze, Flash-fire                                                                 <span style=\"color: #000080; text-decoration-color: #000080\">│</span>\n",
       "<span style=\"color: #000080; text-decoration-color: #000080\">│</span>                                                                                                  <span style=\"color: #000080; text-decoration-color: #000080\">│</span>\n",
       "<span style=\"color: #000080; text-decoration-color: #000080\">│</span> **Description:** It has a timid nature. If it is startled, the flames on its back burn more      <span style=\"color: #000080; text-decoration-color: #000080\">│</span>\n",
       "<span style=\"color: #000080; text-decoration-color: #000080\">│</span> vigorously.                                                                                      <span style=\"color: #000080; text-decoration-color: #000080\">│</span>\n",
       "<span style=\"color: #000080; text-decoration-color: #000080\">│</span> &lt;/tool_response&gt;&lt;|im_end|&gt;                                                                       <span style=\"color: #000080; text-decoration-color: #000080\">│</span>\n",
       "<span style=\"color: #000080; text-decoration-color: #000080\">│</span> &lt;|im_start|&gt;assistant                                                                            <span style=\"color: #000080; text-decoration-color: #000080\">│</span>\n",
       "<span style=\"color: #000080; text-decoration-color: #000080\">│</span> Based on the information gathered, your random Fire-type Pokémon is **Cyndaquil** (#155).        <span style=\"color: #000080; text-decoration-color: #000080\">│</span>\n",
       "<span style=\"color: #000080; text-decoration-color: #000080\">│</span>                                                                                                  <span style=\"color: #000080; text-decoration-color: #000080\">│</span>\n",
       "<span style=\"color: #000080; text-decoration-color: #000080\">│</span> Its base experience value is **62**.                                                             <span style=\"color: #000080; text-decoration-color: #000080\">│</span>\n",
       "<span style=\"color: #000080; text-decoration-color: #000080\">│</span>                                                                                                  <span style=\"color: #000080; text-decoration-color: #000080\">│</span>\n",
       "<span style=\"color: #000080; text-decoration-color: #000080\">│</span> Cyndaquil is known for its timid nature and the flames on its back that burn more vigorously     <span style=\"color: #000080; text-decoration-color: #000080\">│</span>\n",
       "<span style=\"color: #000080; text-decoration-color: #000080\">│</span> when it's startled.&lt;|im_end|&gt;                                                                    <span style=\"color: #000080; text-decoration-color: #000080\">│</span>\n",
       "<span style=\"color: #000080; text-decoration-color: #000080\">│</span> &lt;|im_start|&gt;user                                                                                 <span style=\"color: #000080; text-decoration-color: #000080\">│</span>\n",
       "<span style=\"color: #000080; text-decoration-color: #000080\">│</span> Now give me a random verse from the New Testament (including its reference and full text), count <span style=\"color: #000080; text-decoration-color: #000080\">│</span>\n",
       "<span style=\"color: #000080; text-decoration-color: #000080\">│</span> the words in that verse, and calculate the product of that word count with the base experience   <span style=\"color: #000080; text-decoration-color: #000080\">│</span>\n",
       "<span style=\"color: #000080; text-decoration-color: #000080\">│</span> you provided for the Pokémon.&lt;|im_end|&gt;                                                          <span style=\"color: #000080; text-decoration-color: #000080\">│</span>\n",
       "<span style=\"color: #000080; text-decoration-color: #000080\">│</span> &lt;|im_start|&gt;assistant                                                                            <span style=\"color: #000080; text-decoration-color: #000080\">│</span>\n",
       "<span style=\"color: #000080; text-decoration-color: #000080\">│</span> &lt;tool_call&gt;                                                                                      <span style=\"color: #000080; text-decoration-color: #000080\">│</span>\n",
       "<span style=\"color: #000080; text-decoration-color: #000080\">│</span> {'name': 'bible-verse-access-server-get_random_bible_verse', 'arguments': '{\"book_ids\": \"NT\"}'}  <span style=\"color: #000080; text-decoration-color: #000080\">│</span>\n",
       "<span style=\"color: #000080; text-decoration-color: #000080\">│</span> &lt;/tool_call&gt;                                                                                     <span style=\"color: #000080; text-decoration-color: #000080\">│</span>\n",
       "<span style=\"color: #000080; text-decoration-color: #000080\">│</span> &lt;tool_call&gt;                                                                                      <span style=\"color: #000080; text-decoration-color: #000080\">│</span>\n",
       "<span style=\"color: #000080; text-decoration-color: #000080\">│</span> {'name': 'calculator-service-multiply', 'arguments': '{\"a\": 62, \"b\": 29}'}                       <span style=\"color: #000080; text-decoration-color: #000080\">│</span>\n",
       "<span style=\"color: #000080; text-decoration-color: #000080\">│</span> &lt;/tool_call&gt;&lt;|im_end|&gt;                                                                           <span style=\"color: #000080; text-decoration-color: #000080\">│</span>\n",
       "<span style=\"color: #000080; text-decoration-color: #000080\">│</span> &lt;|im_start|&gt;user                                                                                 <span style=\"color: #000080; text-decoration-color: #000080\">│</span>\n",
       "<span style=\"color: #000080; text-decoration-color: #000080\">│</span> &lt;tool_response&gt;                                                                                  <span style=\"color: #000080; text-decoration-color: #000080\">│</span>\n",
       "<span style=\"color: #000080; text-decoration-color: #000080\">│</span> {                                                                                                <span style=\"color: #000080; text-decoration-color: #000080\">│</span>\n",
       "<span style=\"color: #000080; text-decoration-color: #000080\">│</span>   \"translation\": {                                                                               <span style=\"color: #000080; text-decoration-color: #000080\">│</span>\n",
       "<span style=\"color: #000080; text-decoration-color: #000080\">│</span>     \"identifier\": \"web\",                                                                         <span style=\"color: #000080; text-decoration-color: #000080\">│</span>\n",
       "<span style=\"color: #000080; text-decoration-color: #000080\">│</span>     \"name\": \"World English Bible\",                                                               <span style=\"color: #000080; text-decoration-color: #000080\">│</span>\n",
       "<span style=\"color: #000080; text-decoration-color: #000080\">│</span>     \"language\": \"English\",                                                                       <span style=\"color: #000080; text-decoration-color: #000080\">│</span>\n",
       "<span style=\"color: #000080; text-decoration-color: #000080\">│</span>     \"language_code\": \"eng\",                                                                      <span style=\"color: #000080; text-decoration-color: #000080\">│</span>\n",
       "<span style=\"color: #000080; text-decoration-color: #000080\">│</span>     \"license\": \"Public Domain\"                                                                   <span style=\"color: #000080; text-decoration-color: #000080\">│</span>\n",
       "<span style=\"color: #000080; text-decoration-color: #000080\">│</span>   },                                                                                             <span style=\"color: #000080; text-decoration-color: #000080\">│</span>\n",
       "<span style=\"color: #000080; text-decoration-color: #000080\">│</span>   \"random_verse\": {                                                                              <span style=\"color: #000080; text-decoration-color: #000080\">│</span>\n",
       "<span style=\"color: #000080; text-decoration-color: #000080\">│</span>     \"book_id\": \"COL\",                                                                            <span style=\"color: #000080; text-decoration-color: #000080\">│</span>\n",
       "<span style=\"color: #000080; text-decoration-color: #000080\">│</span>     \"book\": \"Colossians\",                                                                        <span style=\"color: #000080; text-decoration-color: #000080\">│</span>\n",
       "<span style=\"color: #000080; text-decoration-color: #000080\">│</span>     \"chapter\": 4,                                                                                <span style=\"color: #000080; text-decoration-color: #000080\">│</span>\n",
       "<span style=\"color: #000080; text-decoration-color: #000080\">│</span>     \"verse\": 17,                                                                                 <span style=\"color: #000080; text-decoration-color: #000080\">│</span>\n",
       "<span style=\"color: #000080; text-decoration-color: #000080\">│</span>     \"text\": \"Tell Archippus, “Take heed to the ministry which you have received in the Lord,     <span style=\"color: #000080; text-decoration-color: #000080\">│</span>\n",
       "<span style=\"color: #000080; text-decoration-color: #000080\">│</span> that you fulfill it.”\\n\"                                                                         <span style=\"color: #000080; text-decoration-color: #000080\">│</span>\n",
       "<span style=\"color: #000080; text-decoration-color: #000080\">│</span>   }                                                                                              <span style=\"color: #000080; text-decoration-color: #000080\">│</span>\n",
       "<span style=\"color: #000080; text-decoration-color: #000080\">│</span> }                                                                                                <span style=\"color: #000080; text-decoration-color: #000080\">│</span>\n",
       "<span style=\"color: #000080; text-decoration-color: #000080\">│</span> &lt;/tool_response&gt;                                                                                 <span style=\"color: #000080; text-decoration-color: #000080\">│</span>\n",
       "<span style=\"color: #000080; text-decoration-color: #000080\">│</span> &lt;tool_response&gt;                                                                                  <span style=\"color: #000080; text-decoration-color: #000080\">│</span>\n",
       "<span style=\"color: #000080; text-decoration-color: #000080\">│</span> 1798.0                                                                                           <span style=\"color: #000080; text-decoration-color: #000080\">│</span>\n",
       "<span style=\"color: #000080; text-decoration-color: #000080\">│</span> &lt;/tool_response&gt;&lt;|im_end|&gt;                                                                       <span style=\"color: #000080; text-decoration-color: #000080\">│</span>\n",
       "<span style=\"color: #000080; text-decoration-color: #000080\">│</span> &lt;|im_start|&gt;assistant                                                                            <span style=\"color: #000080; text-decoration-color: #000080\">│</span>\n",
       "<span style=\"color: #000080; text-decoration-color: #000080\">│</span> &lt;think&gt;                                                                                          <span style=\"color: #000080; text-decoration-color: #000080\">│</span>\n",
       "<span style=\"color: #000080; text-decoration-color: #000080\">│</span>                                                                                                  <span style=\"color: #000080; text-decoration-color: #000080\">│</span>\n",
       "<span style=\"color: #000080; text-decoration-color: #000080\">│</span> &lt;/think&gt;                                                                                         <span style=\"color: #000080; text-decoration-color: #000080\">│</span>\n",
       "<span style=\"color: #000080; text-decoration-color: #000080\">│</span>                                                                                                  <span style=\"color: #000080; text-decoration-color: #000080\">│</span>\n",
       "<span style=\"color: #000080; text-decoration-color: #000080\">│</span> **Random verse (Colossians 4:17, World English Bible)**                                          <span style=\"color: #000080; text-decoration-color: #000080\">│</span>\n",
       "<span style=\"color: #000080; text-decoration-color: #000080\">│</span> “Tell Archippus, ‘Take heed to the ministry which you have received in the Lord, that you        <span style=\"color: #000080; text-decoration-color: #000080\">│</span>\n",
       "<span style=\"color: #000080; text-decoration-color: #000080\">│</span> fulfill it.’”                                                                                    <span style=\"color: #000080; text-decoration-color: #000080\">│</span>\n",
       "<span style=\"color: #000080; text-decoration-color: #000080\">│</span>                                                                                                  <span style=\"color: #000080; text-decoration-color: #000080\">│</span>\n",
       "<span style=\"color: #000080; text-decoration-color: #000080\">│</span> This verse contains **29 words**.                                                                <span style=\"color: #000080; text-decoration-color: #000080\">│</span>\n",
       "<span style=\"color: #000080; text-decoration-color: #000080\">│</span>                                                                                                  <span style=\"color: #000080; text-decoration-color: #000080\">│</span>\n",
       "<span style=\"color: #000080; text-decoration-color: #000080\">│</span> The product of that word count with Cyndaquil’s base experience (62) is:                         <span style=\"color: #000080; text-decoration-color: #000080\">│</span>\n",
       "<span style=\"color: #000080; text-decoration-color: #000080\">│</span> 62 × 29 = **1,798**.&lt;|im_end|&gt;                                                                   <span style=\"color: #000080; text-decoration-color: #000080\">│</span>\n",
       "<span style=\"color: #000080; text-decoration-color: #000080\">│</span>                                                                                                  <span style=\"color: #000080; text-decoration-color: #000080\">│</span>\n",
       "<span style=\"color: #000080; text-decoration-color: #000080\">╰──────────────────────────────────────────────────────────────────────────────────────────────────╯</span>\n",
       "</pre>\n"
      ],
      "text/plain": [
       "\u001b[34m╭──────────────────────────────────────────────────────────────────────────────────────────────────╮\u001b[0m\n",
       "\u001b[34m│\u001b[0m <|im_start|>system                                                                               \u001b[34m│\u001b[0m\n",
       "\u001b[34m│\u001b[0m # Tools                                                                                          \u001b[34m│\u001b[0m\n",
       "\u001b[34m│\u001b[0m                                                                                                  \u001b[34m│\u001b[0m\n",
       "\u001b[34m│\u001b[0m You may call one or more functions to assist with the user query.                                \u001b[34m│\u001b[0m\n",
       "\u001b[34m│\u001b[0m                                                                                                  \u001b[34m│\u001b[0m\n",
       "\u001b[34m│\u001b[0m You are provided with function signatures within <tools></tools> XML tags:                       \u001b[34m│\u001b[0m\n",
       "\u001b[34m│\u001b[0m <tools>                                                                                          \u001b[34m│\u001b[0m\n",
       "\u001b[34m│\u001b[0m {\"type\": \"function\", \"function\": {\"name\": \"pokémcp-random-pokemon\", \"description\": \"Get a random \u001b[34m│\u001b[0m\n",
       "\u001b[34m│\u001b[0m Pokémon\", \"parameters\": {\"type\": \"object\", \"properties\": {}, \"additionalProperties\": false,      \u001b[34m│\u001b[0m\n",
       "\u001b[34m│\u001b[0m \"$schema\": \"http://json-schema.org/draft-07/schema#\"}}}                                          \u001b[34m│\u001b[0m\n",
       "\u001b[34m│\u001b[0m {\"type\": \"function\", \"function\": {\"name\": \"pokémcp-random-pokemon-from-region\", \"description\":   \u001b[34m│\u001b[0m\n",
       "\u001b[34m│\u001b[0m \"Get a random Pokémon from a specific region\", \"parameters\": {\"type\": \"object\", \"properties\":    \u001b[34m│\u001b[0m\n",
       "\u001b[34m│\u001b[0m {\"region\": {\"type\": \"string\", \"description\": \"The Pokémon region (e.g., kanto, johto, hoenn,     \u001b[34m│\u001b[0m\n",
       "\u001b[34m│\u001b[0m etc.)\"}}, \"required\": [\"region\"], \"additionalProperties\": false, \"$schema\":                      \u001b[34m│\u001b[0m\n",
       "\u001b[34m│\u001b[0m \"http://json-schema.org/draft-07/schema#\"}}}                                                     \u001b[34m│\u001b[0m\n",
       "\u001b[34m│\u001b[0m {\"type\": \"function\", \"function\": {\"name\": \"pokémcp-random-pokemon-by-type\", \"description\": \"Get  \u001b[34m│\u001b[0m\n",
       "\u001b[34m│\u001b[0m a random Pokémon of a specific type\", \"parameters\": {\"type\": \"object\", \"properties\": {\"type\":    \u001b[34m│\u001b[0m\n",
       "\u001b[34m│\u001b[0m {\"type\": \"string\", \"description\": \"The Pokémon type (e.g., fire, water, grass, etc.)\"}},         \u001b[34m│\u001b[0m\n",
       "\u001b[34m│\u001b[0m \"required\": [\"type\"], \"additionalProperties\": false, \"$schema\":                                  \u001b[34m│\u001b[0m\n",
       "\u001b[34m│\u001b[0m \"http://json-schema.org/draft-07/schema#\"}}}                                                     \u001b[34m│\u001b[0m\n",
       "\u001b[34m│\u001b[0m {\"type\": \"function\", \"function\": {\"name\": \"pokémcp-pokemon-query\", \"description\": \"Answer        \u001b[34m│\u001b[0m\n",
       "\u001b[34m│\u001b[0m natural language Pokémon queries\", \"parameters\": {\"type\": \"object\", \"properties\": {\"query\":      \u001b[34m│\u001b[0m\n",
       "\u001b[34m│\u001b[0m {\"type\": \"string\", \"description\": \"A natural language query about Pokémon\"}}, \"required\":        \u001b[34m│\u001b[0m\n",
       "\u001b[34m│\u001b[0m [\"query\"], \"additionalProperties\": false, \"$schema\":                                             \u001b[34m│\u001b[0m\n",
       "\u001b[34m│\u001b[0m \"http://json-schema.org/draft-07/schema#\"}}}                                                     \u001b[34m│\u001b[0m\n",
       "\u001b[34m│\u001b[0m {\"type\": \"function\", \"function\": {\"name\": \"bible-verse-access-server-get_random_bible_verse\",    \u001b[34m│\u001b[0m\n",
       "\u001b[34m│\u001b[0m \"description\": \"\\n    Get a random Bible verse.\\n\\n    Args:\\n        book_ids: Optional         \u001b[34m│\u001b[0m\n",
       "\u001b[34m│\u001b[0m comma-separated list of book IDs (e.g., \\\"GEN,JHN\\\")\\n                 or special strings \\\"OT\\\" \u001b[34m│\u001b[0m\n",
       "\u001b[34m│\u001b[0m (Old Testament) or \\\"NT\\\" (New Testament)\\n\\n    Returns:\\n        Random verse data including   \u001b[34m│\u001b[0m\n",
       "\u001b[34m│\u001b[0m reference, text, and translation info\\n    \", \"parameters\": {\"properties\": {\"book_ids\":          \u001b[34m│\u001b[0m\n",
       "\u001b[34m│\u001b[0m {\"default\": null, \"title\": \"Book Ids\", \"type\": \"string\"}}, \"title\":                              \u001b[34m│\u001b[0m\n",
       "\u001b[34m│\u001b[0m \"get_random_bible_verseArguments\", \"type\": \"object\"}}}                                           \u001b[34m│\u001b[0m\n",
       "\u001b[34m│\u001b[0m {\"type\": \"function\", \"function\": {\"name\": \"bible-verse-access-server-get_bible_verse\",           \u001b[34m│\u001b[0m\n",
       "\u001b[34m│\u001b[0m \"description\": \"\\n    Get a specific Bible verse or passage.\\n\\n    Args:\\n        reference:    \u001b[34m│\u001b[0m\n",
       "\u001b[34m│\u001b[0m Bible reference (e.g., \\\"John 3:16\\\", \\\"Genesis 1:1-3\\\")\\n        translation: Translation       \u001b[34m│\u001b[0m\n",
       "\u001b[34m│\u001b[0m identifier (default: \\\"web\\\" for World English Bible)\\n\\n    Returns:\\n        Verse data        \u001b[34m│\u001b[0m\n",
       "\u001b[34m│\u001b[0m including reference, text, and translation info\\n    \", \"parameters\": {\"properties\":             \u001b[34m│\u001b[0m\n",
       "\u001b[34m│\u001b[0m {\"reference\": {\"title\": \"Reference\", \"type\": \"string\"}, \"translation\": {\"default\": \"web\",        \u001b[34m│\u001b[0m\n",
       "\u001b[34m│\u001b[0m \"title\": \"Translation\", \"type\": \"string\"}}, \"required\": [\"reference\"], \"title\":                  \u001b[34m│\u001b[0m\n",
       "\u001b[34m│\u001b[0m \"get_bible_verseArguments\", \"type\": \"object\"}}}                                                  \u001b[34m│\u001b[0m\n",
       "\u001b[34m│\u001b[0m {\"type\": \"function\", \"function\": {\"name\": \"bible-verse-access-server-list_bible_translations\",   \u001b[34m│\u001b[0m\n",
       "\u001b[34m│\u001b[0m \"description\": \"\\n    Get list of all available Bible translations.\\n\\n    Returns:\\n            \u001b[34m│\u001b[0m\n",
       "\u001b[34m│\u001b[0m List of available translations with their identifiers and names\\n    \", \"parameters\":            \u001b[34m│\u001b[0m\n",
       "\u001b[34m│\u001b[0m {\"properties\": {}, \"title\": \"list_bible_translationsArguments\", \"type\": \"object\"}}}              \u001b[34m│\u001b[0m\n",
       "\u001b[34m│\u001b[0m {\"type\": \"function\", \"function\": {\"name\": \"bible-verse-access-server-list_bible_books\",          \u001b[34m│\u001b[0m\n",
       "\u001b[34m│\u001b[0m \"description\": \"\\n    Get list of books for a specific Bible translation.\\n\\n    Args:\\n         \u001b[34m│\u001b[0m\n",
       "\u001b[34m│\u001b[0m translation: Translation identifier (default: \\\"web\\\")\\n\\n    Returns:\\n        List of books    \u001b[34m│\u001b[0m\n",
       "\u001b[34m│\u001b[0m with their identifiers and names\\n    \", \"parameters\": {\"properties\": {\"translation\":            \u001b[34m│\u001b[0m\n",
       "\u001b[34m│\u001b[0m {\"default\": \"web\", \"title\": \"Translation\", \"type\": \"string\"}}, \"title\":                          \u001b[34m│\u001b[0m\n",
       "\u001b[34m│\u001b[0m \"list_bible_booksArguments\", \"type\": \"object\"}}}                                                 \u001b[34m│\u001b[0m\n",
       "\u001b[34m│\u001b[0m {\"type\": \"function\", \"function\": {\"name\": \"bible-verse-access-server-list_bible_chapters\",       \u001b[34m│\u001b[0m\n",
       "\u001b[34m│\u001b[0m \"description\": \"\\n    Get chapters for a specific Bible book.\\n\\n    Args:\\n        book: Book   \u001b[34m│\u001b[0m\n",
       "\u001b[34m│\u001b[0m identifier (e.g., \\\"JHN\\\" for John, \\\"GEN\\\" for Genesis)\\n        translation: Translation       \u001b[34m│\u001b[0m\n",
       "\u001b[34m│\u001b[0m identifier (default: \\\"web\\\")\\n\\n    Returns:\\n        List of chapters for the specified book\\n \u001b[34m│\u001b[0m\n",
       "\u001b[34m│\u001b[0m \", \"parameters\": {\"properties\": {\"book\": {\"title\": \"Book\", \"type\": \"string\"}, \"translation\":     \u001b[34m│\u001b[0m\n",
       "\u001b[34m│\u001b[0m {\"default\": \"web\", \"title\": \"Translation\", \"type\": \"string\"}}, \"required\": [\"book\"], \"title\":    \u001b[34m│\u001b[0m\n",
       "\u001b[34m│\u001b[0m \"list_bible_chaptersArguments\", \"type\": \"object\"}}}                                              \u001b[34m│\u001b[0m\n",
       "\u001b[34m│\u001b[0m {\"type\": \"function\", \"function\": {\"name\": \"calculator-service-multiply\", \"description\":          \u001b[34m│\u001b[0m\n",
       "\u001b[34m│\u001b[0m \"Multiplies two numbers together.\", \"parameters\": {\"properties\": {\"a\": {\"title\": \"A\", \"type\":    \u001b[34m│\u001b[0m\n",
       "\u001b[34m│\u001b[0m \"number\"}, \"b\": {\"title\": \"B\", \"type\": \"number\"}}, \"required\": [\"a\", \"b\"], \"type\": \"object\"}}}   \u001b[34m│\u001b[0m\n",
       "\u001b[34m│\u001b[0m </tools>                                                                                         \u001b[34m│\u001b[0m\n",
       "\u001b[34m│\u001b[0m                                                                                                  \u001b[34m│\u001b[0m\n",
       "\u001b[34m│\u001b[0m For each function call, return a json object with function name and arguments within             \u001b[34m│\u001b[0m\n",
       "\u001b[34m│\u001b[0m <tool_call></tool_call> XML tags:                                                                \u001b[34m│\u001b[0m\n",
       "\u001b[34m│\u001b[0m <tool_call>                                                                                      \u001b[34m│\u001b[0m\n",
       "\u001b[34m│\u001b[0m {\"name\": <function-name>, \"arguments\": <args-json-object>}                                       \u001b[34m│\u001b[0m\n",
       "\u001b[34m│\u001b[0m </tool_call><|im_end|>                                                                           \u001b[34m│\u001b[0m\n",
       "\u001b[34m│\u001b[0m <|im_start|>user                                                                                 \u001b[34m│\u001b[0m\n",
       "\u001b[34m│\u001b[0m Please give me a random Fire‑type Pokémon and its base experience value.<|im_end|>               \u001b[34m│\u001b[0m\n",
       "\u001b[34m│\u001b[0m <|im_start|>assistant                                                                            \u001b[34m│\u001b[0m\n",
       "\u001b[34m│\u001b[0m <tool_call>                                                                                      \u001b[34m│\u001b[0m\n",
       "\u001b[34m│\u001b[0m {'name': 'pokémcp-random-pokemon-by-type', 'arguments': '{\"type\": \"fire\"}'}                      \u001b[34m│\u001b[0m\n",
       "\u001b[34m│\u001b[0m </tool_call><|im_end|>                                                                           \u001b[34m│\u001b[0m\n",
       "\u001b[34m│\u001b[0m <|im_start|>user                                                                                 \u001b[34m│\u001b[0m\n",
       "\u001b[34m│\u001b[0m <tool_response>                                                                                  \u001b[34m│\u001b[0m\n",
       "\u001b[34m│\u001b[0m # Random Fire Pokémon: Cyndaquil (#155)                                                          \u001b[34m│\u001b[0m\n",
       "\u001b[34m│\u001b[0m                                                                                                  \u001b[34m│\u001b[0m\n",
       "\u001b[34m│\u001b[0m **Types:** Fire                                                                                  \u001b[34m│\u001b[0m\n",
       "\u001b[34m│\u001b[0m **Height:** 0.5m                                                                                 \u001b[34m│\u001b[0m\n",
       "\u001b[34m│\u001b[0m **Weight:** 7.9kg                                                                                \u001b[34m│\u001b[0m\n",
       "\u001b[34m│\u001b[0m **Abilities:** Blaze, Flash-fire                                                                 \u001b[34m│\u001b[0m\n",
       "\u001b[34m│\u001b[0m                                                                                                  \u001b[34m│\u001b[0m\n",
       "\u001b[34m│\u001b[0m **Description:** It has a timid nature. If it is startled, the flames on its back burn more      \u001b[34m│\u001b[0m\n",
       "\u001b[34m│\u001b[0m vigorously.                                                                                      \u001b[34m│\u001b[0m\n",
       "\u001b[34m│\u001b[0m </tool_response><|im_end|>                                                                       \u001b[34m│\u001b[0m\n",
       "\u001b[34m│\u001b[0m <|im_start|>assistant                                                                            \u001b[34m│\u001b[0m\n",
       "\u001b[34m│\u001b[0m Based on the information gathered, your random Fire-type Pokémon is **Cyndaquil** (#155).        \u001b[34m│\u001b[0m\n",
       "\u001b[34m│\u001b[0m                                                                                                  \u001b[34m│\u001b[0m\n",
       "\u001b[34m│\u001b[0m Its base experience value is **62**.                                                             \u001b[34m│\u001b[0m\n",
       "\u001b[34m│\u001b[0m                                                                                                  \u001b[34m│\u001b[0m\n",
       "\u001b[34m│\u001b[0m Cyndaquil is known for its timid nature and the flames on its back that burn more vigorously     \u001b[34m│\u001b[0m\n",
       "\u001b[34m│\u001b[0m when it's startled.<|im_end|>                                                                    \u001b[34m│\u001b[0m\n",
       "\u001b[34m│\u001b[0m <|im_start|>user                                                                                 \u001b[34m│\u001b[0m\n",
       "\u001b[34m│\u001b[0m Now give me a random verse from the New Testament (including its reference and full text), count \u001b[34m│\u001b[0m\n",
       "\u001b[34m│\u001b[0m the words in that verse, and calculate the product of that word count with the base experience   \u001b[34m│\u001b[0m\n",
       "\u001b[34m│\u001b[0m you provided for the Pokémon.<|im_end|>                                                          \u001b[34m│\u001b[0m\n",
       "\u001b[34m│\u001b[0m <|im_start|>assistant                                                                            \u001b[34m│\u001b[0m\n",
       "\u001b[34m│\u001b[0m <tool_call>                                                                                      \u001b[34m│\u001b[0m\n",
       "\u001b[34m│\u001b[0m {'name': 'bible-verse-access-server-get_random_bible_verse', 'arguments': '{\"book_ids\": \"NT\"}'}  \u001b[34m│\u001b[0m\n",
       "\u001b[34m│\u001b[0m </tool_call>                                                                                     \u001b[34m│\u001b[0m\n",
       "\u001b[34m│\u001b[0m <tool_call>                                                                                      \u001b[34m│\u001b[0m\n",
       "\u001b[34m│\u001b[0m {'name': 'calculator-service-multiply', 'arguments': '{\"a\": 62, \"b\": 29}'}                       \u001b[34m│\u001b[0m\n",
       "\u001b[34m│\u001b[0m </tool_call><|im_end|>                                                                           \u001b[34m│\u001b[0m\n",
       "\u001b[34m│\u001b[0m <|im_start|>user                                                                                 \u001b[34m│\u001b[0m\n",
       "\u001b[34m│\u001b[0m <tool_response>                                                                                  \u001b[34m│\u001b[0m\n",
       "\u001b[34m│\u001b[0m {                                                                                                \u001b[34m│\u001b[0m\n",
       "\u001b[34m│\u001b[0m   \"translation\": {                                                                               \u001b[34m│\u001b[0m\n",
       "\u001b[34m│\u001b[0m     \"identifier\": \"web\",                                                                         \u001b[34m│\u001b[0m\n",
       "\u001b[34m│\u001b[0m     \"name\": \"World English Bible\",                                                               \u001b[34m│\u001b[0m\n",
       "\u001b[34m│\u001b[0m     \"language\": \"English\",                                                                       \u001b[34m│\u001b[0m\n",
       "\u001b[34m│\u001b[0m     \"language_code\": \"eng\",                                                                      \u001b[34m│\u001b[0m\n",
       "\u001b[34m│\u001b[0m     \"license\": \"Public Domain\"                                                                   \u001b[34m│\u001b[0m\n",
       "\u001b[34m│\u001b[0m   },                                                                                             \u001b[34m│\u001b[0m\n",
       "\u001b[34m│\u001b[0m   \"random_verse\": {                                                                              \u001b[34m│\u001b[0m\n",
       "\u001b[34m│\u001b[0m     \"book_id\": \"COL\",                                                                            \u001b[34m│\u001b[0m\n",
       "\u001b[34m│\u001b[0m     \"book\": \"Colossians\",                                                                        \u001b[34m│\u001b[0m\n",
       "\u001b[34m│\u001b[0m     \"chapter\": 4,                                                                                \u001b[34m│\u001b[0m\n",
       "\u001b[34m│\u001b[0m     \"verse\": 17,                                                                                 \u001b[34m│\u001b[0m\n",
       "\u001b[34m│\u001b[0m     \"text\": \"Tell Archippus, “Take heed to the ministry which you have received in the Lord,     \u001b[34m│\u001b[0m\n",
       "\u001b[34m│\u001b[0m that you fulfill it.”\\n\"                                                                         \u001b[34m│\u001b[0m\n",
       "\u001b[34m│\u001b[0m   }                                                                                              \u001b[34m│\u001b[0m\n",
       "\u001b[34m│\u001b[0m }                                                                                                \u001b[34m│\u001b[0m\n",
       "\u001b[34m│\u001b[0m </tool_response>                                                                                 \u001b[34m│\u001b[0m\n",
       "\u001b[34m│\u001b[0m <tool_response>                                                                                  \u001b[34m│\u001b[0m\n",
       "\u001b[34m│\u001b[0m 1798.0                                                                                           \u001b[34m│\u001b[0m\n",
       "\u001b[34m│\u001b[0m </tool_response><|im_end|>                                                                       \u001b[34m│\u001b[0m\n",
       "\u001b[34m│\u001b[0m <|im_start|>assistant                                                                            \u001b[34m│\u001b[0m\n",
       "\u001b[34m│\u001b[0m <think>                                                                                          \u001b[34m│\u001b[0m\n",
       "\u001b[34m│\u001b[0m                                                                                                  \u001b[34m│\u001b[0m\n",
       "\u001b[34m│\u001b[0m </think>                                                                                         \u001b[34m│\u001b[0m\n",
       "\u001b[34m│\u001b[0m                                                                                                  \u001b[34m│\u001b[0m\n",
       "\u001b[34m│\u001b[0m **Random verse (Colossians 4:17, World English Bible)**                                          \u001b[34m│\u001b[0m\n",
       "\u001b[34m│\u001b[0m “Tell Archippus, ‘Take heed to the ministry which you have received in the Lord, that you        \u001b[34m│\u001b[0m\n",
       "\u001b[34m│\u001b[0m fulfill it.’”                                                                                    \u001b[34m│\u001b[0m\n",
       "\u001b[34m│\u001b[0m                                                                                                  \u001b[34m│\u001b[0m\n",
       "\u001b[34m│\u001b[0m This verse contains **29 words**.                                                                \u001b[34m│\u001b[0m\n",
       "\u001b[34m│\u001b[0m                                                                                                  \u001b[34m│\u001b[0m\n",
       "\u001b[34m│\u001b[0m The product of that word count with Cyndaquil’s base experience (62) is:                         \u001b[34m│\u001b[0m\n",
       "\u001b[34m│\u001b[0m 62 × 29 = **1,798**.<|im_end|>                                                                   \u001b[34m│\u001b[0m\n",
       "\u001b[34m│\u001b[0m                                                                                                  \u001b[34m│\u001b[0m\n",
       "\u001b[34m╰──────────────────────────────────────────────────────────────────────────────────────────────────╯\u001b[0m\n"
      ]
     },
     "metadata": {},
     "output_type": "display_data"
    }
   ],
   "source": [
    "example_msg = cat_ds['multi-turn'][10]['conversations']\n",
    "pprint (tool_prompt_format(example_msg,cat_ds['multi-turn'][10]['tools'],tokenizer))\n",
    "# for msg in example_msg:\n",
    "#     pprint (f'Role: {msg[\"role\"]}, Content: {msg[\"content\"]}')"
   ]
  },
  {
   "cell_type": "code",
   "execution_count": 44,
   "id": "66dd0103",
   "metadata": {},
   "outputs": [
    {
     "name": "stderr",
     "output_type": "stream",
     "text": [
      "Computing input lengths: 100%|████████████████████████████████████████████| 28254/28254 [00:36<00:00, 772.78it/s]\n",
      "Computing input lengths: 100%|████████████████████████████████████████████| 15790/15790 [00:17<00:00, 887.33it/s]\n",
      "Computing input lengths: 100%|████████████████████████████████████████████| 35243/35243 [01:03<00:00, 556.95it/s]\n"
     ]
    }
   ],
   "source": [
    "# Get the length.\n",
    "def get_len(sample):\n",
    "    convs = sample['conversations']\n",
    "    formatted = tool_prompt_format(convs,sample['tools'],tokenizer)\n",
    "    sample['len'] =len(tokenizer.encode(formatted))\n",
    "    return sample\n",
    "\n",
    "# Use multi process to get the lengths\n",
    "cat_ds_w_len = {k:async_process(get_len,cat_ds[k],workers=32, msg=\"Computing input lengths\") for k in cat_ds}\n"
   ]
  },
  {
   "cell_type": "code",
   "execution_count": 45,
   "id": "6c6fe075",
   "metadata": {},
   "outputs": [
    {
     "data": {
      "text/html": [
       "<pre style=\"white-space:pre;overflow-x:auto;line-height:normal;font-family:Menlo,'DejaVu Sans Mono',consolas,'Courier New',monospace\"><span style=\"color: #000080; text-decoration-color: #000080\">╭──────────────────────────────────────────────────────────────────────────────────────────────────╮</span>\n",
       "<span style=\"color: #000080; text-decoration-color: #000080\">│</span> Cat single-turn-original: before filtering 28254, after filtering 22863                          <span style=\"color: #000080; text-decoration-color: #000080\">│</span>\n",
       "<span style=\"color: #000080; text-decoration-color: #000080\">╰──────────────────────────────────────────────────────────────────────────────────────────────────╯</span>\n",
       "</pre>\n"
      ],
      "text/plain": [
       "\u001b[34m╭──────────────────────────────────────────────────────────────────────────────────────────────────╮\u001b[0m\n",
       "\u001b[34m│\u001b[0m Cat single-turn-original: before filtering 28254, after filtering 22863                          \u001b[34m│\u001b[0m\n",
       "\u001b[34m╰──────────────────────────────────────────────────────────────────────────────────────────────────╯\u001b[0m\n"
      ]
     },
     "metadata": {},
     "output_type": "display_data"
    },
    {
     "data": {
      "text/html": [
       "<pre style=\"white-space:pre;overflow-x:auto;line-height:normal;font-family:Menlo,'DejaVu Sans Mono',consolas,'Courier New',monospace\"><span style=\"color: #000080; text-decoration-color: #000080\">╭──────────────────────────────────────────────────────────────────────────────────────────────────╮</span>\n",
       "<span style=\"color: #000080; text-decoration-color: #000080\">│</span> Cat single-turn-diversify: before filtering 15790, after filtering 13314                         <span style=\"color: #000080; text-decoration-color: #000080\">│</span>\n",
       "<span style=\"color: #000080; text-decoration-color: #000080\">╰──────────────────────────────────────────────────────────────────────────────────────────────────╯</span>\n",
       "</pre>\n"
      ],
      "text/plain": [
       "\u001b[34m╭──────────────────────────────────────────────────────────────────────────────────────────────────╮\u001b[0m\n",
       "\u001b[34m│\u001b[0m Cat single-turn-diversify: before filtering 15790, after filtering 13314                         \u001b[34m│\u001b[0m\n",
       "\u001b[34m╰──────────────────────────────────────────────────────────────────────────────────────────────────╯\u001b[0m\n"
      ]
     },
     "metadata": {},
     "output_type": "display_data"
    },
    {
     "data": {
      "text/html": [
       "<pre style=\"white-space:pre;overflow-x:auto;line-height:normal;font-family:Menlo,'DejaVu Sans Mono',consolas,'Courier New',monospace\"><span style=\"color: #000080; text-decoration-color: #000080\">╭──────────────────────────────────────────────────────────────────────────────────────────────────╮</span>\n",
       "<span style=\"color: #000080; text-decoration-color: #000080\">│</span> Cat multi-turn: before filtering 35243, after filtering 21562                                    <span style=\"color: #000080; text-decoration-color: #000080\">│</span>\n",
       "<span style=\"color: #000080; text-decoration-color: #000080\">╰──────────────────────────────────────────────────────────────────────────────────────────────────╯</span>\n",
       "</pre>\n"
      ],
      "text/plain": [
       "\u001b[34m╭──────────────────────────────────────────────────────────────────────────────────────────────────╮\u001b[0m\n",
       "\u001b[34m│\u001b[0m Cat multi-turn: before filtering 35243, after filtering 21562                                    \u001b[34m│\u001b[0m\n",
       "\u001b[34m╰──────────────────────────────────────────────────────────────────────────────────────────────────╯\u001b[0m\n"
      ]
     },
     "metadata": {},
     "output_type": "display_data"
    }
   ],
   "source": [
    "MAX_LENGTH = 4096\n",
    "cat_ds_valid = {k:[s for s in cat_ds_w_len[k] if s['len'] <= MAX_LENGTH] for k in cat_ds_w_len}\n",
    "for k in cat_ds_w_len:\n",
    "    pprint (f\"Cat {k}: before filtering {len(cat_ds_w_len[k])}, after filtering {len(cat_ds_valid[k])}\")"
   ]
  },
  {
   "cell_type": "code",
   "execution_count": null,
   "id": "9f4497f7",
   "metadata": {},
   "outputs": [],
   "source": []
  }
 ],
 "metadata": {
  "kernelspec": {
   "display_name": "Python 3 (ipykernel)",
   "language": "python",
   "name": "python3"
  },
  "language_info": {
   "codemirror_mode": {
    "name": "ipython",
    "version": 3
   },
   "file_extension": ".py",
   "mimetype": "text/x-python",
   "name": "python",
   "nbconvert_exporter": "python",
   "pygments_lexer": "ipython3",
   "version": "3.12.0"
  }
 },
 "nbformat": 4,
 "nbformat_minor": 5
}
