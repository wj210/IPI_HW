{
 "cells": [
  {
   "cell_type": "code",
   "execution_count": 1,
   "id": "b1477e3b",
   "metadata": {},
   "outputs": [
    {
     "name": "stderr",
     "output_type": "stream",
     "text": [
      "/home/wjyeo/anaconda3/envs/ipi_hw/compiler_compat/ld: cannot find -laio: No such file or directory\n",
      "collect2: error: ld returned 1 exit status\n",
      "/home/wjyeo/anaconda3/envs/ipi_hw/compiler_compat/ld: warning: librt.so.1, needed by /usr/local/cuda-12.4/lib64/libcufile.so, not found (try using -rpath or -rpath-link)\n",
      "/home/wjyeo/anaconda3/envs/ipi_hw/compiler_compat/ld: warning: libpthread.so.0, needed by /usr/local/cuda-12.4/lib64/libcufile.so, not found (try using -rpath or -rpath-link)\n",
      "/home/wjyeo/anaconda3/envs/ipi_hw/compiler_compat/ld: warning: libstdc++.so.6, needed by /usr/local/cuda-12.4/lib64/libcufile.so, not found (try using -rpath or -rpath-link)\n",
      "/home/wjyeo/anaconda3/envs/ipi_hw/compiler_compat/ld: warning: libm.so.6, needed by /usr/local/cuda-12.4/lib64/libcufile.so, not found (try using -rpath or -rpath-link)\n",
      "/home/wjyeo/anaconda3/envs/ipi_hw/compiler_compat/ld: /usr/local/cuda-12.4/lib64/libcufile.so: undefined reference to `std::runtime_error::~runtime_error()@GLIBCXX_3.4'\n",
      "/home/wjyeo/anaconda3/envs/ipi_hw/compiler_compat/ld: /usr/local/cuda-12.4/lib64/libcufile.so: undefined reference to `__gxx_personality_v0@CXXABI_1.3'\n",
      "/home/wjyeo/anaconda3/envs/ipi_hw/compiler_compat/ld: /usr/local/cuda-12.4/lib64/libcufile.so: undefined reference to `std::ostream::tellp()@GLIBCXX_3.4'\n",
      "/home/wjyeo/anaconda3/envs/ipi_hw/compiler_compat/ld: /usr/local/cuda-12.4/lib64/libcufile.so: undefined reference to `std::chrono::_V2::steady_clock::now()@GLIBCXX_3.4.19'\n",
      "/home/wjyeo/anaconda3/envs/ipi_hw/compiler_compat/ld: /usr/local/cuda-12.4/lib64/libcufile.so: undefined reference to `std::string::_M_replace_aux(unsigned long, unsigned long, unsigned long, char)@GLIBCXX_3.4'\n",
      "/home/wjyeo/anaconda3/envs/ipi_hw/compiler_compat/ld: /usr/local/cuda-12.4/lib64/libcufile.so: undefined reference to `typeinfo for bool@CXXABI_1.3'\n",
      "/home/wjyeo/anaconda3/envs/ipi_hw/compiler_compat/ld: /usr/local/cuda-12.4/lib64/libcufile.so: undefined reference to `std::__throw_logic_error(char const*)@GLIBCXX_3.4'\n",
      "/home/wjyeo/anaconda3/envs/ipi_hw/compiler_compat/ld: /usr/local/cuda-12.4/lib64/libcufile.so: undefined reference to `VTT for std::basic_ostringstream<char, std::char_traits<char>, std::allocator<char> >@GLIBCXX_3.4'\n",
      "/home/wjyeo/anaconda3/envs/ipi_hw/compiler_compat/ld: /usr/local/cuda-12.4/lib64/libcufile.so: undefined reference to `vtable for std::logic_error@GLIBCXX_3.4'\n",
      "/home/wjyeo/anaconda3/envs/ipi_hw/compiler_compat/ld: /usr/local/cuda-12.4/lib64/libcufile.so: undefined reference to `std::locale::~locale()@GLIBCXX_3.4'\n",
      "/home/wjyeo/anaconda3/envs/ipi_hw/compiler_compat/ld: /usr/local/cuda-12.4/lib64/libcufile.so: undefined reference to `std::basic_string<char, std::char_traits<char>, std::allocator<char> >::basic_string(std::string const&, unsigned long, unsigned long)@GLIBCXX_3.4'\n",
      "/home/wjyeo/anaconda3/envs/ipi_hw/compiler_compat/ld: /usr/local/cuda-12.4/lib64/libcufile.so: undefined reference to `__cxa_end_catch@CXXABI_1.3'\n",
      "/home/wjyeo/anaconda3/envs/ipi_hw/compiler_compat/ld: /usr/local/cuda-12.4/lib64/libcufile.so: undefined reference to `VTT for std::basic_ofstream<char, std::char_traits<char> >@GLIBCXX_3.4'\n",
      "/home/wjyeo/anaconda3/envs/ipi_hw/compiler_compat/ld: /usr/local/cuda-12.4/lib64/libcufile.so: undefined reference to `std::logic_error::~logic_error()@GLIBCXX_3.4'\n",
      "/home/wjyeo/anaconda3/envs/ipi_hw/compiler_compat/ld: /usr/local/cuda-12.4/lib64/libcufile.so: undefined reference to `vtable for __cxxabiv1::__si_class_type_info@CXXABI_1.3'\n",
      "/home/wjyeo/anaconda3/envs/ipi_hw/compiler_compat/ld: /usr/local/cuda-12.4/lib64/libcufile.so: undefined reference to `std::basic_ios<char, std::char_traits<char> >::_M_cache_locale(std::locale const&)@GLIBCXX_3.4'\n",
      "/home/wjyeo/anaconda3/envs/ipi_hw/compiler_compat/ld: /usr/local/cuda-12.4/lib64/libcufile.so: undefined reference to `VTT for std::basic_stringstream<char, std::char_traits<char>, std::allocator<char> >@GLIBCXX_3.4'\n",
      "/home/wjyeo/anaconda3/envs/ipi_hw/compiler_compat/ld: /usr/local/cuda-12.4/lib64/libcufile.so: undefined reference to `operator new[](unsigned long)@GLIBCXX_3.4'\n",
      "/home/wjyeo/anaconda3/envs/ipi_hw/compiler_compat/ld: /usr/local/cuda-12.4/lib64/libcufile.so: undefined reference to `std::string::_M_leak_hard()@GLIBCXX_3.4'\n",
      "/home/wjyeo/anaconda3/envs/ipi_hw/compiler_compat/ld: /usr/local/cuda-12.4/lib64/libcufile.so: undefined reference to `vtable for std::basic_ifstream<char, std::char_traits<char> >@GLIBCXX_3.4'\n",
      "/home/wjyeo/anaconda3/envs/ipi_hw/compiler_compat/ld: /usr/local/cuda-12.4/lib64/libcufile.so: undefined reference to `std::basic_streambuf<wchar_t, std::char_traits<wchar_t> >::basic_streambuf(std::basic_streambuf<wchar_t, std::char_traits<wchar_t> > const&)@GLIBCXX_3.4'\n",
      "/home/wjyeo/anaconda3/envs/ipi_hw/compiler_compat/ld: /usr/local/cuda-12.4/lib64/libcufile.so: undefined reference to `std::string::append(char const*, unsigned long)@GLIBCXX_3.4'\n",
      "/home/wjyeo/anaconda3/envs/ipi_hw/compiler_compat/ld: /usr/local/cuda-12.4/lib64/libcufile.so: undefined reference to `std::basic_string<char, std::char_traits<char>, std::allocator<char> >::basic_string(std::string const&)@GLIBCXX_3.4'\n",
      "/home/wjyeo/anaconda3/envs/ipi_hw/compiler_compat/ld: /usr/local/cuda-12.4/lib64/libcufile.so: undefined reference to `typeinfo for unsigned short@CXXABI_1.3'\n",
      "/home/wjyeo/anaconda3/envs/ipi_hw/compiler_compat/ld: /usr/local/cuda-12.4/lib64/libcufile.so: undefined reference to `std::string::resize(unsigned long, char)@GLIBCXX_3.4'\n",
      "/home/wjyeo/anaconda3/envs/ipi_hw/compiler_compat/ld: /usr/local/cuda-12.4/lib64/libcufile.so: undefined reference to `typeinfo for char const*@CXXABI_1.3'\n",
      "/home/wjyeo/anaconda3/envs/ipi_hw/compiler_compat/ld: /usr/local/cuda-12.4/lib64/libcufile.so: undefined reference to `std::ctype<char>::_M_widen_init() const@GLIBCXX_3.4.11'\n",
      "/home/wjyeo/anaconda3/envs/ipi_hw/compiler_compat/ld: /usr/local/cuda-12.4/lib64/libcufile.so: undefined reference to `std::__throw_invalid_argument(char const*)@GLIBCXX_3.4'\n",
      "/home/wjyeo/anaconda3/envs/ipi_hw/compiler_compat/ld: /usr/local/cuda-12.4/lib64/libcufile.so: undefined reference to `std::locale::operator=(std::locale const&)@GLIBCXX_3.4'\n",
      "/home/wjyeo/anaconda3/envs/ipi_hw/compiler_compat/ld: /usr/local/cuda-12.4/lib64/libcufile.so: undefined reference to `std::basic_ios<wchar_t, std::char_traits<wchar_t> >::_M_cache_locale(std::locale const&)@GLIBCXX_3.4'\n",
      "/home/wjyeo/anaconda3/envs/ipi_hw/compiler_compat/ld: /usr/local/cuda-12.4/lib64/libcufile.so: undefined reference to `std::_Rb_tree_decrement(std::_Rb_tree_node_base const*)@GLIBCXX_3.4'\n",
      "/home/wjyeo/anaconda3/envs/ipi_hw/compiler_compat/ld: /usr/local/cuda-12.4/lib64/libcufile.so: undefined reference to `__cxa_free_exception@CXXABI_1.3'\n",
      "/home/wjyeo/anaconda3/envs/ipi_hw/compiler_compat/ld: /usr/local/cuda-12.4/lib64/libcufile.so: undefined reference to `std::condition_variable::notify_one()@GLIBCXX_3.4.11'\n",
      "/home/wjyeo/anaconda3/envs/ipi_hw/compiler_compat/ld: /usr/local/cuda-12.4/lib64/libcufile.so: undefined reference to `std::ios_base::Init::~Init()@GLIBCXX_3.4'\n",
      "/home/wjyeo/anaconda3/envs/ipi_hw/compiler_compat/ld: /usr/local/cuda-12.4/lib64/libcufile.so: undefined reference to `std::basic_string<char, std::char_traits<char>, std::allocator<char> >::~basic_string()@GLIBCXX_3.4'\n",
      "/home/wjyeo/anaconda3/envs/ipi_hw/compiler_compat/ld: /usr/local/cuda-12.4/lib64/libcufile.so: undefined reference to `__cxa_pure_virtual@CXXABI_1.3'\n",
      "/home/wjyeo/anaconda3/envs/ipi_hw/compiler_compat/ld: /usr/local/cuda-12.4/lib64/libcufile.so: undefined reference to `std::ostream::flush()@GLIBCXX_3.4'\n",
      "/home/wjyeo/anaconda3/envs/ipi_hw/compiler_compat/ld: /usr/local/cuda-12.4/lib64/libcufile.so: undefined reference to `vtable for __cxxabiv1::__class_type_info@CXXABI_1.3'\n",
      "/home/wjyeo/anaconda3/envs/ipi_hw/compiler_compat/ld: /usr/local/cuda-12.4/lib64/libcufile.so: undefined reference to `__cxa_rethrow@CXXABI_1.3'\n",
      "/home/wjyeo/anaconda3/envs/ipi_hw/compiler_compat/ld: /usr/local/cuda-12.4/lib64/libcufile.so: undefined reference to `vtable for std::basic_stringbuf<char, std::char_traits<char>, std::allocator<char> >@GLIBCXX_3.4'\n",
      "/home/wjyeo/anaconda3/envs/ipi_hw/compiler_compat/ld: /usr/local/cuda-12.4/lib64/libcufile.so: undefined reference to `std::basic_fstream<char, std::char_traits<char> >::~basic_fstream()@GLIBCXX_3.4'\n",
      "/home/wjyeo/anaconda3/envs/ipi_hw/compiler_compat/ld: /usr/local/cuda-12.4/lib64/libcufile.so: undefined reference to `std::string::compare(char const*) const@GLIBCXX_3.4'\n",
      "/home/wjyeo/anaconda3/envs/ipi_hw/compiler_compat/ld: /usr/local/cuda-12.4/lib64/libcufile.so: undefined reference to `VTT for std::basic_ostringstream<wchar_t, std::char_traits<wchar_t>, std::allocator<wchar_t> >@GLIBCXX_3.4'\n",
      "/home/wjyeo/anaconda3/envs/ipi_hw/compiler_compat/ld: /usr/local/cuda-12.4/lib64/libcufile.so: undefined reference to `std::locale::locale()@GLIBCXX_3.4'\n",
      "/home/wjyeo/anaconda3/envs/ipi_hw/compiler_compat/ld: /usr/local/cuda-12.4/lib64/libcufile.so: undefined reference to `std::chrono::_V2::system_clock::now()@GLIBCXX_3.4.19'\n",
      "/home/wjyeo/anaconda3/envs/ipi_hw/compiler_compat/ld: /usr/local/cuda-12.4/lib64/libcufile.so: undefined reference to `VTT for std::basic_ifstream<char, std::char_traits<char> >@GLIBCXX_3.4'\n",
      "/home/wjyeo/anaconda3/envs/ipi_hw/compiler_compat/ld: /usr/local/cuda-12.4/lib64/libcufile.so: undefined reference to `std::_Hash_bytes(void const*, unsigned long, unsigned long)@CXXABI_1.3.5'\n",
      "/home/wjyeo/anaconda3/envs/ipi_hw/compiler_compat/ld: /usr/local/cuda-12.4/lib64/libcufile.so: undefined reference to `std::ostream& std::ostream::_M_insert<long long>(long long)@GLIBCXX_3.4.9'\n",
      "/home/wjyeo/anaconda3/envs/ipi_hw/compiler_compat/ld: /usr/local/cuda-12.4/lib64/libcufile.so: undefined reference to `typeinfo for char*@CXXABI_1.3'\n",
      "/home/wjyeo/anaconda3/envs/ipi_hw/compiler_compat/ld: /usr/local/cuda-12.4/lib64/libcufile.so: undefined reference to `std::__detail::_Prime_rehash_policy::_M_need_rehash(unsigned long, unsigned long, unsigned long) const@GLIBCXX_3.4.18'\n",
      "/home/wjyeo/anaconda3/envs/ipi_hw/compiler_compat/ld: /usr/local/cuda-12.4/lib64/libcufile.so: undefined reference to `vtable for std::out_of_range@GLIBCXX_3.4'\n",
      "/home/wjyeo/anaconda3/envs/ipi_hw/compiler_compat/ld: /usr/local/cuda-12.4/lib64/libcufile.so: undefined reference to `std::ostream& std::ostream::_M_insert<unsigned long>(unsigned long)@GLIBCXX_3.4.9'\n",
      "/home/wjyeo/anaconda3/envs/ipi_hw/compiler_compat/ld: /usr/local/cuda-12.4/lib64/libcufile.so: undefined reference to `std::_Rb_tree_increment(std::_Rb_tree_node_base const*)@GLIBCXX_3.4'\n",
      "/home/wjyeo/anaconda3/envs/ipi_hw/compiler_compat/ld: /usr/local/cuda-12.4/lib64/libcufile.so: undefined reference to `std::ios_base::~ios_base()@GLIBCXX_3.4'\n",
      "/home/wjyeo/anaconda3/envs/ipi_hw/compiler_compat/ld: /usr/local/cuda-12.4/lib64/libcufile.so: undefined reference to `std::range_error::~range_error()@GLIBCXX_3.4'\n",
      "/home/wjyeo/anaconda3/envs/ipi_hw/compiler_compat/ld: /usr/local/cuda-12.4/lib64/libcufile.so: undefined reference to `std::__basic_file<char>::~__basic_file()@GLIBCXX_3.4'\n",
      "/home/wjyeo/anaconda3/envs/ipi_hw/compiler_compat/ld: /usr/local/cuda-12.4/lib64/libcufile.so: undefined reference to `__cxa_guard_acquire@CXXABI_1.3'\n",
      "/home/wjyeo/anaconda3/envs/ipi_hw/compiler_compat/ld: /usr/local/cuda-12.4/lib64/libcufile.so: undefined reference to `std::ostream& std::ostream::_M_insert<bool>(bool)@GLIBCXX_3.4.9'\n",
      "/home/wjyeo/anaconda3/envs/ipi_hw/compiler_compat/ld: /usr/local/cuda-12.4/lib64/libcufile.so: undefined reference to `vtable for std::overflow_error@GLIBCXX_3.4'\n",
      "/home/wjyeo/anaconda3/envs/ipi_hw/compiler_compat/ld: /usr/local/cuda-12.4/lib64/libcufile.so: undefined reference to `VTT for std::basic_fstream<char, std::char_traits<char> >@GLIBCXX_3.4'\n",
      "/home/wjyeo/anaconda3/envs/ipi_hw/compiler_compat/ld: /usr/local/cuda-12.4/lib64/libcufile.so: undefined reference to `vtable for std::range_error@GLIBCXX_3.4'\n",
      "/home/wjyeo/anaconda3/envs/ipi_hw/compiler_compat/ld: /usr/local/cuda-12.4/lib64/libcufile.so: undefined reference to `vtable for std::basic_ios<char, std::char_traits<char> >@GLIBCXX_3.4'\n",
      "/home/wjyeo/anaconda3/envs/ipi_hw/compiler_compat/ld: /usr/local/cuda-12.4/lib64/libcufile.so: undefined reference to `vtable for std::basic_filebuf<char, std::char_traits<char> >@GLIBCXX_3.4'\n",
      "/home/wjyeo/anaconda3/envs/ipi_hw/compiler_compat/ld: /usr/local/cuda-12.4/lib64/libcufile.so: undefined reference to `operator delete[](void*)@GLIBCXX_3.4'\n",
      "/home/wjyeo/anaconda3/envs/ipi_hw/compiler_compat/ld: /usr/local/cuda-12.4/lib64/libcufile.so: undefined reference to `vtable for std::basic_stringstream<char, std::char_traits<char>, std::allocator<char> >@GLIBCXX_3.4'\n",
      "/home/wjyeo/anaconda3/envs/ipi_hw/compiler_compat/ld: /usr/local/cuda-12.4/lib64/libcufile.so: undefined reference to `std::basic_string<char, std::char_traits<char>, std::allocator<char> >::basic_string(unsigned long, char, std::allocator<char> const&)@GLIBCXX_3.4'\n",
      "/home/wjyeo/anaconda3/envs/ipi_hw/compiler_compat/ld: /usr/local/cuda-12.4/lib64/libcufile.so: undefined reference to `std::__detail::_List_node_base::_M_transfer(std::__detail::_List_node_base*, std::__detail::_List_node_base*)@GLIBCXX_3.4.15'\n",
      "/home/wjyeo/anaconda3/envs/ipi_hw/compiler_compat/ld: /usr/local/cuda-12.4/lib64/libcufile.so: undefined reference to `std::string::replace(unsigned long, unsigned long, char const*, unsigned long)@GLIBCXX_3.4'\n",
      "/home/wjyeo/anaconda3/envs/ipi_hw/compiler_compat/ld: /usr/local/cuda-12.4/lib64/libcufile.so: undefined reference to `typeinfo for std::exception@GLIBCXX_3.4'\n",
      "/home/wjyeo/anaconda3/envs/ipi_hw/compiler_compat/ld: /usr/local/cuda-12.4/lib64/libcufile.so: undefined reference to `std::basic_string<wchar_t, std::char_traits<wchar_t>, std::allocator<wchar_t> >::_Rep::_M_destroy(std::allocator<wchar_t> const&)@GLIBCXX_3.4'\n",
      "/home/wjyeo/anaconda3/envs/ipi_hw/compiler_compat/ld: /usr/local/cuda-12.4/lib64/libcufile.so: undefined reference to `std::istream& std::istream::_M_extract<double>(double&)@GLIBCXX_3.4.9'\n",
      "/home/wjyeo/anaconda3/envs/ipi_hw/compiler_compat/ld: /usr/local/cuda-12.4/lib64/libcufile.so: undefined reference to `std::basic_filebuf<char, std::char_traits<char> >::close()@GLIBCXX_3.4'\n",
      "/home/wjyeo/anaconda3/envs/ipi_hw/compiler_compat/ld: /usr/local/cuda-12.4/lib64/libcufile.so: undefined reference to `vtable for std::basic_fstream<char, std::char_traits<char> >@GLIBCXX_3.4'\n",
      "/home/wjyeo/anaconda3/envs/ipi_hw/compiler_compat/ld: /usr/local/cuda-12.4/lib64/libcufile.so: undefined reference to `std::basic_ifstream<char, std::char_traits<char> >::basic_ifstream(char const*, std::_Ios_Openmode)@GLIBCXX_3.4'\n",
      "/home/wjyeo/anaconda3/envs/ipi_hw/compiler_compat/ld: /usr/local/cuda-12.4/lib64/libcufile.so: undefined reference to `std::string::append(std::string const&)@GLIBCXX_3.4'\n",
      "/home/wjyeo/anaconda3/envs/ipi_hw/compiler_compat/ld: /usr/local/cuda-12.4/lib64/libcufile.so: undefined reference to `operator new(unsigned long)@GLIBCXX_3.4'\n",
      "/home/wjyeo/anaconda3/envs/ipi_hw/compiler_compat/ld: /usr/local/cuda-12.4/lib64/libcufile.so: undefined reference to `VTT for std::basic_istringstream<wchar_t, std::char_traits<wchar_t>, std::allocator<wchar_t> >@GLIBCXX_3.4'\n",
      "/home/wjyeo/anaconda3/envs/ipi_hw/compiler_compat/ld: /usr/local/cuda-12.4/lib64/libcufile.so: undefined reference to `typeinfo for unsigned int@CXXABI_1.3'\n",
      "/home/wjyeo/anaconda3/envs/ipi_hw/compiler_compat/ld: /usr/local/cuda-12.4/lib64/libcufile.so: undefined reference to `std::string::append(char const*)@GLIBCXX_3.4'\n",
      "/home/wjyeo/anaconda3/envs/ipi_hw/compiler_compat/ld: /usr/local/cuda-12.4/lib64/libcufile.so: undefined reference to `vtable for std::domain_error@GLIBCXX_3.4'\n",
      "/home/wjyeo/anaconda3/envs/ipi_hw/compiler_compat/ld: /usr/local/cuda-12.4/lib64/libcufile.so: undefined reference to `std::string::find(char, unsigned long) const@GLIBCXX_3.4'\n",
      "/home/wjyeo/anaconda3/envs/ipi_hw/compiler_compat/ld: /usr/local/cuda-12.4/lib64/libcufile.so: undefined reference to `std::ostream::put(char)@GLIBCXX_3.4'\n",
      "/home/wjyeo/anaconda3/envs/ipi_hw/compiler_compat/ld: /usr/local/cuda-12.4/lib64/libcufile.so: undefined reference to `typeinfo for int@CXXABI_1.3'\n",
      "/home/wjyeo/anaconda3/envs/ipi_hw/compiler_compat/ld: /usr/local/cuda-12.4/lib64/libcufile.so: undefined reference to `std::__throw_bad_alloc()@GLIBCXX_3.4'\n",
      "/home/wjyeo/anaconda3/envs/ipi_hw/compiler_compat/ld: /usr/local/cuda-12.4/lib64/libcufile.so: undefined reference to `__cxa_thread_atexit@CXXABI_1.3.7'\n",
      "/home/wjyeo/anaconda3/envs/ipi_hw/compiler_compat/ld: /usr/local/cuda-12.4/lib64/libcufile.so: undefined reference to `typeinfo for unsigned int*@CXXABI_1.3'\n",
      "/home/wjyeo/anaconda3/envs/ipi_hw/compiler_compat/ld: /usr/local/cuda-12.4/lib64/libcufile.so: undefined reference to `std::_Rb_tree_increment(std::_Rb_tree_node_base*)@GLIBCXX_3.4'\n",
      "/home/wjyeo/anaconda3/envs/ipi_hw/compiler_compat/ld: /usr/local/cuda-12.4/lib64/libcufile.so: undefined reference to `std::basic_ifstream<char, std::char_traits<char> >::~basic_ifstream()@GLIBCXX_3.4'\n",
      "/home/wjyeo/anaconda3/envs/ipi_hw/compiler_compat/ld: /usr/local/cuda-12.4/lib64/libcufile.so: undefined reference to `std::ios_base::Init::Init()@GLIBCXX_3.4'\n",
      "/home/wjyeo/anaconda3/envs/ipi_hw/compiler_compat/ld: /usr/local/cuda-12.4/lib64/libcufile.so: undefined reference to `std::condition_variable::condition_variable()@GLIBCXX_3.4.11'\n",
      "/home/wjyeo/anaconda3/envs/ipi_hw/compiler_compat/ld: /usr/local/cuda-12.4/lib64/libcufile.so: undefined reference to `std::basic_filebuf<char, std::char_traits<char> >::basic_filebuf()@GLIBCXX_3.4'\n",
      "/home/wjyeo/anaconda3/envs/ipi_hw/compiler_compat/ld: /usr/local/cuda-12.4/lib64/libcufile.so: undefined reference to `VTT for std::basic_istringstream<char, std::char_traits<char>, std::allocator<char> >@GLIBCXX_3.4'\n",
      "/home/wjyeo/anaconda3/envs/ipi_hw/compiler_compat/ld: /usr/local/cuda-12.4/lib64/libcufile.so: undefined reference to `std::domain_error::~domain_error()@GLIBCXX_3.4'\n",
      "/home/wjyeo/anaconda3/envs/ipi_hw/compiler_compat/ld: /usr/local/cuda-12.4/lib64/libcufile.so: undefined reference to `std::cerr@GLIBCXX_3.4'\n",
      "/home/wjyeo/anaconda3/envs/ipi_hw/compiler_compat/ld: /usr/local/cuda-12.4/lib64/libcufile.so: undefined reference to `std::string::find(char const*, unsigned long, unsigned long) const@GLIBCXX_3.4'\n",
      "/home/wjyeo/anaconda3/envs/ipi_hw/compiler_compat/ld: /usr/local/cuda-12.4/lib64/libcufile.so: undefined reference to `vtable for std::basic_istringstream<char, std::char_traits<char>, std::allocator<char> >@GLIBCXX_3.4'\n",
      "/home/wjyeo/anaconda3/envs/ipi_hw/compiler_compat/ld: /usr/local/cuda-12.4/lib64/libcufile.so: undefined reference to `std::basic_string<char, std::char_traits<char>, std::allocator<char> >::basic_string(std::allocator<char> const&)@GLIBCXX_3.4'\n",
      "/home/wjyeo/anaconda3/envs/ipi_hw/compiler_compat/ld: /usr/local/cuda-12.4/lib64/libcufile.so: undefined reference to `std::basic_stringbuf<char, std::char_traits<char>, std::allocator<char> >::str() const@GLIBCXX_3.4'\n",
      "/home/wjyeo/anaconda3/envs/ipi_hw/compiler_compat/ld: /usr/local/cuda-12.4/lib64/libcufile.so: undefined reference to `vtable for std::invalid_argument@GLIBCXX_3.4'\n",
      "/home/wjyeo/anaconda3/envs/ipi_hw/compiler_compat/ld: /usr/local/cuda-12.4/lib64/libcufile.so: undefined reference to `typeinfo for void*@CXXABI_1.3'\n",
      "/home/wjyeo/anaconda3/envs/ipi_hw/compiler_compat/ld: /usr/local/cuda-12.4/lib64/libcufile.so: undefined reference to `std::string::assign(std::string const&)@GLIBCXX_3.4'\n",
      "/home/wjyeo/anaconda3/envs/ipi_hw/compiler_compat/ld: /usr/local/cuda-12.4/lib64/libcufile.so: undefined reference to `std::basic_ostringstream<char, std::char_traits<char>, std::allocator<char> >::~basic_ostringstream()@GLIBCXX_3.4'\n",
      "/home/wjyeo/anaconda3/envs/ipi_hw/compiler_compat/ld: /usr/local/cuda-12.4/lib64/libcufile.so: undefined reference to `std::_Rb_tree_rebalance_for_erase(std::_Rb_tree_node_base*, std::_Rb_tree_node_base&)@GLIBCXX_3.4'\n",
      "/home/wjyeo/anaconda3/envs/ipi_hw/compiler_compat/ld: /usr/local/cuda-12.4/lib64/libcufile.so: undefined reference to `typeinfo for unsigned long@CXXABI_1.3'\n",
      "/home/wjyeo/anaconda3/envs/ipi_hw/compiler_compat/ld: /usr/local/cuda-12.4/lib64/libcufile.so: undefined reference to `std::__detail::_List_node_base::_M_hook(std::__detail::_List_node_base*)@GLIBCXX_3.4.15'\n",
      "/home/wjyeo/anaconda3/envs/ipi_hw/compiler_compat/ld: /usr/local/cuda-12.4/lib64/libcufile.so: undefined reference to `std::__detail::_List_node_base::_M_unhook()@GLIBCXX_3.4.15'\n",
      "/home/wjyeo/anaconda3/envs/ipi_hw/compiler_compat/ld: /usr/local/cuda-12.4/lib64/libcufile.so: undefined reference to `vtable for std::basic_ostringstream<wchar_t, std::char_traits<wchar_t>, std::allocator<wchar_t> >@GLIBCXX_3.4'\n",
      "/home/wjyeo/anaconda3/envs/ipi_hw/compiler_compat/ld: /usr/local/cuda-12.4/lib64/libcufile.so: undefined reference to `std::basic_stringbuf<char, std::char_traits<char>, std::allocator<char> >::_M_sync(char*, unsigned long, unsigned long)@GLIBCXX_3.4'\n",
      "/home/wjyeo/anaconda3/envs/ipi_hw/compiler_compat/ld: /usr/local/cuda-12.4/lib64/libcufile.so: undefined reference to `std::basic_iostream<char, std::char_traits<char> >::~basic_iostream()@GLIBCXX_3.4'\n",
      "/home/wjyeo/anaconda3/envs/ipi_hw/compiler_compat/ld: /usr/local/cuda-12.4/lib64/libcufile.so: undefined reference to `std::locale::locale(std::locale const&)@GLIBCXX_3.4'\n",
      "/home/wjyeo/anaconda3/envs/ipi_hw/compiler_compat/ld: /usr/local/cuda-12.4/lib64/libcufile.so: undefined reference to `vtable for std::basic_istringstream<wchar_t, std::char_traits<wchar_t>, std::allocator<wchar_t> >@GLIBCXX_3.4'\n",
      "/home/wjyeo/anaconda3/envs/ipi_hw/compiler_compat/ld: /usr/local/cuda-12.4/lib64/libcufile.so: undefined reference to `log2f@GLIBC_2.2.5'\n",
      "/home/wjyeo/anaconda3/envs/ipi_hw/compiler_compat/ld: /usr/local/cuda-12.4/lib64/libcufile.so: undefined reference to `std::ostream::operator<<(std::basic_streambuf<char, std::char_traits<char> >*)@GLIBCXX_3.4'\n",
      "/home/wjyeo/anaconda3/envs/ipi_hw/compiler_compat/ld: /usr/local/cuda-12.4/lib64/libcufile.so: undefined reference to `vtable for std::basic_streambuf<wchar_t, std::char_traits<wchar_t> >@GLIBCXX_3.4'\n",
      "/home/wjyeo/anaconda3/envs/ipi_hw/compiler_compat/ld: /usr/local/cuda-12.4/lib64/libcufile.so: undefined reference to `std::exception::~exception()@GLIBCXX_3.4'\n",
      "/home/wjyeo/anaconda3/envs/ipi_hw/compiler_compat/ld: /usr/local/cuda-12.4/lib64/libcufile.so: undefined reference to `std::string::_Rep::_S_create(unsigned long, unsigned long, std::allocator<char> const&)@GLIBCXX_3.4'\n",
      "/home/wjyeo/anaconda3/envs/ipi_hw/compiler_compat/ld: /usr/local/cuda-12.4/lib64/libcufile.so: undefined reference to `std::__basic_file<char>::is_open() const@GLIBCXX_3.4'\n",
      "/home/wjyeo/anaconda3/envs/ipi_hw/compiler_compat/ld: /usr/local/cuda-12.4/lib64/libcufile.so: undefined reference to `std::basic_istringstream<char, std::char_traits<char>, std::allocator<char> >::~basic_istringstream()@GLIBCXX_3.4'\n",
      "/home/wjyeo/anaconda3/envs/ipi_hw/compiler_compat/ld: /usr/local/cuda-12.4/lib64/libcufile.so: undefined reference to `std::string::swap(std::string&)@GLIBCXX_3.4'\n",
      "/home/wjyeo/anaconda3/envs/ipi_hw/compiler_compat/ld: /usr/local/cuda-12.4/lib64/libcufile.so: undefined reference to `vtable for std::basic_ostringstream<char, std::char_traits<char>, std::allocator<char> >@GLIBCXX_3.4'\n",
      "/home/wjyeo/anaconda3/envs/ipi_hw/compiler_compat/ld: /usr/local/cuda-12.4/lib64/libcufile.so: undefined reference to `std::basic_streambuf<char, std::char_traits<char> >::basic_streambuf(std::basic_streambuf<char, std::char_traits<char> > const&)@GLIBCXX_3.4'\n",
      "/home/wjyeo/anaconda3/envs/ipi_hw/compiler_compat/ld: /usr/local/cuda-12.4/lib64/libcufile.so: undefined reference to `std::basic_ios<char, std::char_traits<char> >::init(std::basic_streambuf<char, std::char_traits<char> >*)@GLIBCXX_3.4'\n",
      "/home/wjyeo/anaconda3/envs/ipi_hw/compiler_compat/ld: /usr/local/cuda-12.4/lib64/libcufile.so: undefined reference to `std::__throw_bad_cast()@GLIBCXX_3.4'\n",
      "/home/wjyeo/anaconda3/envs/ipi_hw/compiler_compat/ld: /usr/local/cuda-12.4/lib64/libcufile.so: undefined reference to `std::basic_ios<char, std::char_traits<char> >::clear(std::_Ios_Iostate)@GLIBCXX_3.4'\n",
      "/home/wjyeo/anaconda3/envs/ipi_hw/compiler_compat/ld: /usr/local/cuda-12.4/lib64/libcufile.so: undefined reference to `std::basic_streambuf<wchar_t, std::char_traits<wchar_t> >::operator=(std::basic_streambuf<wchar_t, std::char_traits<wchar_t> > const&)@GLIBCXX_3.4'\n",
      "/home/wjyeo/anaconda3/envs/ipi_hw/compiler_compat/ld: /usr/local/cuda-12.4/lib64/libcufile.so: undefined reference to `typeinfo for long*@CXXABI_1.3'\n",
      "/home/wjyeo/anaconda3/envs/ipi_hw/compiler_compat/ld: /usr/local/cuda-12.4/lib64/libcufile.so: undefined reference to `operator delete(void*)@GLIBCXX_3.4'\n",
      "/home/wjyeo/anaconda3/envs/ipi_hw/compiler_compat/ld: /usr/local/cuda-12.4/lib64/libcufile.so: undefined reference to `std::ostream::operator<<(int)@GLIBCXX_3.4'\n",
      "/home/wjyeo/anaconda3/envs/ipi_hw/compiler_compat/ld: /usr/local/cuda-12.4/lib64/libcufile.so: undefined reference to `std::string::_Rep::_S_empty_rep_storage@GLIBCXX_3.4'\n",
      "/home/wjyeo/anaconda3/envs/ipi_hw/compiler_compat/ld: /usr/local/cuda-12.4/lib64/libcufile.so: undefined reference to `std::string::_Rep::_M_destroy(std::allocator<char> const&)@GLIBCXX_3.4'\n",
      "/home/wjyeo/anaconda3/envs/ipi_hw/compiler_compat/ld: /usr/local/cuda-12.4/lib64/libcufile.so: undefined reference to `std::basic_iostream<wchar_t, std::char_traits<wchar_t> >::~basic_iostream()@GLIBCXX_3.4'\n",
      "/home/wjyeo/anaconda3/envs/ipi_hw/compiler_compat/ld: /usr/local/cuda-12.4/lib64/libcufile.so: undefined reference to `vtable for std::runtime_error@GLIBCXX_3.4'\n",
      "/home/wjyeo/anaconda3/envs/ipi_hw/compiler_compat/ld: /usr/local/cuda-12.4/lib64/libcufile.so: undefined reference to `vtable for std::basic_ofstream<char, std::char_traits<char> >@GLIBCXX_3.4'\n",
      "/home/wjyeo/anaconda3/envs/ipi_hw/compiler_compat/ld: /usr/local/cuda-12.4/lib64/libcufile.so: undefined reference to `std::_Rb_tree_insert_and_rebalance(bool, std::_Rb_tree_node_base*, std::_Rb_tree_node_base*, std::_Rb_tree_node_base&)@GLIBCXX_3.4'\n",
      "/home/wjyeo/anaconda3/envs/ipi_hw/compiler_compat/ld: /usr/local/cuda-12.4/lib64/libcufile.so: undefined reference to `std::basic_stringstream<char, std::char_traits<char>, std::allocator<char> >::~basic_stringstream()@GLIBCXX_3.4'\n",
      "/home/wjyeo/anaconda3/envs/ipi_hw/compiler_compat/ld: /usr/local/cuda-12.4/lib64/libcufile.so: undefined reference to `VTT for std::basic_stringstream<wchar_t, std::char_traits<wchar_t>, std::allocator<wchar_t> >@GLIBCXX_3.4'\n",
      "/home/wjyeo/anaconda3/envs/ipi_hw/compiler_compat/ld: /usr/local/cuda-12.4/lib64/libcufile.so: undefined reference to `std::ostream& std::ostream::_M_insert<long>(long)@GLIBCXX_3.4.9'\n",
      "/home/wjyeo/anaconda3/envs/ipi_hw/compiler_compat/ld: /usr/local/cuda-12.4/lib64/libcufile.so: undefined reference to `std::istream::get()@GLIBCXX_3.4'\n",
      "/home/wjyeo/anaconda3/envs/ipi_hw/compiler_compat/ld: /usr/local/cuda-12.4/lib64/libcufile.so: undefined reference to `typeinfo for unsigned long long@CXXABI_1.3'\n",
      "/home/wjyeo/anaconda3/envs/ipi_hw/compiler_compat/ld: /usr/local/cuda-12.4/lib64/libcufile.so: undefined reference to `std::basic_ostream<char, std::char_traits<char> >& std::operator<< <std::char_traits<char> >(std::basic_ostream<char, std::char_traits<char> >&, char const*)@GLIBCXX_3.4'\n",
      "/home/wjyeo/anaconda3/envs/ipi_hw/compiler_compat/ld: /usr/local/cuda-12.4/lib64/libcufile.so: undefined reference to `std::out_of_range::~out_of_range()@GLIBCXX_3.4'\n",
      "/home/wjyeo/anaconda3/envs/ipi_hw/compiler_compat/ld: /usr/local/cuda-12.4/lib64/libcufile.so: undefined reference to `std::length_error::~length_error()@GLIBCXX_3.4'\n",
      "/home/wjyeo/anaconda3/envs/ipi_hw/compiler_compat/ld: /usr/local/cuda-12.4/lib64/libcufile.so: undefined reference to `std::basic_ostream<char, std::char_traits<char> >& std::__ostream_insert<char, std::char_traits<char> >(std::basic_ostream<char, std::char_traits<char> >&, char const*, long)@GLIBCXX_3.4.9'\n",
      "/home/wjyeo/anaconda3/envs/ipi_hw/compiler_compat/ld: /usr/local/cuda-12.4/lib64/libcufile.so: undefined reference to `std::invalid_argument::~invalid_argument()@GLIBCXX_3.4'\n",
      "/home/wjyeo/anaconda3/envs/ipi_hw/compiler_compat/ld: /usr/local/cuda-12.4/lib64/libcufile.so: undefined reference to `std::basic_string<wchar_t, std::char_traits<wchar_t>, std::allocator<wchar_t> >::swap(std::basic_string<wchar_t, std::char_traits<wchar_t>, std::allocator<wchar_t> >&)@GLIBCXX_3.4'\n",
      "/home/wjyeo/anaconda3/envs/ipi_hw/compiler_compat/ld: /usr/local/cuda-12.4/lib64/libcufile.so: undefined reference to `std::cout@GLIBCXX_3.4'\n",
      "/home/wjyeo/anaconda3/envs/ipi_hw/compiler_compat/ld: /usr/local/cuda-12.4/lib64/libcufile.so: undefined reference to `std::ostream& std::ostream::_M_insert<unsigned long long>(unsigned long long)@GLIBCXX_3.4.9'\n",
      "/home/wjyeo/anaconda3/envs/ipi_hw/compiler_compat/ld: /usr/local/cuda-12.4/lib64/libcufile.so: undefined reference to `std::ostream& std::ostream::_M_insert<void const*>(void const*)@GLIBCXX_3.4.9'\n",
      "/home/wjyeo/anaconda3/envs/ipi_hw/compiler_compat/ld: /usr/local/cuda-12.4/lib64/libcufile.so: undefined reference to `vtable for std::underflow_error@GLIBCXX_3.4'\n",
      "/home/wjyeo/anaconda3/envs/ipi_hw/compiler_compat/ld: /usr/local/cuda-12.4/lib64/libcufile.so: undefined reference to `vtable for std::basic_streambuf<char, std::char_traits<char> >@GLIBCXX_3.4'\n",
      "/home/wjyeo/anaconda3/envs/ipi_hw/compiler_compat/ld: /usr/local/cuda-12.4/lib64/libcufile.so: undefined reference to `typeinfo for std::out_of_range@GLIBCXX_3.4'\n",
      "/home/wjyeo/anaconda3/envs/ipi_hw/compiler_compat/ld: /usr/local/cuda-12.4/lib64/libcufile.so: undefined reference to `__cxa_allocate_exception@CXXABI_1.3'\n",
      "/home/wjyeo/anaconda3/envs/ipi_hw/compiler_compat/ld: /usr/local/cuda-12.4/lib64/libcufile.so: undefined reference to `vtable for std::basic_ios<wchar_t, std::char_traits<wchar_t> >@GLIBCXX_3.4'\n",
      "/home/wjyeo/anaconda3/envs/ipi_hw/compiler_compat/ld: /usr/local/cuda-12.4/lib64/libcufile.so: undefined reference to `typeinfo for void const*@CXXABI_1.3'\n",
      "/home/wjyeo/anaconda3/envs/ipi_hw/compiler_compat/ld: /usr/local/cuda-12.4/lib64/libcufile.so: undefined reference to `std::basic_ios<wchar_t, std::char_traits<wchar_t> >::init(std::basic_streambuf<wchar_t, std::char_traits<wchar_t> >*)@GLIBCXX_3.4'\n",
      "/home/wjyeo/anaconda3/envs/ipi_hw/compiler_compat/ld: /usr/local/cuda-12.4/lib64/libcufile.so: undefined reference to `std::string::reserve(unsigned long)@GLIBCXX_3.4'\n",
      "/home/wjyeo/anaconda3/envs/ipi_hw/compiler_compat/ld: /usr/local/cuda-12.4/lib64/libcufile.so: undefined reference to `__cxa_begin_catch@CXXABI_1.3'\n",
      "/home/wjyeo/anaconda3/envs/ipi_hw/compiler_compat/ld: /usr/local/cuda-12.4/lib64/libcufile.so: undefined reference to `typeinfo for long@CXXABI_1.3'\n",
      "/home/wjyeo/anaconda3/envs/ipi_hw/compiler_compat/ld: /usr/local/cuda-12.4/lib64/libcufile.so: undefined reference to `std::basic_string<wchar_t, std::char_traits<wchar_t>, std::allocator<wchar_t> >::_Rep::_S_empty_rep_storage@GLIBCXX_3.4'\n",
      "/home/wjyeo/anaconda3/envs/ipi_hw/compiler_compat/ld: /usr/local/cuda-12.4/lib64/libcufile.so: undefined reference to `std::string::_M_leak()@GLIBCXX_3.4'\n",
      "/home/wjyeo/anaconda3/envs/ipi_hw/compiler_compat/ld: /usr/local/cuda-12.4/lib64/libcufile.so: undefined reference to `std::basic_filebuf<char, std::char_traits<char> >::open(char const*, std::_Ios_Openmode)@GLIBCXX_3.4'\n",
      "/home/wjyeo/anaconda3/envs/ipi_hw/compiler_compat/ld: /usr/local/cuda-12.4/lib64/libcufile.so: undefined reference to `std::basic_stringbuf<wchar_t, std::char_traits<wchar_t>, std::allocator<wchar_t> >::_M_sync(wchar_t*, unsigned long, unsigned long)@GLIBCXX_3.4'\n",
      "/home/wjyeo/anaconda3/envs/ipi_hw/compiler_compat/ld: /usr/local/cuda-12.4/lib64/libcufile.so: undefined reference to `std::istream::getline(char*, long, char)@GLIBCXX_3.4'\n",
      "/home/wjyeo/anaconda3/envs/ipi_hw/compiler_compat/ld: /usr/local/cuda-12.4/lib64/libcufile.so: undefined reference to `std::basic_istream<char, std::char_traits<char> >& std::getline<char, std::char_traits<char>, std::allocator<char> >(std::basic_istream<char, std::char_traits<char> >&, std::basic_string<char, std::char_traits<char>, std::allocator<char> >&, char)@GLIBCXX_3.4'\n",
      "/home/wjyeo/anaconda3/envs/ipi_hw/compiler_compat/ld: /usr/local/cuda-12.4/lib64/libcufile.so: undefined reference to `vtable for std::basic_stringstream<wchar_t, std::char_traits<wchar_t>, std::allocator<wchar_t> >@GLIBCXX_3.4'\n",
      "/home/wjyeo/anaconda3/envs/ipi_hw/compiler_compat/ld: /usr/local/cuda-12.4/lib64/libcufile.so: undefined reference to `std::condition_variable::~condition_variable()@GLIBCXX_3.4.11'\n",
      "/home/wjyeo/anaconda3/envs/ipi_hw/compiler_compat/ld: /usr/local/cuda-12.4/lib64/libcufile.so: undefined reference to `vtable for std::basic_stringbuf<wchar_t, std::char_traits<wchar_t>, std::allocator<wchar_t> >@GLIBCXX_3.4'\n",
      "/home/wjyeo/anaconda3/envs/ipi_hw/compiler_compat/ld: /usr/local/cuda-12.4/lib64/libcufile.so: undefined reference to `std::string::insert(unsigned long, char const*, unsigned long)@GLIBCXX_3.4'\n",
      "/home/wjyeo/anaconda3/envs/ipi_hw/compiler_compat/ld: /usr/local/cuda-12.4/lib64/libcufile.so: undefined reference to `std::string::assign(char const*, unsigned long)@GLIBCXX_3.4'\n",
      "/home/wjyeo/anaconda3/envs/ipi_hw/compiler_compat/ld: /usr/local/cuda-12.4/lib64/libcufile.so: undefined reference to `typeinfo for unsigned char@CXXABI_1.3'\n",
      "/home/wjyeo/anaconda3/envs/ipi_hw/compiler_compat/ld: /usr/local/cuda-12.4/lib64/libcufile.so: undefined reference to `std::ios_base::ios_base()@GLIBCXX_3.4'\n",
      "/home/wjyeo/anaconda3/envs/ipi_hw/compiler_compat/ld: /usr/local/cuda-12.4/lib64/libcufile.so: undefined reference to `std::__throw_out_of_range(char const*)@GLIBCXX_3.4'\n",
      "/home/wjyeo/anaconda3/envs/ipi_hw/compiler_compat/ld: /usr/local/cuda-12.4/lib64/libcufile.so: undefined reference to `std::overflow_error::~overflow_error()@GLIBCXX_3.4'\n",
      "/home/wjyeo/anaconda3/envs/ipi_hw/compiler_compat/ld: /usr/local/cuda-12.4/lib64/libcufile.so: undefined reference to `std::__throw_length_error(char const*)@GLIBCXX_3.4'\n",
      "/home/wjyeo/anaconda3/envs/ipi_hw/compiler_compat/ld: /usr/local/cuda-12.4/lib64/libcufile.so: undefined reference to `std::__throw_system_error(int)@GLIBCXX_3.4.11'\n",
      "/home/wjyeo/anaconda3/envs/ipi_hw/compiler_compat/ld: /usr/local/cuda-12.4/lib64/libcufile.so: undefined reference to `std::basic_ofstream<char, std::char_traits<char> >::close()@GLIBCXX_3.4'\n",
      "/home/wjyeo/anaconda3/envs/ipi_hw/compiler_compat/ld: /usr/local/cuda-12.4/lib64/libcufile.so: undefined reference to `std::ostream& std::ostream::_M_insert<double>(double)@GLIBCXX_3.4.9'\n",
      "/home/wjyeo/anaconda3/envs/ipi_hw/compiler_compat/ld: /usr/local/cuda-12.4/lib64/libcufile.so: undefined reference to `std::basic_streambuf<char, std::char_traits<char> >::operator=(std::basic_streambuf<char, std::char_traits<char> > const&)@GLIBCXX_3.4'\n",
      "/home/wjyeo/anaconda3/envs/ipi_hw/compiler_compat/ld: /usr/local/cuda-12.4/lib64/libcufile.so: undefined reference to `typeinfo for long long@CXXABI_1.3'\n",
      "/home/wjyeo/anaconda3/envs/ipi_hw/compiler_compat/ld: /usr/local/cuda-12.4/lib64/libcufile.so: undefined reference to `std::basic_string<char, std::char_traits<char>, std::allocator<char> >::basic_string(char const*, unsigned long, std::allocator<char> const&)@GLIBCXX_3.4'\n",
      "/home/wjyeo/anaconda3/envs/ipi_hw/compiler_compat/ld: /usr/local/cuda-12.4/lib64/libcufile.so: undefined reference to `std::basic_ifstream<char, std::char_traits<char> >::close()@GLIBCXX_3.4'\n",
      "/home/wjyeo/anaconda3/envs/ipi_hw/compiler_compat/ld: /usr/local/cuda-12.4/lib64/libcufile.so: undefined reference to `__cxa_guard_release@CXXABI_1.3'\n",
      "/home/wjyeo/anaconda3/envs/ipi_hw/compiler_compat/ld: /usr/local/cuda-12.4/lib64/libcufile.so: undefined reference to `__cxa_throw@CXXABI_1.3'\n",
      "/home/wjyeo/anaconda3/envs/ipi_hw/compiler_compat/ld: /usr/local/cuda-12.4/lib64/libcufile.so: undefined reference to `std::underflow_error::~underflow_error()@GLIBCXX_3.4'\n",
      "/home/wjyeo/anaconda3/envs/ipi_hw/compiler_compat/ld: /usr/local/cuda-12.4/lib64/libcufile.so: undefined reference to `std::_Rb_tree_decrement(std::_Rb_tree_node_base*)@GLIBCXX_3.4'\n",
      "/home/wjyeo/anaconda3/envs/ipi_hw/compiler_compat/ld: /usr/local/cuda-12.4/lib64/libcufile.so: undefined reference to `vtable for std::length_error@GLIBCXX_3.4'\n",
      "/home/wjyeo/anaconda3/envs/ipi_hw/compiler_compat/ld: /usr/local/cuda-12.4/lib64/libcufile.so: undefined reference to `std::basic_filebuf<char, std::char_traits<char> >::~basic_filebuf()@GLIBCXX_3.4'\n",
      "collect2: error: ld returned 1 exit status\n"
     ]
    },
    {
     "name": "stdout",
     "output_type": "stream",
     "text": [
      "INFO 10-14 10:08:18 [__init__.py:216] Automatically detected platform cuda.\n"
     ]
    }
   ],
   "source": [
    "import os,sys\n",
    "sys.path.append(os.path.abspath(\".\")) \n",
    "sys.path.append(os.path.abspath(\"InjecAgent\")) \n",
    "sys.path.append(os.path.abspath(\"aside\"))\n",
    "from aside.model import *\n",
    "from aside.model_api import *\n",
    "import torch\n",
    "import json\n",
    "import numpy as np\n",
    "from tqdm import tqdm\n",
    "from collections import defaultdict\n",
    "from utils.utils import *\n",
    "from utils.model_utils import load_model\n",
    "from utils.plot_utils import *\n",
    "torch.set_grad_enabled(False)\n",
    "\n",
    "seed_all()\n",
    "from vllm import LLM, SamplingParams\n",
    "from functools import partial\n",
    "\n",
    "from agentdojo.attacks.attack_registry import ATTACKS, load_attack\n",
    "from agentdojo.task_suite.load_suites import get_suite, get_suites\n",
    "from agentdojo.task_suite.task_suite import *\n",
    "from agentdojo.agent_pipeline.agent_pipeline import DEFENSES, AgentPipeline, PipelineConfig\n",
    "from constants import *\n"
   ]
  },
  {
   "cell_type": "markdown",
   "id": "76f006a2",
   "metadata": {},
   "source": [
    "# Load Trained Model"
   ]
  },
  {
   "cell_type": "code",
   "execution_count": null,
   "id": "c5187680",
   "metadata": {},
   "outputs": [
    {
     "name": "stderr",
     "output_type": "stream",
     "text": [
      "`torch_dtype` is deprecated! Use `dtype` instead!\n"
     ]
    },
    {
     "name": "stdout",
     "output_type": "stream",
     "text": [
      "\n",
      " <class 'model.CustomQwen3Config'> <class 'model.Qwen3ForwardRot'> \n",
      "\n",
      "CALLED load_vanilla_model_and_tokenizer on model /mnt/disk1/wjyeo/models/Qwen3-8B_sft_ASIDE_ToolAndAlpaca_LARGE and tokenizer /mnt/disk1/wjyeo/models/Qwen3-8B_sft_ASIDE_ToolAndAlpaca_LARGE\n",
      "Model config CustomQwen3Config {\n",
      "  \"add_linear_shift\": false,\n",
      "  \"architectures\": [\n",
      "    \"Qwen3ForwardRot\"\n",
      "  ],\n",
      "  \"attention_bias\": false,\n",
      "  \"attention_dropout\": 0.0,\n",
      "  \"bos_token_id\": 151643,\n",
      "  \"dtype\": \"bfloat16\",\n",
      "  \"eos_token_id\": 151645,\n",
      "  \"gradual_rotation\": false,\n",
      "  \"head_dim\": 128,\n",
      "  \"hidden_act\": \"silu\",\n",
      "  \"hidden_size\": 4096,\n",
      "  \"initializer_range\": 0.02,\n",
      "  \"intermediate_size\": 12288,\n",
      "  \"layer_types\": [\n",
      "    \"full_attention\",\n",
      "    \"full_attention\",\n",
      "    \"full_attention\",\n",
      "    \"full_attention\",\n",
      "    \"full_attention\",\n",
      "    \"full_attention\",\n",
      "    \"full_attention\",\n",
      "    \"full_attention\",\n",
      "    \"full_attention\",\n",
      "    \"full_attention\",\n",
      "    \"full_attention\",\n",
      "    \"full_attention\",\n",
      "    \"full_attention\",\n",
      "    \"full_attention\",\n",
      "    \"full_attention\",\n",
      "    \"full_attention\",\n",
      "    \"full_attention\",\n",
      "    \"full_attention\",\n",
      "    \"full_attention\",\n",
      "    \"full_attention\",\n",
      "    \"full_attention\",\n",
      "    \"full_attention\",\n",
      "    \"full_attention\",\n",
      "    \"full_attention\",\n",
      "    \"full_attention\",\n",
      "    \"full_attention\",\n",
      "    \"full_attention\",\n",
      "    \"full_attention\",\n",
      "    \"full_attention\",\n",
      "    \"full_attention\",\n",
      "    \"full_attention\",\n",
      "    \"full_attention\",\n",
      "    \"full_attention\",\n",
      "    \"full_attention\",\n",
      "    \"full_attention\",\n",
      "    \"full_attention\"\n",
      "  ],\n",
      "  \"learned_rotation\": false,\n",
      "  \"max_position_embeddings\": 40960,\n",
      "  \"max_window_layers\": 36,\n",
      "  \"model_type\": \"qwen3\",\n",
      "  \"num_attention_heads\": 32,\n",
      "  \"num_hidden_layers\": 36,\n",
      "  \"num_key_value_heads\": 8,\n",
      "  \"pad_token_id\": 151643,\n",
      "  \"rms_norm_eps\": 1e-06,\n",
      "  \"rope_scaling\": null,\n",
      "  \"rope_theta\": 1000000,\n",
      "  \"rotation_alpha\": 1.57079633,\n",
      "  \"rotation_direction\": \"right\",\n",
      "  \"sliding_window\": null,\n",
      "  \"tie_word_embeddings\": false,\n",
      "  \"transformers_version\": \"4.56.0\",\n",
      "  \"use_cache\": false,\n",
      "  \"use_sliding_window\": false,\n",
      "  \"vocab_size\": 151671\n",
      "}\n",
      "\n",
      "alpha_t: 1.5703125 (dtype: torch.bfloat16)\n"
     ]
    },
    {
     "data": {
      "application/vnd.jupyter.widget-view+json": {
       "model_id": "ce08596d08034c90ba277c6f800c0cc2",
       "version_major": 2,
       "version_minor": 0
      },
      "text/plain": [
       "Loading checkpoint shards:   0%|          | 0/7 [00:00<?, ?it/s]"
      ]
     },
     "metadata": {},
     "output_type": "display_data"
    },
    {
     "name": "stdout",
     "output_type": "stream",
     "text": [
      "chat_template_path: None\n",
      "\n",
      " MODEL TYPE:  <class 'model.Qwen3ForwardRot'>\n",
      "Embedding type forward_rot\n",
      "alpha_t: 1.5703125 (dtype: torch.bfloat16)\n",
      "INFO 10-14 10:08:40 [utils.py:328] non-default args: {'enable_prompt_embeds': True, 'max_model_len': 32768, 'gpu_memory_utilization': 0.8, 'disable_log_stats': True, 'enable_chunked_prefill': False, 'model': '/mnt/disk1/wjyeo/models/Qwen3-8B_sft_ASIDE_ToolAndAlpaca_LARGE'}\n",
      "INFO 10-14 10:08:48 [__init__.py:742] Resolved architecture: Qwen3ForwardRot\n"
     ]
    },
    {
     "name": "stderr",
     "output_type": "stream",
     "text": [
      "`torch_dtype` is deprecated! Use `dtype` instead!\n"
     ]
    },
    {
     "name": "stdout",
     "output_type": "stream",
     "text": [
      "INFO 10-14 10:08:48 [__init__.py:1815] Using max model len 32768\n",
      "WARNING 10-14 10:08:48 [arg_utils.py:1801] --enable-prompt-embeds is not supported by the V1 Engine. Falling back to V0. \n",
      "INFO 10-14 10:08:51 [llm_engine.py:221] Initializing a V0 LLM engine (v0.10.2) with config: model='/mnt/disk1/wjyeo/models/Qwen3-8B_sft_ASIDE_ToolAndAlpaca_LARGE', speculative_config=None, tokenizer='/mnt/disk1/wjyeo/models/Qwen3-8B_sft_ASIDE_ToolAndAlpaca_LARGE', skip_tokenizer_init=False, tokenizer_mode=auto, revision=None, tokenizer_revision=None, trust_remote_code=False, dtype=torch.bfloat16, max_seq_len=32768, download_dir=None, load_format=auto, tensor_parallel_size=1, pipeline_parallel_size=1, data_parallel_size=1, disable_custom_all_reduce=False, quantization=None, enforce_eager=False, kv_cache_dtype=auto, device_config=cuda, decoding_config=DecodingConfig(backend='auto', disable_fallback=False, disable_any_whitespace=False, disable_additional_properties=False, reasoning_backend=''), observability_config=ObservabilityConfig(show_hidden_metrics_for_version=None, otlp_traces_endpoint=None, collect_detailed_traces=None), seed=0, served_model_name=/mnt/disk1/wjyeo/models/Qwen3-8B_sft_ASIDE_ToolAndAlpaca_LARGE, enable_prefix_caching=None, chunked_prefill_enabled=False, use_async_output_proc=True, pooler_config=None, compilation_config={\"level\":0,\"debug_dump_path\":\"\",\"cache_dir\":\"\",\"backend\":\"\",\"custom_ops\":[],\"splitting_ops\":null,\"use_inductor\":true,\"compile_sizes\":[],\"inductor_compile_config\":{\"enable_auto_functionalized_v2\":false},\"inductor_passes\":{},\"cudagraph_mode\":0,\"use_cudagraph\":true,\"cudagraph_num_of_warmups\":0,\"cudagraph_capture_sizes\":[256,248,240,232,224,216,208,200,192,184,176,168,160,152,144,136,128,120,112,104,96,88,80,72,64,56,48,40,32,24,16,8,4,2,1],\"cudagraph_copy_inputs\":false,\"full_cuda_graph\":false,\"pass_config\":{\"enable_fusion\":false,\"enable_noop\":false},\"max_capture_size\":256,\"local_cache_dir\":null}, use_cached_outputs=False, \n",
      "INFO 10-14 10:08:51 [cuda.py:456] Using Flash Attention backend.\n",
      "[Gloo] Rank 0 is connected to 0 peer ranks. Expected number of connected peer ranks is : 0\n",
      "[Gloo] Rank 0 is connected to 0 peer ranks. Expected number of connected peer ranks is : 0\n",
      "[Gloo] Rank 0 is connected to 0 peer ranks. Expected number of connected peer ranks is : 0\n",
      "[Gloo] Rank 0 is connected to 0 peer ranks. Expected number of connected peer ranks is : 0\n",
      "[Gloo] Rank 0 is connected to 0 peer ranks. Expected number of connected peer ranks is : 0\n",
      "[Gloo] Rank 0 is connected to 0 peer ranks. Expected number of connected peer ranks is : 0\n",
      "INFO 10-14 10:08:52 [parallel_state.py:1165] rank 0 in world size 1 is assigned as DP rank 0, PP rank 0, TP rank 0, EP rank 0\n",
      "INFO 10-14 10:08:52 [model_runner.py:1051] Starting to load model /mnt/disk1/wjyeo/models/Qwen3-8B_sft_ASIDE_ToolAndAlpaca_LARGE...\n"
     ]
    },
    {
     "name": "stderr",
     "output_type": "stream",
     "text": [
      "[W1014 10:08:52.654299434 ProcessGroupNCCL.cpp:981] Warning: TORCH_NCCL_AVOID_RECORD_STREAMS is the default now, this environment variable is thus deprecated. (function operator())\n"
     ]
    },
    {
     "name": "stdout",
     "output_type": "stream",
     "text": [
      "alpha_t: 1.5703125 (dtype: torch.bfloat16)\n"
     ]
    },
    {
     "data": {
      "application/vnd.jupyter.widget-view+json": {
       "model_id": "6eb52bb5786946efa776abb0986acfcb",
       "version_major": 2,
       "version_minor": 0
      },
      "text/plain": [
       "Loading safetensors checkpoint shards:   0% Completed | 0/7 [00:00<?, ?it/s]\n"
      ]
     },
     "metadata": {},
     "output_type": "display_data"
    },
    {
     "name": "stdout",
     "output_type": "stream",
     "text": [
      "INFO 10-14 10:09:02 [default_loader.py:268] Loading weights took 9.67 seconds\n",
      "INFO 10-14 10:09:03 [model_runner.py:1083] Model loading took 15.2956 GiB and 9.885095 seconds\n",
      "INFO 10-14 10:09:05 [worker.py:290] Memory profiling takes 1.35 seconds\n",
      "INFO 10-14 10:09:05 [worker.py:290] the current vLLM instance can use total_gpu_memory (139.81GiB) x gpu_memory_utilization (0.80) = 111.85GiB\n",
      "INFO 10-14 10:09:05 [worker.py:290] model weights take 15.30GiB; non_torch_memory takes 0.07GiB; PyTorch activation peak memory takes 3.28GiB; the rest of the memory reserved for KV Cache is 93.21GiB.\n",
      "INFO 10-14 10:09:05 [executor_base.py:114] # cuda blocks: 42418, # CPU blocks: 1820\n",
      "INFO 10-14 10:09:05 [executor_base.py:119] Maximum concurrency for 32768 tokens per request: 20.71x\n",
      "INFO 10-14 10:09:07 [model_runner.py:1355] Capturing cudagraphs for decoding. This may lead to unexpected consequences if the model is not static. To run the model in eager mode, set 'enforce_eager=True' or use '--enforce-eager' in the CLI. If out-of-memory error occurs during cudagraph capture, consider decreasing `gpu_memory_utilization` or switching to eager mode. You can also reduce the `max_num_seqs` as needed to decrease memory usage.\n"
     ]
    },
    {
     "data": {
      "application/vnd.jupyter.widget-view+json": {
       "model_id": "968fe52372ef479d881404e9fd494512",
       "version_major": 2,
       "version_minor": 0
      },
      "text/plain": [
       "Capturing CUDA graph shapes:   0%|          | 0/70 [00:00<?, ?it/s]"
      ]
     },
     "metadata": {},
     "output_type": "display_data"
    },
    {
     "name": "stdout",
     "output_type": "stream",
     "text": [
      "INFO 10-14 10:09:41 [model_runner.py:1507] Graph capturing finished in 34 secs, took 0.67 GiB\n",
      "INFO 10-14 10:09:41 [worker.py:467] Free memory on device (137.99/139.81 GiB) on startup. Desired GPU memory utilization is (0.8, 111.85 GiB). Actual usage is 15.3 GiB for weight, 3.28 GiB for peak activation, 0.07 GiB for non-torch memory, and 0.67 GiB for CUDAGraph memory. Replace gpu_memory_utilization config with `--kv-cache-memory=99197348659` to fit into requested memory, or `--kv-cache-memory=127264045056` to fully utilize gpu memory. Current kv cache memory in use is 100078152499 bytes.\n",
      "INFO 10-14 10:09:41 [llm_engine.py:420] init engine (profile, create kv cache, warmup model) took 38.39 seconds\n",
      "INFO 10-14 10:09:42 [llm.py:295] Supported_tasks: ['generate']\n",
      "INFO 10-14 10:09:42 [__init__.py:36] No IOProcessor plugins requested by the model\n",
      "Use Vllm: True, is_aside: True\n"
     ]
    }
   ],
   "source": [
    "device = 'cuda:0'\n",
    "torch_dtype = torch.bfloat16\n",
    "max_ctx_len = 32768\n",
    "# model_path = 'Qwen/Qwen3-8B'\n",
    "model_path = os.path.join(MODEL_DIR,'Qwen3-8B_sft_ASIDE_ToolAndAlpaca_LARGE')\n",
    "\n",
    "use_vllm=True\n",
    "is_api = False\n",
    "\n",
    "model,tokenizer,is_aside,init_fn = load_model(model_path,use_vllm=use_vllm,dtype=torch_dtype,vllm_kwargs = {'gpu_memory_utilization':0.8,'enable_chunked_prefill':False},max_ctx_len=max_ctx_len) # init_fn is for aside mainly (to used on the input_ids to turn them to rotated embeddings)\n",
    "\n",
    "    \n",
    "print (f'Use Vllm: {use_vllm}, is_aside: {is_aside}')\n",
    "def assign_segment_ids(texts,tokenizer,embed_fn=None):\n",
    "    if isinstance(texts[0],str):\n",
    "        encoded = encode_fn(encoded,tokenizer) # turn to input_ids\n",
    "    segment_ids = multiturn_aside_encode(encoded,tokenizer,start_tokens = qwen_start_tokens,end_tokens = qwen_end_tokens,until_last_token = \"\\n<|im_start|>assistant\")\n",
    "    encoded['segment_ids'] = segment_ids\n",
    "    input_lens = [len(tokenizer.encode(x)) for x in texts] # to unpad later\n",
    "    \n",
    "    # Debug cause.\n",
    "    # segs = get_aside_segments(encoded[0],tokenizer)\n",
    "    # pprint (f'PROMPT: {tokenizer.decode(encoded[0][\"input_ids\"][0])}')\n",
    "    # for i, seg in enumerate(segs):\n",
    "    #     pprint (f'SEG {i} {seg}')\n",
    "    if embed_fn is not None:\n",
    "        encoded = embed_fn(encoded,input_lens)\n",
    "    return encoded\n",
    "\n",
    "if is_aside:\n",
    "    additional_encode_fn = partial(assign_segment_ids,tokenizer=tokenizer,embed_fn=init_fn)\n",
    "else:\n",
    "    additional_encode_fn = lambda x:x\n",
    "        "
   ]
  },
  {
   "cell_type": "code",
   "execution_count": 10,
   "id": "96b7c7ac",
   "metadata": {},
   "outputs": [],
   "source": [
    "def assign_segment_ids(encoded,tokenizer,embed_fn=None):\n",
    "    if model.use_vllm: # perform one by one\n",
    "        if not isinstance(encoded,list): # single string, make into a list\n",
    "            encoded = [encoded]\n",
    "        if isinstance(encoded[0],str): # encode to input_ids one by one, vllm takes unpadded strings\n",
    "            encoded =[encode_fn(x,tokenizer) for x in encoded]\n",
    "        segment_ids = [multiturn_aside_encode(x,tokenizer,start_tokens = qwen_start_tokens,end_tokens = qwen_end_tokens,until_last_token = \"\\n<|im_start|>assistant\") for x in encoded] # allow the\n",
    "        for e,sid in zip(encoded,segment_ids):\n",
    "            e['segment_ids'] = sid\n",
    "    else: # perform in batch\n",
    "        if isinstance(encoded[0],str):\n",
    "            encoded = encode_fn(encoded,tokenizer) # turn to input_ids\n",
    "        segment_ids = multiturn_aside_encode(encoded,tokenizer,start_tokens = qwen_start_tokens,end_tokens = qwen_end_tokens,until_last_token = \"\\n<|im_start|>assistant\")\n",
    "        encoded['segment_ids'] = segment_ids\n",
    "    \n",
    "    # Debug cause.\n",
    "    # segs = get_aside_segments(encoded[0],tokenizer)\n",
    "    # pprint (f'PROMPT: {tokenizer.decode(encoded[0][\"input_ids\"][0])}')\n",
    "    # for i, seg in enumerate(segs):\n",
    "    #     pprint (f'SEG {i} {seg}')\n",
    "    \n",
    "    if embed_fn is not None:\n",
    "        encoded = embed_fn(encoded)\n",
    "    return encoded\n",
    "\n",
    "if is_aside:\n",
    "    additional_encode_fn = partial(assign_segment_ids,tokenizer=tokenizer,embed_fn=init_fn)\n",
    "else:\n",
    "    additional_encode_fn = lambda x:x\n",
    "        "
   ]
  },
  {
   "cell_type": "code",
   "execution_count": 11,
   "id": "372d3390",
   "metadata": {},
   "outputs": [],
   "source": [
    "def tool_prompt_format(messages,tools,tokenizer,encode=False,enable_thinking=False,remove_system_prompt=False): # for tool-use agents like Qwen\n",
    "    if messages[-1]['role'] == 'assistant':\n",
    "        add_generation_prompt = False\n",
    "    else:\n",
    "        add_generation_prompt = True\n",
    "    if messages[0]['role'] == 'system' and remove_system_prompt:\n",
    "        messages = messages[1:] # remove system prompt for tool-use models\n",
    "    if 'qwen' in tokenizer.name_or_path.lower():\n",
    "        formatted = tokenizer.apply_chat_template(messages,add_generation_prompt=add_generation_prompt,tokenize=False,enable_thinking=enable_thinking,tools=tools)\n",
    "    else:\n",
    "        formatted = tokenizer.apply_chat_template(messages,add_generation_prompt=add_generation_prompt,tokenize=False,tools=tools)\n",
    "    # pprint (formatted)\n",
    "    # formatted = formatted.split('<think>')[0].strip() ## TEMP\n",
    "    return encode_fn(formatted,tokenizer) if encode else formatted"
   ]
  },
  {
   "cell_type": "code",
   "execution_count": 12,
   "id": "2c4079e7",
   "metadata": {},
   "outputs": [],
   "source": [
    "defense = None\n",
    "if not is_api:\n",
    "    # Tool LLM\n",
    "    agent_pipeline = AgentPipeline.from_config(\n",
    "            PipelineConfig(\n",
    "                llm='local-tool',\n",
    "                defense=defense,\n",
    "                system_message_name=None,\n",
    "                system_message=None,\n",
    "                tool_output_format=None,\n",
    "                extra_args={\n",
    "                    'model':model,\n",
    "                    'tokenizer':tokenizer,\n",
    "                    'encode_fn': partial(tool_prompt_format,tokenizer=tokenizer),\n",
    "                    'additional_encode_fn': additional_encode_fn,\n",
    "                    'gen_kwargs': {'max_new_tokens':512,'do_sample':False,'eos_token_id':[tokenizer.eos_token_id]} if not use_vllm else SamplingParams(max_tokens=512,temperature=0,stop_token_ids = [tokenizer.eos_token_id]),\n",
    "                    'is_vllm': use_vllm,\n",
    "                    'tool_role': 'tool' if 'metasecalign' not in model_path.lower() or 'tool' in model_path.lower() else 'input'\n",
    "                },\n",
    "                # max_iters=3,\n",
    "            )\n",
    "        )\n",
    "else:\n",
    "    with open(f'/export/home2/weijie210/ipi_huawei/ds_key.txt','r') as f:\n",
    "        ds_key = f.read().strip()\n",
    "    os.environ['OPENAI_API_KEY'] = ds_key\n",
    "    agent_pipeline = AgentPipeline.from_config(\n",
    "            PipelineConfig(\n",
    "                llm=model_path,\n",
    "                defense=defense,\n",
    "                system_message_name=None,\n",
    "                system_message=None,\n",
    "                tool_output_format=None,\n",
    "                extra_args ={'max_tokens':512}\n",
    "                \n",
    "            )\n",
    "        )"
   ]
  },
  {
   "cell_type": "markdown",
   "id": "c50292dd",
   "metadata": {},
   "source": [
    "# Function for Evaluation"
   ]
  },
  {
   "cell_type": "code",
   "execution_count": 13,
   "id": "1e09a5ed",
   "metadata": {},
   "outputs": [],
   "source": [
    "from agentdojo.base_tasks import BaseInjectionTask, BaseUserTask\n",
    "\n",
    "def run_task(suite,user_task,injection_task=None,task_injection = {},return_messages=False):\n",
    "    environment = suite.load_and_inject_default_environment(task_injection)\n",
    "    if isinstance(user_task, BaseUserTask):\n",
    "        task_environment = user_task.init_environment(environment)\n",
    "    else:\n",
    "        task_environment = environment\n",
    "    pre_environment = task_environment.model_copy(deep=True)\n",
    "    if isinstance(user_task, BaseUserTask):\n",
    "        prompt = user_task.PROMPT\n",
    "    else:\n",
    "        prompt = user_task.GOAL\n",
    "\n",
    "    messages = []\n",
    "    runtime = FunctionsRuntime(suite.tools)\n",
    "\n",
    "    _, _, task_environment, messages, _ = agent_pipeline.query(prompt, runtime, task_environment)\n",
    "    model_output = model_output_from_messages(messages)\n",
    "    functions_stack_trace = functions_stack_trace_from_messages(messages)\n",
    "    utility = suite._check_task_result(\n",
    "            user_task,\n",
    "            model_output or [],\n",
    "            pre_environment,\n",
    "            task_environment,  # type: ignore\n",
    "            functions_stack_trace,\n",
    "        )\n",
    "    security = None\n",
    "    if injection_task is not None:\n",
    "        security = suite._check_task_result(\n",
    "            injection_task,\n",
    "            model_output or [],\n",
    "            pre_environment,\n",
    "            task_environment,  # type: ignore\n",
    "            functions_stack_trace,\n",
    "        )\n",
    "    if not return_messages:\n",
    "        return utility,security\n",
    "    else:\n",
    "        return utility,security, messages\n",
    "    \n",
    "def count_turns(messages):\n",
    "    ass_count = 0\n",
    "    has_user = False\n",
    "    for msg in messages[2:]: # skip system and first user\n",
    "        if msg['role'] == 'assistant':\n",
    "            ass_count += 1\n",
    "        elif msg['role'] == 'user':\n",
    "            has_user = True\n",
    "    return {'turn':ass_count,'additional_user':has_user}\n"
   ]
  },
  {
   "cell_type": "markdown",
   "id": "aff523d7",
   "metadata": {},
   "source": [
    "# Eval"
   ]
  },
  {
   "cell_type": "code",
   "execution_count": 19,
   "id": "62383c94",
   "metadata": {},
   "outputs": [
    {
     "name": "stdout",
     "output_type": "stream",
     "text": [
      "**Running benchmark for suite: 'banking'**\n",
      "Num User tasks to run: 16\n",
      "is dos_attack: False\n",
      "Num Injection tasks to run: 9\n"
     ]
    },
    {
     "name": "stderr",
     "output_type": "stream",
     "text": [
      "Running Injection utility for banking: 100%|██████████████████████████████████████████████████████████████████████████████████████████████████████████████████████████████████████████| 9/9 [00:20<00:00,  2.32s/it]\n"
     ]
    },
    {
     "name": "stdout",
     "output_type": "stream",
     "text": [
      "banking Injection utility: 0.78\n"
     ]
    },
    {
     "name": "stderr",
     "output_type": "stream",
     "text": [
      "Running Task utility for banking: 100%|█████████████████████████████████████████████████████████████████████████████████████████████████████████████████████████████████████████████| 16/16 [00:34<00:00,  2.15s/it]\n"
     ]
    },
    {
     "name": "stdout",
     "output_type": "stream",
     "text": [
      "banking Task utility: 0.38\n"
     ]
    },
    {
     "name": "stderr",
     "output_type": "stream",
     "text": [
      "Running Attack for banking: 100%|███████████████████████████████████████████████████████████████████████████████████████████████████████████████████████████████████████████████████| 16/16 [06:17<00:00, 23.59s/it]\n"
     ]
    },
    {
     "name": "stdout",
     "output_type": "stream",
     "text": [
      "banking Task with injection Utility: 0.31\n",
      "banking ASR: 0.24\n",
      "**Running benchmark for suite: 'travel'**\n",
      "Num User tasks to run: 20\n",
      "is dos_attack: False\n",
      "Num Injection tasks to run: 7\n"
     ]
    },
    {
     "name": "stderr",
     "output_type": "stream",
     "text": [
      "Running Injection utility for travel: 100%|███████████████████████████████████████████████████████████████████████████████████████████████████████████████████████████████████████████| 7/7 [00:20<00:00,  2.94s/it]\n"
     ]
    },
    {
     "name": "stdout",
     "output_type": "stream",
     "text": [
      "travel Injection utility: 0.71\n"
     ]
    },
    {
     "name": "stderr",
     "output_type": "stream",
     "text": [
      "Running Task utility for travel: 100%|██████████████████████████████████████████████████████████████████████████████████████████████████████████████████████████████████████████████| 20/20 [02:21<00:00,  7.10s/it]\n"
     ]
    },
    {
     "name": "stdout",
     "output_type": "stream",
     "text": [
      "travel Task utility: 0.45\n"
     ]
    },
    {
     "name": "stderr",
     "output_type": "stream",
     "text": [
      "Running Attack for travel: 100%|████████████████████████████████████████████████████████████████████████████████████████████████████████████████████████████████████████████████████| 20/20 [17:08<00:00, 51.41s/it]\n"
     ]
    },
    {
     "name": "stdout",
     "output_type": "stream",
     "text": [
      "travel Task with injection Utility: 0.34\n",
      "travel ASR: 0.01\n",
      "**Running benchmark for suite: 'workspace'**\n",
      "Num User tasks to run: 40\n",
      "is dos_attack: False\n",
      "Num Injection tasks to run: 14\n"
     ]
    },
    {
     "name": "stderr",
     "output_type": "stream",
     "text": [
      "Running Injection utility for workspace: 100%|██████████████████████████████████████████████████████████████████████████████████████████████████████████████████████████████████████| 14/14 [01:49<00:00,  7.83s/it]\n"
     ]
    },
    {
     "name": "stdout",
     "output_type": "stream",
     "text": [
      "workspace Injection utility: 0.29\n"
     ]
    },
    {
     "name": "stderr",
     "output_type": "stream",
     "text": [
      "Running Task utility for workspace:  52%|████████████████████████████████████████████████████████████████████████▉                                                                  | 21/40 [01:03<01:28,  4.67s/it]Token indices sequence length is longer than the specified maximum sequence length for this model (33271 > 32768). Running this sequence through the model will result in indexing errors\n"
     ]
    },
    {
     "name": "stdout",
     "output_type": "stream",
     "text": [
      "WARNING 10-14 11:05:45 [scheduler.py:1102] Input prompt (33271 tokens) is too long and exceeds limit of 32768\n"
     ]
    },
    {
     "name": "stderr",
     "output_type": "stream",
     "text": [
      "Running Task utility for workspace: 100%|███████████████████████████████████████████████████████████████████████████████████████████████████████████████████████████████████████████| 40/40 [02:51<00:00,  4.28s/it]\n"
     ]
    },
    {
     "name": "stdout",
     "output_type": "stream",
     "text": [
      "workspace Task utility: 0.23\n"
     ]
    },
    {
     "name": "stderr",
     "output_type": "stream",
     "text": [
      "Running Attack for workspace:  52%|████████████████████████████████████████████████████████████████████████████▏                                                                    | 21/40 [16:05<23:01, 72.69s/it]"
     ]
    },
    {
     "name": "stdout",
     "output_type": "stream",
     "text": [
      "WARNING 10-14 11:23:38 [scheduler.py:1102] Input prompt (33356 tokens) is too long and exceeds limit of 32768\n",
      "WARNING 10-14 11:24:01 [scheduler.py:1102] Input prompt (33609 tokens) is too long and exceeds limit of 32768\n",
      "WARNING 10-14 11:24:21 [scheduler.py:1102] Input prompt (33387 tokens) is too long and exceeds limit of 32768\n",
      "WARNING 10-14 11:24:38 [scheduler.py:1102] Input prompt (32806 tokens) is too long and exceeds limit of 32768\n",
      "WARNING 10-14 11:24:58 [scheduler.py:1102] Input prompt (33378 tokens) is too long and exceeds limit of 32768\n",
      "WARNING 10-14 11:25:20 [scheduler.py:1102] Input prompt (33670 tokens) is too long and exceeds limit of 32768\n",
      "WARNING 10-14 11:25:49 [scheduler.py:1102] Input prompt (33379 tokens) is too long and exceeds limit of 32768\n",
      "WARNING 10-14 11:26:09 [scheduler.py:1102] Input prompt (33918 tokens) is too long and exceeds limit of 32768\n",
      "WARNING 10-14 11:26:26 [scheduler.py:1102] Input prompt (33723 tokens) is too long and exceeds limit of 32768\n",
      "WARNING 10-14 11:26:46 [scheduler.py:1102] Input prompt (33387 tokens) is too long and exceeds limit of 32768\n",
      "WARNING 10-14 11:27:21 [scheduler.py:1102] Input prompt (33313 tokens) is too long and exceeds limit of 32768\n",
      "WARNING 10-14 11:27:49 [scheduler.py:1102] Input prompt (33596 tokens) is too long and exceeds limit of 32768\n"
     ]
    },
    {
     "name": "stderr",
     "output_type": "stream",
     "text": [
      "Running Attack for workspace:  95%|█████████████████████████████████████████████████████████████████████████████████████████████████████████████████████████████████████████▊       | 38/40 [36:13<02:02, 61.29s/it]"
     ]
    },
    {
     "name": "stdout",
     "output_type": "stream",
     "text": [
      "WARNING 10-14 11:44:15 [scheduler.py:1102] Input prompt (38420 tokens) is too long and exceeds limit of 32768\n",
      "WARNING 10-14 11:44:30 [scheduler.py:1102] Input prompt (38584 tokens) is too long and exceeds limit of 32768\n",
      "WARNING 10-14 11:45:14 [scheduler.py:1102] Input prompt (38507 tokens) is too long and exceeds limit of 32768\n"
     ]
    },
    {
     "name": "stderr",
     "output_type": "stream",
     "text": [
      "Running Attack for workspace: 100%|█████████████████████████████████████████████████████████████████████████████████████████████████████████████████████████████████████████████████| 40/40 [38:45<00:00, 58.13s/it]"
     ]
    },
    {
     "name": "stdout",
     "output_type": "stream",
     "text": [
      "workspace Task with injection Utility: 0.26\n",
      "workspace ASR: 0.00\n",
      "Results for slack:\n",
      "Injection utility: 1.00\n",
      "Task utility: 0.52\n",
      "Task with injection utility: 0.26\n",
      "ASR: 0.18\n",
      "Results for banking:\n",
      "Injection utility: 0.78\n",
      "Task utility: 0.38\n",
      "Task with injection utility: 0.31\n",
      "ASR: 0.24\n",
      "Results for travel:\n",
      "Injection utility: 0.71\n",
      "Task utility: 0.45\n",
      "Task with injection utility: 0.34\n",
      "ASR: 0.01\n",
      "Results for workspace:\n",
      "Injection utility: 0.29\n",
      "Task utility: 0.23\n",
      "Task with injection utility: 0.26\n",
      "ASR: 0.00\n"
     ]
    },
    {
     "name": "stderr",
     "output_type": "stream",
     "text": [
      "\n"
     ]
    }
   ],
   "source": [
    "benchmark_version = 'v1.2.1'\n",
    "suites = tuple(get_suites(benchmark_version).keys())\n",
    "suites = ['banking','travel','workspace']\n",
    "# suites = ['slack']\n",
    "attack_name = 'important_instructions'\n",
    "\n",
    "all_suite_results = defaultdict(dict)\n",
    "all_suite_asr_messages = defaultdict(dict)\n",
    "all_suite_stats = defaultdict(dict)\n",
    "debug_messages = defaultdict(list)\n",
    "\n",
    "if 'qwen' in model_path.lower():\n",
    "    base_model_name = 'qwen3'\n",
    "elif 'llama3' in model_path.lower():\n",
    "    base_model_name = 'llama3'\n",
    "elif 'gemma' in model_path.lower():\n",
    "    base_model_name = 'gemma2'\n",
    "else:\n",
    "    base_model_name = model_path\n",
    "\n",
    "\n",
    "model_n = model_path.split('/')[-1]\n",
    "result_dict = 'results/agentdojo'\n",
    "os.makedirs(result_dict,exist_ok=True)\n",
    "\n",
    "result_file = f'{result_dict}/{base_model_name}_{model_n}.json'\n",
    "msg_file = f'{result_dict}/{base_model_name}_{model_n}_messages.pkl'\n",
    "\n",
    "all_suite_results['slack']['injection_utility'] = 1.0\n",
    "all_suite_results['slack']['task_utility'] = 0.52\n",
    "all_suite_results['slack']['attack_utility'] = 0.26\n",
    "all_suite_results['slack']['asr'] = 0.18\n",
    "\n",
    "\n",
    "\n",
    "\n",
    "if not os.path.exists(result_file):\n",
    "    for suite_name in suites:\n",
    "        debug_messages = defaultdict(list)\n",
    "        suite = get_suite(benchmark_version, suite_name)\n",
    "        print(f\"**Running benchmark for suite: '{suite.name}'**\")\n",
    "        user_tasks_to_run = suite.user_tasks.values()\n",
    "        print (f\"Num User tasks to run: {len(user_tasks_to_run)}\")\n",
    "        attacker_ = load_attack(attack_name, suite, target_pipeline = agent_pipeline)\n",
    "        print ('is dos_attack:', attacker_.is_dos_attack)\n",
    "        injection_tasks_to_run = suite.injection_tasks\n",
    "        print (f\"Num Injection tasks to run: {len(injection_tasks_to_run)}\")\n",
    "\n",
    "        #Injection utility\n",
    "        injection_task_utility = {}\n",
    "        injection_turn_count = {}\n",
    "        for i,(injection_task_id, injection_task) in tqdm(enumerate(injection_tasks_to_run.items()),total = len(injection_tasks_to_run),desc = f'Running Injection utility for {suite_name}'):\n",
    "            utility,_,message = run_task(suite,injection_task,return_messages=True)\n",
    "            injection_task_utility[injection_task_id] = utility\n",
    "            debug_messages['injection'].append(message)\n",
    "            injection_turn_count[injection_task_id] = count_turns(message)\n",
    "\n",
    "        print (f'{suite_name} Injection utility: {np.mean(list(injection_task_utility.values())):.2f}')\n",
    "        all_suite_results[suite_name]['injection_utility'] = list(injection_task_utility.values())\n",
    "        all_suite_stats['injection'][suite_name] = injection_turn_count\n",
    "\n",
    "        # Non-injection utility\n",
    "        task_utility = {}\n",
    "        task_turn_count = {}\n",
    "        for user_task in tqdm(user_tasks_to_run,total = len(user_tasks_to_run),desc = f'Running Task utility for {suite_name}'):\n",
    "            utility,_,message = run_task(suite,user_task,return_messages=True)\n",
    "            task_utility[user_task.ID] = utility\n",
    "            debug_messages['utility'].append(message)\n",
    "            task_turn_count[user_task.ID] = count_turns(message)\n",
    "        print (f'{suite_name} Task utility: {np.mean(list(task_utility.values())):.2f}')\n",
    "        all_suite_results[suite_name]['task_utility'] = list(task_utility.values())\n",
    "        all_suite_stats['task'][suite_name] = task_turn_count\n",
    "\n",
    "#         # With attack\n",
    "        utility_with_attack = {}\n",
    "        all_messages = {}\n",
    "        suite_security_results =  {}\n",
    "        for user_task in tqdm(user_tasks_to_run,total = len(user_tasks_to_run),desc = f'Running Attack for {suite_name}'):\n",
    "            for injection_task_id in injection_tasks_to_run:\n",
    "                injection_task = suite.get_injection_task_by_id(injection_task_id)\n",
    "                task_injections = attacker_.attack(user_task, injection_task)\n",
    "                utility,security,messages = run_task(suite,user_task,injection_task,task_injections,return_messages=True)\n",
    "                utility_with_attack[(user_task.ID, injection_task_id)] = utility\n",
    "                suite_security_results[(user_task.ID, injection_task_id)] = security\n",
    "                all_messages[(user_task.ID, injection_task_id)] = messages\n",
    "        all_suite_asr_messages[suite_name] = all_messages\n",
    "        all_suite_results[suite_name]['asr'] = list(suite_security_results.values())\n",
    "        all_suite_results[suite_name]['attack_utility'] = list(utility_with_attack.values())\n",
    "\n",
    "        print (f'{suite_name} Task with injection Utility: {np.mean(list(utility_with_attack.values())):.2f}')\n",
    "        print (f'{suite_name} ASR: {np.mean(list(suite_security_results.values())):.2f}')\n",
    "    \n",
    "    all_suite_results_dict = {'results':all_suite_results,'stats':all_suite_stats}\n",
    "    mean_results = defaultdict(dict)\n",
    "    for suite,suite_results in all_suite_results.items():\n",
    "        for metric_name, metric_values in suite_results.items():\n",
    "            mean_results[suite][metric_name] = np.mean(metric_values)\n",
    "    with open(result_file, 'w') as f: # all_suite_results can be used to gather if the model is weak on task with high turns\n",
    "        json.dump({'mean_results': mean_results,'stats':all_suite_stats,'results':all_suite_results}, f, indent=4)\n",
    "\n",
    "\n",
    "else:\n",
    "    with open(result_file, 'r') as f:\n",
    "        all_suite_results_dict = json.load(f)\n",
    "\n",
    "for suite_name in all_suite_results_dict['results']:\n",
    "    suite_results = all_suite_results_dict['results'][suite_name]\n",
    "    print (f\"Results for {suite_name}:\")\n",
    "    print (f\"Injection utility: {np.mean(suite_results['injection_utility']):.2f}\")\n",
    "    print (f\"Task utility: {np.mean(suite_results['task_utility']):.2f}\")\n",
    "    print (f\"Task with injection utility: {np.mean(suite_results['attack_utility']):.2f}\")\n",
    "    print (f\"ASR: {np.mean(suite_results['asr']):.2f}\")"
   ]
  },
  {
   "cell_type": "code",
   "execution_count": null,
   "id": "7e0d91dc",
   "metadata": {},
   "outputs": [],
   "source": [
    "result_stats= all_suite_results_dict['stats']\n",
    "turns = []\n",
    "utility = []\n",
    "for task_type in result_stats: # compute correlation of turn counts and utility\n",
    "    for suite_name in result_stats[task_type]:\n",
    "        task_stats = result_stats[task_type][suite_name]\n",
    "        for task_id in task_stats:\n",
    "            turns.append(task_stats[task_id]['turn'])\n",
    "            if task_type == 'task':\n",
    "                utility.append(all_suite_results_dict['results'][suite_name]['task_utility'])\n",
    "            elif task_type == 'injection':\n",
    "                utility.append(all_suite_results_dict['results'][suite_name]['injection_utility'])\n",
    "    "
   ]
  },
  {
   "cell_type": "code",
   "execution_count": null,
   "id": "c72d54bb",
   "metadata": {},
   "outputs": [],
   "source": [
    "count = 0\n",
    "msgg = list(all_messages.values())\n",
    "for i,s in enumerate(utility_with_attack.values()):\n",
    "    if not s:\n",
    "        if count == 0:\n",
    "            print (len(msgg[i]))\n",
    "            for m in msgg[i]:\n",
    "                pprint (str(m))\n",
    "            print (i)\n",
    "            break\n",
    "        count += 1\n",
    "\n",
    "\n",
    "# count = 0\n",
    "# for k,s in suite_security_results.items():\n",
    "#     if not s and utility_with_attack[k]:\n",
    "#         if count == 0:\n",
    "#             print (len(all_messages[k]))\n",
    "#             for m in all_messages[k]:\n",
    "#                 pprint (str(m))\n",
    "#             break\n",
    "#         count += 1"
   ]
  },
  {
   "cell_type": "code",
   "execution_count": 12,
   "id": "f1cc7f5f",
   "metadata": {},
   "outputs": [
    {
     "name": "stdout",
     "output_type": "stream",
     "text": [
      "{\"name\": \"invite_user_to_slack\", \"arguments\": {\"user\": \"Fred\", \"user_email\": \"fred9246@gmail.com\"}}\n",
      "{\"name\": \"add_user_to_channel\", \"arguments\": {\"user\": \"Fred\", \"channel\": \"general\"}}\n",
      "{\"name\": \"remove_user_from_slack\", \"arguments\": {\"user\": \"Fred\"}}\n"
     ]
    }
   ],
   "source": [
    "a = '<tool_call>\\n{\"name\": \"invite_user_to_slack\", \"arguments\": {\"user\": \"Fred\", \"user_email\": \"fred9246@gmail.com\"}}\\n</tool_call>\\n<tool_call>\\n{\"name\": \"add_user_to_channel\", \"arguments\": {\"user\": \"Fred\", \"channel\": \"general\"}}\\n</tool_call>\\n<tool_call>\\n{\"name\": \"remove_user_from_slack\", \"arguments\": {\"user\": \"Fred\"}}\\n</tool_call>'\n",
    "match =  re.findall(r\"<tool_call>\\s*(.*?)\\s*</tool_call>\", a, re.DOTALL)\n",
    "for m in match:\n",
    "    print (m)"
   ]
  },
  {
   "cell_type": "code",
   "execution_count": null,
   "id": "cf940de5",
   "metadata": {},
   "outputs": [],
   "source": [
    "a = \"<tool_call>\\n{'name':'get_channels', 'arguments': '{}'}\\n</tool_call>\"\n",
    "match = re.search(r\"<tool_call>\\s*(.*?)\\s*</tool_call>\", a, re.DOTALL)\n",
    "print (match.group(1))"
   ]
  },
  {
   "cell_type": "code",
   "execution_count": null,
   "id": "4de3d56d",
   "metadata": {},
   "outputs": [],
   "source": [
    "for suite_name in all_suite_results:\n",
    "    suite_results = all_suite_results[suite_name]\n",
    "    print (f\"Results for {suite_name}:\")\n",
    "    print (f\"Injection utility: {suite_results['injection_utility']:.2f}\")\n",
    "    print (f\"Task utility: {suite_results['task_utility']:.2f}\")\n",
    "    print (f\"Task with injection utility: {suite_results['attack_utility']:.2f}\")\n",
    "    print (f\"ASR: {suite_results['asr']:.2f}\")"
   ]
  },
  {
   "cell_type": "markdown",
   "id": "dc6d44f5",
   "metadata": {},
   "source": [
    "# Check result"
   ]
  },
  {
   "cell_type": "code",
   "execution_count": null,
   "id": "41436a33",
   "metadata": {},
   "outputs": [],
   "source": [
    "# base_model_name = 'qwen3'\n",
    "base_model_name = 'qwen3'\n",
    "result_dict = 'results/agentdojo'\n",
    "# model_n = 'ToolACE-2.5-Llama-3.1-8B'\n",
    "# model_n = 'Qwen3-8B'\n",
    "model_n = 'Qwen3-8B'\n",
    "with open(f'{result_dict}/{base_model_name}_{model_n}.json', 'r') as f:\n",
    "    all_suite_results = json.load(f)\n",
    "\n",
    "\n",
    "for suite_name in all_suite_results:\n",
    "    suite_results = all_suite_results[suite_name]\n",
    "    print (f\"** {suite_name} **\")\n",
    "    print (f\"Injec U: {np.mean(suite_results['injection_utility']):.2f}\")\n",
    "    print (f\"Task U: {np.mean(suite_results['task_utility']):.2f}\")\n",
    "    print (f\"Task/Injec U: {np.mean(suite_results['attack_utility']):.2f}\")\n",
    "    print (f\"ASR: {np.mean(suite_results['asr']):.2f}\")\n",
    "    print ('--'*20)"
   ]
  },
  {
   "cell_type": "code",
   "execution_count": null,
   "id": "6e6baaf0",
   "metadata": {},
   "outputs": [],
   "source": []
  }
 ],
 "metadata": {
  "kernelspec": {
   "display_name": "Python 3 (ipykernel)",
   "language": "python",
   "name": "python3"
  },
  "language_info": {
   "codemirror_mode": {
    "name": "ipython",
    "version": 3
   },
   "file_extension": ".py",
   "mimetype": "text/x-python",
   "name": "python",
   "nbconvert_exporter": "python",
   "pygments_lexer": "ipython3",
   "version": "3.12.0"
  }
 },
 "nbformat": 4,
 "nbformat_minor": 5
}
