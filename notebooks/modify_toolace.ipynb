{
 "cells": [
  {
   "cell_type": "code",
   "execution_count": 2,
   "id": "236f954b",
   "metadata": {},
   "outputs": [],
   "source": [
    "import json,os,sys\n",
    "sys.path.append(os.path.abspath(\".\")) \n",
    "sys.path.append(os.path.abspath(\"..\")) \n",
    "from transformers import AutoTokenizer\n",
    "import numpy as np\n",
    "from utils.utils import seed_all\n",
    "\n",
    "seed_all()"
   ]
  },
  {
   "cell_type": "code",
   "execution_count": 3,
   "id": "b0acda47",
   "metadata": {},
   "outputs": [
    {
     "name": "stdout",
     "output_type": "stream",
     "text": [
      "10141\n"
     ]
    }
   ],
   "source": [
    "with open(\"../aside/data/train_data/toolace_train_parsed.json\", \"r\") as f:\n",
    "    data = json.load(f)\n",
    "print (len(data))"
   ]
  },
  {
   "cell_type": "code",
   "execution_count": null,
   "id": "9dfea93d",
   "metadata": {},
   "outputs": [
    {
     "name": "stdout",
     "output_type": "stream",
     "text": [
      "742 273 469 742\n"
     ]
    }
   ],
   "source": [
    "new_data = []\n",
    "valid_assistant_count = 0\n",
    "valid_tool_count = 0\n",
    "tool_exists_count = 0\n",
    "for d in data: # we mainly want to train on assistant chats that pick tool and not just respond and we only want to do it if there is already a tool use before that\n",
    "    valid_assistant_turns = []\n",
    "    tool_available_turns = []\n",
    "    if any([turn['from'] == 'tool' for turn in d[\"conversations\"]]):\n",
    "        tool_exists_count += 1\n",
    "    for j,turn in enumerate(d[\"conversations\"]):\n",
    "        if turn['from'] == 'tool': # check if next one is assistant and contains tool use, if yes record hte idx down\n",
    "            if j+1 < len(d[\"conversations\"]) and d[\"conversations\"][j+1][\"from\"] == \"assistant\" and \"<tool_call>\" in d[\"conversations\"][j+1][\"value\"]:\n",
    "                valid_assistant_turns.append(j+1)\n",
    "            elif j+1 < len(d[\"conversations\"]) and d[\"conversations\"][j+1][\"from\"] == \"assistant\": # if not tool use but is assistant, record it as well\n",
    "                tool_available_turns.append(j+1)\n",
    "    if len(valid_assistant_turns) > 0:\n",
    "        valid_assistant_count += 1\n",
    "        random_idx = np.random.choice(valid_assistant_turns)\n",
    "    elif len(tool_available_turns) > 0:\n",
    "        valid_tool_count += 1\n",
    "        random_idx = np.random.choice(tool_available_turns)\n",
    "    else:\n",
    "        continue\n",
    "    new_conversations = d[\"conversations\"][:random_idx+1] # take until that turn, the last assistant will be the one that the model needs to predict\n",
    "    d_copy = d.copy()\n",
    "    d_copy[\"conversations\"] = new_conversations\n",
    "    new_data.append(d_copy)\n",
    "\n",
    "print (len(new_data), valid_assistant_count, valid_tool_count)\n",
    "            \n",
    "            \n",
    "            "
   ]
  },
  {
   "cell_type": "code",
   "execution_count": null,
   "id": "dfa26818",
   "metadata": {},
   "outputs": [],
   "source": []
  }
 ],
 "metadata": {
  "kernelspec": {
   "display_name": "cot",
   "language": "python",
   "name": "python3"
  },
  "language_info": {
   "codemirror_mode": {
    "name": "ipython",
    "version": 3
   },
   "file_extension": ".py",
   "mimetype": "text/x-python",
   "name": "python",
   "nbconvert_exporter": "python",
   "pygments_lexer": "ipython3",
   "version": "3.10.0"
  }
 },
 "nbformat": 4,
 "nbformat_minor": 5
}
