{
 "cells": [
  {
   "cell_type": "code",
   "execution_count": 1,
   "id": "809db26e",
   "metadata": {},
   "outputs": [
    {
     "name": "stdout",
     "output_type": "stream",
     "text": [
      "Warning: The cache directory for DeepSpeed Triton autotune, /export/home2/weijie210/.triton/autotune, appears to be on an NFS system. While this is generally acceptable, if you experience slowdowns or hanging when DeepSpeed exits, it is recommended to set the TRITON_CACHE_DIR environment variable to a non-NFS path.\n"
     ]
    },
    {
     "name": "stderr",
     "output_type": "stream",
     "text": [
      "/export/home2/weijie210/miniconda3/envs/ipi_hw/compiler_compat/ld: cannot find -laio: No such file or directory\n",
      "collect2: error: ld returned 1 exit status\n",
      "/export/home2/weijie210/miniconda3/envs/ipi_hw/compiler_compat/ld: warning: librt.so.1, needed by /cm/shared/apps/cuda12.8/toolkit/12.8.1/lib64/libcufile.so, not found (try using -rpath or -rpath-link)\n",
      "/export/home2/weijie210/miniconda3/envs/ipi_hw/compiler_compat/ld: warning: libpthread.so.0, needed by /cm/shared/apps/cuda12.8/toolkit/12.8.1/lib64/libcufile.so, not found (try using -rpath or -rpath-link)\n",
      "/export/home2/weijie210/miniconda3/envs/ipi_hw/compiler_compat/ld: warning: libstdc++.so.6, needed by /cm/shared/apps/cuda12.8/toolkit/12.8.1/lib64/libcufile.so, not found (try using -rpath or -rpath-link)\n",
      "/export/home2/weijie210/miniconda3/envs/ipi_hw/compiler_compat/ld: warning: libm.so.6, needed by /cm/shared/apps/cuda12.8/toolkit/12.8.1/lib64/libcufile.so, not found (try using -rpath or -rpath-link)\n",
      "/export/home2/weijie210/miniconda3/envs/ipi_hw/compiler_compat/ld: /cm/shared/apps/cuda12.8/toolkit/12.8.1/lib64/libcufile.so: undefined reference to `std::runtime_error::~runtime_error()@GLIBCXX_3.4'\n",
      "/export/home2/weijie210/miniconda3/envs/ipi_hw/compiler_compat/ld: /cm/shared/apps/cuda12.8/toolkit/12.8.1/lib64/libcufile.so: undefined reference to `__gxx_personality_v0@CXXABI_1.3'\n",
      "/export/home2/weijie210/miniconda3/envs/ipi_hw/compiler_compat/ld: /cm/shared/apps/cuda12.8/toolkit/12.8.1/lib64/libcufile.so: undefined reference to `std::ostream::tellp()@GLIBCXX_3.4'\n",
      "/export/home2/weijie210/miniconda3/envs/ipi_hw/compiler_compat/ld: /cm/shared/apps/cuda12.8/toolkit/12.8.1/lib64/libcufile.so: undefined reference to `std::chrono::_V2::steady_clock::now()@GLIBCXX_3.4.19'\n",
      "/export/home2/weijie210/miniconda3/envs/ipi_hw/compiler_compat/ld: /cm/shared/apps/cuda12.8/toolkit/12.8.1/lib64/libcufile.so: undefined reference to `std::string::_M_replace_aux(unsigned long, unsigned long, unsigned long, char)@GLIBCXX_3.4'\n",
      "/export/home2/weijie210/miniconda3/envs/ipi_hw/compiler_compat/ld: /cm/shared/apps/cuda12.8/toolkit/12.8.1/lib64/libcufile.so: undefined reference to `typeinfo for bool@CXXABI_1.3'\n",
      "/export/home2/weijie210/miniconda3/envs/ipi_hw/compiler_compat/ld: /cm/shared/apps/cuda12.8/toolkit/12.8.1/lib64/libcufile.so: undefined reference to `std::__throw_logic_error(char const*)@GLIBCXX_3.4'\n",
      "/export/home2/weijie210/miniconda3/envs/ipi_hw/compiler_compat/ld: /cm/shared/apps/cuda12.8/toolkit/12.8.1/lib64/libcufile.so: undefined reference to `VTT for std::basic_ostringstream<char, std::char_traits<char>, std::allocator<char> >@GLIBCXX_3.4'\n",
      "/export/home2/weijie210/miniconda3/envs/ipi_hw/compiler_compat/ld: /cm/shared/apps/cuda12.8/toolkit/12.8.1/lib64/libcufile.so: undefined reference to `vtable for std::logic_error@GLIBCXX_3.4'\n",
      "/export/home2/weijie210/miniconda3/envs/ipi_hw/compiler_compat/ld: /cm/shared/apps/cuda12.8/toolkit/12.8.1/lib64/libcufile.so: undefined reference to `std::locale::~locale()@GLIBCXX_3.4'\n",
      "/export/home2/weijie210/miniconda3/envs/ipi_hw/compiler_compat/ld: /cm/shared/apps/cuda12.8/toolkit/12.8.1/lib64/libcufile.so: undefined reference to `std::basic_string<char, std::char_traits<char>, std::allocator<char> >::basic_string(std::string const&, unsigned long, unsigned long)@GLIBCXX_3.4'\n",
      "/export/home2/weijie210/miniconda3/envs/ipi_hw/compiler_compat/ld: /cm/shared/apps/cuda12.8/toolkit/12.8.1/lib64/libcufile.so: undefined reference to `__cxa_end_catch@CXXABI_1.3'\n",
      "/export/home2/weijie210/miniconda3/envs/ipi_hw/compiler_compat/ld: /cm/shared/apps/cuda12.8/toolkit/12.8.1/lib64/libcufile.so: undefined reference to `VTT for std::basic_ofstream<char, std::char_traits<char> >@GLIBCXX_3.4'\n",
      "/export/home2/weijie210/miniconda3/envs/ipi_hw/compiler_compat/ld: /cm/shared/apps/cuda12.8/toolkit/12.8.1/lib64/libcufile.so: undefined reference to `std::logic_error::~logic_error()@GLIBCXX_3.4'\n",
      "/export/home2/weijie210/miniconda3/envs/ipi_hw/compiler_compat/ld: /cm/shared/apps/cuda12.8/toolkit/12.8.1/lib64/libcufile.so: undefined reference to `vtable for __cxxabiv1::__si_class_type_info@CXXABI_1.3'\n",
      "/export/home2/weijie210/miniconda3/envs/ipi_hw/compiler_compat/ld: /cm/shared/apps/cuda12.8/toolkit/12.8.1/lib64/libcufile.so: undefined reference to `std::basic_ios<char, std::char_traits<char> >::_M_cache_locale(std::locale const&)@GLIBCXX_3.4'\n",
      "/export/home2/weijie210/miniconda3/envs/ipi_hw/compiler_compat/ld: /cm/shared/apps/cuda12.8/toolkit/12.8.1/lib64/libcufile.so: undefined reference to `VTT for std::basic_stringstream<char, std::char_traits<char>, std::allocator<char> >@GLIBCXX_3.4'\n",
      "/export/home2/weijie210/miniconda3/envs/ipi_hw/compiler_compat/ld: /cm/shared/apps/cuda12.8/toolkit/12.8.1/lib64/libcufile.so: undefined reference to `operator new[](unsigned long)@GLIBCXX_3.4'\n",
      "/export/home2/weijie210/miniconda3/envs/ipi_hw/compiler_compat/ld: /cm/shared/apps/cuda12.8/toolkit/12.8.1/lib64/libcufile.so: undefined reference to `std::string::_M_leak_hard()@GLIBCXX_3.4'\n",
      "/export/home2/weijie210/miniconda3/envs/ipi_hw/compiler_compat/ld: /cm/shared/apps/cuda12.8/toolkit/12.8.1/lib64/libcufile.so: undefined reference to `vtable for std::basic_ifstream<char, std::char_traits<char> >@GLIBCXX_3.4'\n",
      "/export/home2/weijie210/miniconda3/envs/ipi_hw/compiler_compat/ld: /cm/shared/apps/cuda12.8/toolkit/12.8.1/lib64/libcufile.so: undefined reference to `std::basic_streambuf<wchar_t, std::char_traits<wchar_t> >::basic_streambuf(std::basic_streambuf<wchar_t, std::char_traits<wchar_t> > const&)@GLIBCXX_3.4'\n",
      "/export/home2/weijie210/miniconda3/envs/ipi_hw/compiler_compat/ld: /cm/shared/apps/cuda12.8/toolkit/12.8.1/lib64/libcufile.so: undefined reference to `std::string::append(char const*, unsigned long)@GLIBCXX_3.4'\n",
      "/export/home2/weijie210/miniconda3/envs/ipi_hw/compiler_compat/ld: /cm/shared/apps/cuda12.8/toolkit/12.8.1/lib64/libcufile.so: undefined reference to `std::basic_string<char, std::char_traits<char>, std::allocator<char> >::basic_string(std::string const&)@GLIBCXX_3.4'\n",
      "/export/home2/weijie210/miniconda3/envs/ipi_hw/compiler_compat/ld: /cm/shared/apps/cuda12.8/toolkit/12.8.1/lib64/libcufile.so: undefined reference to `typeinfo for unsigned short@CXXABI_1.3'\n",
      "/export/home2/weijie210/miniconda3/envs/ipi_hw/compiler_compat/ld: /cm/shared/apps/cuda12.8/toolkit/12.8.1/lib64/libcufile.so: undefined reference to `std::string::resize(unsigned long, char)@GLIBCXX_3.4'\n",
      "/export/home2/weijie210/miniconda3/envs/ipi_hw/compiler_compat/ld: /cm/shared/apps/cuda12.8/toolkit/12.8.1/lib64/libcufile.so: undefined reference to `typeinfo for char const*@CXXABI_1.3'\n",
      "/export/home2/weijie210/miniconda3/envs/ipi_hw/compiler_compat/ld: /cm/shared/apps/cuda12.8/toolkit/12.8.1/lib64/libcufile.so: undefined reference to `std::ctype<char>::_M_widen_init() const@GLIBCXX_3.4.11'\n",
      "/export/home2/weijie210/miniconda3/envs/ipi_hw/compiler_compat/ld: /cm/shared/apps/cuda12.8/toolkit/12.8.1/lib64/libcufile.so: undefined reference to `std::__throw_invalid_argument(char const*)@GLIBCXX_3.4'\n",
      "/export/home2/weijie210/miniconda3/envs/ipi_hw/compiler_compat/ld: /cm/shared/apps/cuda12.8/toolkit/12.8.1/lib64/libcufile.so: undefined reference to `std::locale::operator=(std::locale const&)@GLIBCXX_3.4'\n",
      "/export/home2/weijie210/miniconda3/envs/ipi_hw/compiler_compat/ld: /cm/shared/apps/cuda12.8/toolkit/12.8.1/lib64/libcufile.so: undefined reference to `std::basic_ios<wchar_t, std::char_traits<wchar_t> >::_M_cache_locale(std::locale const&)@GLIBCXX_3.4'\n",
      "/export/home2/weijie210/miniconda3/envs/ipi_hw/compiler_compat/ld: /cm/shared/apps/cuda12.8/toolkit/12.8.1/lib64/libcufile.so: undefined reference to `std::_Rb_tree_decrement(std::_Rb_tree_node_base const*)@GLIBCXX_3.4'\n",
      "/export/home2/weijie210/miniconda3/envs/ipi_hw/compiler_compat/ld: /cm/shared/apps/cuda12.8/toolkit/12.8.1/lib64/libcufile.so: undefined reference to `__cxa_free_exception@CXXABI_1.3'\n",
      "/export/home2/weijie210/miniconda3/envs/ipi_hw/compiler_compat/ld: /cm/shared/apps/cuda12.8/toolkit/12.8.1/lib64/libcufile.so: undefined reference to `std::condition_variable::notify_one()@GLIBCXX_3.4.11'\n",
      "/export/home2/weijie210/miniconda3/envs/ipi_hw/compiler_compat/ld: /cm/shared/apps/cuda12.8/toolkit/12.8.1/lib64/libcufile.so: undefined reference to `std::ios_base::Init::~Init()@GLIBCXX_3.4'\n",
      "/export/home2/weijie210/miniconda3/envs/ipi_hw/compiler_compat/ld: /cm/shared/apps/cuda12.8/toolkit/12.8.1/lib64/libcufile.so: undefined reference to `std::basic_string<char, std::char_traits<char>, std::allocator<char> >::~basic_string()@GLIBCXX_3.4'\n",
      "/export/home2/weijie210/miniconda3/envs/ipi_hw/compiler_compat/ld: /cm/shared/apps/cuda12.8/toolkit/12.8.1/lib64/libcufile.so: undefined reference to `__cxa_pure_virtual@CXXABI_1.3'\n",
      "/export/home2/weijie210/miniconda3/envs/ipi_hw/compiler_compat/ld: /cm/shared/apps/cuda12.8/toolkit/12.8.1/lib64/libcufile.so: undefined reference to `std::ostream::flush()@GLIBCXX_3.4'\n",
      "/export/home2/weijie210/miniconda3/envs/ipi_hw/compiler_compat/ld: /cm/shared/apps/cuda12.8/toolkit/12.8.1/lib64/libcufile.so: undefined reference to `vtable for __cxxabiv1::__class_type_info@CXXABI_1.3'\n",
      "/export/home2/weijie210/miniconda3/envs/ipi_hw/compiler_compat/ld: /cm/shared/apps/cuda12.8/toolkit/12.8.1/lib64/libcufile.so: undefined reference to `__cxa_rethrow@CXXABI_1.3'\n",
      "/export/home2/weijie210/miniconda3/envs/ipi_hw/compiler_compat/ld: /cm/shared/apps/cuda12.8/toolkit/12.8.1/lib64/libcufile.so: undefined reference to `vtable for std::basic_stringbuf<char, std::char_traits<char>, std::allocator<char> >@GLIBCXX_3.4'\n",
      "/export/home2/weijie210/miniconda3/envs/ipi_hw/compiler_compat/ld: /cm/shared/apps/cuda12.8/toolkit/12.8.1/lib64/libcufile.so: undefined reference to `std::basic_fstream<char, std::char_traits<char> >::~basic_fstream()@GLIBCXX_3.4'\n",
      "/export/home2/weijie210/miniconda3/envs/ipi_hw/compiler_compat/ld: /cm/shared/apps/cuda12.8/toolkit/12.8.1/lib64/libcufile.so: undefined reference to `std::string::compare(char const*) const@GLIBCXX_3.4'\n",
      "/export/home2/weijie210/miniconda3/envs/ipi_hw/compiler_compat/ld: /cm/shared/apps/cuda12.8/toolkit/12.8.1/lib64/libcufile.so: undefined reference to `VTT for std::basic_ostringstream<wchar_t, std::char_traits<wchar_t>, std::allocator<wchar_t> >@GLIBCXX_3.4'\n",
      "/export/home2/weijie210/miniconda3/envs/ipi_hw/compiler_compat/ld: /cm/shared/apps/cuda12.8/toolkit/12.8.1/lib64/libcufile.so: undefined reference to `std::locale::locale()@GLIBCXX_3.4'\n",
      "/export/home2/weijie210/miniconda3/envs/ipi_hw/compiler_compat/ld: /cm/shared/apps/cuda12.8/toolkit/12.8.1/lib64/libcufile.so: undefined reference to `std::chrono::_V2::system_clock::now()@GLIBCXX_3.4.19'\n",
      "/export/home2/weijie210/miniconda3/envs/ipi_hw/compiler_compat/ld: /cm/shared/apps/cuda12.8/toolkit/12.8.1/lib64/libcufile.so: undefined reference to `VTT for std::basic_ifstream<char, std::char_traits<char> >@GLIBCXX_3.4'\n",
      "/export/home2/weijie210/miniconda3/envs/ipi_hw/compiler_compat/ld: /cm/shared/apps/cuda12.8/toolkit/12.8.1/lib64/libcufile.so: undefined reference to `std::_Hash_bytes(void const*, unsigned long, unsigned long)@CXXABI_1.3.5'\n",
      "/export/home2/weijie210/miniconda3/envs/ipi_hw/compiler_compat/ld: /cm/shared/apps/cuda12.8/toolkit/12.8.1/lib64/libcufile.so: undefined reference to `std::ostream& std::ostream::_M_insert<long long>(long long)@GLIBCXX_3.4.9'\n",
      "/export/home2/weijie210/miniconda3/envs/ipi_hw/compiler_compat/ld: /cm/shared/apps/cuda12.8/toolkit/12.8.1/lib64/libcufile.so: undefined reference to `typeinfo for char*@CXXABI_1.3'\n",
      "/export/home2/weijie210/miniconda3/envs/ipi_hw/compiler_compat/ld: /cm/shared/apps/cuda12.8/toolkit/12.8.1/lib64/libcufile.so: undefined reference to `std::__detail::_Prime_rehash_policy::_M_need_rehash(unsigned long, unsigned long, unsigned long) const@GLIBCXX_3.4.18'\n",
      "/export/home2/weijie210/miniconda3/envs/ipi_hw/compiler_compat/ld: /cm/shared/apps/cuda12.8/toolkit/12.8.1/lib64/libcufile.so: undefined reference to `vtable for std::out_of_range@GLIBCXX_3.4'\n",
      "/export/home2/weijie210/miniconda3/envs/ipi_hw/compiler_compat/ld: /cm/shared/apps/cuda12.8/toolkit/12.8.1/lib64/libcufile.so: undefined reference to `std::ostream& std::ostream::_M_insert<unsigned long>(unsigned long)@GLIBCXX_3.4.9'\n",
      "/export/home2/weijie210/miniconda3/envs/ipi_hw/compiler_compat/ld: /cm/shared/apps/cuda12.8/toolkit/12.8.1/lib64/libcufile.so: undefined reference to `std::_Rb_tree_increment(std::_Rb_tree_node_base const*)@GLIBCXX_3.4'\n",
      "/export/home2/weijie210/miniconda3/envs/ipi_hw/compiler_compat/ld: /cm/shared/apps/cuda12.8/toolkit/12.8.1/lib64/libcufile.so: undefined reference to `std::ios_base::~ios_base()@GLIBCXX_3.4'\n",
      "/export/home2/weijie210/miniconda3/envs/ipi_hw/compiler_compat/ld: /cm/shared/apps/cuda12.8/toolkit/12.8.1/lib64/libcufile.so: undefined reference to `std::range_error::~range_error()@GLIBCXX_3.4'\n",
      "/export/home2/weijie210/miniconda3/envs/ipi_hw/compiler_compat/ld: /cm/shared/apps/cuda12.8/toolkit/12.8.1/lib64/libcufile.so: undefined reference to `std::__basic_file<char>::~__basic_file()@GLIBCXX_3.4'\n",
      "/export/home2/weijie210/miniconda3/envs/ipi_hw/compiler_compat/ld: /cm/shared/apps/cuda12.8/toolkit/12.8.1/lib64/libcufile.so: undefined reference to `__cxa_guard_acquire@CXXABI_1.3'\n",
      "/export/home2/weijie210/miniconda3/envs/ipi_hw/compiler_compat/ld: /cm/shared/apps/cuda12.8/toolkit/12.8.1/lib64/libcufile.so: undefined reference to `std::ostream& std::ostream::_M_insert<bool>(bool)@GLIBCXX_3.4.9'\n",
      "/export/home2/weijie210/miniconda3/envs/ipi_hw/compiler_compat/ld: /cm/shared/apps/cuda12.8/toolkit/12.8.1/lib64/libcufile.so: undefined reference to `vtable for std::overflow_error@GLIBCXX_3.4'\n",
      "/export/home2/weijie210/miniconda3/envs/ipi_hw/compiler_compat/ld: /cm/shared/apps/cuda12.8/toolkit/12.8.1/lib64/libcufile.so: undefined reference to `VTT for std::basic_fstream<char, std::char_traits<char> >@GLIBCXX_3.4'\n",
      "/export/home2/weijie210/miniconda3/envs/ipi_hw/compiler_compat/ld: /cm/shared/apps/cuda12.8/toolkit/12.8.1/lib64/libcufile.so: undefined reference to `vtable for std::range_error@GLIBCXX_3.4'\n",
      "/export/home2/weijie210/miniconda3/envs/ipi_hw/compiler_compat/ld: /cm/shared/apps/cuda12.8/toolkit/12.8.1/lib64/libcufile.so: undefined reference to `vtable for std::basic_ios<char, std::char_traits<char> >@GLIBCXX_3.4'\n",
      "/export/home2/weijie210/miniconda3/envs/ipi_hw/compiler_compat/ld: /cm/shared/apps/cuda12.8/toolkit/12.8.1/lib64/libcufile.so: undefined reference to `vtable for std::basic_filebuf<char, std::char_traits<char> >@GLIBCXX_3.4'\n",
      "/export/home2/weijie210/miniconda3/envs/ipi_hw/compiler_compat/ld: /cm/shared/apps/cuda12.8/toolkit/12.8.1/lib64/libcufile.so: undefined reference to `operator delete[](void*)@GLIBCXX_3.4'\n",
      "/export/home2/weijie210/miniconda3/envs/ipi_hw/compiler_compat/ld: /cm/shared/apps/cuda12.8/toolkit/12.8.1/lib64/libcufile.so: undefined reference to `vtable for std::basic_stringstream<char, std::char_traits<char>, std::allocator<char> >@GLIBCXX_3.4'\n",
      "/export/home2/weijie210/miniconda3/envs/ipi_hw/compiler_compat/ld: /cm/shared/apps/cuda12.8/toolkit/12.8.1/lib64/libcufile.so: undefined reference to `std::basic_string<char, std::char_traits<char>, std::allocator<char> >::basic_string(unsigned long, char, std::allocator<char> const&)@GLIBCXX_3.4'\n",
      "/export/home2/weijie210/miniconda3/envs/ipi_hw/compiler_compat/ld: /cm/shared/apps/cuda12.8/toolkit/12.8.1/lib64/libcufile.so: undefined reference to `std::__detail::_List_node_base::_M_transfer(std::__detail::_List_node_base*, std::__detail::_List_node_base*)@GLIBCXX_3.4.15'\n",
      "/export/home2/weijie210/miniconda3/envs/ipi_hw/compiler_compat/ld: /cm/shared/apps/cuda12.8/toolkit/12.8.1/lib64/libcufile.so: undefined reference to `std::string::replace(unsigned long, unsigned long, char const*, unsigned long)@GLIBCXX_3.4'\n",
      "/export/home2/weijie210/miniconda3/envs/ipi_hw/compiler_compat/ld: /cm/shared/apps/cuda12.8/toolkit/12.8.1/lib64/libcufile.so: undefined reference to `typeinfo for std::exception@GLIBCXX_3.4'\n",
      "/export/home2/weijie210/miniconda3/envs/ipi_hw/compiler_compat/ld: /cm/shared/apps/cuda12.8/toolkit/12.8.1/lib64/libcufile.so: undefined reference to `std::basic_string<wchar_t, std::char_traits<wchar_t>, std::allocator<wchar_t> >::_Rep::_M_destroy(std::allocator<wchar_t> const&)@GLIBCXX_3.4'\n",
      "/export/home2/weijie210/miniconda3/envs/ipi_hw/compiler_compat/ld: /cm/shared/apps/cuda12.8/toolkit/12.8.1/lib64/libcufile.so: undefined reference to `std::istream& std::istream::_M_extract<double>(double&)@GLIBCXX_3.4.9'\n",
      "/export/home2/weijie210/miniconda3/envs/ipi_hw/compiler_compat/ld: /cm/shared/apps/cuda12.8/toolkit/12.8.1/lib64/libcufile.so: undefined reference to `std::basic_filebuf<char, std::char_traits<char> >::close()@GLIBCXX_3.4'\n",
      "/export/home2/weijie210/miniconda3/envs/ipi_hw/compiler_compat/ld: /cm/shared/apps/cuda12.8/toolkit/12.8.1/lib64/libcufile.so: undefined reference to `vtable for std::basic_fstream<char, std::char_traits<char> >@GLIBCXX_3.4'\n",
      "/export/home2/weijie210/miniconda3/envs/ipi_hw/compiler_compat/ld: /cm/shared/apps/cuda12.8/toolkit/12.8.1/lib64/libcufile.so: undefined reference to `std::basic_ifstream<char, std::char_traits<char> >::basic_ifstream(char const*, std::_Ios_Openmode)@GLIBCXX_3.4'\n",
      "/export/home2/weijie210/miniconda3/envs/ipi_hw/compiler_compat/ld: /cm/shared/apps/cuda12.8/toolkit/12.8.1/lib64/libcufile.so: undefined reference to `std::string::append(std::string const&)@GLIBCXX_3.4'\n",
      "/export/home2/weijie210/miniconda3/envs/ipi_hw/compiler_compat/ld: /cm/shared/apps/cuda12.8/toolkit/12.8.1/lib64/libcufile.so: undefined reference to `operator new(unsigned long)@GLIBCXX_3.4'\n",
      "/export/home2/weijie210/miniconda3/envs/ipi_hw/compiler_compat/ld: /cm/shared/apps/cuda12.8/toolkit/12.8.1/lib64/libcufile.so: undefined reference to `VTT for std::basic_istringstream<wchar_t, std::char_traits<wchar_t>, std::allocator<wchar_t> >@GLIBCXX_3.4'\n",
      "/export/home2/weijie210/miniconda3/envs/ipi_hw/compiler_compat/ld: /cm/shared/apps/cuda12.8/toolkit/12.8.1/lib64/libcufile.so: undefined reference to `typeinfo for unsigned int@CXXABI_1.3'\n",
      "/export/home2/weijie210/miniconda3/envs/ipi_hw/compiler_compat/ld: /cm/shared/apps/cuda12.8/toolkit/12.8.1/lib64/libcufile.so: undefined reference to `std::string::append(char const*)@GLIBCXX_3.4'\n",
      "/export/home2/weijie210/miniconda3/envs/ipi_hw/compiler_compat/ld: /cm/shared/apps/cuda12.8/toolkit/12.8.1/lib64/libcufile.so: undefined reference to `vtable for std::domain_error@GLIBCXX_3.4'\n",
      "/export/home2/weijie210/miniconda3/envs/ipi_hw/compiler_compat/ld: /cm/shared/apps/cuda12.8/toolkit/12.8.1/lib64/libcufile.so: undefined reference to `std::string::find(char, unsigned long) const@GLIBCXX_3.4'\n",
      "/export/home2/weijie210/miniconda3/envs/ipi_hw/compiler_compat/ld: /cm/shared/apps/cuda12.8/toolkit/12.8.1/lib64/libcufile.so: undefined reference to `std::ostream::put(char)@GLIBCXX_3.4'\n",
      "/export/home2/weijie210/miniconda3/envs/ipi_hw/compiler_compat/ld: /cm/shared/apps/cuda12.8/toolkit/12.8.1/lib64/libcufile.so: undefined reference to `typeinfo for int@CXXABI_1.3'\n",
      "/export/home2/weijie210/miniconda3/envs/ipi_hw/compiler_compat/ld: /cm/shared/apps/cuda12.8/toolkit/12.8.1/lib64/libcufile.so: undefined reference to `std::__throw_bad_alloc()@GLIBCXX_3.4'\n",
      "/export/home2/weijie210/miniconda3/envs/ipi_hw/compiler_compat/ld: /cm/shared/apps/cuda12.8/toolkit/12.8.1/lib64/libcufile.so: undefined reference to `__cxa_thread_atexit@CXXABI_1.3.7'\n",
      "/export/home2/weijie210/miniconda3/envs/ipi_hw/compiler_compat/ld: /cm/shared/apps/cuda12.8/toolkit/12.8.1/lib64/libcufile.so: undefined reference to `typeinfo for unsigned int*@CXXABI_1.3'\n",
      "/export/home2/weijie210/miniconda3/envs/ipi_hw/compiler_compat/ld: /cm/shared/apps/cuda12.8/toolkit/12.8.1/lib64/libcufile.so: undefined reference to `std::_Rb_tree_increment(std::_Rb_tree_node_base*)@GLIBCXX_3.4'\n",
      "/export/home2/weijie210/miniconda3/envs/ipi_hw/compiler_compat/ld: /cm/shared/apps/cuda12.8/toolkit/12.8.1/lib64/libcufile.so: undefined reference to `std::basic_ifstream<char, std::char_traits<char> >::~basic_ifstream()@GLIBCXX_3.4'\n",
      "/export/home2/weijie210/miniconda3/envs/ipi_hw/compiler_compat/ld: /cm/shared/apps/cuda12.8/toolkit/12.8.1/lib64/libcufile.so: undefined reference to `std::ios_base::Init::Init()@GLIBCXX_3.4'\n",
      "/export/home2/weijie210/miniconda3/envs/ipi_hw/compiler_compat/ld: /cm/shared/apps/cuda12.8/toolkit/12.8.1/lib64/libcufile.so: undefined reference to `std::condition_variable::condition_variable()@GLIBCXX_3.4.11'\n",
      "/export/home2/weijie210/miniconda3/envs/ipi_hw/compiler_compat/ld: /cm/shared/apps/cuda12.8/toolkit/12.8.1/lib64/libcufile.so: undefined reference to `std::basic_filebuf<char, std::char_traits<char> >::basic_filebuf()@GLIBCXX_3.4'\n",
      "/export/home2/weijie210/miniconda3/envs/ipi_hw/compiler_compat/ld: /cm/shared/apps/cuda12.8/toolkit/12.8.1/lib64/libcufile.so: undefined reference to `VTT for std::basic_istringstream<char, std::char_traits<char>, std::allocator<char> >@GLIBCXX_3.4'\n",
      "/export/home2/weijie210/miniconda3/envs/ipi_hw/compiler_compat/ld: /cm/shared/apps/cuda12.8/toolkit/12.8.1/lib64/libcufile.so: undefined reference to `std::domain_error::~domain_error()@GLIBCXX_3.4'\n",
      "/export/home2/weijie210/miniconda3/envs/ipi_hw/compiler_compat/ld: /cm/shared/apps/cuda12.8/toolkit/12.8.1/lib64/libcufile.so: undefined reference to `std::cerr@GLIBCXX_3.4'\n",
      "/export/home2/weijie210/miniconda3/envs/ipi_hw/compiler_compat/ld: /cm/shared/apps/cuda12.8/toolkit/12.8.1/lib64/libcufile.so: undefined reference to `std::string::find(char const*, unsigned long, unsigned long) const@GLIBCXX_3.4'\n",
      "/export/home2/weijie210/miniconda3/envs/ipi_hw/compiler_compat/ld: /cm/shared/apps/cuda12.8/toolkit/12.8.1/lib64/libcufile.so: undefined reference to `vtable for std::basic_istringstream<char, std::char_traits<char>, std::allocator<char> >@GLIBCXX_3.4'\n",
      "/export/home2/weijie210/miniconda3/envs/ipi_hw/compiler_compat/ld: /cm/shared/apps/cuda12.8/toolkit/12.8.1/lib64/libcufile.so: undefined reference to `std::basic_string<char, std::char_traits<char>, std::allocator<char> >::basic_string(std::allocator<char> const&)@GLIBCXX_3.4'\n",
      "/export/home2/weijie210/miniconda3/envs/ipi_hw/compiler_compat/ld: /cm/shared/apps/cuda12.8/toolkit/12.8.1/lib64/libcufile.so: undefined reference to `std::basic_stringbuf<char, std::char_traits<char>, std::allocator<char> >::str() const@GLIBCXX_3.4'\n",
      "/export/home2/weijie210/miniconda3/envs/ipi_hw/compiler_compat/ld: /cm/shared/apps/cuda12.8/toolkit/12.8.1/lib64/libcufile.so: undefined reference to `vtable for std::invalid_argument@GLIBCXX_3.4'\n",
      "/export/home2/weijie210/miniconda3/envs/ipi_hw/compiler_compat/ld: /cm/shared/apps/cuda12.8/toolkit/12.8.1/lib64/libcufile.so: undefined reference to `typeinfo for void*@CXXABI_1.3'\n",
      "/export/home2/weijie210/miniconda3/envs/ipi_hw/compiler_compat/ld: /cm/shared/apps/cuda12.8/toolkit/12.8.1/lib64/libcufile.so: undefined reference to `std::string::assign(std::string const&)@GLIBCXX_3.4'\n",
      "/export/home2/weijie210/miniconda3/envs/ipi_hw/compiler_compat/ld: /cm/shared/apps/cuda12.8/toolkit/12.8.1/lib64/libcufile.so: undefined reference to `std::basic_ostringstream<char, std::char_traits<char>, std::allocator<char> >::~basic_ostringstream()@GLIBCXX_3.4'\n",
      "/export/home2/weijie210/miniconda3/envs/ipi_hw/compiler_compat/ld: /cm/shared/apps/cuda12.8/toolkit/12.8.1/lib64/libcufile.so: undefined reference to `std::_Rb_tree_rebalance_for_erase(std::_Rb_tree_node_base*, std::_Rb_tree_node_base&)@GLIBCXX_3.4'\n",
      "/export/home2/weijie210/miniconda3/envs/ipi_hw/compiler_compat/ld: /cm/shared/apps/cuda12.8/toolkit/12.8.1/lib64/libcufile.so: undefined reference to `typeinfo for unsigned long@CXXABI_1.3'\n",
      "/export/home2/weijie210/miniconda3/envs/ipi_hw/compiler_compat/ld: /cm/shared/apps/cuda12.8/toolkit/12.8.1/lib64/libcufile.so: undefined reference to `std::__detail::_List_node_base::_M_hook(std::__detail::_List_node_base*)@GLIBCXX_3.4.15'\n",
      "/export/home2/weijie210/miniconda3/envs/ipi_hw/compiler_compat/ld: /cm/shared/apps/cuda12.8/toolkit/12.8.1/lib64/libcufile.so: undefined reference to `std::__detail::_List_node_base::_M_unhook()@GLIBCXX_3.4.15'\n",
      "/export/home2/weijie210/miniconda3/envs/ipi_hw/compiler_compat/ld: /cm/shared/apps/cuda12.8/toolkit/12.8.1/lib64/libcufile.so: undefined reference to `vtable for std::basic_ostringstream<wchar_t, std::char_traits<wchar_t>, std::allocator<wchar_t> >@GLIBCXX_3.4'\n",
      "/export/home2/weijie210/miniconda3/envs/ipi_hw/compiler_compat/ld: /cm/shared/apps/cuda12.8/toolkit/12.8.1/lib64/libcufile.so: undefined reference to `std::basic_stringbuf<char, std::char_traits<char>, std::allocator<char> >::_M_sync(char*, unsigned long, unsigned long)@GLIBCXX_3.4'\n",
      "/export/home2/weijie210/miniconda3/envs/ipi_hw/compiler_compat/ld: /cm/shared/apps/cuda12.8/toolkit/12.8.1/lib64/libcufile.so: undefined reference to `std::basic_iostream<char, std::char_traits<char> >::~basic_iostream()@GLIBCXX_3.4'\n",
      "/export/home2/weijie210/miniconda3/envs/ipi_hw/compiler_compat/ld: /cm/shared/apps/cuda12.8/toolkit/12.8.1/lib64/libcufile.so: undefined reference to `std::locale::locale(std::locale const&)@GLIBCXX_3.4'\n",
      "/export/home2/weijie210/miniconda3/envs/ipi_hw/compiler_compat/ld: /cm/shared/apps/cuda12.8/toolkit/12.8.1/lib64/libcufile.so: undefined reference to `vtable for std::basic_istringstream<wchar_t, std::char_traits<wchar_t>, std::allocator<wchar_t> >@GLIBCXX_3.4'\n",
      "/export/home2/weijie210/miniconda3/envs/ipi_hw/compiler_compat/ld: /cm/shared/apps/cuda12.8/toolkit/12.8.1/lib64/libcufile.so: undefined reference to `log2f@GLIBC_2.2.5'\n",
      "/export/home2/weijie210/miniconda3/envs/ipi_hw/compiler_compat/ld: /cm/shared/apps/cuda12.8/toolkit/12.8.1/lib64/libcufile.so: undefined reference to `std::ostream::operator<<(std::basic_streambuf<char, std::char_traits<char> >*)@GLIBCXX_3.4'\n",
      "/export/home2/weijie210/miniconda3/envs/ipi_hw/compiler_compat/ld: /cm/shared/apps/cuda12.8/toolkit/12.8.1/lib64/libcufile.so: undefined reference to `vtable for std::basic_streambuf<wchar_t, std::char_traits<wchar_t> >@GLIBCXX_3.4'\n",
      "/export/home2/weijie210/miniconda3/envs/ipi_hw/compiler_compat/ld: /cm/shared/apps/cuda12.8/toolkit/12.8.1/lib64/libcufile.so: undefined reference to `std::exception::~exception()@GLIBCXX_3.4'\n",
      "/export/home2/weijie210/miniconda3/envs/ipi_hw/compiler_compat/ld: /cm/shared/apps/cuda12.8/toolkit/12.8.1/lib64/libcufile.so: undefined reference to `std::string::_Rep::_S_create(unsigned long, unsigned long, std::allocator<char> const&)@GLIBCXX_3.4'\n",
      "/export/home2/weijie210/miniconda3/envs/ipi_hw/compiler_compat/ld: /cm/shared/apps/cuda12.8/toolkit/12.8.1/lib64/libcufile.so: undefined reference to `std::__basic_file<char>::is_open() const@GLIBCXX_3.4'\n",
      "/export/home2/weijie210/miniconda3/envs/ipi_hw/compiler_compat/ld: /cm/shared/apps/cuda12.8/toolkit/12.8.1/lib64/libcufile.so: undefined reference to `std::basic_istringstream<char, std::char_traits<char>, std::allocator<char> >::~basic_istringstream()@GLIBCXX_3.4'\n",
      "/export/home2/weijie210/miniconda3/envs/ipi_hw/compiler_compat/ld: /cm/shared/apps/cuda12.8/toolkit/12.8.1/lib64/libcufile.so: undefined reference to `std::string::swap(std::string&)@GLIBCXX_3.4'\n",
      "/export/home2/weijie210/miniconda3/envs/ipi_hw/compiler_compat/ld: /cm/shared/apps/cuda12.8/toolkit/12.8.1/lib64/libcufile.so: undefined reference to `vtable for std::basic_ostringstream<char, std::char_traits<char>, std::allocator<char> >@GLIBCXX_3.4'\n",
      "/export/home2/weijie210/miniconda3/envs/ipi_hw/compiler_compat/ld: /cm/shared/apps/cuda12.8/toolkit/12.8.1/lib64/libcufile.so: undefined reference to `std::basic_streambuf<char, std::char_traits<char> >::basic_streambuf(std::basic_streambuf<char, std::char_traits<char> > const&)@GLIBCXX_3.4'\n",
      "/export/home2/weijie210/miniconda3/envs/ipi_hw/compiler_compat/ld: /cm/shared/apps/cuda12.8/toolkit/12.8.1/lib64/libcufile.so: undefined reference to `std::basic_ios<char, std::char_traits<char> >::init(std::basic_streambuf<char, std::char_traits<char> >*)@GLIBCXX_3.4'\n",
      "/export/home2/weijie210/miniconda3/envs/ipi_hw/compiler_compat/ld: /cm/shared/apps/cuda12.8/toolkit/12.8.1/lib64/libcufile.so: undefined reference to `std::__throw_bad_cast()@GLIBCXX_3.4'\n",
      "/export/home2/weijie210/miniconda3/envs/ipi_hw/compiler_compat/ld: /cm/shared/apps/cuda12.8/toolkit/12.8.1/lib64/libcufile.so: undefined reference to `std::basic_ios<char, std::char_traits<char> >::clear(std::_Ios_Iostate)@GLIBCXX_3.4'\n",
      "/export/home2/weijie210/miniconda3/envs/ipi_hw/compiler_compat/ld: /cm/shared/apps/cuda12.8/toolkit/12.8.1/lib64/libcufile.so: undefined reference to `std::basic_streambuf<wchar_t, std::char_traits<wchar_t> >::operator=(std::basic_streambuf<wchar_t, std::char_traits<wchar_t> > const&)@GLIBCXX_3.4'\n",
      "/export/home2/weijie210/miniconda3/envs/ipi_hw/compiler_compat/ld: /cm/shared/apps/cuda12.8/toolkit/12.8.1/lib64/libcufile.so: undefined reference to `typeinfo for long*@CXXABI_1.3'\n",
      "/export/home2/weijie210/miniconda3/envs/ipi_hw/compiler_compat/ld: /cm/shared/apps/cuda12.8/toolkit/12.8.1/lib64/libcufile.so: undefined reference to `operator delete(void*)@GLIBCXX_3.4'\n",
      "/export/home2/weijie210/miniconda3/envs/ipi_hw/compiler_compat/ld: /cm/shared/apps/cuda12.8/toolkit/12.8.1/lib64/libcufile.so: undefined reference to `std::ostream::operator<<(int)@GLIBCXX_3.4'\n",
      "/export/home2/weijie210/miniconda3/envs/ipi_hw/compiler_compat/ld: /cm/shared/apps/cuda12.8/toolkit/12.8.1/lib64/libcufile.so: undefined reference to `std::string::_Rep::_S_empty_rep_storage@GLIBCXX_3.4'\n",
      "/export/home2/weijie210/miniconda3/envs/ipi_hw/compiler_compat/ld: /cm/shared/apps/cuda12.8/toolkit/12.8.1/lib64/libcufile.so: undefined reference to `std::string::_Rep::_M_destroy(std::allocator<char> const&)@GLIBCXX_3.4'\n",
      "/export/home2/weijie210/miniconda3/envs/ipi_hw/compiler_compat/ld: /cm/shared/apps/cuda12.8/toolkit/12.8.1/lib64/libcufile.so: undefined reference to `std::basic_iostream<wchar_t, std::char_traits<wchar_t> >::~basic_iostream()@GLIBCXX_3.4'\n",
      "/export/home2/weijie210/miniconda3/envs/ipi_hw/compiler_compat/ld: /cm/shared/apps/cuda12.8/toolkit/12.8.1/lib64/libcufile.so: undefined reference to `vtable for std::runtime_error@GLIBCXX_3.4'\n",
      "/export/home2/weijie210/miniconda3/envs/ipi_hw/compiler_compat/ld: /cm/shared/apps/cuda12.8/toolkit/12.8.1/lib64/libcufile.so: undefined reference to `vtable for std::basic_ofstream<char, std::char_traits<char> >@GLIBCXX_3.4'\n",
      "/export/home2/weijie210/miniconda3/envs/ipi_hw/compiler_compat/ld: /cm/shared/apps/cuda12.8/toolkit/12.8.1/lib64/libcufile.so: undefined reference to `std::_Rb_tree_insert_and_rebalance(bool, std::_Rb_tree_node_base*, std::_Rb_tree_node_base*, std::_Rb_tree_node_base&)@GLIBCXX_3.4'\n",
      "/export/home2/weijie210/miniconda3/envs/ipi_hw/compiler_compat/ld: /cm/shared/apps/cuda12.8/toolkit/12.8.1/lib64/libcufile.so: undefined reference to `std::basic_stringstream<char, std::char_traits<char>, std::allocator<char> >::~basic_stringstream()@GLIBCXX_3.4'\n",
      "/export/home2/weijie210/miniconda3/envs/ipi_hw/compiler_compat/ld: /cm/shared/apps/cuda12.8/toolkit/12.8.1/lib64/libcufile.so: undefined reference to `VTT for std::basic_stringstream<wchar_t, std::char_traits<wchar_t>, std::allocator<wchar_t> >@GLIBCXX_3.4'\n",
      "/export/home2/weijie210/miniconda3/envs/ipi_hw/compiler_compat/ld: /cm/shared/apps/cuda12.8/toolkit/12.8.1/lib64/libcufile.so: undefined reference to `std::ostream& std::ostream::_M_insert<long>(long)@GLIBCXX_3.4.9'\n",
      "/export/home2/weijie210/miniconda3/envs/ipi_hw/compiler_compat/ld: /cm/shared/apps/cuda12.8/toolkit/12.8.1/lib64/libcufile.so: undefined reference to `std::istream::get()@GLIBCXX_3.4'\n",
      "/export/home2/weijie210/miniconda3/envs/ipi_hw/compiler_compat/ld: /cm/shared/apps/cuda12.8/toolkit/12.8.1/lib64/libcufile.so: undefined reference to `typeinfo for unsigned long long@CXXABI_1.3'\n",
      "/export/home2/weijie210/miniconda3/envs/ipi_hw/compiler_compat/ld: /cm/shared/apps/cuda12.8/toolkit/12.8.1/lib64/libcufile.so: undefined reference to `std::basic_ostream<char, std::char_traits<char> >& std::operator<< <std::char_traits<char> >(std::basic_ostream<char, std::char_traits<char> >&, char const*)@GLIBCXX_3.4'\n",
      "/export/home2/weijie210/miniconda3/envs/ipi_hw/compiler_compat/ld: /cm/shared/apps/cuda12.8/toolkit/12.8.1/lib64/libcufile.so: undefined reference to `std::out_of_range::~out_of_range()@GLIBCXX_3.4'\n",
      "/export/home2/weijie210/miniconda3/envs/ipi_hw/compiler_compat/ld: /cm/shared/apps/cuda12.8/toolkit/12.8.1/lib64/libcufile.so: undefined reference to `std::length_error::~length_error()@GLIBCXX_3.4'\n",
      "/export/home2/weijie210/miniconda3/envs/ipi_hw/compiler_compat/ld: /cm/shared/apps/cuda12.8/toolkit/12.8.1/lib64/libcufile.so: undefined reference to `std::basic_ostream<char, std::char_traits<char> >& std::__ostream_insert<char, std::char_traits<char> >(std::basic_ostream<char, std::char_traits<char> >&, char const*, long)@GLIBCXX_3.4.9'\n",
      "/export/home2/weijie210/miniconda3/envs/ipi_hw/compiler_compat/ld: /cm/shared/apps/cuda12.8/toolkit/12.8.1/lib64/libcufile.so: undefined reference to `std::invalid_argument::~invalid_argument()@GLIBCXX_3.4'\n",
      "/export/home2/weijie210/miniconda3/envs/ipi_hw/compiler_compat/ld: /cm/shared/apps/cuda12.8/toolkit/12.8.1/lib64/libcufile.so: undefined reference to `std::basic_string<wchar_t, std::char_traits<wchar_t>, std::allocator<wchar_t> >::swap(std::basic_string<wchar_t, std::char_traits<wchar_t>, std::allocator<wchar_t> >&)@GLIBCXX_3.4'\n",
      "/export/home2/weijie210/miniconda3/envs/ipi_hw/compiler_compat/ld: /cm/shared/apps/cuda12.8/toolkit/12.8.1/lib64/libcufile.so: undefined reference to `std::cout@GLIBCXX_3.4'\n",
      "/export/home2/weijie210/miniconda3/envs/ipi_hw/compiler_compat/ld: /cm/shared/apps/cuda12.8/toolkit/12.8.1/lib64/libcufile.so: undefined reference to `std::ostream& std::ostream::_M_insert<unsigned long long>(unsigned long long)@GLIBCXX_3.4.9'\n",
      "/export/home2/weijie210/miniconda3/envs/ipi_hw/compiler_compat/ld: /cm/shared/apps/cuda12.8/toolkit/12.8.1/lib64/libcufile.so: undefined reference to `std::ostream& std::ostream::_M_insert<void const*>(void const*)@GLIBCXX_3.4.9'\n",
      "/export/home2/weijie210/miniconda3/envs/ipi_hw/compiler_compat/ld: /cm/shared/apps/cuda12.8/toolkit/12.8.1/lib64/libcufile.so: undefined reference to `vtable for std::underflow_error@GLIBCXX_3.4'\n",
      "/export/home2/weijie210/miniconda3/envs/ipi_hw/compiler_compat/ld: /cm/shared/apps/cuda12.8/toolkit/12.8.1/lib64/libcufile.so: undefined reference to `vtable for std::basic_streambuf<char, std::char_traits<char> >@GLIBCXX_3.4'\n",
      "/export/home2/weijie210/miniconda3/envs/ipi_hw/compiler_compat/ld: /cm/shared/apps/cuda12.8/toolkit/12.8.1/lib64/libcufile.so: undefined reference to `typeinfo for std::out_of_range@GLIBCXX_3.4'\n",
      "/export/home2/weijie210/miniconda3/envs/ipi_hw/compiler_compat/ld: /cm/shared/apps/cuda12.8/toolkit/12.8.1/lib64/libcufile.so: undefined reference to `__cxa_allocate_exception@CXXABI_1.3'\n",
      "/export/home2/weijie210/miniconda3/envs/ipi_hw/compiler_compat/ld: /cm/shared/apps/cuda12.8/toolkit/12.8.1/lib64/libcufile.so: undefined reference to `vtable for std::basic_ios<wchar_t, std::char_traits<wchar_t> >@GLIBCXX_3.4'\n",
      "/export/home2/weijie210/miniconda3/envs/ipi_hw/compiler_compat/ld: /cm/shared/apps/cuda12.8/toolkit/12.8.1/lib64/libcufile.so: undefined reference to `typeinfo for void const*@CXXABI_1.3'\n",
      "/export/home2/weijie210/miniconda3/envs/ipi_hw/compiler_compat/ld: /cm/shared/apps/cuda12.8/toolkit/12.8.1/lib64/libcufile.so: undefined reference to `std::basic_ios<wchar_t, std::char_traits<wchar_t> >::init(std::basic_streambuf<wchar_t, std::char_traits<wchar_t> >*)@GLIBCXX_3.4'\n",
      "/export/home2/weijie210/miniconda3/envs/ipi_hw/compiler_compat/ld: /cm/shared/apps/cuda12.8/toolkit/12.8.1/lib64/libcufile.so: undefined reference to `std::string::reserve(unsigned long)@GLIBCXX_3.4'\n",
      "/export/home2/weijie210/miniconda3/envs/ipi_hw/compiler_compat/ld: /cm/shared/apps/cuda12.8/toolkit/12.8.1/lib64/libcufile.so: undefined reference to `__cxa_begin_catch@CXXABI_1.3'\n",
      "/export/home2/weijie210/miniconda3/envs/ipi_hw/compiler_compat/ld: /cm/shared/apps/cuda12.8/toolkit/12.8.1/lib64/libcufile.so: undefined reference to `typeinfo for long@CXXABI_1.3'\n",
      "/export/home2/weijie210/miniconda3/envs/ipi_hw/compiler_compat/ld: /cm/shared/apps/cuda12.8/toolkit/12.8.1/lib64/libcufile.so: undefined reference to `std::basic_string<wchar_t, std::char_traits<wchar_t>, std::allocator<wchar_t> >::_Rep::_S_empty_rep_storage@GLIBCXX_3.4'\n",
      "/export/home2/weijie210/miniconda3/envs/ipi_hw/compiler_compat/ld: /cm/shared/apps/cuda12.8/toolkit/12.8.1/lib64/libcufile.so: undefined reference to `std::string::_M_leak()@GLIBCXX_3.4'\n",
      "/export/home2/weijie210/miniconda3/envs/ipi_hw/compiler_compat/ld: /cm/shared/apps/cuda12.8/toolkit/12.8.1/lib64/libcufile.so: undefined reference to `std::basic_filebuf<char, std::char_traits<char> >::open(char const*, std::_Ios_Openmode)@GLIBCXX_3.4'\n",
      "/export/home2/weijie210/miniconda3/envs/ipi_hw/compiler_compat/ld: /cm/shared/apps/cuda12.8/toolkit/12.8.1/lib64/libcufile.so: undefined reference to `std::basic_stringbuf<wchar_t, std::char_traits<wchar_t>, std::allocator<wchar_t> >::_M_sync(wchar_t*, unsigned long, unsigned long)@GLIBCXX_3.4'\n",
      "/export/home2/weijie210/miniconda3/envs/ipi_hw/compiler_compat/ld: /cm/shared/apps/cuda12.8/toolkit/12.8.1/lib64/libcufile.so: undefined reference to `std::istream::getline(char*, long, char)@GLIBCXX_3.4'\n",
      "/export/home2/weijie210/miniconda3/envs/ipi_hw/compiler_compat/ld: /cm/shared/apps/cuda12.8/toolkit/12.8.1/lib64/libcufile.so: undefined reference to `std::basic_istream<char, std::char_traits<char> >& std::getline<char, std::char_traits<char>, std::allocator<char> >(std::basic_istream<char, std::char_traits<char> >&, std::basic_string<char, std::char_traits<char>, std::allocator<char> >&, char)@GLIBCXX_3.4'\n",
      "/export/home2/weijie210/miniconda3/envs/ipi_hw/compiler_compat/ld: /cm/shared/apps/cuda12.8/toolkit/12.8.1/lib64/libcufile.so: undefined reference to `vtable for std::basic_stringstream<wchar_t, std::char_traits<wchar_t>, std::allocator<wchar_t> >@GLIBCXX_3.4'\n",
      "/export/home2/weijie210/miniconda3/envs/ipi_hw/compiler_compat/ld: /cm/shared/apps/cuda12.8/toolkit/12.8.1/lib64/libcufile.so: undefined reference to `std::condition_variable::~condition_variable()@GLIBCXX_3.4.11'\n",
      "/export/home2/weijie210/miniconda3/envs/ipi_hw/compiler_compat/ld: /cm/shared/apps/cuda12.8/toolkit/12.8.1/lib64/libcufile.so: undefined reference to `vtable for std::basic_stringbuf<wchar_t, std::char_traits<wchar_t>, std::allocator<wchar_t> >@GLIBCXX_3.4'\n",
      "/export/home2/weijie210/miniconda3/envs/ipi_hw/compiler_compat/ld: /cm/shared/apps/cuda12.8/toolkit/12.8.1/lib64/libcufile.so: undefined reference to `std::string::insert(unsigned long, char const*, unsigned long)@GLIBCXX_3.4'\n",
      "/export/home2/weijie210/miniconda3/envs/ipi_hw/compiler_compat/ld: /cm/shared/apps/cuda12.8/toolkit/12.8.1/lib64/libcufile.so: undefined reference to `std::string::assign(char const*, unsigned long)@GLIBCXX_3.4'\n",
      "/export/home2/weijie210/miniconda3/envs/ipi_hw/compiler_compat/ld: /cm/shared/apps/cuda12.8/toolkit/12.8.1/lib64/libcufile.so: undefined reference to `typeinfo for unsigned char@CXXABI_1.3'\n",
      "/export/home2/weijie210/miniconda3/envs/ipi_hw/compiler_compat/ld: /cm/shared/apps/cuda12.8/toolkit/12.8.1/lib64/libcufile.so: undefined reference to `std::ios_base::ios_base()@GLIBCXX_3.4'\n",
      "/export/home2/weijie210/miniconda3/envs/ipi_hw/compiler_compat/ld: /cm/shared/apps/cuda12.8/toolkit/12.8.1/lib64/libcufile.so: undefined reference to `std::__throw_out_of_range(char const*)@GLIBCXX_3.4'\n",
      "/export/home2/weijie210/miniconda3/envs/ipi_hw/compiler_compat/ld: /cm/shared/apps/cuda12.8/toolkit/12.8.1/lib64/libcufile.so: undefined reference to `std::overflow_error::~overflow_error()@GLIBCXX_3.4'\n",
      "/export/home2/weijie210/miniconda3/envs/ipi_hw/compiler_compat/ld: /cm/shared/apps/cuda12.8/toolkit/12.8.1/lib64/libcufile.so: undefined reference to `std::__throw_length_error(char const*)@GLIBCXX_3.4'\n",
      "/export/home2/weijie210/miniconda3/envs/ipi_hw/compiler_compat/ld: /cm/shared/apps/cuda12.8/toolkit/12.8.1/lib64/libcufile.so: undefined reference to `std::__throw_system_error(int)@GLIBCXX_3.4.11'\n",
      "/export/home2/weijie210/miniconda3/envs/ipi_hw/compiler_compat/ld: /cm/shared/apps/cuda12.8/toolkit/12.8.1/lib64/libcufile.so: undefined reference to `std::basic_ofstream<char, std::char_traits<char> >::close()@GLIBCXX_3.4'\n",
      "/export/home2/weijie210/miniconda3/envs/ipi_hw/compiler_compat/ld: /cm/shared/apps/cuda12.8/toolkit/12.8.1/lib64/libcufile.so: undefined reference to `std::ostream& std::ostream::_M_insert<double>(double)@GLIBCXX_3.4.9'\n",
      "/export/home2/weijie210/miniconda3/envs/ipi_hw/compiler_compat/ld: /cm/shared/apps/cuda12.8/toolkit/12.8.1/lib64/libcufile.so: undefined reference to `std::basic_streambuf<char, std::char_traits<char> >::operator=(std::basic_streambuf<char, std::char_traits<char> > const&)@GLIBCXX_3.4'\n",
      "/export/home2/weijie210/miniconda3/envs/ipi_hw/compiler_compat/ld: /cm/shared/apps/cuda12.8/toolkit/12.8.1/lib64/libcufile.so: undefined reference to `typeinfo for long long@CXXABI_1.3'\n",
      "/export/home2/weijie210/miniconda3/envs/ipi_hw/compiler_compat/ld: /cm/shared/apps/cuda12.8/toolkit/12.8.1/lib64/libcufile.so: undefined reference to `std::basic_string<char, std::char_traits<char>, std::allocator<char> >::basic_string(char const*, unsigned long, std::allocator<char> const&)@GLIBCXX_3.4'\n",
      "/export/home2/weijie210/miniconda3/envs/ipi_hw/compiler_compat/ld: /cm/shared/apps/cuda12.8/toolkit/12.8.1/lib64/libcufile.so: undefined reference to `std::basic_ifstream<char, std::char_traits<char> >::close()@GLIBCXX_3.4'\n",
      "/export/home2/weijie210/miniconda3/envs/ipi_hw/compiler_compat/ld: /cm/shared/apps/cuda12.8/toolkit/12.8.1/lib64/libcufile.so: undefined reference to `__cxa_guard_release@CXXABI_1.3'\n",
      "/export/home2/weijie210/miniconda3/envs/ipi_hw/compiler_compat/ld: /cm/shared/apps/cuda12.8/toolkit/12.8.1/lib64/libcufile.so: undefined reference to `__cxa_throw@CXXABI_1.3'\n",
      "/export/home2/weijie210/miniconda3/envs/ipi_hw/compiler_compat/ld: /cm/shared/apps/cuda12.8/toolkit/12.8.1/lib64/libcufile.so: undefined reference to `std::underflow_error::~underflow_error()@GLIBCXX_3.4'\n",
      "/export/home2/weijie210/miniconda3/envs/ipi_hw/compiler_compat/ld: /cm/shared/apps/cuda12.8/toolkit/12.8.1/lib64/libcufile.so: undefined reference to `std::_Rb_tree_decrement(std::_Rb_tree_node_base*)@GLIBCXX_3.4'\n",
      "/export/home2/weijie210/miniconda3/envs/ipi_hw/compiler_compat/ld: /cm/shared/apps/cuda12.8/toolkit/12.8.1/lib64/libcufile.so: undefined reference to `vtable for std::length_error@GLIBCXX_3.4'\n",
      "/export/home2/weijie210/miniconda3/envs/ipi_hw/compiler_compat/ld: /cm/shared/apps/cuda12.8/toolkit/12.8.1/lib64/libcufile.so: undefined reference to `std::basic_filebuf<char, std::char_traits<char> >::~basic_filebuf()@GLIBCXX_3.4'\n",
      "collect2: error: ld returned 1 exit status\n"
     ]
    },
    {
     "name": "stdout",
     "output_type": "stream",
     "text": [
      "INFO 10-13 15:21:10 [__init__.py:216] Automatically detected platform cuda.\n"
     ]
    },
    {
     "data": {
      "text/plain": [
       "Distributed environment: DistributedType.NO\n",
       "Num processes: 1\n",
       "Process index: 0\n",
       "Local process index: 0\n",
       "Device: cuda"
      ]
     },
     "execution_count": 1,
     "metadata": {},
     "output_type": "execute_result"
    }
   ],
   "source": [
    "\n",
    "import os,sys\n",
    "sys.path.append(os.path.abspath(\".\")) \n",
    "sys.path.append(os.path.abspath(\"BIPIA\")) \n",
    "sys.path.append(os.path.abspath(\"aside\")) # to access aside.experiments\n",
    "from aside.model import *\n",
    "from aside.model_api import *\n",
    "import torch\n",
    "from transformers import AutoTokenizer,AutoModelForCausalLM\n",
    "import json\n",
    "import numpy as np\n",
    "from datasets import load_dataset\n",
    "from tqdm import tqdm\n",
    "from collections import defaultdict,Counter\n",
    "from utils.utils import *\n",
    "from utils.model_utils import load_model\n",
    "from copy import deepcopy\n",
    "from utils.plot_utils import *\n",
    "from functools import partial\n",
    "torch.set_grad_enabled(False)\n",
    "seed_all()\n",
    "from BIPIA.bipia.data import AutoPIABuilder\n",
    "from BIPIA.bipia.metrics import BipiaEvalFactory\n",
    "from vllm import SamplingParams\n",
    "from constants import *\n",
    "from accelerate import PartialState\n",
    "PartialState() "
   ]
  },
  {
   "cell_type": "code",
   "execution_count": 2,
   "id": "c5b9976f",
   "metadata": {},
   "outputs": [
    {
     "name": "stdout",
     "output_type": "stream",
     "text": [
      "INFO 10-13 15:21:13 [utils.py:328] non-default args: {'max_model_len': 32768, 'gpu_memory_utilization': 0.8, 'disable_log_stats': True, 'enable_chunked_prefill': False, 'model': 'Qwen/Qwen3-8B'}\n",
      "INFO 10-13 15:21:25 [__init__.py:742] Resolved architecture: Qwen3ForCausalLM\n"
     ]
    },
    {
     "name": "stderr",
     "output_type": "stream",
     "text": [
      "`torch_dtype` is deprecated! Use `dtype` instead!\n"
     ]
    },
    {
     "name": "stdout",
     "output_type": "stream",
     "text": [
      "INFO 10-13 15:21:25 [__init__.py:1815] Using max model len 32768\n",
      "INFO 10-13 15:21:29 [scheduler.py:222] Chunked prefill is enabled with max_num_batched_tokens=8192.\n",
      "WARNING 10-13 15:21:30 [__init__.py:2974] We must use the `spawn` multiprocessing start method. Overriding VLLM_WORKER_MULTIPROC_METHOD to 'spawn'. See https://docs.vllm.ai/en/latest/usage/troubleshooting.html#python-multiprocessing for more information. Reasons: CUDA is initialized\n",
      "INFO 10-13 15:21:37 [__init__.py:216] Automatically detected platform cuda.\n",
      "\u001b[1;36m(EngineCore_DP0 pid=1564795)\u001b[0;0m INFO 10-13 15:21:38 [core.py:654] Waiting for init message from front-end.\n",
      "\u001b[1;36m(EngineCore_DP0 pid=1564795)\u001b[0;0m INFO 10-13 15:21:38 [core.py:76] Initializing a V1 LLM engine (v0.10.2) with config: model='Qwen/Qwen3-8B', speculative_config=None, tokenizer='Qwen/Qwen3-8B', skip_tokenizer_init=False, tokenizer_mode=auto, revision=None, tokenizer_revision=None, trust_remote_code=False, dtype=torch.bfloat16, max_seq_len=32768, download_dir=None, load_format=auto, tensor_parallel_size=1, pipeline_parallel_size=1, data_parallel_size=1, disable_custom_all_reduce=False, quantization=None, enforce_eager=False, kv_cache_dtype=auto, device_config=cuda, decoding_config=DecodingConfig(backend='auto', disable_fallback=False, disable_any_whitespace=False, disable_additional_properties=False, reasoning_backend=''), observability_config=ObservabilityConfig(show_hidden_metrics_for_version=None, otlp_traces_endpoint=None, collect_detailed_traces=None), seed=0, served_model_name=Qwen/Qwen3-8B, enable_prefix_caching=True, chunked_prefill_enabled=True, use_async_output_proc=True, pooler_config=None, compilation_config={\"level\":3,\"debug_dump_path\":\"\",\"cache_dir\":\"\",\"backend\":\"\",\"custom_ops\":[],\"splitting_ops\":[\"vllm.unified_attention\",\"vllm.unified_attention_with_output\",\"vllm.mamba_mixer2\",\"vllm.mamba_mixer\",\"vllm.short_conv\",\"vllm.linear_attention\",\"vllm.plamo2_mamba_mixer\",\"vllm.gdn_attention\"],\"use_inductor\":true,\"compile_sizes\":[],\"inductor_compile_config\":{\"enable_auto_functionalized_v2\":false},\"inductor_passes\":{},\"cudagraph_mode\":1,\"use_cudagraph\":true,\"cudagraph_num_of_warmups\":1,\"cudagraph_capture_sizes\":[512,504,496,488,480,472,464,456,448,440,432,424,416,408,400,392,384,376,368,360,352,344,336,328,320,312,304,296,288,280,272,264,256,248,240,232,224,216,208,200,192,184,176,168,160,152,144,136,128,120,112,104,96,88,80,72,64,56,48,40,32,24,16,8,4,2,1],\"cudagraph_copy_inputs\":false,\"full_cuda_graph\":false,\"pass_config\":{},\"max_capture_size\":512,\"local_cache_dir\":null}\n"
     ]
    },
    {
     "name": "stderr",
     "output_type": "stream",
     "text": [
      "[W1013 15:21:41.089168683 ProcessGroupNCCL.cpp:981] Warning: TORCH_NCCL_AVOID_RECORD_STREAMS is the default now, this environment variable is thus deprecated. (function operator())\n"
     ]
    },
    {
     "name": "stdout",
     "output_type": "stream",
     "text": [
      "[Gloo] Rank 0 is connected to 0 peer ranks. Expected number of connected peer ranks is : 0\n",
      "[Gloo] Rank 0 is connected to 0 peer ranks. Expected number of connected peer ranks is : 0\n",
      "[Gloo] Rank 0 is connected to 0 peer ranks. Expected number of connected peer ranks is : 0\n",
      "[Gloo] Rank 0 is connected to 0 peer ranks. Expected number of connected peer ranks is : 0\n",
      "[Gloo] Rank 0 is connected to 0 peer ranks. Expected number of connected peer ranks is : 0\n",
      "[Gloo] Rank 0 is connected to 0 peer ranks. Expected number of connected peer ranks is : 0\n",
      "\u001b[1;36m(EngineCore_DP0 pid=1564795)\u001b[0;0m INFO 10-13 15:21:41 [parallel_state.py:1165] rank 0 in world size 1 is assigned as DP rank 0, PP rank 0, TP rank 0, EP rank 0\n",
      "\u001b[1;36m(EngineCore_DP0 pid=1564795)\u001b[0;0m WARNING 10-13 15:21:41 [topk_topp_sampler.py:69] FlashInfer is not available. Falling back to the PyTorch-native implementation of top-p & top-k sampling. For the best performance, please install FlashInfer.\n",
      "\u001b[1;36m(EngineCore_DP0 pid=1564795)\u001b[0;0m INFO 10-13 15:21:41 [gpu_model_runner.py:2338] Starting to load model Qwen/Qwen3-8B...\n",
      "\u001b[1;36m(EngineCore_DP0 pid=1564795)\u001b[0;0m INFO 10-13 15:21:42 [gpu_model_runner.py:2370] Loading model from scratch...\n",
      "\u001b[1;36m(EngineCore_DP0 pid=1564795)\u001b[0;0m INFO 10-13 15:21:42 [cuda.py:362] Using Flash Attention backend on V1 engine.\n",
      "\u001b[1;36m(EngineCore_DP0 pid=1564795)\u001b[0;0m INFO 10-13 15:21:43 [weight_utils.py:348] Using model weights format ['*.safetensors']\n"
     ]
    },
    {
     "name": "stderr",
     "output_type": "stream",
     "text": [
      "Loading safetensors checkpoint shards:   0% Completed | 0/5 [00:00<?, ?it/s]\n",
      "Loading safetensors checkpoint shards:  20% Completed | 1/5 [00:00<00:02,  1.95it/s]\n",
      "Loading safetensors checkpoint shards:  40% Completed | 2/5 [00:01<00:02,  1.05it/s]\n",
      "Loading safetensors checkpoint shards:  60% Completed | 3/5 [00:03<00:02,  1.25s/it]\n",
      "Loading safetensors checkpoint shards:  80% Completed | 4/5 [00:04<00:01,  1.39s/it]\n",
      "Loading safetensors checkpoint shards: 100% Completed | 5/5 [00:06<00:00,  1.47s/it]\n",
      "Loading safetensors checkpoint shards: 100% Completed | 5/5 [00:06<00:00,  1.32s/it]\n",
      "\u001b[1;36m(EngineCore_DP0 pid=1564795)\u001b[0;0m \n"
     ]
    },
    {
     "name": "stdout",
     "output_type": "stream",
     "text": [
      "\u001b[1;36m(EngineCore_DP0 pid=1564795)\u001b[0;0m INFO 10-13 15:21:50 [default_loader.py:268] Loading weights took 6.66 seconds\n",
      "\u001b[1;36m(EngineCore_DP0 pid=1564795)\u001b[0;0m INFO 10-13 15:21:50 [gpu_model_runner.py:2392] Model loading took 15.2683 GiB and 8.033123 seconds\n",
      "\u001b[1;36m(EngineCore_DP0 pid=1564795)\u001b[0;0m INFO 10-13 15:21:58 [backends.py:539] Using cache directory: /export/home2/weijie210/.cache/vllm/torch_compile_cache/77df5711bc/rank_0_0/backbone for vLLM's torch.compile\n",
      "\u001b[1;36m(EngineCore_DP0 pid=1564795)\u001b[0;0m INFO 10-13 15:21:58 [backends.py:550] Dynamo bytecode transform time: 7.68 s\n",
      "\u001b[1;36m(EngineCore_DP0 pid=1564795)\u001b[0;0m INFO 10-13 15:22:03 [backends.py:161] Directly load the compiled graph(s) for dynamic shape from the cache, took 4.160 s\n",
      "\u001b[1;36m(EngineCore_DP0 pid=1564795)\u001b[0;0m INFO 10-13 15:22:04 [monitor.py:34] torch.compile takes 7.68 s in total\n",
      "\u001b[1;36m(EngineCore_DP0 pid=1564795)\u001b[0;0m INFO 10-13 15:22:06 [gpu_worker.py:298] Available KV cache memory: 46.66 GiB\n",
      "\u001b[1;36m(EngineCore_DP0 pid=1564795)\u001b[0;0m INFO 10-13 15:22:06 [kv_cache_utils.py:864] GPU KV cache size: 339,792 tokens\n",
      "\u001b[1;36m(EngineCore_DP0 pid=1564795)\u001b[0;0m INFO 10-13 15:22:06 [kv_cache_utils.py:868] Maximum concurrency for 32,768 tokens per request: 10.37x\n"
     ]
    },
    {
     "name": "stderr",
     "output_type": "stream",
     "text": [
      "Capturing CUDA graphs (mixed prefill-decode, PIECEWISE): 100%|█| 67/67 [00:03<0\n"
     ]
    },
    {
     "name": "stdout",
     "output_type": "stream",
     "text": [
      "\u001b[1;36m(EngineCore_DP0 pid=1564795)\u001b[0;0m INFO 10-13 15:22:10 [gpu_model_runner.py:3118] Graph capturing finished in 4 secs, took 0.62 GiB\n",
      "\u001b[1;36m(EngineCore_DP0 pid=1564795)\u001b[0;0m INFO 10-13 15:22:10 [gpu_worker.py:391] Free memory on device (78.76/79.25 GiB) on startup. Desired GPU memory utilization is (0.8, 63.4 GiB). Actual usage is 15.27 GiB for weight, 1.45 GiB for peak activation, 0.02 GiB for non-torch memory, and 0.62 GiB for CUDAGraph memory. Replace gpu_memory_utilization config with `--kv-cache-memory=49284854784` to fit into requested memory, or `--kv-cache-memory=65780986880` to fully utilize gpu memory. Current kv cache memory in use is 50104841216 bytes.\n",
      "\u001b[1;36m(EngineCore_DP0 pid=1564795)\u001b[0;0m INFO 10-13 15:22:10 [core.py:218] init engine (profile, create kv cache, warmup model) took 20.14 seconds\n",
      "INFO 10-13 15:22:12 [llm.py:295] Supported_tasks: ['generate']\n",
      "INFO 10-13 15:22:12 [__init__.py:36] No IOProcessor plugins requested by the model\n"
     ]
    }
   ],
   "source": [
    "device = 'cuda:0'\n",
    "torch_dtype = torch.bfloat16\n",
    "max_ctx_len = 32768\n",
    "# model_path = 'Qwen/Qwen3-8B'\n",
    "model_path = QWEN_PATH\n",
    "# model_path = 'Qwen3-8B_sft_ASIDE_ToolAndAlpaca'\n",
    "# model_path = os.path.join(MODEL_DIR,model_path)\n",
    "\n",
    "use_vllm=True\n",
    "model,tokenizer,is_aside,init_fn = load_model(model_path,use_vllm=use_vllm,dtype=torch_dtype,vllm_kwargs = {'gpu_memory_utilization':0.8,'enable_chunked_prefill':False},max_ctx_len=max_ctx_len)\n",
    "\n"
   ]
  },
  {
   "cell_type": "code",
   "execution_count": 3,
   "id": "3267e780",
   "metadata": {},
   "outputs": [],
   "source": [
    "from pathlib import Path\n",
    "import jsonlines\n",
    "\n",
    "def evaluate_scenario(\n",
    "    model,\n",
    "    tokenizer,\n",
    "    scenario_name,\n",
    "    attack=\"text\",\n",
    "):\n",
    "    if attack == \"text\":\n",
    "        attack_path = \"BIPIA/benchmark/text_attack_test.json\"\n",
    "    elif attack == \"code\":\n",
    "        attack_path = \"BIPIA/benchmark/code_attack_test.json\"\n",
    "    else:\n",
    "        raise ValueError(f\"Invalid attack type: {attack}\")\n",
    "\n",
    "    scenario_to_path = {\n",
    "        \"email\": \"BIPIA/benchmark/email/test.jsonl\",\n",
    "        \"code\": \"BIPIA/benchmark/code/test.jsonl\",\n",
    "        \"qa\": \"BIPIA/benchmark/qa/test.jsonl\",\n",
    "        \"abstract\": \"BIPIA/benchmark/abstract/test.jsonl\",\n",
    "        \"table\": \"BIPIA/benchmark/table/test.jsonl\",\n",
    "    }\n",
    "    pia_builder = AutoPIABuilder.from_name(scenario_name)(2023)\n",
    "    pia_samples = pia_builder(\n",
    "        scenario_to_path[scenario_name],\n",
    "        attack_path,\n",
    "        enable_stealth=False,\n",
    "    )\n",
    "\n",
    "    # Filter samples for specific attacks (which do no require LLM evaluation)\n",
    "    df = pia_samples[\n",
    "        pia_samples.attack_name.str.startswith(\"Emoji Substitution\")\n",
    "        | pia_samples.attack_name.str.startswith(\"Language Translation\")\n",
    "        | pia_samples.attack_name.str.contains(\"Marketing & Advertising-1\")\n",
    "        | pia_samples.attack_name.str.contains(\"Scams & Fraud-1\")\n",
    "        | pia_samples.attack_name.str.contains(\n",
    "            \"Bringing Down Hosts and Servers (Denial of Service)\"\n",
    "        )\n",
    "        | pia_samples.attack_name.str.contains(\"Compromising Computers\")\n",
    "        | pia_samples.attack_name.str.contains(\n",
    "            \"Encrypting Documents and Demanding Ransom (Ransomware)\"\n",
    "        )\n",
    "        | pia_samples.attack_name.str.contains(\"Corrupting an Operating System\")\n",
    "        | pia_samples.attack_name.str.contains(\"Blocking Internet Connection\")\n",
    "        | pia_samples.attack_name.str.contains(\"Introduce System Fingerprinting\")\n",
    "        | pia_samples.attack_name.str.contains(\"Screen Scraping\")\n",
    "        | pia_samples.attack_name.str.contains(\"Keylogging\")\n",
    "        | pia_samples.attack_name.str.contains(\"Traffic Analysis\")\n",
    "        | pia_samples.attack_name.str.contains(\"Data Eavesdropping\")\n",
    "    ]\n",
    "\n",
    "    # Prepare prompts\n",
    "    all_prompts = []\n",
    "    def format_bipia_prompt(instr,data, tokenizer):\n",
    "        has_input = 'message.role == \"input\"' in tokenizer.chat_template\n",
    "        if has_input:\n",
    "            msg = [{'role':'user','content':instr},{'role':'input','content':data}]\n",
    "        else:\n",
    "            msg = [{'role':'user','content':instr+'\\n\\n'+data}]\n",
    "        return msg\n",
    "    gen_kwargs = SamplingParams(temperature=0., max_tokens=1024,stop=[tokenizer.eos_token])\n",
    "    \n",
    "    gpt_config_file = \"BIPIA/config/gpt35.yaml\"  # Make sure this exists\n",
    "    # Define attacks to evaluate\n",
    "    attacks = np.array(df.attack_name.unique())\n",
    "    \n",
    "\n",
    "    for i in range(len(df)):\n",
    "        user_prompt, input_prompt = pia_builder.construct_prompt(df.iloc[i]) # edit the construct_aside_prompt to \n",
    "        all_prompts.append(tool_prompt_format(format_bipia_prompt(user_prompt,input_prompt,tokenizer),None,tokenizer))\n",
    "\n",
    "    # Generate responses using the model\n",
    "    responses = vllm_generate(model,all_prompts,gen_kwargs,use_tqdm=True)\n",
    "    # Prepare output for evaluation\n",
    "    out = []\n",
    "    if \"question\" not in df.columns:\n",
    "        df[\"question\"] = \"\"\n",
    "    for attack_name, task_name, target, message, position, response in zip(\n",
    "        df[\"attack_name\"],\n",
    "        df[\"task_name\"],\n",
    "        df[\"ideal\"],\n",
    "        df[\"question\"],\n",
    "        df[\"position\"],\n",
    "        responses,\n",
    "    ):\n",
    "        out.append(\n",
    "            {\n",
    "                \"attack_name\": attack_name,\n",
    "                \"task_name\": task_name,\n",
    "                \"response\": response,\n",
    "                \"message\": message,\n",
    "                \"target\": target,\n",
    "                \"position\": position,\n",
    "            }\n",
    "        )\n",
    "\n",
    "    # Save responses\n",
    "    output_path = Path(f\"BIPIA/output/{scenario_name}_responses.jsonl\")\n",
    "    output_path.parent.mkdir(exist_ok=True, parents=True)\n",
    "    with jsonlines.open(output_path, \"w\") as writer:\n",
    "        writer.write_all(out)\n",
    "\n",
    "    # Evaluate responses\n",
    "    gpt_config_file = \"BIPIA/config/gpt35.yaml\"  # Make sure this exists\n",
    "    # Define attacks to evaluate\n",
    "    attacks = np.array(df.attack_name.unique())\n",
    "\n",
    "    evaluator = BipiaEvalFactory(\n",
    "        gpt_config=gpt_config_file,\n",
    "        activate_attacks=attacks,\n",
    "    )\n",
    "    \n",
    "\n",
    "    asrs = evaluator.add_batch(\n",
    "        predictions=responses,\n",
    "        references=df[\"ideal\"],\n",
    "        attacks=df[\"attack_name\"],\n",
    "        tasks=df[\"task_name\"],\n",
    "    )\n",
    "\n",
    "    avg_asr = np.mean(asrs)\n",
    "    print(f\"The average ASR for {scenario_name} scenario is: {avg_asr}\")\n",
    "\n",
    "    return df, asrs, avg_asr\n",
    "    \n",
    "def evaluate_bipia(\n",
    "    model,\n",
    "    tokenizer,\n",
    "    scenarios=[\"email\", \"code\", \"table\", \"abstract\", \"qa\"],\n",
    "    attacks=[\"text\", \"code\"],\n",
    "):\n",
    "    results = defaultdict(dict)\n",
    "    total_count = 0\n",
    "    for attack_type in attacks:\n",
    "        print(f\"\\nEvaluating BIPIA {attack_type} attacks:\")\n",
    "\n",
    "        # Use only code scenario for code attacks, and other scenarios for text attacks\n",
    "        if attack_type == \"code\":\n",
    "            attack_scenarios = [\"code\"]\n",
    "        else:\n",
    "            attack_scenarios = [s for s in scenarios if s != \"code\"]\n",
    "\n",
    "        print(f\"Using scenarios {attack_scenarios} for {attack_type} attacks\")\n",
    "        scenario_asr = []\n",
    "        for scenario in attack_scenarios:\n",
    "            print(\n",
    "                f\"\\nEvaluating {scenario} scenario with attack: {attack_type}\"\n",
    "            )\n",
    "            _, asrs, avg_asr = evaluate_scenario(\n",
    "                model,\n",
    "                tokenizer,\n",
    "                scenario,\n",
    "                attack_type,\n",
    "            )\n",
    "            scenario_asr.append(avg_asr)\n",
    "            print(\n",
    "                f\"Attack: {attack_type}, Scenario: {scenario}, ASR: {avg_asr:.4f}, Count: {len(asrs)}\"\n",
    "            )\n",
    "            total_count += len(asrs)\n",
    "            results[attack_type][scenario] = np.round(avg_asr,3)\n",
    "            # Calculate average ASR across all scenarios for this seed and attack type\n",
    "        mean_scenario_asr = np.mean(scenario_asr)\n",
    "        results[attack_type][\"mean\"] = np.round(mean_scenario_asr,3)\n",
    "        print (f\"\\nMean ASR for attack type {attack_type}: {mean_scenario_asr:.4f}\")\n",
    "\n",
    "    return results"
   ]
  },
  {
   "cell_type": "code",
   "execution_count": 4,
   "id": "18641b25",
   "metadata": {},
   "outputs": [
    {
     "name": "stdout",
     "output_type": "stream",
     "text": [
      "\n",
      "Evaluating BIPIA text attacks:\n",
      "Using scenarios ['email', 'table', 'abstract', 'qa'] for text attacks\n",
      "\n",
      "Evaluating email scenario with attack: text\n"
     ]
    },
    {
     "name": "stderr",
     "output_type": "stream",
     "text": [
      "/tmp/ipykernel_1545418/3837990158.py:37: UserWarning: This pattern is interpreted as a regular expression, and has match groups. To actually get the groups, use str.extract.\n",
      "  | pia_samples.attack_name.str.contains(\n",
      "/tmp/ipykernel_1545418/3837990158.py:41: UserWarning: This pattern is interpreted as a regular expression, and has match groups. To actually get the groups, use str.extract.\n",
      "  | pia_samples.attack_name.str.contains(\n"
     ]
    },
    {
     "data": {
      "application/vnd.jupyter.widget-view+json": {
       "model_id": "40e103255e4b46b59ff6b939c9596f3e",
       "version_major": 2,
       "version_minor": 0
      },
      "text/plain": [
       "Adding requests:   0%|          | 0/1800 [00:00<?, ?it/s]"
      ]
     },
     "metadata": {},
     "output_type": "display_data"
    },
    {
     "data": {
      "application/vnd.jupyter.widget-view+json": {
       "model_id": "39304c677d2a43e7a75bcb9e6659a694",
       "version_major": 2,
       "version_minor": 0
      },
      "text/plain": [
       "Processed prompts:   0%|                                                                                      …"
      ]
     },
     "metadata": {},
     "output_type": "display_data"
    },
    {
     "name": "stderr",
     "output_type": "stream",
     "text": [
      "Get error No features in text. in prediction: \"$504\"\n",
      "Get error No features in text. in prediction: \"$504\"\n",
      "Get error No features in text. in prediction: \"$0.2927246\"\n",
      "Get error No features in text. in prediction: \"$504\"\n",
      "Get error No features in text. in prediction: \"$47.77\"\n",
      "Get error No features in text. in prediction: \"$47.77\"\n",
      "Get error No features in text. in prediction: \"$1,076.40\"\n",
      "Get error No features in text. in prediction: \"$120\"\n",
      "Get error No features in text. in prediction: \"$105.29\"\n",
      "Get error No features in text. in prediction: \"$4,939.07\"\n",
      "Get error No features in text. in prediction: \"**$504**\"\n",
      "Get error No features in text. in prediction: \"$0.2927246\"\n",
      "Get error No features in text. in prediction: \"$600.00\"\n",
      "Get error No features in text. in prediction: \"$600.00\"\n",
      "Get error No features in text. in prediction: \"$600.00\"\n",
      "Get error No features in text. in prediction: \"$66.90\"\n",
      "Get error No features in text. in prediction: \"$66.90\"\n",
      "Get error No features in text. in prediction: \"$66.90\"\n",
      "Get error No features in text. in prediction: \"$45.00\"\n",
      "Get error No features in text. in prediction: \"$45.00\"\n",
      "Get error No features in text. in prediction: \"$45.00\"\n",
      "Get error No features in text. in prediction: \"$1,076.40\"\n",
      "Get error No features in text. in prediction: \"$500.00\"\n",
      "Get error No features in text. in prediction: \"$850.00\"\n",
      "Get error No features in text. in prediction: \"$850.00\"\n",
      "Get error No features in text. in prediction: \"$504\"\n",
      "Get error No features in text. in prediction: \"$100.06\"\n",
      "Get error No features in text. in prediction: \"$150.00\"\n",
      "Get error No features in text. in prediction: \"$150.00\"\n",
      "Get error No features in text. in prediction: \"**$500**\"\n",
      "Get error No features in text. in prediction: \"$600.00\"\n",
      "Get error No features in text. in prediction: \"$600,00.\"\n",
      "Get error No features in text. in prediction: \"$600.00\"\n",
      "Get error No features in text. in prediction: \"$45.00\"\n",
      "Get error No features in text. in prediction: \"$504\"\n",
      "Get error No features in text. in prediction: \"$150.00\"\n",
      "Get error No features in text. in prediction: \"$600.00\"\n"
     ]
    },
    {
     "name": "stdout",
     "output_type": "stream",
     "text": [
      "The average ASR for email scenario is: 0.55\n",
      "Attack: text, Scenario: email, ASR: 0.5500, Count: 1800\n",
      "\n",
      "Evaluating table scenario with attack: text\n"
     ]
    },
    {
     "data": {
      "application/vnd.jupyter.widget-view+json": {
       "model_id": "60599c80dbc1480fba33225c9e55e5d5",
       "version_major": 2,
       "version_minor": 0
      },
      "text/plain": [
       "Adding requests:   0%|          | 0/3600 [00:00<?, ?it/s]"
      ]
     },
     "metadata": {},
     "output_type": "display_data"
    },
    {
     "data": {
      "application/vnd.jupyter.widget-view+json": {
       "model_id": "e2ac4f2cdb1644e1bd3827ba19210cd6",
       "version_major": 2,
       "version_minor": 0
      },
      "text/plain": [
       "Processed prompts:   0%|                                                                                      …"
      ]
     },
     "metadata": {},
     "output_type": "display_data"
    },
    {
     "name": "stderr",
     "output_type": "stream",
     "text": [
      "Get error No features in text. in prediction: \"2011\"\n",
      "Get error No features in text. in prediction: \"2011\"\n",
      "Get error No features in text. in prediction: \"2011.\"\n",
      "Get error No features in text. in prediction: \"2011\"\n",
      "Get error No features in text. in prediction: \"2011\"\n"
     ]
    },
    {
     "name": "stdout",
     "output_type": "stream",
     "text": [
      "The average ASR for table scenario is: 0.9358333333333333\n",
      "Attack: text, Scenario: table, ASR: 0.9358, Count: 3600\n",
      "\n",
      "Evaluating abstract scenario with attack: text\n"
     ]
    },
    {
     "data": {
      "application/vnd.jupyter.widget-view+json": {
       "model_id": "001502d9c3f748168b21d09c1854fed6",
       "version_major": 2,
       "version_minor": 0
      },
      "text/plain": [
       "Adding requests:   0%|          | 0/3600 [00:00<?, ?it/s]"
      ]
     },
     "metadata": {},
     "output_type": "display_data"
    },
    {
     "data": {
      "application/vnd.jupyter.widget-view+json": {
       "model_id": "bfb043b162e64ba09e2e178772262969",
       "version_major": 2,
       "version_minor": 0
      },
      "text/plain": [
       "Processed prompts:   0%|                                                                                      …"
      ]
     },
     "metadata": {},
     "output_type": "display_data"
    },
    {
     "name": "stderr",
     "output_type": "stream",
     "text": [
      "/tmp/ipykernel_1545418/3837990158.py:74: SettingWithCopyWarning: \n",
      "A value is trying to be set on a copy of a slice from a DataFrame.\n",
      "Try using .loc[row_indexer,col_indexer] = value instead\n",
      "\n",
      "See the caveats in the documentation: https://pandas.pydata.org/pandas-docs/stable/user_guide/indexing.html#returning-a-view-versus-a-copy\n",
      "  df[\"question\"] = \"\"\n"
     ]
    },
    {
     "name": "stdout",
     "output_type": "stream",
     "text": [
      "The average ASR for abstract scenario is: 0.9955555555555555\n",
      "Attack: text, Scenario: abstract, ASR: 0.9956, Count: 3600\n",
      "\n",
      "Evaluating qa scenario with attack: text\n"
     ]
    },
    {
     "name": "stderr",
     "output_type": "stream",
     "text": [
      "/tmp/ipykernel_1545418/3837990158.py:37: UserWarning: This pattern is interpreted as a regular expression, and has match groups. To actually get the groups, use str.extract.\n",
      "  | pia_samples.attack_name.str.contains(\n",
      "/tmp/ipykernel_1545418/3837990158.py:41: UserWarning: This pattern is interpreted as a regular expression, and has match groups. To actually get the groups, use str.extract.\n",
      "  | pia_samples.attack_name.str.contains(\n"
     ]
    },
    {
     "data": {
      "application/vnd.jupyter.widget-view+json": {
       "model_id": "c89fed54d0294ee79aa512997b6fb801",
       "version_major": 2,
       "version_minor": 0
      },
      "text/plain": [
       "Adding requests:   0%|          | 0/3276 [00:00<?, ?it/s]"
      ]
     },
     "metadata": {},
     "output_type": "display_data"
    },
    {
     "data": {
      "application/vnd.jupyter.widget-view+json": {
       "model_id": "5c8cc2df769649ed92d896fc0434902e",
       "version_major": 2,
       "version_minor": 0
      },
      "text/plain": [
       "Processed prompts:   0%|                                                                                      …"
      ]
     },
     "metadata": {},
     "output_type": "display_data"
    },
    {
     "name": "stderr",
     "output_type": "stream",
     "text": [
      "Get error No features in text. in prediction: \"51\"\n"
     ]
    },
    {
     "name": "stdout",
     "output_type": "stream",
     "text": [
      "The average ASR for qa scenario is: 0.8504273504273504\n",
      "Attack: text, Scenario: qa, ASR: 0.8504, Count: 3276\n",
      "\n",
      "Mean ASR for attack type text: 0.8330\n",
      "\n",
      "Evaluating BIPIA code attacks:\n",
      "Using scenarios ['code'] for code attacks\n",
      "\n",
      "Evaluating code scenario with attack: code\n"
     ]
    },
    {
     "data": {
      "application/vnd.jupyter.widget-view+json": {
       "model_id": "50546ba453884af097dd038601f955b5",
       "version_major": 2,
       "version_minor": 0
      },
      "text/plain": [
       "Adding requests:   0%|          | 0/6000 [00:00<?, ?it/s]"
      ]
     },
     "metadata": {},
     "output_type": "display_data"
    },
    {
     "data": {
      "application/vnd.jupyter.widget-view+json": {
       "model_id": "38b2477e0bac4adb8fd1024d50eb44a3",
       "version_major": 2,
       "version_minor": 0
      },
      "text/plain": [
       "Processed prompts:   0%|                                                                                      …"
      ]
     },
     "metadata": {},
     "output_type": "display_data"
    },
    {
     "name": "stderr",
     "output_type": "stream",
     "text": [
      "/tmp/ipykernel_1545418/3837990158.py:74: SettingWithCopyWarning: \n",
      "A value is trying to be set on a copy of a slice from a DataFrame.\n",
      "Try using .loc[row_indexer,col_indexer] = value instead\n",
      "\n",
      "See the caveats in the documentation: https://pandas.pydata.org/pandas-docs/stable/user_guide/indexing.html#returning-a-view-versus-a-copy\n",
      "  df[\"question\"] = \"\"\n"
     ]
    },
    {
     "name": "stdout",
     "output_type": "stream",
     "text": [
      "The average ASR for code scenario is: 0.010333333333333333\n",
      "Attack: code, Scenario: code, ASR: 0.0103, Count: 6000\n",
      "\n",
      "Mean ASR for attack type code: 0.0103\n",
      "text_email 0.55\n",
      "text_table 0.936\n",
      "text_abstract 0.996\n",
      "text_qa 0.85\n",
      "text_mean 0.833\n",
      "code_code 0.01\n",
      "code_mean 0.01\n"
     ]
    }
   ],
   "source": [
    "# evaluate_scenario(model,tokenizer,scenario_name = \"code\",attack=\"code\") # run specific\n",
    "results = evaluate_bipia(model,tokenizer) # run all\n",
    "\n",
    "save_dir = 'results/bipia'\n",
    "os.makedirs(save_dir,exist_ok=True)\n",
    "save_path = os.path.join(save_dir,model_path.split('/')[-1].strip() + '.json')\n",
    "with open(save_path,'w') as f:\n",
    "    json.dump(results, f, indent=4)\n",
    "    \n",
    "for attack,scenario_dict in results.items(): # print results again\n",
    "    for scenario, v in scenario_dict.items():\n",
    "        k = f\"{attack}_{scenario}\"\n",
    "        print (k,v)"
   ]
  },
  {
   "cell_type": "code",
   "execution_count": 4,
   "id": "ef529d1a",
   "metadata": {},
   "outputs": [
    {
     "name": "stdout",
     "output_type": "stream",
     "text": [
      "\n",
      "Evaluating BIPIA code attacks:\n",
      "Using scenarios ['code'] for code attacks\n",
      "\n",
      "Evaluating code scenario with attack: code\n"
     ]
    },
    {
     "name": "stderr",
     "output_type": "stream",
     "text": [
      "/tmp/ipykernel_1564618/655776679.py:37: UserWarning: This pattern is interpreted as a regular expression, and has match groups. To actually get the groups, use str.extract.\n",
      "  | pia_samples.attack_name.str.contains(\n",
      "/tmp/ipykernel_1564618/655776679.py:41: UserWarning: This pattern is interpreted as a regular expression, and has match groups. To actually get the groups, use str.extract.\n",
      "  | pia_samples.attack_name.str.contains(\n"
     ]
    },
    {
     "data": {
      "application/vnd.jupyter.widget-view+json": {
       "model_id": "7f4223e50fbf4448824bed4147ae612d",
       "version_major": 2,
       "version_minor": 0
      },
      "text/plain": [
       "Adding requests:   0%|          | 0/6000 [00:00<?, ?it/s]"
      ]
     },
     "metadata": {},
     "output_type": "display_data"
    },
    {
     "data": {
      "application/vnd.jupyter.widget-view+json": {
       "model_id": "e86298ed9b064e39a2692e5a0be956fe",
       "version_major": 2,
       "version_minor": 0
      },
      "text/plain": [
       "Processed prompts:   0%|                                                                                      …"
      ]
     },
     "metadata": {},
     "output_type": "display_data"
    },
    {
     "name": "stderr",
     "output_type": "stream",
     "text": [
      "/tmp/ipykernel_1564618/655776679.py:78: SettingWithCopyWarning: \n",
      "A value is trying to be set on a copy of a slice from a DataFrame.\n",
      "Try using .loc[row_indexer,col_indexer] = value instead\n",
      "\n",
      "See the caveats in the documentation: https://pandas.pydata.org/pandas-docs/stable/user_guide/indexing.html#returning-a-view-versus-a-copy\n",
      "  df[\"question\"] = \"\"\n"
     ]
    },
    {
     "name": "stdout",
     "output_type": "stream",
     "text": [
      "The average ASR for code scenario is: 0.4206666666666667\n",
      "Attack: code, Scenario: code, ASR: 0.4207, Count: 6000\n",
      "\n",
      "Mean ASR for attack type code: 0.4207\n"
     ]
    }
   ],
   "source": [
    "results = evaluate_bipia(model,tokenizer,scenarios=[\"code\"],attacks=[\"code\"]) # run code only"
   ]
  },
  {
   "cell_type": "code",
   "execution_count": null,
   "id": "1144863d",
   "metadata": {},
   "outputs": [],
   "source": []
  }
 ],
 "metadata": {
  "kernelspec": {
   "display_name": "Python 3 (ipykernel)",
   "language": "python",
   "name": "python3"
  }
 },
 "nbformat": 4,
 "nbformat_minor": 5
}
