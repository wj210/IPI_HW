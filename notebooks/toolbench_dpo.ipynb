{
 "cells": [
  {
   "cell_type": "code",
   "execution_count": 116,
   "id": "a6269a2e",
   "metadata": {},
   "outputs": [
    {
     "name": "stdout",
     "output_type": "stream",
     "text": [
      "INFO 09-21 00:35:42 __init__.py:190] Automatically detected platform cuda.\n",
      "[2025-09-21 00:35:46,526] [INFO] [real_accelerator.py:254:get_accelerator] Setting ds_accelerator to cuda (auto detect)\n",
      "Warning: The cache directory for DeepSpeed Triton autotune, /export/home2/weijie210/.triton/autotune, appears to be on an NFS system. While this is generally acceptable, if you experience slowdowns or hanging when DeepSpeed exits, it is recommended to set the TRITON_CACHE_DIR environment variable to a non-NFS path.\n"
     ]
    },
    {
     "name": "stderr",
     "output_type": "stream",
     "text": [
      "/export/home2/weijie210/miniconda3/envs/cot/compiler_compat/ld: cannot find -laio: No such file or directory\n",
      "collect2: error: ld returned 1 exit status\n",
      "/export/home2/weijie210/miniconda3/envs/cot/compiler_compat/ld: warning: libstdc++.so.6, needed by /cm/shared/apps/cuda12.1/toolkit/12.1.1/lib64/libcufile.so, not found (try using -rpath or -rpath-link)\n",
      "/export/home2/weijie210/miniconda3/envs/cot/compiler_compat/ld: warning: libm.so.6, needed by /cm/shared/apps/cuda12.1/toolkit/12.1.1/lib64/libcufile.so, not found (try using -rpath or -rpath-link)\n",
      "/export/home2/weijie210/miniconda3/envs/cot/compiler_compat/ld: /cm/shared/apps/cuda12.1/toolkit/12.1.1/lib64/libcufile.so: undefined reference to `std::runtime_error::~runtime_error()@GLIBCXX_3.4'\n",
      "/export/home2/weijie210/miniconda3/envs/cot/compiler_compat/ld: /cm/shared/apps/cuda12.1/toolkit/12.1.1/lib64/libcufile.so: undefined reference to `__gxx_personality_v0@CXXABI_1.3'\n",
      "/export/home2/weijie210/miniconda3/envs/cot/compiler_compat/ld: /cm/shared/apps/cuda12.1/toolkit/12.1.1/lib64/libcufile.so: undefined reference to `std::ostream::tellp()@GLIBCXX_3.4'\n",
      "/export/home2/weijie210/miniconda3/envs/cot/compiler_compat/ld: /cm/shared/apps/cuda12.1/toolkit/12.1.1/lib64/libcufile.so: undefined reference to `std::chrono::_V2::steady_clock::now()@GLIBCXX_3.4.19'\n",
      "/export/home2/weijie210/miniconda3/envs/cot/compiler_compat/ld: /cm/shared/apps/cuda12.1/toolkit/12.1.1/lib64/libcufile.so: undefined reference to `std::string::_M_replace_aux(unsigned long, unsigned long, unsigned long, char)@GLIBCXX_3.4'\n",
      "/export/home2/weijie210/miniconda3/envs/cot/compiler_compat/ld: /cm/shared/apps/cuda12.1/toolkit/12.1.1/lib64/libcufile.so: undefined reference to `dlopen'\n",
      "/export/home2/weijie210/miniconda3/envs/cot/compiler_compat/ld: /cm/shared/apps/cuda12.1/toolkit/12.1.1/lib64/libcufile.so: undefined reference to `typeinfo for bool@CXXABI_1.3'\n",
      "/export/home2/weijie210/miniconda3/envs/cot/compiler_compat/ld: /cm/shared/apps/cuda12.1/toolkit/12.1.1/lib64/libcufile.so: undefined reference to `std::__throw_logic_error(char const*)@GLIBCXX_3.4'\n",
      "/export/home2/weijie210/miniconda3/envs/cot/compiler_compat/ld: /cm/shared/apps/cuda12.1/toolkit/12.1.1/lib64/libcufile.so: undefined reference to `VTT for std::basic_ostringstream<char, std::char_traits<char>, std::allocator<char> >@GLIBCXX_3.4'\n",
      "/export/home2/weijie210/miniconda3/envs/cot/compiler_compat/ld: /cm/shared/apps/cuda12.1/toolkit/12.1.1/lib64/libcufile.so: undefined reference to `vtable for std::logic_error@GLIBCXX_3.4'\n",
      "/export/home2/weijie210/miniconda3/envs/cot/compiler_compat/ld: /cm/shared/apps/cuda12.1/toolkit/12.1.1/lib64/libcufile.so: undefined reference to `std::locale::~locale()@GLIBCXX_3.4'\n",
      "/export/home2/weijie210/miniconda3/envs/cot/compiler_compat/ld: /cm/shared/apps/cuda12.1/toolkit/12.1.1/lib64/libcufile.so: undefined reference to `std::basic_string<char, std::char_traits<char>, std::allocator<char> >::basic_string(std::string const&, unsigned long, unsigned long)@GLIBCXX_3.4'\n",
      "/export/home2/weijie210/miniconda3/envs/cot/compiler_compat/ld: /cm/shared/apps/cuda12.1/toolkit/12.1.1/lib64/libcufile.so: undefined reference to `__cxa_end_catch@CXXABI_1.3'\n",
      "/export/home2/weijie210/miniconda3/envs/cot/compiler_compat/ld: /cm/shared/apps/cuda12.1/toolkit/12.1.1/lib64/libcufile.so: undefined reference to `VTT for std::basic_ofstream<char, std::char_traits<char> >@GLIBCXX_3.4'\n",
      "/export/home2/weijie210/miniconda3/envs/cot/compiler_compat/ld: /cm/shared/apps/cuda12.1/toolkit/12.1.1/lib64/libcufile.so: undefined reference to `std::logic_error::~logic_error()@GLIBCXX_3.4'\n",
      "/export/home2/weijie210/miniconda3/envs/cot/compiler_compat/ld: /cm/shared/apps/cuda12.1/toolkit/12.1.1/lib64/libcufile.so: undefined reference to `vtable for __cxxabiv1::__si_class_type_info@CXXABI_1.3'\n",
      "/export/home2/weijie210/miniconda3/envs/cot/compiler_compat/ld: /cm/shared/apps/cuda12.1/toolkit/12.1.1/lib64/libcufile.so: undefined reference to `std::basic_ios<char, std::char_traits<char> >::_M_cache_locale(std::locale const&)@GLIBCXX_3.4'\n",
      "/export/home2/weijie210/miniconda3/envs/cot/compiler_compat/ld: /cm/shared/apps/cuda12.1/toolkit/12.1.1/lib64/libcufile.so: undefined reference to `VTT for std::basic_stringstream<char, std::char_traits<char>, std::allocator<char> >@GLIBCXX_3.4'\n",
      "/export/home2/weijie210/miniconda3/envs/cot/compiler_compat/ld: /cm/shared/apps/cuda12.1/toolkit/12.1.1/lib64/libcufile.so: undefined reference to `operator new[](unsigned long)@GLIBCXX_3.4'\n",
      "/export/home2/weijie210/miniconda3/envs/cot/compiler_compat/ld: /cm/shared/apps/cuda12.1/toolkit/12.1.1/lib64/libcufile.so: undefined reference to `std::string::_M_leak_hard()@GLIBCXX_3.4'\n",
      "/export/home2/weijie210/miniconda3/envs/cot/compiler_compat/ld: /cm/shared/apps/cuda12.1/toolkit/12.1.1/lib64/libcufile.so: undefined reference to `vtable for std::basic_ifstream<char, std::char_traits<char> >@GLIBCXX_3.4'\n",
      "/export/home2/weijie210/miniconda3/envs/cot/compiler_compat/ld: /cm/shared/apps/cuda12.1/toolkit/12.1.1/lib64/libcufile.so: undefined reference to `std::basic_streambuf<wchar_t, std::char_traits<wchar_t> >::basic_streambuf(std::basic_streambuf<wchar_t, std::char_traits<wchar_t> > const&)@GLIBCXX_3.4'\n",
      "/export/home2/weijie210/miniconda3/envs/cot/compiler_compat/ld: /cm/shared/apps/cuda12.1/toolkit/12.1.1/lib64/libcufile.so: undefined reference to `std::string::append(char const*, unsigned long)@GLIBCXX_3.4'\n",
      "/export/home2/weijie210/miniconda3/envs/cot/compiler_compat/ld: /cm/shared/apps/cuda12.1/toolkit/12.1.1/lib64/libcufile.so: undefined reference to `std::basic_string<char, std::char_traits<char>, std::allocator<char> >::basic_string(std::string const&)@GLIBCXX_3.4'\n",
      "/export/home2/weijie210/miniconda3/envs/cot/compiler_compat/ld: /cm/shared/apps/cuda12.1/toolkit/12.1.1/lib64/libcufile.so: undefined reference to `typeinfo for unsigned short@CXXABI_1.3'\n",
      "/export/home2/weijie210/miniconda3/envs/cot/compiler_compat/ld: /cm/shared/apps/cuda12.1/toolkit/12.1.1/lib64/libcufile.so: undefined reference to `std::string::resize(unsigned long, char)@GLIBCXX_3.4'\n",
      "/export/home2/weijie210/miniconda3/envs/cot/compiler_compat/ld: /cm/shared/apps/cuda12.1/toolkit/12.1.1/lib64/libcufile.so: undefined reference to `typeinfo for char const*@CXXABI_1.3'\n",
      "/export/home2/weijie210/miniconda3/envs/cot/compiler_compat/ld: /cm/shared/apps/cuda12.1/toolkit/12.1.1/lib64/libcufile.so: undefined reference to `std::ctype<char>::_M_widen_init() const@GLIBCXX_3.4.11'\n",
      "/export/home2/weijie210/miniconda3/envs/cot/compiler_compat/ld: /cm/shared/apps/cuda12.1/toolkit/12.1.1/lib64/libcufile.so: undefined reference to `std::__throw_invalid_argument(char const*)@GLIBCXX_3.4'\n",
      "/export/home2/weijie210/miniconda3/envs/cot/compiler_compat/ld: /cm/shared/apps/cuda12.1/toolkit/12.1.1/lib64/libcufile.so: undefined reference to `std::locale::operator=(std::locale const&)@GLIBCXX_3.4'\n",
      "/export/home2/weijie210/miniconda3/envs/cot/compiler_compat/ld: /cm/shared/apps/cuda12.1/toolkit/12.1.1/lib64/libcufile.so: undefined reference to `std::basic_ios<wchar_t, std::char_traits<wchar_t> >::_M_cache_locale(std::locale const&)@GLIBCXX_3.4'\n",
      "/export/home2/weijie210/miniconda3/envs/cot/compiler_compat/ld: /cm/shared/apps/cuda12.1/toolkit/12.1.1/lib64/libcufile.so: undefined reference to `std::_Rb_tree_decrement(std::_Rb_tree_node_base const*)@GLIBCXX_3.4'\n",
      "/export/home2/weijie210/miniconda3/envs/cot/compiler_compat/ld: /cm/shared/apps/cuda12.1/toolkit/12.1.1/lib64/libcufile.so: undefined reference to `__cxa_free_exception@CXXABI_1.3'\n",
      "/export/home2/weijie210/miniconda3/envs/cot/compiler_compat/ld: /cm/shared/apps/cuda12.1/toolkit/12.1.1/lib64/libcufile.so: undefined reference to `std::condition_variable::notify_one()@GLIBCXX_3.4.11'\n",
      "/export/home2/weijie210/miniconda3/envs/cot/compiler_compat/ld: /cm/shared/apps/cuda12.1/toolkit/12.1.1/lib64/libcufile.so: undefined reference to `std::ios_base::Init::~Init()@GLIBCXX_3.4'\n",
      "/export/home2/weijie210/miniconda3/envs/cot/compiler_compat/ld: /cm/shared/apps/cuda12.1/toolkit/12.1.1/lib64/libcufile.so: undefined reference to `std::basic_string<char, std::char_traits<char>, std::allocator<char> >::~basic_string()@GLIBCXX_3.4'\n",
      "/export/home2/weijie210/miniconda3/envs/cot/compiler_compat/ld: /cm/shared/apps/cuda12.1/toolkit/12.1.1/lib64/libcufile.so: undefined reference to `__cxa_pure_virtual@CXXABI_1.3'\n",
      "/export/home2/weijie210/miniconda3/envs/cot/compiler_compat/ld: /cm/shared/apps/cuda12.1/toolkit/12.1.1/lib64/libcufile.so: undefined reference to `std::ostream::flush()@GLIBCXX_3.4'\n",
      "/export/home2/weijie210/miniconda3/envs/cot/compiler_compat/ld: /cm/shared/apps/cuda12.1/toolkit/12.1.1/lib64/libcufile.so: undefined reference to `vtable for __cxxabiv1::__class_type_info@CXXABI_1.3'\n",
      "/export/home2/weijie210/miniconda3/envs/cot/compiler_compat/ld: /cm/shared/apps/cuda12.1/toolkit/12.1.1/lib64/libcufile.so: undefined reference to `__cxa_rethrow@CXXABI_1.3'\n",
      "/export/home2/weijie210/miniconda3/envs/cot/compiler_compat/ld: /cm/shared/apps/cuda12.1/toolkit/12.1.1/lib64/libcufile.so: undefined reference to `vtable for std::basic_stringbuf<char, std::char_traits<char>, std::allocator<char> >@GLIBCXX_3.4'\n",
      "/export/home2/weijie210/miniconda3/envs/cot/compiler_compat/ld: /cm/shared/apps/cuda12.1/toolkit/12.1.1/lib64/libcufile.so: undefined reference to `std::basic_fstream<char, std::char_traits<char> >::~basic_fstream()@GLIBCXX_3.4'\n",
      "/export/home2/weijie210/miniconda3/envs/cot/compiler_compat/ld: /cm/shared/apps/cuda12.1/toolkit/12.1.1/lib64/libcufile.so: undefined reference to `std::string::compare(char const*) const@GLIBCXX_3.4'\n",
      "/export/home2/weijie210/miniconda3/envs/cot/compiler_compat/ld: /cm/shared/apps/cuda12.1/toolkit/12.1.1/lib64/libcufile.so: undefined reference to `VTT for std::basic_ostringstream<wchar_t, std::char_traits<wchar_t>, std::allocator<wchar_t> >@GLIBCXX_3.4'\n",
      "/export/home2/weijie210/miniconda3/envs/cot/compiler_compat/ld: /cm/shared/apps/cuda12.1/toolkit/12.1.1/lib64/libcufile.so: undefined reference to `std::locale::locale()@GLIBCXX_3.4'\n",
      "/export/home2/weijie210/miniconda3/envs/cot/compiler_compat/ld: /cm/shared/apps/cuda12.1/toolkit/12.1.1/lib64/libcufile.so: undefined reference to `std::chrono::_V2::system_clock::now()@GLIBCXX_3.4.19'\n",
      "/export/home2/weijie210/miniconda3/envs/cot/compiler_compat/ld: /cm/shared/apps/cuda12.1/toolkit/12.1.1/lib64/libcufile.so: undefined reference to `VTT for std::basic_ifstream<char, std::char_traits<char> >@GLIBCXX_3.4'\n",
      "/export/home2/weijie210/miniconda3/envs/cot/compiler_compat/ld: /cm/shared/apps/cuda12.1/toolkit/12.1.1/lib64/libcufile.so: undefined reference to `std::_Hash_bytes(void const*, unsigned long, unsigned long)@CXXABI_1.3.5'\n",
      "/export/home2/weijie210/miniconda3/envs/cot/compiler_compat/ld: /cm/shared/apps/cuda12.1/toolkit/12.1.1/lib64/libcufile.so: undefined reference to `std::ostream& std::ostream::_M_insert<long long>(long long)@GLIBCXX_3.4.9'\n",
      "/export/home2/weijie210/miniconda3/envs/cot/compiler_compat/ld: /cm/shared/apps/cuda12.1/toolkit/12.1.1/lib64/libcufile.so: undefined reference to `typeinfo for char*@CXXABI_1.3'\n",
      "/export/home2/weijie210/miniconda3/envs/cot/compiler_compat/ld: /cm/shared/apps/cuda12.1/toolkit/12.1.1/lib64/libcufile.so: undefined reference to `std::__detail::_Prime_rehash_policy::_M_need_rehash(unsigned long, unsigned long, unsigned long) const@GLIBCXX_3.4.18'\n",
      "/export/home2/weijie210/miniconda3/envs/cot/compiler_compat/ld: /cm/shared/apps/cuda12.1/toolkit/12.1.1/lib64/libcufile.so: undefined reference to `vtable for std::out_of_range@GLIBCXX_3.4'\n",
      "/export/home2/weijie210/miniconda3/envs/cot/compiler_compat/ld: /cm/shared/apps/cuda12.1/toolkit/12.1.1/lib64/libcufile.so: undefined reference to `dlclose'\n",
      "/export/home2/weijie210/miniconda3/envs/cot/compiler_compat/ld: /cm/shared/apps/cuda12.1/toolkit/12.1.1/lib64/libcufile.so: undefined reference to `std::ostream& std::ostream::_M_insert<unsigned long>(unsigned long)@GLIBCXX_3.4.9'\n",
      "/export/home2/weijie210/miniconda3/envs/cot/compiler_compat/ld: /cm/shared/apps/cuda12.1/toolkit/12.1.1/lib64/libcufile.so: undefined reference to `std::_Rb_tree_increment(std::_Rb_tree_node_base const*)@GLIBCXX_3.4'\n",
      "/export/home2/weijie210/miniconda3/envs/cot/compiler_compat/ld: /cm/shared/apps/cuda12.1/toolkit/12.1.1/lib64/libcufile.so: undefined reference to `std::ios_base::~ios_base()@GLIBCXX_3.4'\n",
      "/export/home2/weijie210/miniconda3/envs/cot/compiler_compat/ld: /cm/shared/apps/cuda12.1/toolkit/12.1.1/lib64/libcufile.so: undefined reference to `std::range_error::~range_error()@GLIBCXX_3.4'\n",
      "/export/home2/weijie210/miniconda3/envs/cot/compiler_compat/ld: /cm/shared/apps/cuda12.1/toolkit/12.1.1/lib64/libcufile.so: undefined reference to `std::__basic_file<char>::~__basic_file()@GLIBCXX_3.4'\n",
      "/export/home2/weijie210/miniconda3/envs/cot/compiler_compat/ld: /cm/shared/apps/cuda12.1/toolkit/12.1.1/lib64/libcufile.so: undefined reference to `__cxa_guard_acquire@CXXABI_1.3'\n",
      "/export/home2/weijie210/miniconda3/envs/cot/compiler_compat/ld: /cm/shared/apps/cuda12.1/toolkit/12.1.1/lib64/libcufile.so: undefined reference to `std::ostream& std::ostream::_M_insert<bool>(bool)@GLIBCXX_3.4.9'\n",
      "/export/home2/weijie210/miniconda3/envs/cot/compiler_compat/ld: /cm/shared/apps/cuda12.1/toolkit/12.1.1/lib64/libcufile.so: undefined reference to `vtable for std::overflow_error@GLIBCXX_3.4'\n",
      "/export/home2/weijie210/miniconda3/envs/cot/compiler_compat/ld: /cm/shared/apps/cuda12.1/toolkit/12.1.1/lib64/libcufile.so: undefined reference to `VTT for std::basic_fstream<char, std::char_traits<char> >@GLIBCXX_3.4'\n",
      "/export/home2/weijie210/miniconda3/envs/cot/compiler_compat/ld: /cm/shared/apps/cuda12.1/toolkit/12.1.1/lib64/libcufile.so: undefined reference to `vtable for std::range_error@GLIBCXX_3.4'\n",
      "/export/home2/weijie210/miniconda3/envs/cot/compiler_compat/ld: /cm/shared/apps/cuda12.1/toolkit/12.1.1/lib64/libcufile.so: undefined reference to `vtable for std::basic_ios<char, std::char_traits<char> >@GLIBCXX_3.4'\n",
      "/export/home2/weijie210/miniconda3/envs/cot/compiler_compat/ld: /cm/shared/apps/cuda12.1/toolkit/12.1.1/lib64/libcufile.so: undefined reference to `vtable for std::basic_filebuf<char, std::char_traits<char> >@GLIBCXX_3.4'\n",
      "/export/home2/weijie210/miniconda3/envs/cot/compiler_compat/ld: /cm/shared/apps/cuda12.1/toolkit/12.1.1/lib64/libcufile.so: undefined reference to `operator delete[](void*)@GLIBCXX_3.4'\n",
      "/export/home2/weijie210/miniconda3/envs/cot/compiler_compat/ld: /cm/shared/apps/cuda12.1/toolkit/12.1.1/lib64/libcufile.so: undefined reference to `vtable for std::basic_stringstream<char, std::char_traits<char>, std::allocator<char> >@GLIBCXX_3.4'\n",
      "/export/home2/weijie210/miniconda3/envs/cot/compiler_compat/ld: /cm/shared/apps/cuda12.1/toolkit/12.1.1/lib64/libcufile.so: undefined reference to `std::basic_string<char, std::char_traits<char>, std::allocator<char> >::basic_string(unsigned long, char, std::allocator<char> const&)@GLIBCXX_3.4'\n",
      "/export/home2/weijie210/miniconda3/envs/cot/compiler_compat/ld: /cm/shared/apps/cuda12.1/toolkit/12.1.1/lib64/libcufile.so: undefined reference to `std::__detail::_List_node_base::_M_transfer(std::__detail::_List_node_base*, std::__detail::_List_node_base*)@GLIBCXX_3.4.15'\n",
      "/export/home2/weijie210/miniconda3/envs/cot/compiler_compat/ld: /cm/shared/apps/cuda12.1/toolkit/12.1.1/lib64/libcufile.so: undefined reference to `std::string::replace(unsigned long, unsigned long, char const*, unsigned long)@GLIBCXX_3.4'\n",
      "/export/home2/weijie210/miniconda3/envs/cot/compiler_compat/ld: /cm/shared/apps/cuda12.1/toolkit/12.1.1/lib64/libcufile.so: undefined reference to `typeinfo for std::exception@GLIBCXX_3.4'\n",
      "/export/home2/weijie210/miniconda3/envs/cot/compiler_compat/ld: /cm/shared/apps/cuda12.1/toolkit/12.1.1/lib64/libcufile.so: undefined reference to `std::basic_string<wchar_t, std::char_traits<wchar_t>, std::allocator<wchar_t> >::_Rep::_M_destroy(std::allocator<wchar_t> const&)@GLIBCXX_3.4'\n",
      "/export/home2/weijie210/miniconda3/envs/cot/compiler_compat/ld: /cm/shared/apps/cuda12.1/toolkit/12.1.1/lib64/libcufile.so: undefined reference to `std::istream& std::istream::_M_extract<double>(double&)@GLIBCXX_3.4.9'\n",
      "/export/home2/weijie210/miniconda3/envs/cot/compiler_compat/ld: /cm/shared/apps/cuda12.1/toolkit/12.1.1/lib64/libcufile.so: undefined reference to `std::basic_filebuf<char, std::char_traits<char> >::close()@GLIBCXX_3.4'\n",
      "/export/home2/weijie210/miniconda3/envs/cot/compiler_compat/ld: /cm/shared/apps/cuda12.1/toolkit/12.1.1/lib64/libcufile.so: undefined reference to `vtable for std::basic_fstream<char, std::char_traits<char> >@GLIBCXX_3.4'\n",
      "/export/home2/weijie210/miniconda3/envs/cot/compiler_compat/ld: /cm/shared/apps/cuda12.1/toolkit/12.1.1/lib64/libcufile.so: undefined reference to `std::basic_ifstream<char, std::char_traits<char> >::basic_ifstream(char const*, std::_Ios_Openmode)@GLIBCXX_3.4'\n",
      "/export/home2/weijie210/miniconda3/envs/cot/compiler_compat/ld: /cm/shared/apps/cuda12.1/toolkit/12.1.1/lib64/libcufile.so: undefined reference to `std::string::append(std::string const&)@GLIBCXX_3.4'\n",
      "/export/home2/weijie210/miniconda3/envs/cot/compiler_compat/ld: /cm/shared/apps/cuda12.1/toolkit/12.1.1/lib64/libcufile.so: undefined reference to `operator new(unsigned long)@GLIBCXX_3.4'\n",
      "/export/home2/weijie210/miniconda3/envs/cot/compiler_compat/ld: /cm/shared/apps/cuda12.1/toolkit/12.1.1/lib64/libcufile.so: undefined reference to `VTT for std::basic_istringstream<wchar_t, std::char_traits<wchar_t>, std::allocator<wchar_t> >@GLIBCXX_3.4'\n",
      "/export/home2/weijie210/miniconda3/envs/cot/compiler_compat/ld: /cm/shared/apps/cuda12.1/toolkit/12.1.1/lib64/libcufile.so: undefined reference to `typeinfo for unsigned int@CXXABI_1.3'\n",
      "/export/home2/weijie210/miniconda3/envs/cot/compiler_compat/ld: /cm/shared/apps/cuda12.1/toolkit/12.1.1/lib64/libcufile.so: undefined reference to `std::string::append(char const*)@GLIBCXX_3.4'\n",
      "/export/home2/weijie210/miniconda3/envs/cot/compiler_compat/ld: /cm/shared/apps/cuda12.1/toolkit/12.1.1/lib64/libcufile.so: undefined reference to `vtable for std::domain_error@GLIBCXX_3.4'\n",
      "/export/home2/weijie210/miniconda3/envs/cot/compiler_compat/ld: /cm/shared/apps/cuda12.1/toolkit/12.1.1/lib64/libcufile.so: undefined reference to `std::string::find(char, unsigned long) const@GLIBCXX_3.4'\n",
      "/export/home2/weijie210/miniconda3/envs/cot/compiler_compat/ld: /cm/shared/apps/cuda12.1/toolkit/12.1.1/lib64/libcufile.so: undefined reference to `std::ostream::put(char)@GLIBCXX_3.4'\n",
      "/export/home2/weijie210/miniconda3/envs/cot/compiler_compat/ld: /cm/shared/apps/cuda12.1/toolkit/12.1.1/lib64/libcufile.so: undefined reference to `typeinfo for int@CXXABI_1.3'\n",
      "/export/home2/weijie210/miniconda3/envs/cot/compiler_compat/ld: /cm/shared/apps/cuda12.1/toolkit/12.1.1/lib64/libcufile.so: undefined reference to `std::__throw_bad_alloc()@GLIBCXX_3.4'\n",
      "/export/home2/weijie210/miniconda3/envs/cot/compiler_compat/ld: /cm/shared/apps/cuda12.1/toolkit/12.1.1/lib64/libcufile.so: undefined reference to `__cxa_thread_atexit@CXXABI_1.3.7'\n",
      "/export/home2/weijie210/miniconda3/envs/cot/compiler_compat/ld: /cm/shared/apps/cuda12.1/toolkit/12.1.1/lib64/libcufile.so: undefined reference to `std::_Rb_tree_increment(std::_Rb_tree_node_base*)@GLIBCXX_3.4'\n",
      "/export/home2/weijie210/miniconda3/envs/cot/compiler_compat/ld: /cm/shared/apps/cuda12.1/toolkit/12.1.1/lib64/libcufile.so: undefined reference to `std::basic_ifstream<char, std::char_traits<char> >::~basic_ifstream()@GLIBCXX_3.4'\n",
      "/export/home2/weijie210/miniconda3/envs/cot/compiler_compat/ld: /cm/shared/apps/cuda12.1/toolkit/12.1.1/lib64/libcufile.so: undefined reference to `std::ios_base::Init::Init()@GLIBCXX_3.4'\n",
      "/export/home2/weijie210/miniconda3/envs/cot/compiler_compat/ld: /cm/shared/apps/cuda12.1/toolkit/12.1.1/lib64/libcufile.so: undefined reference to `std::condition_variable::condition_variable()@GLIBCXX_3.4.11'\n",
      "/export/home2/weijie210/miniconda3/envs/cot/compiler_compat/ld: /cm/shared/apps/cuda12.1/toolkit/12.1.1/lib64/libcufile.so: undefined reference to `std::basic_filebuf<char, std::char_traits<char> >::basic_filebuf()@GLIBCXX_3.4'\n",
      "/export/home2/weijie210/miniconda3/envs/cot/compiler_compat/ld: /cm/shared/apps/cuda12.1/toolkit/12.1.1/lib64/libcufile.so: undefined reference to `VTT for std::basic_istringstream<char, std::char_traits<char>, std::allocator<char> >@GLIBCXX_3.4'\n",
      "/export/home2/weijie210/miniconda3/envs/cot/compiler_compat/ld: /cm/shared/apps/cuda12.1/toolkit/12.1.1/lib64/libcufile.so: undefined reference to `std::domain_error::~domain_error()@GLIBCXX_3.4'\n",
      "/export/home2/weijie210/miniconda3/envs/cot/compiler_compat/ld: /cm/shared/apps/cuda12.1/toolkit/12.1.1/lib64/libcufile.so: undefined reference to `std::cerr@GLIBCXX_3.4'\n",
      "/export/home2/weijie210/miniconda3/envs/cot/compiler_compat/ld: /cm/shared/apps/cuda12.1/toolkit/12.1.1/lib64/libcufile.so: undefined reference to `std::string::find(char const*, unsigned long, unsigned long) const@GLIBCXX_3.4'\n",
      "/export/home2/weijie210/miniconda3/envs/cot/compiler_compat/ld: /cm/shared/apps/cuda12.1/toolkit/12.1.1/lib64/libcufile.so: undefined reference to `vtable for std::basic_istringstream<char, std::char_traits<char>, std::allocator<char> >@GLIBCXX_3.4'\n",
      "/export/home2/weijie210/miniconda3/envs/cot/compiler_compat/ld: /cm/shared/apps/cuda12.1/toolkit/12.1.1/lib64/libcufile.so: undefined reference to `std::basic_string<char, std::char_traits<char>, std::allocator<char> >::basic_string(std::allocator<char> const&)@GLIBCXX_3.4'\n",
      "/export/home2/weijie210/miniconda3/envs/cot/compiler_compat/ld: /cm/shared/apps/cuda12.1/toolkit/12.1.1/lib64/libcufile.so: undefined reference to `std::basic_stringbuf<char, std::char_traits<char>, std::allocator<char> >::str() const@GLIBCXX_3.4'\n",
      "/export/home2/weijie210/miniconda3/envs/cot/compiler_compat/ld: /cm/shared/apps/cuda12.1/toolkit/12.1.1/lib64/libcufile.so: undefined reference to `vtable for std::invalid_argument@GLIBCXX_3.4'\n",
      "/export/home2/weijie210/miniconda3/envs/cot/compiler_compat/ld: /cm/shared/apps/cuda12.1/toolkit/12.1.1/lib64/libcufile.so: undefined reference to `typeinfo for void*@CXXABI_1.3'\n",
      "/export/home2/weijie210/miniconda3/envs/cot/compiler_compat/ld: /cm/shared/apps/cuda12.1/toolkit/12.1.1/lib64/libcufile.so: undefined reference to `std::string::assign(std::string const&)@GLIBCXX_3.4'\n",
      "/export/home2/weijie210/miniconda3/envs/cot/compiler_compat/ld: /cm/shared/apps/cuda12.1/toolkit/12.1.1/lib64/libcufile.so: undefined reference to `std::basic_ostringstream<char, std::char_traits<char>, std::allocator<char> >::~basic_ostringstream()@GLIBCXX_3.4'\n",
      "/export/home2/weijie210/miniconda3/envs/cot/compiler_compat/ld: /cm/shared/apps/cuda12.1/toolkit/12.1.1/lib64/libcufile.so: undefined reference to `std::_Rb_tree_rebalance_for_erase(std::_Rb_tree_node_base*, std::_Rb_tree_node_base&)@GLIBCXX_3.4'\n",
      "/export/home2/weijie210/miniconda3/envs/cot/compiler_compat/ld: /cm/shared/apps/cuda12.1/toolkit/12.1.1/lib64/libcufile.so: undefined reference to `typeinfo for unsigned long@CXXABI_1.3'\n",
      "/export/home2/weijie210/miniconda3/envs/cot/compiler_compat/ld: /cm/shared/apps/cuda12.1/toolkit/12.1.1/lib64/libcufile.so: undefined reference to `std::__detail::_List_node_base::_M_hook(std::__detail::_List_node_base*)@GLIBCXX_3.4.15'\n",
      "/export/home2/weijie210/miniconda3/envs/cot/compiler_compat/ld: /cm/shared/apps/cuda12.1/toolkit/12.1.1/lib64/libcufile.so: undefined reference to `std::__detail::_List_node_base::_M_unhook()@GLIBCXX_3.4.15'\n",
      "/export/home2/weijie210/miniconda3/envs/cot/compiler_compat/ld: /cm/shared/apps/cuda12.1/toolkit/12.1.1/lib64/libcufile.so: undefined reference to `vtable for std::basic_ostringstream<wchar_t, std::char_traits<wchar_t>, std::allocator<wchar_t> >@GLIBCXX_3.4'\n",
      "/export/home2/weijie210/miniconda3/envs/cot/compiler_compat/ld: /cm/shared/apps/cuda12.1/toolkit/12.1.1/lib64/libcufile.so: undefined reference to `std::basic_stringbuf<char, std::char_traits<char>, std::allocator<char> >::_M_sync(char*, unsigned long, unsigned long)@GLIBCXX_3.4'\n",
      "/export/home2/weijie210/miniconda3/envs/cot/compiler_compat/ld: /cm/shared/apps/cuda12.1/toolkit/12.1.1/lib64/libcufile.so: undefined reference to `std::basic_iostream<char, std::char_traits<char> >::~basic_iostream()@GLIBCXX_3.4'\n",
      "/export/home2/weijie210/miniconda3/envs/cot/compiler_compat/ld: /cm/shared/apps/cuda12.1/toolkit/12.1.1/lib64/libcufile.so: undefined reference to `std::locale::locale(std::locale const&)@GLIBCXX_3.4'\n",
      "/export/home2/weijie210/miniconda3/envs/cot/compiler_compat/ld: /cm/shared/apps/cuda12.1/toolkit/12.1.1/lib64/libcufile.so: undefined reference to `vtable for std::basic_istringstream<wchar_t, std::char_traits<wchar_t>, std::allocator<wchar_t> >@GLIBCXX_3.4'\n",
      "/export/home2/weijie210/miniconda3/envs/cot/compiler_compat/ld: /cm/shared/apps/cuda12.1/toolkit/12.1.1/lib64/libcufile.so: undefined reference to `log2f@GLIBC_2.2.5'\n",
      "/export/home2/weijie210/miniconda3/envs/cot/compiler_compat/ld: /cm/shared/apps/cuda12.1/toolkit/12.1.1/lib64/libcufile.so: undefined reference to `std::ostream::operator<<(std::basic_streambuf<char, std::char_traits<char> >*)@GLIBCXX_3.4'\n",
      "/export/home2/weijie210/miniconda3/envs/cot/compiler_compat/ld: /cm/shared/apps/cuda12.1/toolkit/12.1.1/lib64/libcufile.so: undefined reference to `vtable for std::basic_streambuf<wchar_t, std::char_traits<wchar_t> >@GLIBCXX_3.4'\n",
      "/export/home2/weijie210/miniconda3/envs/cot/compiler_compat/ld: /cm/shared/apps/cuda12.1/toolkit/12.1.1/lib64/libcufile.so: undefined reference to `std::exception::~exception()@GLIBCXX_3.4'\n",
      "/export/home2/weijie210/miniconda3/envs/cot/compiler_compat/ld: /cm/shared/apps/cuda12.1/toolkit/12.1.1/lib64/libcufile.so: undefined reference to `std::string::_Rep::_S_create(unsigned long, unsigned long, std::allocator<char> const&)@GLIBCXX_3.4'\n",
      "/export/home2/weijie210/miniconda3/envs/cot/compiler_compat/ld: /cm/shared/apps/cuda12.1/toolkit/12.1.1/lib64/libcufile.so: undefined reference to `std::__basic_file<char>::is_open() const@GLIBCXX_3.4'\n",
      "/export/home2/weijie210/miniconda3/envs/cot/compiler_compat/ld: /cm/shared/apps/cuda12.1/toolkit/12.1.1/lib64/libcufile.so: undefined reference to `dlerror'\n",
      "/export/home2/weijie210/miniconda3/envs/cot/compiler_compat/ld: /cm/shared/apps/cuda12.1/toolkit/12.1.1/lib64/libcufile.so: undefined reference to `std::basic_istringstream<char, std::char_traits<char>, std::allocator<char> >::~basic_istringstream()@GLIBCXX_3.4'\n",
      "/export/home2/weijie210/miniconda3/envs/cot/compiler_compat/ld: /cm/shared/apps/cuda12.1/toolkit/12.1.1/lib64/libcufile.so: undefined reference to `std::string::swap(std::string&)@GLIBCXX_3.4'\n",
      "/export/home2/weijie210/miniconda3/envs/cot/compiler_compat/ld: /cm/shared/apps/cuda12.1/toolkit/12.1.1/lib64/libcufile.so: undefined reference to `typeinfo for unsigned long*@CXXABI_1.3'\n",
      "/export/home2/weijie210/miniconda3/envs/cot/compiler_compat/ld: /cm/shared/apps/cuda12.1/toolkit/12.1.1/lib64/libcufile.so: undefined reference to `vtable for std::basic_ostringstream<char, std::char_traits<char>, std::allocator<char> >@GLIBCXX_3.4'\n",
      "/export/home2/weijie210/miniconda3/envs/cot/compiler_compat/ld: /cm/shared/apps/cuda12.1/toolkit/12.1.1/lib64/libcufile.so: undefined reference to `std::basic_streambuf<char, std::char_traits<char> >::basic_streambuf(std::basic_streambuf<char, std::char_traits<char> > const&)@GLIBCXX_3.4'\n",
      "/export/home2/weijie210/miniconda3/envs/cot/compiler_compat/ld: /cm/shared/apps/cuda12.1/toolkit/12.1.1/lib64/libcufile.so: undefined reference to `std::basic_ios<char, std::char_traits<char> >::init(std::basic_streambuf<char, std::char_traits<char> >*)@GLIBCXX_3.4'\n",
      "/export/home2/weijie210/miniconda3/envs/cot/compiler_compat/ld: /cm/shared/apps/cuda12.1/toolkit/12.1.1/lib64/libcufile.so: undefined reference to `dlsym'\n",
      "/export/home2/weijie210/miniconda3/envs/cot/compiler_compat/ld: /cm/shared/apps/cuda12.1/toolkit/12.1.1/lib64/libcufile.so: undefined reference to `std::__throw_bad_cast()@GLIBCXX_3.4'\n",
      "/export/home2/weijie210/miniconda3/envs/cot/compiler_compat/ld: /cm/shared/apps/cuda12.1/toolkit/12.1.1/lib64/libcufile.so: undefined reference to `std::basic_ios<char, std::char_traits<char> >::clear(std::_Ios_Iostate)@GLIBCXX_3.4'\n",
      "/export/home2/weijie210/miniconda3/envs/cot/compiler_compat/ld: /cm/shared/apps/cuda12.1/toolkit/12.1.1/lib64/libcufile.so: undefined reference to `std::basic_streambuf<wchar_t, std::char_traits<wchar_t> >::operator=(std::basic_streambuf<wchar_t, std::char_traits<wchar_t> > const&)@GLIBCXX_3.4'\n",
      "/export/home2/weijie210/miniconda3/envs/cot/compiler_compat/ld: /cm/shared/apps/cuda12.1/toolkit/12.1.1/lib64/libcufile.so: undefined reference to `operator delete(void*)@GLIBCXX_3.4'\n",
      "/export/home2/weijie210/miniconda3/envs/cot/compiler_compat/ld: /cm/shared/apps/cuda12.1/toolkit/12.1.1/lib64/libcufile.so: undefined reference to `std::ostream::operator<<(int)@GLIBCXX_3.4'\n",
      "/export/home2/weijie210/miniconda3/envs/cot/compiler_compat/ld: /cm/shared/apps/cuda12.1/toolkit/12.1.1/lib64/libcufile.so: undefined reference to `std::string::_Rep::_S_empty_rep_storage@GLIBCXX_3.4'\n",
      "/export/home2/weijie210/miniconda3/envs/cot/compiler_compat/ld: /cm/shared/apps/cuda12.1/toolkit/12.1.1/lib64/libcufile.so: undefined reference to `std::string::_Rep::_M_destroy(std::allocator<char> const&)@GLIBCXX_3.4'\n",
      "/export/home2/weijie210/miniconda3/envs/cot/compiler_compat/ld: /cm/shared/apps/cuda12.1/toolkit/12.1.1/lib64/libcufile.so: undefined reference to `std::basic_iostream<wchar_t, std::char_traits<wchar_t> >::~basic_iostream()@GLIBCXX_3.4'\n",
      "/export/home2/weijie210/miniconda3/envs/cot/compiler_compat/ld: /cm/shared/apps/cuda12.1/toolkit/12.1.1/lib64/libcufile.so: undefined reference to `vtable for std::runtime_error@GLIBCXX_3.4'\n",
      "/export/home2/weijie210/miniconda3/envs/cot/compiler_compat/ld: /cm/shared/apps/cuda12.1/toolkit/12.1.1/lib64/libcufile.so: undefined reference to `vtable for std::basic_ofstream<char, std::char_traits<char> >@GLIBCXX_3.4'\n",
      "/export/home2/weijie210/miniconda3/envs/cot/compiler_compat/ld: /cm/shared/apps/cuda12.1/toolkit/12.1.1/lib64/libcufile.so: undefined reference to `std::_Rb_tree_insert_and_rebalance(bool, std::_Rb_tree_node_base*, std::_Rb_tree_node_base*, std::_Rb_tree_node_base&)@GLIBCXX_3.4'\n",
      "/export/home2/weijie210/miniconda3/envs/cot/compiler_compat/ld: /cm/shared/apps/cuda12.1/toolkit/12.1.1/lib64/libcufile.so: undefined reference to `std::basic_stringstream<char, std::char_traits<char>, std::allocator<char> >::~basic_stringstream()@GLIBCXX_3.4'\n",
      "/export/home2/weijie210/miniconda3/envs/cot/compiler_compat/ld: /cm/shared/apps/cuda12.1/toolkit/12.1.1/lib64/libcufile.so: undefined reference to `VTT for std::basic_stringstream<wchar_t, std::char_traits<wchar_t>, std::allocator<wchar_t> >@GLIBCXX_3.4'\n",
      "/export/home2/weijie210/miniconda3/envs/cot/compiler_compat/ld: /cm/shared/apps/cuda12.1/toolkit/12.1.1/lib64/libcufile.so: undefined reference to `std::ostream& std::ostream::_M_insert<long>(long)@GLIBCXX_3.4.9'\n",
      "/export/home2/weijie210/miniconda3/envs/cot/compiler_compat/ld: /cm/shared/apps/cuda12.1/toolkit/12.1.1/lib64/libcufile.so: undefined reference to `std::istream::get()@GLIBCXX_3.4'\n",
      "/export/home2/weijie210/miniconda3/envs/cot/compiler_compat/ld: /cm/shared/apps/cuda12.1/toolkit/12.1.1/lib64/libcufile.so: undefined reference to `typeinfo for unsigned long long@CXXABI_1.3'\n",
      "/export/home2/weijie210/miniconda3/envs/cot/compiler_compat/ld: /cm/shared/apps/cuda12.1/toolkit/12.1.1/lib64/libcufile.so: undefined reference to `std::basic_ostream<char, std::char_traits<char> >& std::operator<< <std::char_traits<char> >(std::basic_ostream<char, std::char_traits<char> >&, char const*)@GLIBCXX_3.4'\n",
      "/export/home2/weijie210/miniconda3/envs/cot/compiler_compat/ld: /cm/shared/apps/cuda12.1/toolkit/12.1.1/lib64/libcufile.so: undefined reference to `std::out_of_range::~out_of_range()@GLIBCXX_3.4'\n",
      "/export/home2/weijie210/miniconda3/envs/cot/compiler_compat/ld: /cm/shared/apps/cuda12.1/toolkit/12.1.1/lib64/libcufile.so: undefined reference to `std::length_error::~length_error()@GLIBCXX_3.4'\n",
      "/export/home2/weijie210/miniconda3/envs/cot/compiler_compat/ld: /cm/shared/apps/cuda12.1/toolkit/12.1.1/lib64/libcufile.so: undefined reference to `std::basic_ostream<char, std::char_traits<char> >& std::__ostream_insert<char, std::char_traits<char> >(std::basic_ostream<char, std::char_traits<char> >&, char const*, long)@GLIBCXX_3.4.9'\n",
      "/export/home2/weijie210/miniconda3/envs/cot/compiler_compat/ld: /cm/shared/apps/cuda12.1/toolkit/12.1.1/lib64/libcufile.so: undefined reference to `std::invalid_argument::~invalid_argument()@GLIBCXX_3.4'\n",
      "/export/home2/weijie210/miniconda3/envs/cot/compiler_compat/ld: /cm/shared/apps/cuda12.1/toolkit/12.1.1/lib64/libcufile.so: undefined reference to `std::basic_string<wchar_t, std::char_traits<wchar_t>, std::allocator<wchar_t> >::swap(std::basic_string<wchar_t, std::char_traits<wchar_t>, std::allocator<wchar_t> >&)@GLIBCXX_3.4'\n",
      "/export/home2/weijie210/miniconda3/envs/cot/compiler_compat/ld: /cm/shared/apps/cuda12.1/toolkit/12.1.1/lib64/libcufile.so: undefined reference to `std::cout@GLIBCXX_3.4'\n",
      "/export/home2/weijie210/miniconda3/envs/cot/compiler_compat/ld: /cm/shared/apps/cuda12.1/toolkit/12.1.1/lib64/libcufile.so: undefined reference to `std::ostream& std::ostream::_M_insert<unsigned long long>(unsigned long long)@GLIBCXX_3.4.9'\n",
      "/export/home2/weijie210/miniconda3/envs/cot/compiler_compat/ld: /cm/shared/apps/cuda12.1/toolkit/12.1.1/lib64/libcufile.so: undefined reference to `typeinfo for int*@CXXABI_1.3'\n",
      "/export/home2/weijie210/miniconda3/envs/cot/compiler_compat/ld: /cm/shared/apps/cuda12.1/toolkit/12.1.1/lib64/libcufile.so: undefined reference to `std::ostream& std::ostream::_M_insert<void const*>(void const*)@GLIBCXX_3.4.9'\n",
      "/export/home2/weijie210/miniconda3/envs/cot/compiler_compat/ld: /cm/shared/apps/cuda12.1/toolkit/12.1.1/lib64/libcufile.so: undefined reference to `vtable for std::underflow_error@GLIBCXX_3.4'\n",
      "/export/home2/weijie210/miniconda3/envs/cot/compiler_compat/ld: /cm/shared/apps/cuda12.1/toolkit/12.1.1/lib64/libcufile.so: undefined reference to `vtable for std::basic_streambuf<char, std::char_traits<char> >@GLIBCXX_3.4'\n",
      "/export/home2/weijie210/miniconda3/envs/cot/compiler_compat/ld: /cm/shared/apps/cuda12.1/toolkit/12.1.1/lib64/libcufile.so: undefined reference to `typeinfo for std::out_of_range@GLIBCXX_3.4'\n",
      "/export/home2/weijie210/miniconda3/envs/cot/compiler_compat/ld: /cm/shared/apps/cuda12.1/toolkit/12.1.1/lib64/libcufile.so: undefined reference to `__cxa_allocate_exception@CXXABI_1.3'\n",
      "/export/home2/weijie210/miniconda3/envs/cot/compiler_compat/ld: /cm/shared/apps/cuda12.1/toolkit/12.1.1/lib64/libcufile.so: undefined reference to `vtable for std::basic_ios<wchar_t, std::char_traits<wchar_t> >@GLIBCXX_3.4'\n",
      "/export/home2/weijie210/miniconda3/envs/cot/compiler_compat/ld: /cm/shared/apps/cuda12.1/toolkit/12.1.1/lib64/libcufile.so: undefined reference to `typeinfo for void const*@CXXABI_1.3'\n",
      "/export/home2/weijie210/miniconda3/envs/cot/compiler_compat/ld: /cm/shared/apps/cuda12.1/toolkit/12.1.1/lib64/libcufile.so: undefined reference to `std::basic_ios<wchar_t, std::char_traits<wchar_t> >::init(std::basic_streambuf<wchar_t, std::char_traits<wchar_t> >*)@GLIBCXX_3.4'\n",
      "/export/home2/weijie210/miniconda3/envs/cot/compiler_compat/ld: /cm/shared/apps/cuda12.1/toolkit/12.1.1/lib64/libcufile.so: undefined reference to `std::string::reserve(unsigned long)@GLIBCXX_3.4'\n",
      "/export/home2/weijie210/miniconda3/envs/cot/compiler_compat/ld: /cm/shared/apps/cuda12.1/toolkit/12.1.1/lib64/libcufile.so: undefined reference to `__cxa_begin_catch@CXXABI_1.3'\n",
      "/export/home2/weijie210/miniconda3/envs/cot/compiler_compat/ld: /cm/shared/apps/cuda12.1/toolkit/12.1.1/lib64/libcufile.so: undefined reference to `typeinfo for long@CXXABI_1.3'\n",
      "/export/home2/weijie210/miniconda3/envs/cot/compiler_compat/ld: /cm/shared/apps/cuda12.1/toolkit/12.1.1/lib64/libcufile.so: undefined reference to `std::basic_string<wchar_t, std::char_traits<wchar_t>, std::allocator<wchar_t> >::_Rep::_S_empty_rep_storage@GLIBCXX_3.4'\n",
      "/export/home2/weijie210/miniconda3/envs/cot/compiler_compat/ld: /cm/shared/apps/cuda12.1/toolkit/12.1.1/lib64/libcufile.so: undefined reference to `std::string::_M_leak()@GLIBCXX_3.4'\n",
      "/export/home2/weijie210/miniconda3/envs/cot/compiler_compat/ld: /cm/shared/apps/cuda12.1/toolkit/12.1.1/lib64/libcufile.so: undefined reference to `std::basic_filebuf<char, std::char_traits<char> >::open(char const*, std::_Ios_Openmode)@GLIBCXX_3.4'\n",
      "/export/home2/weijie210/miniconda3/envs/cot/compiler_compat/ld: /cm/shared/apps/cuda12.1/toolkit/12.1.1/lib64/libcufile.so: undefined reference to `std::basic_stringbuf<wchar_t, std::char_traits<wchar_t>, std::allocator<wchar_t> >::_M_sync(wchar_t*, unsigned long, unsigned long)@GLIBCXX_3.4'\n",
      "/export/home2/weijie210/miniconda3/envs/cot/compiler_compat/ld: /cm/shared/apps/cuda12.1/toolkit/12.1.1/lib64/libcufile.so: undefined reference to `std::istream::getline(char*, long, char)@GLIBCXX_3.4'\n",
      "/export/home2/weijie210/miniconda3/envs/cot/compiler_compat/ld: /cm/shared/apps/cuda12.1/toolkit/12.1.1/lib64/libcufile.so: undefined reference to `std::basic_istream<char, std::char_traits<char> >& std::getline<char, std::char_traits<char>, std::allocator<char> >(std::basic_istream<char, std::char_traits<char> >&, std::basic_string<char, std::char_traits<char>, std::allocator<char> >&, char)@GLIBCXX_3.4'\n",
      "/export/home2/weijie210/miniconda3/envs/cot/compiler_compat/ld: /cm/shared/apps/cuda12.1/toolkit/12.1.1/lib64/libcufile.so: undefined reference to `vtable for std::basic_stringstream<wchar_t, std::char_traits<wchar_t>, std::allocator<wchar_t> >@GLIBCXX_3.4'\n",
      "/export/home2/weijie210/miniconda3/envs/cot/compiler_compat/ld: /cm/shared/apps/cuda12.1/toolkit/12.1.1/lib64/libcufile.so: undefined reference to `std::condition_variable::~condition_variable()@GLIBCXX_3.4.11'\n",
      "/export/home2/weijie210/miniconda3/envs/cot/compiler_compat/ld: /cm/shared/apps/cuda12.1/toolkit/12.1.1/lib64/libcufile.so: undefined reference to `vtable for std::basic_stringbuf<wchar_t, std::char_traits<wchar_t>, std::allocator<wchar_t> >@GLIBCXX_3.4'\n",
      "/export/home2/weijie210/miniconda3/envs/cot/compiler_compat/ld: /cm/shared/apps/cuda12.1/toolkit/12.1.1/lib64/libcufile.so: undefined reference to `std::string::insert(unsigned long, char const*, unsigned long)@GLIBCXX_3.4'\n",
      "/export/home2/weijie210/miniconda3/envs/cot/compiler_compat/ld: /cm/shared/apps/cuda12.1/toolkit/12.1.1/lib64/libcufile.so: undefined reference to `std::string::assign(char const*, unsigned long)@GLIBCXX_3.4'\n",
      "/export/home2/weijie210/miniconda3/envs/cot/compiler_compat/ld: /cm/shared/apps/cuda12.1/toolkit/12.1.1/lib64/libcufile.so: undefined reference to `typeinfo for unsigned char@CXXABI_1.3'\n",
      "/export/home2/weijie210/miniconda3/envs/cot/compiler_compat/ld: /cm/shared/apps/cuda12.1/toolkit/12.1.1/lib64/libcufile.so: undefined reference to `std::ios_base::ios_base()@GLIBCXX_3.4'\n",
      "/export/home2/weijie210/miniconda3/envs/cot/compiler_compat/ld: /cm/shared/apps/cuda12.1/toolkit/12.1.1/lib64/libcufile.so: undefined reference to `std::__throw_out_of_range(char const*)@GLIBCXX_3.4'\n",
      "/export/home2/weijie210/miniconda3/envs/cot/compiler_compat/ld: /cm/shared/apps/cuda12.1/toolkit/12.1.1/lib64/libcufile.so: undefined reference to `std::overflow_error::~overflow_error()@GLIBCXX_3.4'\n",
      "/export/home2/weijie210/miniconda3/envs/cot/compiler_compat/ld: /cm/shared/apps/cuda12.1/toolkit/12.1.1/lib64/libcufile.so: undefined reference to `std::__throw_length_error(char const*)@GLIBCXX_3.4'\n",
      "/export/home2/weijie210/miniconda3/envs/cot/compiler_compat/ld: /cm/shared/apps/cuda12.1/toolkit/12.1.1/lib64/libcufile.so: undefined reference to `std::__throw_system_error(int)@GLIBCXX_3.4.11'\n",
      "/export/home2/weijie210/miniconda3/envs/cot/compiler_compat/ld: /cm/shared/apps/cuda12.1/toolkit/12.1.1/lib64/libcufile.so: undefined reference to `std::basic_ofstream<char, std::char_traits<char> >::close()@GLIBCXX_3.4'\n",
      "/export/home2/weijie210/miniconda3/envs/cot/compiler_compat/ld: /cm/shared/apps/cuda12.1/toolkit/12.1.1/lib64/libcufile.so: undefined reference to `std::ostream& std::ostream::_M_insert<double>(double)@GLIBCXX_3.4.9'\n",
      "/export/home2/weijie210/miniconda3/envs/cot/compiler_compat/ld: /cm/shared/apps/cuda12.1/toolkit/12.1.1/lib64/libcufile.so: undefined reference to `std::basic_streambuf<char, std::char_traits<char> >::operator=(std::basic_streambuf<char, std::char_traits<char> > const&)@GLIBCXX_3.4'\n",
      "/export/home2/weijie210/miniconda3/envs/cot/compiler_compat/ld: /cm/shared/apps/cuda12.1/toolkit/12.1.1/lib64/libcufile.so: undefined reference to `typeinfo for long long@CXXABI_1.3'\n",
      "/export/home2/weijie210/miniconda3/envs/cot/compiler_compat/ld: /cm/shared/apps/cuda12.1/toolkit/12.1.1/lib64/libcufile.so: undefined reference to `std::basic_string<char, std::char_traits<char>, std::allocator<char> >::basic_string(char const*, unsigned long, std::allocator<char> const&)@GLIBCXX_3.4'\n",
      "/export/home2/weijie210/miniconda3/envs/cot/compiler_compat/ld: /cm/shared/apps/cuda12.1/toolkit/12.1.1/lib64/libcufile.so: undefined reference to `std::basic_ifstream<char, std::char_traits<char> >::close()@GLIBCXX_3.4'\n",
      "/export/home2/weijie210/miniconda3/envs/cot/compiler_compat/ld: /cm/shared/apps/cuda12.1/toolkit/12.1.1/lib64/libcufile.so: undefined reference to `__cxa_guard_release@CXXABI_1.3'\n",
      "/export/home2/weijie210/miniconda3/envs/cot/compiler_compat/ld: /cm/shared/apps/cuda12.1/toolkit/12.1.1/lib64/libcufile.so: undefined reference to `__cxa_throw@CXXABI_1.3'\n",
      "/export/home2/weijie210/miniconda3/envs/cot/compiler_compat/ld: /cm/shared/apps/cuda12.1/toolkit/12.1.1/lib64/libcufile.so: undefined reference to `std::underflow_error::~underflow_error()@GLIBCXX_3.4'\n",
      "/export/home2/weijie210/miniconda3/envs/cot/compiler_compat/ld: /cm/shared/apps/cuda12.1/toolkit/12.1.1/lib64/libcufile.so: undefined reference to `std::_Rb_tree_decrement(std::_Rb_tree_node_base*)@GLIBCXX_3.4'\n",
      "/export/home2/weijie210/miniconda3/envs/cot/compiler_compat/ld: /cm/shared/apps/cuda12.1/toolkit/12.1.1/lib64/libcufile.so: undefined reference to `vtable for std::length_error@GLIBCXX_3.4'\n",
      "/export/home2/weijie210/miniconda3/envs/cot/compiler_compat/ld: /cm/shared/apps/cuda12.1/toolkit/12.1.1/lib64/libcufile.so: undefined reference to `std::basic_filebuf<char, std::char_traits<char> >::~basic_filebuf()@GLIBCXX_3.4'\n",
      "collect2: error: ld returned 1 exit status\n"
     ]
    }
   ],
   "source": [
    "import json, os,sys\n",
    "sys.path.append(os.path.abspath(\".\")) \n",
    "sys.path.append(os.path.abspath(\"..\"))\n",
    "sys.path.append(os.path.abspath(\"aside\"))\n",
    "import torch\n",
    "from utils.utils import *\n",
    "from utils.model_utils import load_model\n",
    "from functools import partial\n",
    "import ast\n",
    "import copy\n",
    "home_dir = \"/export/home2/weijie210/ipi_huawei\"\n",
    "from vllm import LLM, SamplingParams\n",
    "from tqdm import tqdm\n",
    "from datasets import Dataset\n",
    "os.environ[\"TOKENIZERS_PARALLELISM\"] = \"false\""
   ]
  },
  {
   "cell_type": "code",
   "execution_count": 4,
   "id": "6b863c7d",
   "metadata": {},
   "outputs": [
    {
     "name": "stdout",
     "output_type": "stream",
     "text": [
      "INFO 09-21 00:36:00 config.py:542] This model supports multiple tasks: {'embed', 'classify', 'reward', 'generate', 'score'}. Defaulting to 'generate'.\n",
      "INFO 09-21 00:36:00 llm_engine.py:234] Initializing a V0 LLM engine (v0.7.2) with config: model='Qwen/Qwen3-8B', speculative_config=None, tokenizer='Qwen/Qwen3-8B', skip_tokenizer_init=False, tokenizer_mode=auto, revision=None, override_neuron_config=None, tokenizer_revision=None, trust_remote_code=False, dtype=torch.bfloat16, max_seq_len=32768, download_dir=None, load_format=auto, tensor_parallel_size=1, pipeline_parallel_size=1, disable_custom_all_reduce=False, quantization=None, enforce_eager=False, kv_cache_dtype=auto,  device_config=cuda, decoding_config=DecodingConfig(guided_decoding_backend='xgrammar'), observability_config=ObservabilityConfig(otlp_traces_endpoint=None, collect_model_forward_time=False, collect_model_execute_time=False), seed=0, served_model_name=Qwen/Qwen3-8B, num_scheduler_steps=1, multi_step_stream_outputs=True, enable_prefix_caching=False, chunked_prefill_enabled=False, use_async_output_proc=True, disable_mm_preprocessor_cache=False, mm_processor_kwargs=None, pooler_config=None, compilation_config={\"splitting_ops\":[],\"compile_sizes\":[],\"cudagraph_capture_sizes\":[256,248,240,232,224,216,208,200,192,184,176,168,160,152,144,136,128,120,112,104,96,88,80,72,64,56,48,40,32,24,16,8,4,2,1],\"max_capture_size\":256}, use_cached_outputs=False, \n",
      "INFO 09-21 00:36:02 cuda.py:230] Using Flash Attention backend.\n",
      "INFO 09-21 00:36:02 model_runner.py:1110] Starting to load model Qwen/Qwen3-8B...\n",
      "WARNING 09-21 00:36:02 utils.py:69] Qwen3ForCausalLM has no vLLM implementation, falling back to Transformers implementation. Some features may not be supported and performance may not be optimal.\n",
      "INFO 09-21 00:36:02 transformers.py:132] Using Transformers backend.\n",
      "INFO 09-21 00:36:04 weight_utils.py:252] Using model weights format ['*.safetensors']\n"
     ]
    },
    {
     "data": {
      "application/vnd.jupyter.widget-view+json": {
       "model_id": "6728babdac0448f9bc7b91f84d2eabe5",
       "version_major": 2,
       "version_minor": 0
      },
      "text/plain": [
       "Loading safetensors checkpoint shards:   0% Completed | 0/5 [00:00<?, ?it/s]\n"
      ]
     },
     "metadata": {},
     "output_type": "display_data"
    },
    {
     "name": "stdout",
     "output_type": "stream",
     "text": [
      "INFO 09-21 00:36:07 model_runner.py:1115] Loading model weights took 15.2585 GB\n",
      "INFO 09-21 00:36:09 worker.py:267] Memory profiling takes 2.18 seconds\n",
      "INFO 09-21 00:36:09 worker.py:267] the current vLLM instance can use total_gpu_memory (79.33GiB) x gpu_memory_utilization (0.80) = 63.46GiB\n",
      "INFO 09-21 00:36:09 worker.py:267] model weights take 15.26GiB; non_torch_memory takes 0.14GiB; PyTorch activation peak memory takes 5.30GiB; the rest of the memory reserved for KV Cache is 42.76GiB.\n",
      "INFO 09-21 00:36:09 executor_base.py:110] # CUDA blocks: 19462, # CPU blocks: 1820\n",
      "INFO 09-21 00:36:09 executor_base.py:115] Maximum concurrency for 32768 tokens per request: 9.50x\n",
      "INFO 09-21 00:36:10 model_runner.py:1434] Capturing cudagraphs for decoding. This may lead to unexpected consequences if the model is not static. To run the model in eager mode, set 'enforce_eager=True' or use '--enforce-eager' in the CLI. If out-of-memory error occurs during cudagraph capture, consider decreasing `gpu_memory_utilization` or switching to eager mode. You can also reduce the `max_num_seqs` as needed to decrease memory usage.\n"
     ]
    },
    {
     "name": "stderr",
     "output_type": "stream",
     "text": [
      "Capturing CUDA graph shapes: 100%|███████████████████████████████████████████████████████████████████████| 35/35 [00:19<00:00,  1.83it/s]"
     ]
    },
    {
     "name": "stdout",
     "output_type": "stream",
     "text": [
      "INFO 09-21 00:36:29 model_runner.py:1562] Graph capturing finished in 19 secs, took 4.77 GiB\n",
      "INFO 09-21 00:36:29 llm_engine.py:431] init engine (profile, create kv cache, warmup model) took 22.83 seconds\n"
     ]
    },
    {
     "name": "stderr",
     "output_type": "stream",
     "text": [
      "\n"
     ]
    }
   ],
   "source": [
    "model_path = 'Qwen/Qwen3-8B'\n",
    "model,tokenizer,is_aside = load_model(model_path,use_vllm=True,dtype=torch.bfloat16,vllm_kwargs = {'gpu_memory_utilization':0.8,'enable_chunked_prefill':False})"
   ]
  },
  {
   "cell_type": "code",
   "execution_count": 13,
   "id": "4609cb21",
   "metadata": {},
   "outputs": [
    {
     "name": "stdout",
     "output_type": "stream",
     "text": [
      "762\n"
     ]
    }
   ],
   "source": [
    "toolbench_ds = json.load(open(f\"/export/home2/weijie210/ToolBench/ToolBench_data/data/toolllama_G123_dfs_eval.json\",\"r\"))\n",
    "print (len(toolbench_ds))"
   ]
  },
  {
   "cell_type": "code",
   "execution_count": 14,
   "id": "faa886c5",
   "metadata": {},
   "outputs": [],
   "source": [
    "def parse_assistant_response(response):\n",
    "    action_input = None\n",
    "    action = None\n",
    "    thought = None\n",
    "    if \"Action Input:\" in response:\n",
    "        action_input = response.split(\"Action Input:\")[-1].strip().replace('\\n',' ')\n",
    "        try:\n",
    "            action_input = json.loads(action_input)\n",
    "        except:\n",
    "            try:\n",
    "                action_input = ast.literal_eval(action_input)\n",
    "            except:\n",
    "                action_input = None\n",
    "        if action_input is not None:\n",
    "            if \"Action:\" in response:\n",
    "                action = response.split(\"Action:\")[-1].split(\"Action Input:\")[0].strip()\n",
    "                thought = response.split(\"Thought:\")[-1].split(\"Action:\")[0].strip()\n",
    "    elif \"Action:\" in response:\n",
    "        action = response.split(\"Action:\")[-1].strip()\n",
    "        thought = response.split(\"Thought:\")[-1].split(\"Action:\")[0].strip()\n",
    "    return thought, action, action_input\n",
    "\n",
    "def convert_turn_keys(messages):\n",
    "    messages = copy.deepcopy(messages)\n",
    "    for m in messages:\n",
    "        m['role'] = m.pop('from')\n",
    "        m['content'] = m.pop('value')\n",
    "        if m['role'] == 'function':\n",
    "            m['role'] = 'tool'\n",
    "    return messages\n",
    "\n",
    "def format_assistant_response(action,action_input):\n",
    "    out_format = \"<tool_call>\\n{tool_call}\\n</tool_call>\"\n",
    "    tool_call = str({\n",
    "        'name': action,\n",
    "        'arguments': action_input\n",
    "    }).replace(\"'\",'\"')\n",
    "    return out_format.format(tool_call = tool_call)\n",
    "\n",
    "def process_tool_response(resp):\n",
    "    str_resp =  resp.replace('<tool_call>','').replace('</tool_call>','').strip()\n",
    "    try:\n",
    "        tool_call = json.loads(str_resp)\n",
    "    except:\n",
    "        try:\n",
    "            tool_call = ast.literal_eval(str_resp)\n",
    "        except:\n",
    "            tool_call = None\n",
    "    return tool_call\n",
    "        \n",
    "sampling_params = SamplingParams(temperature=0., max_tokens=100,)"
   ]
  },
  {
   "cell_type": "code",
   "execution_count": 15,
   "id": "495cf2f0",
   "metadata": {},
   "outputs": [
    {
     "name": "stdout",
     "output_type": "stream",
     "text": [
      "600\n"
     ]
    }
   ],
   "source": [
    "all_trained_samples = []\n",
    "for sample in toolbench_ds[:100000]:\n",
    "    tools = []\n",
    "    sample = copy.deepcopy(sample) # avoid any potential in-place modification\n",
    "    trained_sample = []\n",
    "    assert sample['conversations'][0]['from'] == 'system'\n",
    "    for j,d in enumerate(sample['conversations']):\n",
    "        if d['from'] == 'system':\n",
    "            system_prompt = d['value'] # get the tools\n",
    "            tools = system_prompt.split('you have access to the following APIs:')[-1].strip()\n",
    "            tools = ast.literal_eval(tools)\n",
    "            if not isinstance(tools, list) and not all([isinstance(t, dict) for t in tools]): # cant parse properly.\n",
    "                break\n",
    "            tools = [t for t in tools if t['name'].lower() != 'finish'] \n",
    "        \n",
    "        if d['from'] == 'assistant':\n",
    "            thought, action, action_input = parse_assistant_response(d['value'])\n",
    "            if any([x is None for x in [action, action_input]]): # parsing failed\n",
    "                break\n",
    "            d['value'] = format_assistant_response(action,action_input) #\n",
    "            if action.lower().strip() =='finish': # not a tool, just the string\n",
    "                if 'final_answer' not in action_input: # end of turn fail since no final answer\n",
    "                    break\n",
    "                sample['conversations'][j]['value'] = action_input['final_answer']\n",
    "            elif process_tool_response(sample['conversations'][j]['value']) is None: # parsing failed\n",
    "                continue\n",
    "            if any([sample['conversations'][k]['from'] == 'function' for k in range(j)]): # we only start collecting after the first tool response (this is for aside, which requires rotating on the function space)\n",
    "                trained_sample.append(\n",
    "                { \n",
    "                'input': convert_turn_keys(sample['conversations'][1:j]), # this the input (take away the system prompt)\n",
    "                'label': sample['conversations'][j]['value'],\n",
    "                'tools': tools\n",
    "                }\n",
    "            )\n",
    "    if len(trained_sample) > 0:\n",
    "        all_trained_samples.append(np.random.choice(trained_sample)) # randomly choose one turn to train on\n",
    "print (len(all_trained_samples))\n",
    "                "
   ]
  },
  {
   "cell_type": "code",
   "execution_count": 29,
   "id": "4011037d",
   "metadata": {},
   "outputs": [
    {
     "name": "stderr",
     "output_type": "stream",
     "text": [
      "Computing input lengths: 100%|███████████████████████████████████████████████████████████████████████████████████████████████████████████████████████████████████████████████████████████████████████████████████████████████████████████████████████████████████████| 600/600 [00:00<00:00, 2678.73it/s]"
     ]
    },
    {
     "name": "stdout",
     "output_type": "stream",
     "text": [
      "After filtering, we have 578 samples to finetune on.\n",
      "Total tool calling samples: 505 out of 578\n"
     ]
    },
    {
     "name": "stderr",
     "output_type": "stream",
     "text": [
      "\n"
     ]
    }
   ],
   "source": [
    "import concurrent.futures\n",
    "sampling_kwargs = {'max_tokens':512,'temperature':0.}\n",
    "def select_label(messages,model,tokenizer,is_tool=True):\n",
    "    \"\"\"\n",
    "    For each sample, generate a response.\n",
    "    If is tool calling, check if the tool name and args is correct. do literal string match after json.load and dump\n",
    "    \"\"\"\n",
    "    to_train = []\n",
    "    formatted = [tool_prompt_format(d['input'],tools=d['tools'],tokenizer=tokenizer,enable_thinking=False) for d in messages]\n",
    "    resps = vllm_generate(model,formatted,sampling_params)\n",
    "    for resp,d in zip(resps,messages):\n",
    "        label = process_tool_response(d['label'])\n",
    "        processed_resp = process_tool_response(resp)\n",
    "        chk_condition = lambda x,y: True if not is_tool else lambda x,y: str(x).strip() != str(y).strip()\n",
    "        if chk_condition(label, processed_resp): # we have a sample to train\n",
    "            to_train.append({\n",
    "                'prompt' : d['input'],\n",
    "                'chosen': d['label'],\n",
    "                'rejected': resp,\n",
    "                'tools': d['tools']\n",
    "            })\n",
    "    return to_train\n",
    "\n",
    "def compute_length(sample):\n",
    "    text = tool_prompt_format(\n",
    "        sample[\"input\"],\n",
    "        tools=sample[\"tools\"],\n",
    "        tokenizer=tokenizer,\n",
    "        enable_thinking=False\n",
    "    )\n",
    "    length = len(tokenizer.encode(text, add_special_tokens=True))\n",
    "    sample[\"input_len\"] = length\n",
    "    return sample\n",
    "\n",
    "results = async_process(compute_length, all_trained_samples, workers=32, msg=\"Computing input lengths\")\n",
    "    \n",
    "MAX_LENGTH = 4096 - 512\n",
    "\n",
    "dpo_input_ds = [d for d in results if d[\"input_len\"] < MAX_LENGTH]\n",
    "tool_dpo_input_ds= [d for d in dpo_input_ds if \"<tool_call>\" in d[\"label\"]]\n",
    "\n",
    "print(f\"After filtering, we have {len(dpo_input_ds)} samples to finetune on.\")\n",
    "print(f\"Total tool calling samples: {len(tool_dpo_input_ds)} out of {len(dpo_input_ds)}\")\n",
    "    "
   ]
  },
  {
   "cell_type": "code",
   "execution_count": null,
   "id": "c0039748",
   "metadata": {},
   "outputs": [
    {
     "name": "stdout",
     "output_type": "stream",
     "text": [
      "Total finish calling samples: 73 out of 578\n"
     ]
    },
    {
     "name": "stderr",
     "output_type": "stream",
     "text": [
      "100%|██████████| 1/1 [02:27<00:00, 147.20s/it]\n"
     ]
    },
    {
     "name": "stdout",
     "output_type": "stream",
     "text": [
      "Total DPO tool samples: 510 out of 578\n",
      "Total DPO samples: 583\n"
     ]
    }
   ],
   "source": [
    "finish_dpo_ds = [d for d in dpo_input_ds if \"<tool_call>\" not in d[\"label\"]]\n",
    "print(f\"Total finish calling samples: {len(finish_dpo_ds)} out of {len(dpo_input_ds)}\")\n",
    "batch_size = 1024\n",
    "dpo_ds = []\n",
    "for i in tqdm(range(0, len(tool_dpo_input_ds), batch_size)):\n",
    "    batch = dpo_input_ds[i:i+batch_size]\n",
    "    dpo_ds.extend(select_label(batch,model,tokenizer,is_tool=True))\n",
    "print (f\"Total DPO tool samples: {len(dpo_ds)} out of {len(dpo_input_ds)}\")\n",
    "\n",
    "end_dpo_ds = []\n",
    "for i in tqdm(range(0, len(finish_dpo_ds), batch_size)):\n",
    "    batch = finish_dpo_ds[i:i+batch_size]\n",
    "    end_dpo_ds.extend(select_label(batch,model,tokenizer,is_tool=True))\n",
    "print (f\"Total Ending DPO tool samples: {len(end_dpo_ds)} out of {len(finish_dpo_ds)}\")\n",
    "\n",
    "full_dpo_ds = dpo_ds + end_dpo_ds\n",
    "print (f\"Total DPO samples: {len(full_dpo_ds)}\")\n",
    "\n",
    "permutation_ids = np.random.permutation(len(full_dpo_ds))\n",
    "full_dpo_ds = [full_dpo_ds[i] for i in permutation_ids]\n",
    "with open(\"/export/home2/weijie210/ipi_huawei/aside/data/train_data/dpo_eval.json\",\"w\") as f:\n",
    "    json.dump(full_dpo_ds,f,indent=4)"
   ]
  },
  {
   "cell_type": "code",
   "execution_count": 44,
   "id": "58f67f1d",
   "metadata": {},
   "outputs": [],
   "source": [
    "with open(\"/export/home2/weijie210/ipi_huawei/aside/data/train_data/dpo_train.json\",\"r\") as f:\n",
    "    eval_ds = json.load(f)\n"
   ]
  },
  {
   "cell_type": "code",
   "execution_count": 58,
   "id": "18df98d2",
   "metadata": {},
   "outputs": [],
   "source": [
    "def convert_str_to_list(examples):\n",
    "    for e in examples:\n",
    "        e['chosen'] = [{'role':'assistant','content':e['chosen']}]\n",
    "        e['rejected'] = [{'role':'assistant','content':e['rejected']}]\n",
    "    return examples\n",
    "def apply_chat_tool_template(example,tokenizer):\n",
    "    prompt = tokenizer.apply_chat_template(example[\"prompt\"], tools=example['tools'], tokenize=False, add_generation_prompt=True)\n",
    "    chosen = tokenizer.apply_chat_template(example[\"prompt\"] + example['chosen'],tools=example['tools'], tokenize=False, add_generation_prompt=False)\n",
    "    chosen = chosen[len(prompt):]\n",
    "    rejected = tokenizer.apply_chat_template(example[\"prompt\"] + example['rejected'],tools=example['tools'], tokenize=False, add_generation_prompt=False)\n",
    "    rejected = rejected[len(prompt):]\n",
    "    return {\"prompt\": prompt, \"chosen\": chosen, \"rejected\": rejected}"
   ]
  },
  {
   "cell_type": "code",
   "execution_count": 59,
   "id": "d21d4899",
   "metadata": {},
   "outputs": [],
   "source": [
    "invalid = 0\n",
    "formatted_eval_ds = convert_str_to_list(eval_ds)\n",
    "formatted_eval_ds = [apply_chat_tool_template(d,tokenizer) for d in formatted_eval_ds]\n",
    "    \n"
   ]
  },
  {
   "cell_type": "code",
   "execution_count": null,
   "id": "422c4bb8",
   "metadata": {},
   "outputs": [],
   "source": []
  }
 ],
 "metadata": {
  "kernelspec": {
   "display_name": "Python 3 (ipykernel)",
   "language": "python",
   "name": "python3"
  }
 },
 "nbformat": 4,
 "nbformat_minor": 5
}
