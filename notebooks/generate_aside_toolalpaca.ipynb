{
 "cells": [
  {
   "cell_type": "code",
   "execution_count": 1,
   "id": "b59edd3e",
   "metadata": {},
   "outputs": [
    {
     "name": "stdout",
     "output_type": "stream",
     "text": [
      "INFO 10-10 16:19:42 [__init__.py:216] Automatically detected platform cuda.\n"
     ]
    },
    {
     "name": "stderr",
     "output_type": "stream",
     "text": [
      "/home/wjyeo/anaconda3/envs/ipi_hw/compiler_compat/ld: cannot find -laio: No such file or directory\n",
      "collect2: error: ld returned 1 exit status\n",
      "/home/wjyeo/anaconda3/envs/ipi_hw/compiler_compat/ld: warning: librt.so.1, needed by /usr/local/cuda-12.4/lib64/libcufile.so, not found (try using -rpath or -rpath-link)\n",
      "/home/wjyeo/anaconda3/envs/ipi_hw/compiler_compat/ld: warning: libpthread.so.0, needed by /usr/local/cuda-12.4/lib64/libcufile.so, not found (try using -rpath or -rpath-link)\n",
      "/home/wjyeo/anaconda3/envs/ipi_hw/compiler_compat/ld: warning: libstdc++.so.6, needed by /usr/local/cuda-12.4/lib64/libcufile.so, not found (try using -rpath or -rpath-link)\n",
      "/home/wjyeo/anaconda3/envs/ipi_hw/compiler_compat/ld: warning: libm.so.6, needed by /usr/local/cuda-12.4/lib64/libcufile.so, not found (try using -rpath or -rpath-link)\n",
      "/home/wjyeo/anaconda3/envs/ipi_hw/compiler_compat/ld: /usr/local/cuda-12.4/lib64/libcufile.so: undefined reference to `std::runtime_error::~runtime_error()@GLIBCXX_3.4'\n",
      "/home/wjyeo/anaconda3/envs/ipi_hw/compiler_compat/ld: /usr/local/cuda-12.4/lib64/libcufile.so: undefined reference to `__gxx_personality_v0@CXXABI_1.3'\n",
      "/home/wjyeo/anaconda3/envs/ipi_hw/compiler_compat/ld: /usr/local/cuda-12.4/lib64/libcufile.so: undefined reference to `std::ostream::tellp()@GLIBCXX_3.4'\n",
      "/home/wjyeo/anaconda3/envs/ipi_hw/compiler_compat/ld: /usr/local/cuda-12.4/lib64/libcufile.so: undefined reference to `std::chrono::_V2::steady_clock::now()@GLIBCXX_3.4.19'\n",
      "/home/wjyeo/anaconda3/envs/ipi_hw/compiler_compat/ld: /usr/local/cuda-12.4/lib64/libcufile.so: undefined reference to `std::string::_M_replace_aux(unsigned long, unsigned long, unsigned long, char)@GLIBCXX_3.4'\n",
      "/home/wjyeo/anaconda3/envs/ipi_hw/compiler_compat/ld: /usr/local/cuda-12.4/lib64/libcufile.so: undefined reference to `typeinfo for bool@CXXABI_1.3'\n",
      "/home/wjyeo/anaconda3/envs/ipi_hw/compiler_compat/ld: /usr/local/cuda-12.4/lib64/libcufile.so: undefined reference to `std::__throw_logic_error(char const*)@GLIBCXX_3.4'\n",
      "/home/wjyeo/anaconda3/envs/ipi_hw/compiler_compat/ld: /usr/local/cuda-12.4/lib64/libcufile.so: undefined reference to `VTT for std::basic_ostringstream<char, std::char_traits<char>, std::allocator<char> >@GLIBCXX_3.4'\n",
      "/home/wjyeo/anaconda3/envs/ipi_hw/compiler_compat/ld: /usr/local/cuda-12.4/lib64/libcufile.so: undefined reference to `vtable for std::logic_error@GLIBCXX_3.4'\n",
      "/home/wjyeo/anaconda3/envs/ipi_hw/compiler_compat/ld: /usr/local/cuda-12.4/lib64/libcufile.so: undefined reference to `std::locale::~locale()@GLIBCXX_3.4'\n",
      "/home/wjyeo/anaconda3/envs/ipi_hw/compiler_compat/ld: /usr/local/cuda-12.4/lib64/libcufile.so: undefined reference to `std::basic_string<char, std::char_traits<char>, std::allocator<char> >::basic_string(std::string const&, unsigned long, unsigned long)@GLIBCXX_3.4'\n",
      "/home/wjyeo/anaconda3/envs/ipi_hw/compiler_compat/ld: /usr/local/cuda-12.4/lib64/libcufile.so: undefined reference to `__cxa_end_catch@CXXABI_1.3'\n",
      "/home/wjyeo/anaconda3/envs/ipi_hw/compiler_compat/ld: /usr/local/cuda-12.4/lib64/libcufile.so: undefined reference to `VTT for std::basic_ofstream<char, std::char_traits<char> >@GLIBCXX_3.4'\n",
      "/home/wjyeo/anaconda3/envs/ipi_hw/compiler_compat/ld: /usr/local/cuda-12.4/lib64/libcufile.so: undefined reference to `std::logic_error::~logic_error()@GLIBCXX_3.4'\n",
      "/home/wjyeo/anaconda3/envs/ipi_hw/compiler_compat/ld: /usr/local/cuda-12.4/lib64/libcufile.so: undefined reference to `vtable for __cxxabiv1::__si_class_type_info@CXXABI_1.3'\n",
      "/home/wjyeo/anaconda3/envs/ipi_hw/compiler_compat/ld: /usr/local/cuda-12.4/lib64/libcufile.so: undefined reference to `std::basic_ios<char, std::char_traits<char> >::_M_cache_locale(std::locale const&)@GLIBCXX_3.4'\n",
      "/home/wjyeo/anaconda3/envs/ipi_hw/compiler_compat/ld: /usr/local/cuda-12.4/lib64/libcufile.so: undefined reference to `VTT for std::basic_stringstream<char, std::char_traits<char>, std::allocator<char> >@GLIBCXX_3.4'\n",
      "/home/wjyeo/anaconda3/envs/ipi_hw/compiler_compat/ld: /usr/local/cuda-12.4/lib64/libcufile.so: undefined reference to `operator new[](unsigned long)@GLIBCXX_3.4'\n",
      "/home/wjyeo/anaconda3/envs/ipi_hw/compiler_compat/ld: /usr/local/cuda-12.4/lib64/libcufile.so: undefined reference to `std::string::_M_leak_hard()@GLIBCXX_3.4'\n",
      "/home/wjyeo/anaconda3/envs/ipi_hw/compiler_compat/ld: /usr/local/cuda-12.4/lib64/libcufile.so: undefined reference to `vtable for std::basic_ifstream<char, std::char_traits<char> >@GLIBCXX_3.4'\n",
      "/home/wjyeo/anaconda3/envs/ipi_hw/compiler_compat/ld: /usr/local/cuda-12.4/lib64/libcufile.so: undefined reference to `std::basic_streambuf<wchar_t, std::char_traits<wchar_t> >::basic_streambuf(std::basic_streambuf<wchar_t, std::char_traits<wchar_t> > const&)@GLIBCXX_3.4'\n",
      "/home/wjyeo/anaconda3/envs/ipi_hw/compiler_compat/ld: /usr/local/cuda-12.4/lib64/libcufile.so: undefined reference to `std::string::append(char const*, unsigned long)@GLIBCXX_3.4'\n",
      "/home/wjyeo/anaconda3/envs/ipi_hw/compiler_compat/ld: /usr/local/cuda-12.4/lib64/libcufile.so: undefined reference to `std::basic_string<char, std::char_traits<char>, std::allocator<char> >::basic_string(std::string const&)@GLIBCXX_3.4'\n",
      "/home/wjyeo/anaconda3/envs/ipi_hw/compiler_compat/ld: /usr/local/cuda-12.4/lib64/libcufile.so: undefined reference to `typeinfo for unsigned short@CXXABI_1.3'\n",
      "/home/wjyeo/anaconda3/envs/ipi_hw/compiler_compat/ld: /usr/local/cuda-12.4/lib64/libcufile.so: undefined reference to `std::string::resize(unsigned long, char)@GLIBCXX_3.4'\n",
      "/home/wjyeo/anaconda3/envs/ipi_hw/compiler_compat/ld: /usr/local/cuda-12.4/lib64/libcufile.so: undefined reference to `typeinfo for char const*@CXXABI_1.3'\n",
      "/home/wjyeo/anaconda3/envs/ipi_hw/compiler_compat/ld: /usr/local/cuda-12.4/lib64/libcufile.so: undefined reference to `std::ctype<char>::_M_widen_init() const@GLIBCXX_3.4.11'\n",
      "/home/wjyeo/anaconda3/envs/ipi_hw/compiler_compat/ld: /usr/local/cuda-12.4/lib64/libcufile.so: undefined reference to `std::__throw_invalid_argument(char const*)@GLIBCXX_3.4'\n",
      "/home/wjyeo/anaconda3/envs/ipi_hw/compiler_compat/ld: /usr/local/cuda-12.4/lib64/libcufile.so: undefined reference to `std::locale::operator=(std::locale const&)@GLIBCXX_3.4'\n",
      "/home/wjyeo/anaconda3/envs/ipi_hw/compiler_compat/ld: /usr/local/cuda-12.4/lib64/libcufile.so: undefined reference to `std::basic_ios<wchar_t, std::char_traits<wchar_t> >::_M_cache_locale(std::locale const&)@GLIBCXX_3.4'\n",
      "/home/wjyeo/anaconda3/envs/ipi_hw/compiler_compat/ld: /usr/local/cuda-12.4/lib64/libcufile.so: undefined reference to `std::_Rb_tree_decrement(std::_Rb_tree_node_base const*)@GLIBCXX_3.4'\n",
      "/home/wjyeo/anaconda3/envs/ipi_hw/compiler_compat/ld: /usr/local/cuda-12.4/lib64/libcufile.so: undefined reference to `__cxa_free_exception@CXXABI_1.3'\n",
      "/home/wjyeo/anaconda3/envs/ipi_hw/compiler_compat/ld: /usr/local/cuda-12.4/lib64/libcufile.so: undefined reference to `std::condition_variable::notify_one()@GLIBCXX_3.4.11'\n",
      "/home/wjyeo/anaconda3/envs/ipi_hw/compiler_compat/ld: /usr/local/cuda-12.4/lib64/libcufile.so: undefined reference to `std::ios_base::Init::~Init()@GLIBCXX_3.4'\n",
      "/home/wjyeo/anaconda3/envs/ipi_hw/compiler_compat/ld: /usr/local/cuda-12.4/lib64/libcufile.so: undefined reference to `std::basic_string<char, std::char_traits<char>, std::allocator<char> >::~basic_string()@GLIBCXX_3.4'\n",
      "/home/wjyeo/anaconda3/envs/ipi_hw/compiler_compat/ld: /usr/local/cuda-12.4/lib64/libcufile.so: undefined reference to `__cxa_pure_virtual@CXXABI_1.3'\n",
      "/home/wjyeo/anaconda3/envs/ipi_hw/compiler_compat/ld: /usr/local/cuda-12.4/lib64/libcufile.so: undefined reference to `std::ostream::flush()@GLIBCXX_3.4'\n",
      "/home/wjyeo/anaconda3/envs/ipi_hw/compiler_compat/ld: /usr/local/cuda-12.4/lib64/libcufile.so: undefined reference to `vtable for __cxxabiv1::__class_type_info@CXXABI_1.3'\n",
      "/home/wjyeo/anaconda3/envs/ipi_hw/compiler_compat/ld: /usr/local/cuda-12.4/lib64/libcufile.so: undefined reference to `__cxa_rethrow@CXXABI_1.3'\n",
      "/home/wjyeo/anaconda3/envs/ipi_hw/compiler_compat/ld: /usr/local/cuda-12.4/lib64/libcufile.so: undefined reference to `vtable for std::basic_stringbuf<char, std::char_traits<char>, std::allocator<char> >@GLIBCXX_3.4'\n",
      "/home/wjyeo/anaconda3/envs/ipi_hw/compiler_compat/ld: /usr/local/cuda-12.4/lib64/libcufile.so: undefined reference to `std::basic_fstream<char, std::char_traits<char> >::~basic_fstream()@GLIBCXX_3.4'\n",
      "/home/wjyeo/anaconda3/envs/ipi_hw/compiler_compat/ld: /usr/local/cuda-12.4/lib64/libcufile.so: undefined reference to `std::string::compare(char const*) const@GLIBCXX_3.4'\n",
      "/home/wjyeo/anaconda3/envs/ipi_hw/compiler_compat/ld: /usr/local/cuda-12.4/lib64/libcufile.so: undefined reference to `VTT for std::basic_ostringstream<wchar_t, std::char_traits<wchar_t>, std::allocator<wchar_t> >@GLIBCXX_3.4'\n",
      "/home/wjyeo/anaconda3/envs/ipi_hw/compiler_compat/ld: /usr/local/cuda-12.4/lib64/libcufile.so: undefined reference to `std::locale::locale()@GLIBCXX_3.4'\n",
      "/home/wjyeo/anaconda3/envs/ipi_hw/compiler_compat/ld: /usr/local/cuda-12.4/lib64/libcufile.so: undefined reference to `std::chrono::_V2::system_clock::now()@GLIBCXX_3.4.19'\n",
      "/home/wjyeo/anaconda3/envs/ipi_hw/compiler_compat/ld: /usr/local/cuda-12.4/lib64/libcufile.so: undefined reference to `VTT for std::basic_ifstream<char, std::char_traits<char> >@GLIBCXX_3.4'\n",
      "/home/wjyeo/anaconda3/envs/ipi_hw/compiler_compat/ld: /usr/local/cuda-12.4/lib64/libcufile.so: undefined reference to `std::_Hash_bytes(void const*, unsigned long, unsigned long)@CXXABI_1.3.5'\n",
      "/home/wjyeo/anaconda3/envs/ipi_hw/compiler_compat/ld: /usr/local/cuda-12.4/lib64/libcufile.so: undefined reference to `std::ostream& std::ostream::_M_insert<long long>(long long)@GLIBCXX_3.4.9'\n",
      "/home/wjyeo/anaconda3/envs/ipi_hw/compiler_compat/ld: /usr/local/cuda-12.4/lib64/libcufile.so: undefined reference to `typeinfo for char*@CXXABI_1.3'\n",
      "/home/wjyeo/anaconda3/envs/ipi_hw/compiler_compat/ld: /usr/local/cuda-12.4/lib64/libcufile.so: undefined reference to `std::__detail::_Prime_rehash_policy::_M_need_rehash(unsigned long, unsigned long, unsigned long) const@GLIBCXX_3.4.18'\n",
      "/home/wjyeo/anaconda3/envs/ipi_hw/compiler_compat/ld: /usr/local/cuda-12.4/lib64/libcufile.so: undefined reference to `vtable for std::out_of_range@GLIBCXX_3.4'\n",
      "/home/wjyeo/anaconda3/envs/ipi_hw/compiler_compat/ld: /usr/local/cuda-12.4/lib64/libcufile.so: undefined reference to `std::ostream& std::ostream::_M_insert<unsigned long>(unsigned long)@GLIBCXX_3.4.9'\n",
      "/home/wjyeo/anaconda3/envs/ipi_hw/compiler_compat/ld: /usr/local/cuda-12.4/lib64/libcufile.so: undefined reference to `std::_Rb_tree_increment(std::_Rb_tree_node_base const*)@GLIBCXX_3.4'\n",
      "/home/wjyeo/anaconda3/envs/ipi_hw/compiler_compat/ld: /usr/local/cuda-12.4/lib64/libcufile.so: undefined reference to `std::ios_base::~ios_base()@GLIBCXX_3.4'\n",
      "/home/wjyeo/anaconda3/envs/ipi_hw/compiler_compat/ld: /usr/local/cuda-12.4/lib64/libcufile.so: undefined reference to `std::range_error::~range_error()@GLIBCXX_3.4'\n",
      "/home/wjyeo/anaconda3/envs/ipi_hw/compiler_compat/ld: /usr/local/cuda-12.4/lib64/libcufile.so: undefined reference to `std::__basic_file<char>::~__basic_file()@GLIBCXX_3.4'\n",
      "/home/wjyeo/anaconda3/envs/ipi_hw/compiler_compat/ld: /usr/local/cuda-12.4/lib64/libcufile.so: undefined reference to `__cxa_guard_acquire@CXXABI_1.3'\n",
      "/home/wjyeo/anaconda3/envs/ipi_hw/compiler_compat/ld: /usr/local/cuda-12.4/lib64/libcufile.so: undefined reference to `std::ostream& std::ostream::_M_insert<bool>(bool)@GLIBCXX_3.4.9'\n",
      "/home/wjyeo/anaconda3/envs/ipi_hw/compiler_compat/ld: /usr/local/cuda-12.4/lib64/libcufile.so: undefined reference to `vtable for std::overflow_error@GLIBCXX_3.4'\n",
      "/home/wjyeo/anaconda3/envs/ipi_hw/compiler_compat/ld: /usr/local/cuda-12.4/lib64/libcufile.so: undefined reference to `VTT for std::basic_fstream<char, std::char_traits<char> >@GLIBCXX_3.4'\n",
      "/home/wjyeo/anaconda3/envs/ipi_hw/compiler_compat/ld: /usr/local/cuda-12.4/lib64/libcufile.so: undefined reference to `vtable for std::range_error@GLIBCXX_3.4'\n",
      "/home/wjyeo/anaconda3/envs/ipi_hw/compiler_compat/ld: /usr/local/cuda-12.4/lib64/libcufile.so: undefined reference to `vtable for std::basic_ios<char, std::char_traits<char> >@GLIBCXX_3.4'\n",
      "/home/wjyeo/anaconda3/envs/ipi_hw/compiler_compat/ld: /usr/local/cuda-12.4/lib64/libcufile.so: undefined reference to `vtable for std::basic_filebuf<char, std::char_traits<char> >@GLIBCXX_3.4'\n",
      "/home/wjyeo/anaconda3/envs/ipi_hw/compiler_compat/ld: /usr/local/cuda-12.4/lib64/libcufile.so: undefined reference to `operator delete[](void*)@GLIBCXX_3.4'\n",
      "/home/wjyeo/anaconda3/envs/ipi_hw/compiler_compat/ld: /usr/local/cuda-12.4/lib64/libcufile.so: undefined reference to `vtable for std::basic_stringstream<char, std::char_traits<char>, std::allocator<char> >@GLIBCXX_3.4'\n",
      "/home/wjyeo/anaconda3/envs/ipi_hw/compiler_compat/ld: /usr/local/cuda-12.4/lib64/libcufile.so: undefined reference to `std::basic_string<char, std::char_traits<char>, std::allocator<char> >::basic_string(unsigned long, char, std::allocator<char> const&)@GLIBCXX_3.4'\n",
      "/home/wjyeo/anaconda3/envs/ipi_hw/compiler_compat/ld: /usr/local/cuda-12.4/lib64/libcufile.so: undefined reference to `std::__detail::_List_node_base::_M_transfer(std::__detail::_List_node_base*, std::__detail::_List_node_base*)@GLIBCXX_3.4.15'\n",
      "/home/wjyeo/anaconda3/envs/ipi_hw/compiler_compat/ld: /usr/local/cuda-12.4/lib64/libcufile.so: undefined reference to `std::string::replace(unsigned long, unsigned long, char const*, unsigned long)@GLIBCXX_3.4'\n",
      "/home/wjyeo/anaconda3/envs/ipi_hw/compiler_compat/ld: /usr/local/cuda-12.4/lib64/libcufile.so: undefined reference to `typeinfo for std::exception@GLIBCXX_3.4'\n",
      "/home/wjyeo/anaconda3/envs/ipi_hw/compiler_compat/ld: /usr/local/cuda-12.4/lib64/libcufile.so: undefined reference to `std::basic_string<wchar_t, std::char_traits<wchar_t>, std::allocator<wchar_t> >::_Rep::_M_destroy(std::allocator<wchar_t> const&)@GLIBCXX_3.4'\n",
      "/home/wjyeo/anaconda3/envs/ipi_hw/compiler_compat/ld: /usr/local/cuda-12.4/lib64/libcufile.so: undefined reference to `std::istream& std::istream::_M_extract<double>(double&)@GLIBCXX_3.4.9'\n",
      "/home/wjyeo/anaconda3/envs/ipi_hw/compiler_compat/ld: /usr/local/cuda-12.4/lib64/libcufile.so: undefined reference to `std::basic_filebuf<char, std::char_traits<char> >::close()@GLIBCXX_3.4'\n",
      "/home/wjyeo/anaconda3/envs/ipi_hw/compiler_compat/ld: /usr/local/cuda-12.4/lib64/libcufile.so: undefined reference to `vtable for std::basic_fstream<char, std::char_traits<char> >@GLIBCXX_3.4'\n",
      "/home/wjyeo/anaconda3/envs/ipi_hw/compiler_compat/ld: /usr/local/cuda-12.4/lib64/libcufile.so: undefined reference to `std::basic_ifstream<char, std::char_traits<char> >::basic_ifstream(char const*, std::_Ios_Openmode)@GLIBCXX_3.4'\n",
      "/home/wjyeo/anaconda3/envs/ipi_hw/compiler_compat/ld: /usr/local/cuda-12.4/lib64/libcufile.so: undefined reference to `std::string::append(std::string const&)@GLIBCXX_3.4'\n",
      "/home/wjyeo/anaconda3/envs/ipi_hw/compiler_compat/ld: /usr/local/cuda-12.4/lib64/libcufile.so: undefined reference to `operator new(unsigned long)@GLIBCXX_3.4'\n",
      "/home/wjyeo/anaconda3/envs/ipi_hw/compiler_compat/ld: /usr/local/cuda-12.4/lib64/libcufile.so: undefined reference to `VTT for std::basic_istringstream<wchar_t, std::char_traits<wchar_t>, std::allocator<wchar_t> >@GLIBCXX_3.4'\n",
      "/home/wjyeo/anaconda3/envs/ipi_hw/compiler_compat/ld: /usr/local/cuda-12.4/lib64/libcufile.so: undefined reference to `typeinfo for unsigned int@CXXABI_1.3'\n",
      "/home/wjyeo/anaconda3/envs/ipi_hw/compiler_compat/ld: /usr/local/cuda-12.4/lib64/libcufile.so: undefined reference to `std::string::append(char const*)@GLIBCXX_3.4'\n",
      "/home/wjyeo/anaconda3/envs/ipi_hw/compiler_compat/ld: /usr/local/cuda-12.4/lib64/libcufile.so: undefined reference to `vtable for std::domain_error@GLIBCXX_3.4'\n",
      "/home/wjyeo/anaconda3/envs/ipi_hw/compiler_compat/ld: /usr/local/cuda-12.4/lib64/libcufile.so: undefined reference to `std::string::find(char, unsigned long) const@GLIBCXX_3.4'\n",
      "/home/wjyeo/anaconda3/envs/ipi_hw/compiler_compat/ld: /usr/local/cuda-12.4/lib64/libcufile.so: undefined reference to `std::ostream::put(char)@GLIBCXX_3.4'\n",
      "/home/wjyeo/anaconda3/envs/ipi_hw/compiler_compat/ld: /usr/local/cuda-12.4/lib64/libcufile.so: undefined reference to `typeinfo for int@CXXABI_1.3'\n",
      "/home/wjyeo/anaconda3/envs/ipi_hw/compiler_compat/ld: /usr/local/cuda-12.4/lib64/libcufile.so: undefined reference to `std::__throw_bad_alloc()@GLIBCXX_3.4'\n",
      "/home/wjyeo/anaconda3/envs/ipi_hw/compiler_compat/ld: /usr/local/cuda-12.4/lib64/libcufile.so: undefined reference to `__cxa_thread_atexit@CXXABI_1.3.7'\n",
      "/home/wjyeo/anaconda3/envs/ipi_hw/compiler_compat/ld: /usr/local/cuda-12.4/lib64/libcufile.so: undefined reference to `typeinfo for unsigned int*@CXXABI_1.3'\n",
      "/home/wjyeo/anaconda3/envs/ipi_hw/compiler_compat/ld: /usr/local/cuda-12.4/lib64/libcufile.so: undefined reference to `std::_Rb_tree_increment(std::_Rb_tree_node_base*)@GLIBCXX_3.4'\n",
      "/home/wjyeo/anaconda3/envs/ipi_hw/compiler_compat/ld: /usr/local/cuda-12.4/lib64/libcufile.so: undefined reference to `std::basic_ifstream<char, std::char_traits<char> >::~basic_ifstream()@GLIBCXX_3.4'\n",
      "/home/wjyeo/anaconda3/envs/ipi_hw/compiler_compat/ld: /usr/local/cuda-12.4/lib64/libcufile.so: undefined reference to `std::ios_base::Init::Init()@GLIBCXX_3.4'\n",
      "/home/wjyeo/anaconda3/envs/ipi_hw/compiler_compat/ld: /usr/local/cuda-12.4/lib64/libcufile.so: undefined reference to `std::condition_variable::condition_variable()@GLIBCXX_3.4.11'\n",
      "/home/wjyeo/anaconda3/envs/ipi_hw/compiler_compat/ld: /usr/local/cuda-12.4/lib64/libcufile.so: undefined reference to `std::basic_filebuf<char, std::char_traits<char> >::basic_filebuf()@GLIBCXX_3.4'\n",
      "/home/wjyeo/anaconda3/envs/ipi_hw/compiler_compat/ld: /usr/local/cuda-12.4/lib64/libcufile.so: undefined reference to `VTT for std::basic_istringstream<char, std::char_traits<char>, std::allocator<char> >@GLIBCXX_3.4'\n",
      "/home/wjyeo/anaconda3/envs/ipi_hw/compiler_compat/ld: /usr/local/cuda-12.4/lib64/libcufile.so: undefined reference to `std::domain_error::~domain_error()@GLIBCXX_3.4'\n",
      "/home/wjyeo/anaconda3/envs/ipi_hw/compiler_compat/ld: /usr/local/cuda-12.4/lib64/libcufile.so: undefined reference to `std::cerr@GLIBCXX_3.4'\n",
      "/home/wjyeo/anaconda3/envs/ipi_hw/compiler_compat/ld: /usr/local/cuda-12.4/lib64/libcufile.so: undefined reference to `std::string::find(char const*, unsigned long, unsigned long) const@GLIBCXX_3.4'\n",
      "/home/wjyeo/anaconda3/envs/ipi_hw/compiler_compat/ld: /usr/local/cuda-12.4/lib64/libcufile.so: undefined reference to `vtable for std::basic_istringstream<char, std::char_traits<char>, std::allocator<char> >@GLIBCXX_3.4'\n",
      "/home/wjyeo/anaconda3/envs/ipi_hw/compiler_compat/ld: /usr/local/cuda-12.4/lib64/libcufile.so: undefined reference to `std::basic_string<char, std::char_traits<char>, std::allocator<char> >::basic_string(std::allocator<char> const&)@GLIBCXX_3.4'\n",
      "/home/wjyeo/anaconda3/envs/ipi_hw/compiler_compat/ld: /usr/local/cuda-12.4/lib64/libcufile.so: undefined reference to `std::basic_stringbuf<char, std::char_traits<char>, std::allocator<char> >::str() const@GLIBCXX_3.4'\n",
      "/home/wjyeo/anaconda3/envs/ipi_hw/compiler_compat/ld: /usr/local/cuda-12.4/lib64/libcufile.so: undefined reference to `vtable for std::invalid_argument@GLIBCXX_3.4'\n",
      "/home/wjyeo/anaconda3/envs/ipi_hw/compiler_compat/ld: /usr/local/cuda-12.4/lib64/libcufile.so: undefined reference to `typeinfo for void*@CXXABI_1.3'\n",
      "/home/wjyeo/anaconda3/envs/ipi_hw/compiler_compat/ld: /usr/local/cuda-12.4/lib64/libcufile.so: undefined reference to `std::string::assign(std::string const&)@GLIBCXX_3.4'\n",
      "/home/wjyeo/anaconda3/envs/ipi_hw/compiler_compat/ld: /usr/local/cuda-12.4/lib64/libcufile.so: undefined reference to `std::basic_ostringstream<char, std::char_traits<char>, std::allocator<char> >::~basic_ostringstream()@GLIBCXX_3.4'\n",
      "/home/wjyeo/anaconda3/envs/ipi_hw/compiler_compat/ld: /usr/local/cuda-12.4/lib64/libcufile.so: undefined reference to `std::_Rb_tree_rebalance_for_erase(std::_Rb_tree_node_base*, std::_Rb_tree_node_base&)@GLIBCXX_3.4'\n",
      "/home/wjyeo/anaconda3/envs/ipi_hw/compiler_compat/ld: /usr/local/cuda-12.4/lib64/libcufile.so: undefined reference to `typeinfo for unsigned long@CXXABI_1.3'\n",
      "/home/wjyeo/anaconda3/envs/ipi_hw/compiler_compat/ld: /usr/local/cuda-12.4/lib64/libcufile.so: undefined reference to `std::__detail::_List_node_base::_M_hook(std::__detail::_List_node_base*)@GLIBCXX_3.4.15'\n",
      "/home/wjyeo/anaconda3/envs/ipi_hw/compiler_compat/ld: /usr/local/cuda-12.4/lib64/libcufile.so: undefined reference to `std::__detail::_List_node_base::_M_unhook()@GLIBCXX_3.4.15'\n",
      "/home/wjyeo/anaconda3/envs/ipi_hw/compiler_compat/ld: /usr/local/cuda-12.4/lib64/libcufile.so: undefined reference to `vtable for std::basic_ostringstream<wchar_t, std::char_traits<wchar_t>, std::allocator<wchar_t> >@GLIBCXX_3.4'\n",
      "/home/wjyeo/anaconda3/envs/ipi_hw/compiler_compat/ld: /usr/local/cuda-12.4/lib64/libcufile.so: undefined reference to `std::basic_stringbuf<char, std::char_traits<char>, std::allocator<char> >::_M_sync(char*, unsigned long, unsigned long)@GLIBCXX_3.4'\n",
      "/home/wjyeo/anaconda3/envs/ipi_hw/compiler_compat/ld: /usr/local/cuda-12.4/lib64/libcufile.so: undefined reference to `std::basic_iostream<char, std::char_traits<char> >::~basic_iostream()@GLIBCXX_3.4'\n",
      "/home/wjyeo/anaconda3/envs/ipi_hw/compiler_compat/ld: /usr/local/cuda-12.4/lib64/libcufile.so: undefined reference to `std::locale::locale(std::locale const&)@GLIBCXX_3.4'\n",
      "/home/wjyeo/anaconda3/envs/ipi_hw/compiler_compat/ld: /usr/local/cuda-12.4/lib64/libcufile.so: undefined reference to `vtable for std::basic_istringstream<wchar_t, std::char_traits<wchar_t>, std::allocator<wchar_t> >@GLIBCXX_3.4'\n",
      "/home/wjyeo/anaconda3/envs/ipi_hw/compiler_compat/ld: /usr/local/cuda-12.4/lib64/libcufile.so: undefined reference to `log2f@GLIBC_2.2.5'\n",
      "/home/wjyeo/anaconda3/envs/ipi_hw/compiler_compat/ld: /usr/local/cuda-12.4/lib64/libcufile.so: undefined reference to `std::ostream::operator<<(std::basic_streambuf<char, std::char_traits<char> >*)@GLIBCXX_3.4'\n",
      "/home/wjyeo/anaconda3/envs/ipi_hw/compiler_compat/ld: /usr/local/cuda-12.4/lib64/libcufile.so: undefined reference to `vtable for std::basic_streambuf<wchar_t, std::char_traits<wchar_t> >@GLIBCXX_3.4'\n",
      "/home/wjyeo/anaconda3/envs/ipi_hw/compiler_compat/ld: /usr/local/cuda-12.4/lib64/libcufile.so: undefined reference to `std::exception::~exception()@GLIBCXX_3.4'\n",
      "/home/wjyeo/anaconda3/envs/ipi_hw/compiler_compat/ld: /usr/local/cuda-12.4/lib64/libcufile.so: undefined reference to `std::string::_Rep::_S_create(unsigned long, unsigned long, std::allocator<char> const&)@GLIBCXX_3.4'\n",
      "/home/wjyeo/anaconda3/envs/ipi_hw/compiler_compat/ld: /usr/local/cuda-12.4/lib64/libcufile.so: undefined reference to `std::__basic_file<char>::is_open() const@GLIBCXX_3.4'\n",
      "/home/wjyeo/anaconda3/envs/ipi_hw/compiler_compat/ld: /usr/local/cuda-12.4/lib64/libcufile.so: undefined reference to `std::basic_istringstream<char, std::char_traits<char>, std::allocator<char> >::~basic_istringstream()@GLIBCXX_3.4'\n",
      "/home/wjyeo/anaconda3/envs/ipi_hw/compiler_compat/ld: /usr/local/cuda-12.4/lib64/libcufile.so: undefined reference to `std::string::swap(std::string&)@GLIBCXX_3.4'\n",
      "/home/wjyeo/anaconda3/envs/ipi_hw/compiler_compat/ld: /usr/local/cuda-12.4/lib64/libcufile.so: undefined reference to `vtable for std::basic_ostringstream<char, std::char_traits<char>, std::allocator<char> >@GLIBCXX_3.4'\n",
      "/home/wjyeo/anaconda3/envs/ipi_hw/compiler_compat/ld: /usr/local/cuda-12.4/lib64/libcufile.so: undefined reference to `std::basic_streambuf<char, std::char_traits<char> >::basic_streambuf(std::basic_streambuf<char, std::char_traits<char> > const&)@GLIBCXX_3.4'\n",
      "/home/wjyeo/anaconda3/envs/ipi_hw/compiler_compat/ld: /usr/local/cuda-12.4/lib64/libcufile.so: undefined reference to `std::basic_ios<char, std::char_traits<char> >::init(std::basic_streambuf<char, std::char_traits<char> >*)@GLIBCXX_3.4'\n",
      "/home/wjyeo/anaconda3/envs/ipi_hw/compiler_compat/ld: /usr/local/cuda-12.4/lib64/libcufile.so: undefined reference to `std::__throw_bad_cast()@GLIBCXX_3.4'\n",
      "/home/wjyeo/anaconda3/envs/ipi_hw/compiler_compat/ld: /usr/local/cuda-12.4/lib64/libcufile.so: undefined reference to `std::basic_ios<char, std::char_traits<char> >::clear(std::_Ios_Iostate)@GLIBCXX_3.4'\n",
      "/home/wjyeo/anaconda3/envs/ipi_hw/compiler_compat/ld: /usr/local/cuda-12.4/lib64/libcufile.so: undefined reference to `std::basic_streambuf<wchar_t, std::char_traits<wchar_t> >::operator=(std::basic_streambuf<wchar_t, std::char_traits<wchar_t> > const&)@GLIBCXX_3.4'\n",
      "/home/wjyeo/anaconda3/envs/ipi_hw/compiler_compat/ld: /usr/local/cuda-12.4/lib64/libcufile.so: undefined reference to `typeinfo for long*@CXXABI_1.3'\n",
      "/home/wjyeo/anaconda3/envs/ipi_hw/compiler_compat/ld: /usr/local/cuda-12.4/lib64/libcufile.so: undefined reference to `operator delete(void*)@GLIBCXX_3.4'\n",
      "/home/wjyeo/anaconda3/envs/ipi_hw/compiler_compat/ld: /usr/local/cuda-12.4/lib64/libcufile.so: undefined reference to `std::ostream::operator<<(int)@GLIBCXX_3.4'\n",
      "/home/wjyeo/anaconda3/envs/ipi_hw/compiler_compat/ld: /usr/local/cuda-12.4/lib64/libcufile.so: undefined reference to `std::string::_Rep::_S_empty_rep_storage@GLIBCXX_3.4'\n",
      "/home/wjyeo/anaconda3/envs/ipi_hw/compiler_compat/ld: /usr/local/cuda-12.4/lib64/libcufile.so: undefined reference to `std::string::_Rep::_M_destroy(std::allocator<char> const&)@GLIBCXX_3.4'\n",
      "/home/wjyeo/anaconda3/envs/ipi_hw/compiler_compat/ld: /usr/local/cuda-12.4/lib64/libcufile.so: undefined reference to `std::basic_iostream<wchar_t, std::char_traits<wchar_t> >::~basic_iostream()@GLIBCXX_3.4'\n",
      "/home/wjyeo/anaconda3/envs/ipi_hw/compiler_compat/ld: /usr/local/cuda-12.4/lib64/libcufile.so: undefined reference to `vtable for std::runtime_error@GLIBCXX_3.4'\n",
      "/home/wjyeo/anaconda3/envs/ipi_hw/compiler_compat/ld: /usr/local/cuda-12.4/lib64/libcufile.so: undefined reference to `vtable for std::basic_ofstream<char, std::char_traits<char> >@GLIBCXX_3.4'\n",
      "/home/wjyeo/anaconda3/envs/ipi_hw/compiler_compat/ld: /usr/local/cuda-12.4/lib64/libcufile.so: undefined reference to `std::_Rb_tree_insert_and_rebalance(bool, std::_Rb_tree_node_base*, std::_Rb_tree_node_base*, std::_Rb_tree_node_base&)@GLIBCXX_3.4'\n",
      "/home/wjyeo/anaconda3/envs/ipi_hw/compiler_compat/ld: /usr/local/cuda-12.4/lib64/libcufile.so: undefined reference to `std::basic_stringstream<char, std::char_traits<char>, std::allocator<char> >::~basic_stringstream()@GLIBCXX_3.4'\n",
      "/home/wjyeo/anaconda3/envs/ipi_hw/compiler_compat/ld: /usr/local/cuda-12.4/lib64/libcufile.so: undefined reference to `VTT for std::basic_stringstream<wchar_t, std::char_traits<wchar_t>, std::allocator<wchar_t> >@GLIBCXX_3.4'\n",
      "/home/wjyeo/anaconda3/envs/ipi_hw/compiler_compat/ld: /usr/local/cuda-12.4/lib64/libcufile.so: undefined reference to `std::ostream& std::ostream::_M_insert<long>(long)@GLIBCXX_3.4.9'\n",
      "/home/wjyeo/anaconda3/envs/ipi_hw/compiler_compat/ld: /usr/local/cuda-12.4/lib64/libcufile.so: undefined reference to `std::istream::get()@GLIBCXX_3.4'\n",
      "/home/wjyeo/anaconda3/envs/ipi_hw/compiler_compat/ld: /usr/local/cuda-12.4/lib64/libcufile.so: undefined reference to `typeinfo for unsigned long long@CXXABI_1.3'\n",
      "/home/wjyeo/anaconda3/envs/ipi_hw/compiler_compat/ld: /usr/local/cuda-12.4/lib64/libcufile.so: undefined reference to `std::basic_ostream<char, std::char_traits<char> >& std::operator<< <std::char_traits<char> >(std::basic_ostream<char, std::char_traits<char> >&, char const*)@GLIBCXX_3.4'\n",
      "/home/wjyeo/anaconda3/envs/ipi_hw/compiler_compat/ld: /usr/local/cuda-12.4/lib64/libcufile.so: undefined reference to `std::out_of_range::~out_of_range()@GLIBCXX_3.4'\n",
      "/home/wjyeo/anaconda3/envs/ipi_hw/compiler_compat/ld: /usr/local/cuda-12.4/lib64/libcufile.so: undefined reference to `std::length_error::~length_error()@GLIBCXX_3.4'\n",
      "/home/wjyeo/anaconda3/envs/ipi_hw/compiler_compat/ld: /usr/local/cuda-12.4/lib64/libcufile.so: undefined reference to `std::basic_ostream<char, std::char_traits<char> >& std::__ostream_insert<char, std::char_traits<char> >(std::basic_ostream<char, std::char_traits<char> >&, char const*, long)@GLIBCXX_3.4.9'\n",
      "/home/wjyeo/anaconda3/envs/ipi_hw/compiler_compat/ld: /usr/local/cuda-12.4/lib64/libcufile.so: undefined reference to `std::invalid_argument::~invalid_argument()@GLIBCXX_3.4'\n",
      "/home/wjyeo/anaconda3/envs/ipi_hw/compiler_compat/ld: /usr/local/cuda-12.4/lib64/libcufile.so: undefined reference to `std::basic_string<wchar_t, std::char_traits<wchar_t>, std::allocator<wchar_t> >::swap(std::basic_string<wchar_t, std::char_traits<wchar_t>, std::allocator<wchar_t> >&)@GLIBCXX_3.4'\n",
      "/home/wjyeo/anaconda3/envs/ipi_hw/compiler_compat/ld: /usr/local/cuda-12.4/lib64/libcufile.so: undefined reference to `std::cout@GLIBCXX_3.4'\n",
      "/home/wjyeo/anaconda3/envs/ipi_hw/compiler_compat/ld: /usr/local/cuda-12.4/lib64/libcufile.so: undefined reference to `std::ostream& std::ostream::_M_insert<unsigned long long>(unsigned long long)@GLIBCXX_3.4.9'\n",
      "/home/wjyeo/anaconda3/envs/ipi_hw/compiler_compat/ld: /usr/local/cuda-12.4/lib64/libcufile.so: undefined reference to `std::ostream& std::ostream::_M_insert<void const*>(void const*)@GLIBCXX_3.4.9'\n",
      "/home/wjyeo/anaconda3/envs/ipi_hw/compiler_compat/ld: /usr/local/cuda-12.4/lib64/libcufile.so: undefined reference to `vtable for std::underflow_error@GLIBCXX_3.4'\n",
      "/home/wjyeo/anaconda3/envs/ipi_hw/compiler_compat/ld: /usr/local/cuda-12.4/lib64/libcufile.so: undefined reference to `vtable for std::basic_streambuf<char, std::char_traits<char> >@GLIBCXX_3.4'\n",
      "/home/wjyeo/anaconda3/envs/ipi_hw/compiler_compat/ld: /usr/local/cuda-12.4/lib64/libcufile.so: undefined reference to `typeinfo for std::out_of_range@GLIBCXX_3.4'\n",
      "/home/wjyeo/anaconda3/envs/ipi_hw/compiler_compat/ld: /usr/local/cuda-12.4/lib64/libcufile.so: undefined reference to `__cxa_allocate_exception@CXXABI_1.3'\n",
      "/home/wjyeo/anaconda3/envs/ipi_hw/compiler_compat/ld: /usr/local/cuda-12.4/lib64/libcufile.so: undefined reference to `vtable for std::basic_ios<wchar_t, std::char_traits<wchar_t> >@GLIBCXX_3.4'\n",
      "/home/wjyeo/anaconda3/envs/ipi_hw/compiler_compat/ld: /usr/local/cuda-12.4/lib64/libcufile.so: undefined reference to `typeinfo for void const*@CXXABI_1.3'\n",
      "/home/wjyeo/anaconda3/envs/ipi_hw/compiler_compat/ld: /usr/local/cuda-12.4/lib64/libcufile.so: undefined reference to `std::basic_ios<wchar_t, std::char_traits<wchar_t> >::init(std::basic_streambuf<wchar_t, std::char_traits<wchar_t> >*)@GLIBCXX_3.4'\n",
      "/home/wjyeo/anaconda3/envs/ipi_hw/compiler_compat/ld: /usr/local/cuda-12.4/lib64/libcufile.so: undefined reference to `std::string::reserve(unsigned long)@GLIBCXX_3.4'\n",
      "/home/wjyeo/anaconda3/envs/ipi_hw/compiler_compat/ld: /usr/local/cuda-12.4/lib64/libcufile.so: undefined reference to `__cxa_begin_catch@CXXABI_1.3'\n",
      "/home/wjyeo/anaconda3/envs/ipi_hw/compiler_compat/ld: /usr/local/cuda-12.4/lib64/libcufile.so: undefined reference to `typeinfo for long@CXXABI_1.3'\n",
      "/home/wjyeo/anaconda3/envs/ipi_hw/compiler_compat/ld: /usr/local/cuda-12.4/lib64/libcufile.so: undefined reference to `std::basic_string<wchar_t, std::char_traits<wchar_t>, std::allocator<wchar_t> >::_Rep::_S_empty_rep_storage@GLIBCXX_3.4'\n",
      "/home/wjyeo/anaconda3/envs/ipi_hw/compiler_compat/ld: /usr/local/cuda-12.4/lib64/libcufile.so: undefined reference to `std::string::_M_leak()@GLIBCXX_3.4'\n",
      "/home/wjyeo/anaconda3/envs/ipi_hw/compiler_compat/ld: /usr/local/cuda-12.4/lib64/libcufile.so: undefined reference to `std::basic_filebuf<char, std::char_traits<char> >::open(char const*, std::_Ios_Openmode)@GLIBCXX_3.4'\n",
      "/home/wjyeo/anaconda3/envs/ipi_hw/compiler_compat/ld: /usr/local/cuda-12.4/lib64/libcufile.so: undefined reference to `std::basic_stringbuf<wchar_t, std::char_traits<wchar_t>, std::allocator<wchar_t> >::_M_sync(wchar_t*, unsigned long, unsigned long)@GLIBCXX_3.4'\n",
      "/home/wjyeo/anaconda3/envs/ipi_hw/compiler_compat/ld: /usr/local/cuda-12.4/lib64/libcufile.so: undefined reference to `std::istream::getline(char*, long, char)@GLIBCXX_3.4'\n",
      "/home/wjyeo/anaconda3/envs/ipi_hw/compiler_compat/ld: /usr/local/cuda-12.4/lib64/libcufile.so: undefined reference to `std::basic_istream<char, std::char_traits<char> >& std::getline<char, std::char_traits<char>, std::allocator<char> >(std::basic_istream<char, std::char_traits<char> >&, std::basic_string<char, std::char_traits<char>, std::allocator<char> >&, char)@GLIBCXX_3.4'\n",
      "/home/wjyeo/anaconda3/envs/ipi_hw/compiler_compat/ld: /usr/local/cuda-12.4/lib64/libcufile.so: undefined reference to `vtable for std::basic_stringstream<wchar_t, std::char_traits<wchar_t>, std::allocator<wchar_t> >@GLIBCXX_3.4'\n",
      "/home/wjyeo/anaconda3/envs/ipi_hw/compiler_compat/ld: /usr/local/cuda-12.4/lib64/libcufile.so: undefined reference to `std::condition_variable::~condition_variable()@GLIBCXX_3.4.11'\n",
      "/home/wjyeo/anaconda3/envs/ipi_hw/compiler_compat/ld: /usr/local/cuda-12.4/lib64/libcufile.so: undefined reference to `vtable for std::basic_stringbuf<wchar_t, std::char_traits<wchar_t>, std::allocator<wchar_t> >@GLIBCXX_3.4'\n",
      "/home/wjyeo/anaconda3/envs/ipi_hw/compiler_compat/ld: /usr/local/cuda-12.4/lib64/libcufile.so: undefined reference to `std::string::insert(unsigned long, char const*, unsigned long)@GLIBCXX_3.4'\n",
      "/home/wjyeo/anaconda3/envs/ipi_hw/compiler_compat/ld: /usr/local/cuda-12.4/lib64/libcufile.so: undefined reference to `std::string::assign(char const*, unsigned long)@GLIBCXX_3.4'\n",
      "/home/wjyeo/anaconda3/envs/ipi_hw/compiler_compat/ld: /usr/local/cuda-12.4/lib64/libcufile.so: undefined reference to `typeinfo for unsigned char@CXXABI_1.3'\n",
      "/home/wjyeo/anaconda3/envs/ipi_hw/compiler_compat/ld: /usr/local/cuda-12.4/lib64/libcufile.so: undefined reference to `std::ios_base::ios_base()@GLIBCXX_3.4'\n",
      "/home/wjyeo/anaconda3/envs/ipi_hw/compiler_compat/ld: /usr/local/cuda-12.4/lib64/libcufile.so: undefined reference to `std::__throw_out_of_range(char const*)@GLIBCXX_3.4'\n",
      "/home/wjyeo/anaconda3/envs/ipi_hw/compiler_compat/ld: /usr/local/cuda-12.4/lib64/libcufile.so: undefined reference to `std::overflow_error::~overflow_error()@GLIBCXX_3.4'\n",
      "/home/wjyeo/anaconda3/envs/ipi_hw/compiler_compat/ld: /usr/local/cuda-12.4/lib64/libcufile.so: undefined reference to `std::__throw_length_error(char const*)@GLIBCXX_3.4'\n",
      "/home/wjyeo/anaconda3/envs/ipi_hw/compiler_compat/ld: /usr/local/cuda-12.4/lib64/libcufile.so: undefined reference to `std::__throw_system_error(int)@GLIBCXX_3.4.11'\n",
      "/home/wjyeo/anaconda3/envs/ipi_hw/compiler_compat/ld: /usr/local/cuda-12.4/lib64/libcufile.so: undefined reference to `std::basic_ofstream<char, std::char_traits<char> >::close()@GLIBCXX_3.4'\n",
      "/home/wjyeo/anaconda3/envs/ipi_hw/compiler_compat/ld: /usr/local/cuda-12.4/lib64/libcufile.so: undefined reference to `std::ostream& std::ostream::_M_insert<double>(double)@GLIBCXX_3.4.9'\n",
      "/home/wjyeo/anaconda3/envs/ipi_hw/compiler_compat/ld: /usr/local/cuda-12.4/lib64/libcufile.so: undefined reference to `std::basic_streambuf<char, std::char_traits<char> >::operator=(std::basic_streambuf<char, std::char_traits<char> > const&)@GLIBCXX_3.4'\n",
      "/home/wjyeo/anaconda3/envs/ipi_hw/compiler_compat/ld: /usr/local/cuda-12.4/lib64/libcufile.so: undefined reference to `typeinfo for long long@CXXABI_1.3'\n",
      "/home/wjyeo/anaconda3/envs/ipi_hw/compiler_compat/ld: /usr/local/cuda-12.4/lib64/libcufile.so: undefined reference to `std::basic_string<char, std::char_traits<char>, std::allocator<char> >::basic_string(char const*, unsigned long, std::allocator<char> const&)@GLIBCXX_3.4'\n",
      "/home/wjyeo/anaconda3/envs/ipi_hw/compiler_compat/ld: /usr/local/cuda-12.4/lib64/libcufile.so: undefined reference to `std::basic_ifstream<char, std::char_traits<char> >::close()@GLIBCXX_3.4'\n",
      "/home/wjyeo/anaconda3/envs/ipi_hw/compiler_compat/ld: /usr/local/cuda-12.4/lib64/libcufile.so: undefined reference to `__cxa_guard_release@CXXABI_1.3'\n",
      "/home/wjyeo/anaconda3/envs/ipi_hw/compiler_compat/ld: /usr/local/cuda-12.4/lib64/libcufile.so: undefined reference to `__cxa_throw@CXXABI_1.3'\n",
      "/home/wjyeo/anaconda3/envs/ipi_hw/compiler_compat/ld: /usr/local/cuda-12.4/lib64/libcufile.so: undefined reference to `std::underflow_error::~underflow_error()@GLIBCXX_3.4'\n",
      "/home/wjyeo/anaconda3/envs/ipi_hw/compiler_compat/ld: /usr/local/cuda-12.4/lib64/libcufile.so: undefined reference to `std::_Rb_tree_decrement(std::_Rb_tree_node_base*)@GLIBCXX_3.4'\n",
      "/home/wjyeo/anaconda3/envs/ipi_hw/compiler_compat/ld: /usr/local/cuda-12.4/lib64/libcufile.so: undefined reference to `vtable for std::length_error@GLIBCXX_3.4'\n",
      "/home/wjyeo/anaconda3/envs/ipi_hw/compiler_compat/ld: /usr/local/cuda-12.4/lib64/libcufile.so: undefined reference to `std::basic_filebuf<char, std::char_traits<char> >::~basic_filebuf()@GLIBCXX_3.4'\n",
      "collect2: error: ld returned 1 exit status\n"
     ]
    }
   ],
   "source": [
    "import os,json,sys\n",
    "sys.path.append(os.path.abspath(\".\")) \n",
    "sys.path.append(os.path.abspath(\"..\"))\n",
    "sys.path.append(os.path.abspath(\"aside\")) # to access aside.experiments \n",
    "from torch.utils.data import Dataset\n",
    "from transformers import AutoTokenizer\n",
    "import re\n",
    "from tqdm import tqdm\n",
    "from utils.utils import *\n",
    "from datasets import load_dataset\n",
    "import ast\n",
    "from collections import defaultdict\n",
    "from utils.model_utils import load_model\n",
    "from vllm import SamplingParams\n",
    "os.environ['TOKENIZERS_PARALLELISM'] = 'false'  # to suppress warning message"
   ]
  },
  {
   "cell_type": "code",
   "execution_count": 2,
   "id": "dc1bd546",
   "metadata": {},
   "outputs": [
    {
     "name": "stdout",
     "output_type": "stream",
     "text": [
      "INFO 10-10 16:19:45 [utils.py:328] non-default args: {'max_model_len': 32768, 'gpu_memory_utilization': 0.8, 'disable_log_stats': True, 'enable_chunked_prefill': True, 'model': '/mnt/disk1/xulin/models/Qwen3-8B'}\n",
      "INFO 10-10 16:19:50 [__init__.py:742] Resolved architecture: Qwen3ForCausalLM\n"
     ]
    },
    {
     "name": "stderr",
     "output_type": "stream",
     "text": [
      "`torch_dtype` is deprecated! Use `dtype` instead!\n"
     ]
    },
    {
     "name": "stdout",
     "output_type": "stream",
     "text": [
      "INFO 10-10 16:19:50 [__init__.py:1815] Using max model len 32768\n",
      "INFO 10-10 16:19:52 [scheduler.py:222] Chunked prefill is enabled with max_num_batched_tokens=16384.\n",
      "WARNING 10-10 16:19:53 [__init__.py:2974] We must use the `spawn` multiprocessing start method. Overriding VLLM_WORKER_MULTIPROC_METHOD to 'spawn'. See https://docs.vllm.ai/en/latest/usage/troubleshooting.html#python-multiprocessing for more information. Reasons: CUDA is initialized\n",
      "INFO 10-10 16:19:57 [__init__.py:216] Automatically detected platform cuda.\n",
      "\u001b[1;36m(EngineCore_DP0 pid=1337869)\u001b[0;0m INFO 10-10 16:19:58 [core.py:654] Waiting for init message from front-end.\n",
      "\u001b[1;36m(EngineCore_DP0 pid=1337869)\u001b[0;0m INFO 10-10 16:19:58 [core.py:76] Initializing a V1 LLM engine (v0.10.2) with config: model='/mnt/disk1/xulin/models/Qwen3-8B', speculative_config=None, tokenizer='/mnt/disk1/xulin/models/Qwen3-8B', skip_tokenizer_init=False, tokenizer_mode=auto, revision=None, tokenizer_revision=None, trust_remote_code=False, dtype=torch.bfloat16, max_seq_len=32768, download_dir=None, load_format=auto, tensor_parallel_size=1, pipeline_parallel_size=1, data_parallel_size=1, disable_custom_all_reduce=False, quantization=None, enforce_eager=False, kv_cache_dtype=auto, device_config=cuda, decoding_config=DecodingConfig(backend='auto', disable_fallback=False, disable_any_whitespace=False, disable_additional_properties=False, reasoning_backend=''), observability_config=ObservabilityConfig(show_hidden_metrics_for_version=None, otlp_traces_endpoint=None, collect_detailed_traces=None), seed=0, served_model_name=/mnt/disk1/xulin/models/Qwen3-8B, enable_prefix_caching=True, chunked_prefill_enabled=True, use_async_output_proc=True, pooler_config=None, compilation_config={\"level\":3,\"debug_dump_path\":\"\",\"cache_dir\":\"\",\"backend\":\"\",\"custom_ops\":[],\"splitting_ops\":[\"vllm.unified_attention\",\"vllm.unified_attention_with_output\",\"vllm.mamba_mixer2\",\"vllm.mamba_mixer\",\"vllm.short_conv\",\"vllm.linear_attention\",\"vllm.plamo2_mamba_mixer\",\"vllm.gdn_attention\"],\"use_inductor\":true,\"compile_sizes\":[],\"inductor_compile_config\":{\"enable_auto_functionalized_v2\":false},\"inductor_passes\":{},\"cudagraph_mode\":1,\"use_cudagraph\":true,\"cudagraph_num_of_warmups\":1,\"cudagraph_capture_sizes\":[512,504,496,488,480,472,464,456,448,440,432,424,416,408,400,392,384,376,368,360,352,344,336,328,320,312,304,296,288,280,272,264,256,248,240,232,224,216,208,200,192,184,176,168,160,152,144,136,128,120,112,104,96,88,80,72,64,56,48,40,32,24,16,8,4,2,1],\"cudagraph_copy_inputs\":false,\"full_cuda_graph\":false,\"pass_config\":{},\"max_capture_size\":512,\"local_cache_dir\":null}\n"
     ]
    },
    {
     "name": "stderr",
     "output_type": "stream",
     "text": [
      "[W1010 16:19:59.496991273 ProcessGroupNCCL.cpp:981] Warning: TORCH_NCCL_AVOID_RECORD_STREAMS is the default now, this environment variable is thus deprecated. (function operator())\n"
     ]
    },
    {
     "name": "stdout",
     "output_type": "stream",
     "text": [
      "[Gloo] Rank 0 is connected to 0 peer ranks. Expected number of connected peer ranks is : 0\n",
      "[Gloo] Rank 0 is connected to 0 peer ranks. Expected number of connected peer ranks is : 0\n",
      "[Gloo] Rank 0 is connected to 0 peer ranks. Expected number of connected peer ranks is : 0\n",
      "[Gloo] Rank 0 is connected to 0 peer ranks. Expected number of connected peer ranks is : 0\n",
      "[Gloo] Rank 0 is connected to 0 peer ranks. Expected number of connected peer ranks is : 0\n",
      "[Gloo] Rank 0 is connected to 0 peer ranks. Expected number of connected peer ranks is : 0\n",
      "\u001b[1;36m(EngineCore_DP0 pid=1337869)\u001b[0;0m INFO 10-10 16:19:59 [parallel_state.py:1165] rank 0 in world size 1 is assigned as DP rank 0, PP rank 0, TP rank 0, EP rank 0\n",
      "\u001b[1;36m(EngineCore_DP0 pid=1337869)\u001b[0;0m WARNING 10-10 16:19:59 [topk_topp_sampler.py:69] FlashInfer is not available. Falling back to the PyTorch-native implementation of top-p & top-k sampling. For the best performance, please install FlashInfer.\n",
      "\u001b[1;36m(EngineCore_DP0 pid=1337869)\u001b[0;0m INFO 10-10 16:20:00 [gpu_model_runner.py:2338] Starting to load model /mnt/disk1/xulin/models/Qwen3-8B...\n",
      "\u001b[1;36m(EngineCore_DP0 pid=1337869)\u001b[0;0m INFO 10-10 16:20:00 [gpu_model_runner.py:2370] Loading model from scratch...\n",
      "\u001b[1;36m(EngineCore_DP0 pid=1337869)\u001b[0;0m INFO 10-10 16:20:00 [cuda.py:362] Using Flash Attention backend on V1 engine.\n"
     ]
    },
    {
     "name": "stderr",
     "output_type": "stream",
     "text": [
      "Loading safetensors checkpoint shards:   0% Completed | 0/5 [00:00<?, ?it/s]\n",
      "Loading safetensors checkpoint shards:  20% Completed | 1/5 [00:00<00:02,  1.34it/s]\n",
      "Loading safetensors checkpoint shards:  40% Completed | 2/5 [00:01<00:02,  1.27it/s]\n",
      "Loading safetensors checkpoint shards:  60% Completed | 3/5 [00:02<00:01,  1.43it/s]\n",
      "Loading safetensors checkpoint shards:  80% Completed | 4/5 [00:02<00:00,  1.44it/s]\n",
      "Loading safetensors checkpoint shards: 100% Completed | 5/5 [00:03<00:00,  1.82it/s]\n",
      "Loading safetensors checkpoint shards: 100% Completed | 5/5 [00:03<00:00,  1.59it/s]\n",
      "\u001b[1;36m(EngineCore_DP0 pid=1337869)\u001b[0;0m \n"
     ]
    },
    {
     "name": "stdout",
     "output_type": "stream",
     "text": [
      "\u001b[1;36m(EngineCore_DP0 pid=1337869)\u001b[0;0m INFO 10-10 16:20:03 [default_loader.py:268] Loading weights took 3.17 seconds\n",
      "\u001b[1;36m(EngineCore_DP0 pid=1337869)\u001b[0;0m INFO 10-10 16:20:03 [gpu_model_runner.py:2392] Model loading took 15.2683 GiB and 3.362312 seconds\n",
      "\u001b[1;36m(EngineCore_DP0 pid=1337869)\u001b[0;0m INFO 10-10 16:20:09 [backends.py:539] Using cache directory: /home/wjyeo/.cache/vllm/torch_compile_cache/426d22dfc4/rank_0_0/backbone for vLLM's torch.compile\n",
      "\u001b[1;36m(EngineCore_DP0 pid=1337869)\u001b[0;0m INFO 10-10 16:20:09 [backends.py:550] Dynamo bytecode transform time: 5.34 s\n",
      "\u001b[1;36m(EngineCore_DP0 pid=1337869)\u001b[0;0m INFO 10-10 16:20:10 [backends.py:194] Cache the graph for dynamic shape for later use\n",
      "\u001b[1;36m(EngineCore_DP0 pid=1337869)\u001b[0;0m INFO 10-10 16:20:13 [backends.py:215] Compiling a graph for dynamic shape takes 3.83 s\n",
      "\u001b[1;36m(EngineCore_DP0 pid=1337869)\u001b[0;0m INFO 10-10 16:20:14 [monitor.py:34] torch.compile takes 9.18 s in total\n",
      "\u001b[1;36m(EngineCore_DP0 pid=1337869)\u001b[0;0m INFO 10-10 16:20:15 [gpu_worker.py:298] Available KV cache memory: 90.83 GiB\n",
      "\u001b[1;36m(EngineCore_DP0 pid=1337869)\u001b[0;0m INFO 10-10 16:20:15 [kv_cache_utils.py:864] GPU KV cache size: 661,424 tokens\n",
      "\u001b[1;36m(EngineCore_DP0 pid=1337869)\u001b[0;0m INFO 10-10 16:20:15 [kv_cache_utils.py:868] Maximum concurrency for 32,768 tokens per request: 20.19x\n"
     ]
    },
    {
     "name": "stderr",
     "output_type": "stream",
     "text": [
      "Capturing CUDA graphs (mixed prefill-decode, PIECEWISE): 100%|██████████| 67/67 [00:02<00:00, 23.53it/s]\n"
     ]
    },
    {
     "name": "stdout",
     "output_type": "stream",
     "text": [
      "\u001b[1;36m(EngineCore_DP0 pid=1337869)\u001b[0;0m INFO 10-10 16:20:19 [gpu_model_runner.py:3118] Graph capturing finished in 3 secs, took 0.77 GiB\n",
      "\u001b[1;36m(EngineCore_DP0 pid=1337869)\u001b[0;0m INFO 10-10 16:20:19 [gpu_worker.py:391] Free memory on device (139.21/139.81 GiB) on startup. Desired GPU memory utilization is (0.8, 111.85 GiB). Actual usage is 15.27 GiB for weight, 5.68 GiB for peak activation, 0.07 GiB for non-torch memory, and 0.77 GiB for CUDAGraph memory. Replace gpu_memory_utilization config with `--kv-cache-memory=96544422195` to fit into requested memory, or `--kv-cache-memory=125921838592` to fully utilize gpu memory. Current kv cache memory in use is 97532180787 bytes.\n",
      "\u001b[1;36m(EngineCore_DP0 pid=1337869)\u001b[0;0m INFO 10-10 16:20:19 [core.py:218] init engine (profile, create kv cache, warmup model) took 15.37 seconds\n",
      "INFO 10-10 16:20:19 [llm.py:295] Supported_tasks: ['generate']\n",
      "INFO 10-10 16:20:19 [__init__.py:36] No IOProcessor plugins requested by the model\n"
     ]
    }
   ],
   "source": [
    "# model_path = \"Qwen/Qwen3-8B\"\n",
    "model_path = '/mnt/disk1/xulin/models/Qwen3-8B'\n",
    "# tokenizer = AutoTokenizer.from_pretrained(model_path)\n",
    "use_vllm = True\n",
    "model,tokenizer,is_aside,_ = load_model(model_path,use_vllm=use_vllm,dtype=torch.bfloat16,vllm_kwargs = {'gpu_memory_utilization':0.8,'enable_chunked_prefill':True}) # load model if generating the toucan dpo"
   ]
  },
  {
   "cell_type": "markdown",
   "id": "641a04b1",
   "metadata": {},
   "source": [
    "# Generate SFT for ASIDE\n",
    "\n",
    "1. Alpaca (50% without input, 50% with)\n",
    "2. Toucan (50% tool label- take 1st turn - unrotated, 50% 2nd turn onwards, rotated.)"
   ]
  },
  {
   "cell_type": "code",
   "execution_count": 3,
   "id": "a799373f",
   "metadata": {},
   "outputs": [],
   "source": [
    "import io\n",
    "\n",
    "OTHER_DELM_TOKENS = {\n",
    "    'mark': ['{s}', '|{s}|', '<{s}>', '[{s}]', '<|{s}|>', '[|{s}|]', '<[{s}]>', '\\'\\'\\'{s}\\'\\'\\'', '***{s}***'],\n",
    "    'inst': ['Command', 'Rule', 'Prompt', 'Task'],\n",
    "    'inpt': ['Data', 'Context', 'Text'],\n",
    "    'resp': ['Output', 'Answer', 'Reply'],\n",
    "    'user': ['', 'Prompter ', 'User ', 'Human '],\n",
    "    'asst': ['', 'Assistant ', 'Chatbot ', 'Bot ', 'GPT ', 'AI '],\n",
    "}\n",
    "\n",
    "def create_injection_for_completion(response, instruction):\n",
    "    mark = np.random.choice(OTHER_DELM_TOKENS['mark']) + ':'\n",
    "    \n",
    "    def sample_delm(delm_name):\n",
    "        role_name = 'user' if (delm_name == 'inst' or delm_name == 'inpt') else 'asst'\n",
    "        role = np.random.choice(OTHER_DELM_TOKENS[role_name]) \n",
    "        delm = np.random.choice(OTHER_DELM_TOKENS[delm_name])\n",
    "        p = np.random.rand()\n",
    "        if p < 1/3: return (role + delm).upper()\n",
    "        elif p < 2/3: return (role + delm).lower()\n",
    "        else: return role + delm\n",
    "    \n",
    "    text = mark.format(s=sample_delm('resp')) + '\\n\\n' + response \n",
    "    text += '\\n\\n' + mark.format(s=sample_delm('inst')) + '\\n\\n' + instruction\n",
    "    return text\n",
    "\n",
    "def jload(f, mode=\"r\", num_samples=None):\n",
    "    if not isinstance(f, io.IOBase): f = open(f, mode=mode)\n",
    "    jdict = json.load(f)\n",
    "    f.close()\n",
    "    return jdict\n",
    "\n",
    "def jdump(obj, f, mode=\"w\", indent=4, default=str):\n",
    "    if not isinstance(f, io.IOBase): f = open(f, mode=mode)\n",
    "    if isinstance(obj, (dict, list)): json.dump(obj, f, indent=indent, default=default)\n",
    "    elif isinstance(obj, str): f.write(obj)\n",
    "    else: raise ValueError(f\"Unexpected type: {type(obj)}\")\n",
    "    f.close()\n",
    "\n",
    "\n",
    "def calculate_length_for_preference_dataset(dataset, tokenizer):\n",
    "    chosen_input_ids = tokenizer([d['chosen'] for d in dataset], add_special_tokens=False)[\"input_ids\"]\n",
    "    rejected_input_ids = tokenizer([d['rejected'] for d in dataset], add_special_tokens=False)[\"input_ids\"]\n",
    "\n",
    "    chosen_lengths = np.array([len(prompt) for prompt in chosen_input_ids])\n",
    "    rejected_lengths = np.array([len(prompt) for prompt in rejected_input_ids])\n",
    "    prompt_and_label_lengths = np.maximum(chosen_lengths,rejected_lengths)\n",
    "\n",
    "    print('Input+Output model_max_length (98%, 99%, 99.5%, 99.9%):', np.percentile(prompt_and_label_lengths, [95, 99, 99.5, 99.9]))\n",
    "    print (f'Mean: {(np.mean(chosen_lengths) + np.mean(rejected_lengths))/2:.2f} Num > 2048: {np.sum(prompt_and_label_lengths>2048)} / {len(prompt_and_label_lengths)}')"
   ]
  },
  {
   "cell_type": "code",
   "execution_count": null,
   "id": "4ff41d38",
   "metadata": {},
   "outputs": [
    {
     "name": "stdout",
     "output_type": "stream",
     "text": [
      "51760\n"
     ]
    }
   ],
   "source": [
    "data_dir = \"/mnt/disk1/wjyeo/data\"\n",
    "sft_data_path = {'train':os.path.join(data_dir, \"alpaca_aside_train.json\"),\n",
    "                        'val':os.path.join(data_dir, \"alpaca_aside_val.json\"),}\n",
    "clean_alpaca = load_dataset(\"yahma/alpaca-cleaned\")['train']\n",
    "print (len(clean_alpaca))"
   ]
  },
  {
   "cell_type": "code",
   "execution_count": 6,
   "id": "4d8db22e",
   "metadata": {},
   "outputs": [
    {
     "name": "stdout",
     "output_type": "stream",
     "text": [
      "19157 32603\n",
      "38314\n"
     ]
    }
   ],
   "source": [
    "alpaca_sampling_params = SamplingParams(temperature=0., max_tokens=2048, stop=tokenizer.eos_token)\n",
    "\n",
    "data_with_input = []\n",
    "data_without_input = []\n",
    "for i,sample in enumerate(clean_alpaca):\n",
    "    if sample.get('input', '').strip() == '':\n",
    "        data_without_input.append(sample)\n",
    "    else:\n",
    "        data_with_input.append(sample)\n",
    "print (len(data_with_input), len(data_without_input))\n",
    "\n",
    "balanced_alpaca = []\n",
    "num_samples = min(len(data_with_input), len(data_without_input))\n",
    "if len(data_with_input) > num_samples:\n",
    "    data_with_input = np.random.choice(data_with_input, num_samples, replace=False).tolist()\n",
    "if len(data_without_input) > num_samples:\n",
    "    data_without_input = np.random.choice(data_without_input, num_samples, replace=False).tolist()\n",
    "balanced_alpaca = data_with_input + data_without_input\n",
    "print (len(balanced_alpaca))\n",
    "np.random.shuffle(balanced_alpaca)"
   ]
  },
  {
   "cell_type": "code",
   "execution_count": null,
   "id": "c981712b",
   "metadata": {},
   "outputs": [],
   "source": [
    "sft_inputs = []\n",
    "for sample in balanced_alpaca:\n",
    "    if sample.get('input','').strip() != '':\n",
    "        conv = [\n",
    "            {\"role\": \"user\", \"content\": sample[\"instruction\"] + \"\\n\\n\" + sample[\"input\"]}\n",
    "        ]\n",
    "    else:\n",
    "        conv = [\n",
    "            {\"role\": \"user\", \"content\": sample[\"instruction\"]}\n",
    "        ]\n",
    "    sft_inputs.append(tokenizer.apply_chat_template(conv, tokenize=False, add_generation_prompt=True,enable_thinking=False))\n",
    "print (f'SFT dataset size: {len(sft_inputs)}')  \n",
    "sft_outputs = model.generate(sft_inputs, alpaca_sampling_params,use_tqdm=True)\n",
    "sft_outputs = [o.outputs[0].text for o in sft_outputs]\n",
    "\n",
    "sft_data = []\n",
    "for sample,output in zip(balanced_alpaca,sft_outputs):\n",
    "    if sample.get('input','').strip() == '':\n",
    "        sft_data.append({\n",
    "            'instruction': sample['instruction'],\n",
    "            'output': output\n",
    "        })\n",
    "    else:\n",
    "        sft_data.append({\n",
    "            'instruction': sample['instruction'],\n",
    "            'input': sample.get('input',''),\n",
    "            'output': output\n",
    "        })\n",
    "\n",
    "val_size= 500\n",
    "random_ids = np.random.permutation(len(sft_data))\n",
    "sft_data_train = [sft_data[i] for i in random_ids[val_size:]]\n",
    "sft_data_val = [sft_data[i] for i in random_ids[:val_size]]\n",
    "print (f'SFT train size: {len(sft_data_train)}, val size: {len(sft_data_val)}')\n",
    "\n",
    "jdump(sft_data_train,sft_data_path['train'])\n",
    "jdump(sft_data_val,sft_data_path['val'])\n",
    "\n",
    "## Get length\n",
    "input_len = [len(ids) for ids in tokenizer([d['instruction'] + '\\n\\n' + d.get('input','') for d in sft_data_train])[\"input_ids\"]]\n",
    "completion_len = [len(ids) for ids in tokenizer([d['output'] for d in sft_data_train])[\"input_ids\"]]\n",
    "overall_len = [i+c for i,c in zip(input_len,completion_len)]\n",
    "print (f'Mean/Max/Min/>2048: {np.mean(overall_len):.2f} / {np.max(overall_len)} / {np.min(overall_len)} / {np.sum(np.array(overall_len)>2048)}')\n"
   ]
  },
  {
   "cell_type": "markdown",
   "id": "0ed7c6fa",
   "metadata": {},
   "source": [
    "# Generate onpolicy for Toucan"
   ]
  },
  {
   "cell_type": "code",
   "execution_count": 4,
   "id": "4a5691b3",
   "metadata": {},
   "outputs": [
    {
     "data": {
      "application/vnd.jupyter.widget-view+json": {
       "model_id": "ba9ed9751e2a4e0989ed5f243ea4f3f4",
       "version_major": 2,
       "version_minor": 0
      },
      "text/plain": [
       "Resolving data files:   0%|          | 0/40 [00:00<?, ?it/s]"
      ]
     },
     "metadata": {},
     "output_type": "display_data"
    }
   ],
   "source": [
    "ds = load_dataset('Agent-Ark/Toucan-1.5M','SFT',split = 'train').to_list()"
   ]
  },
  {
   "cell_type": "code",
   "execution_count": 5,
   "id": "7f108c16",
   "metadata": {},
   "outputs": [],
   "source": [
    "def try_json_loads(value): # THE JSON tool call labels are messy.\n",
    "    \"\"\"Try to parse value as JSON, otherwise return as-is.\"\"\"\n",
    "    if isinstance(value, str):\n",
    "        try:\n",
    "            parsed = json.loads(value)\n",
    "            # Recursively process the parsed result as well\n",
    "            return recursively_fix(parsed)\n",
    "        except (json.JSONDecodeError, TypeError):\n",
    "            return value\n",
    "    return value\n",
    "\n",
    "def recursively_fix(obj):\n",
    "    \"\"\"Recursively decode nested JSON strings inside dicts/lists.\"\"\"\n",
    "    if isinstance(obj, dict):\n",
    "        return {k: recursively_fix(try_json_loads(v)) for k, v in obj.items()}\n",
    "    elif isinstance(obj, list):\n",
    "        return [recursively_fix(try_json_loads(x)) for x in obj]\n",
    "    else:\n",
    "        return try_json_loads(obj)\n",
    "\n",
    "def fix_tool_response(tool_response):\n",
    "    tool_response = ast.literal_eval(tool_response)\n",
    "    tool_response = recursively_fix(tool_response)\n",
    "    return json.dumps(tool_response, ensure_ascii=False)\n"
   ]
  },
  {
   "cell_type": "code",
   "execution_count": null,
   "id": "82779230",
   "metadata": {},
   "outputs": [
    {
     "name": "stderr",
     "output_type": "stream",
     "text": [
      "100%|███████████████████████████████████████████████████████████████████████████████████████████████████████████████████████████████████████████████████| 119287/119287 [00:25<00:00, 4757.74it/s]"
     ]
    },
    {
     "name": "stdout",
     "output_type": "stream",
     "text": [
      "Invalid cat no_tool_use: 40000 samples\n",
      "Valid cat rotated: 259452 samples\n",
      "Valid cat non-rotated: 79340 samples\n",
      "Total samples with assistant tool calls: 0 / 119287\n"
     ]
    },
    {
     "name": "stderr",
     "output_type": "stream",
     "text": [
      "\n"
     ]
    }
   ],
   "source": [
    "## reformat the dataset\n",
    "toolcall_format = \"<tool_call>\\n{tool}\\n</tool_call>\\n\"\n",
    "\n",
    "# Get the length.\n",
    "def get_len(sample):\n",
    "    convs = sample['conversations']\n",
    "    formatted = tool_prompt_format(convs,sample['tools'],tokenizer)\n",
    "    sample['len'] =len(tokenizer.encode(formatted))\n",
    "    return sample\n",
    "\n",
    "cat_ds = defaultdict(list)\n",
    "invalid_cats = defaultdict(int)\n",
    "\n",
    "for sample in tqdm(ds,total = len(ds)):\n",
    "    try: # have to be able to parse both of them.\n",
    "        tools = json.loads(sample['tools'])\n",
    "        messages = json.loads(sample['messages'])\n",
    "    except:\n",
    "        invalid_cats['parsing_error'] += 1\n",
    "        continue\n",
    "    \n",
    "    cat = sample['subset_name']\n",
    "    roles = [m['role'] for m in messages]\n",
    "    if not any([r == 'tool_response' for r in roles]): # no tool roles\n",
    "        invalid_cats['no_tool_use'] += 1\n",
    "        continue\n",
    "    \n",
    "    structured_msg = []\n",
    "    curr_tool_call = ''\n",
    "    assistant_start = False\n",
    "    turns_with_response = [] # We add valid assistant turns with the option of choosing any random turn to only do SFT on that turn, the issue is that in Qwen, the no-thinking mode causes extra tokens <think> and </think> to be added only to the last turn, thus we if train on all turns, usually only the tool turns are earlier and do not have these <think> tokens, thus there will be a mismatch.\n",
    "    tool_started = False # used to track if the conversation includes a tool response.\n",
    "    turns_without_response = []\n",
    "\n",
    "\n",
    "    for msg_id,m in enumerate(messages): # we ignore the assistant role since Qwen do not generate any text other than the MCP tools\n",
    "        if m['role'] == 'tool_call':\n",
    "            tool_response = fix_tool_response(m['content'])\n",
    "            curr_tool_call += toolcall_format.format(tool = tool_response)\n",
    "        else:\n",
    "            if curr_tool_call != '': # if the next msg is not tool_call, we dump the curr_tool_call\n",
    "                structured_msg.append({'role':'assistant','content':curr_tool_call.strip()})\n",
    "                curr_tool_call = ''\n",
    "                if tool_started:\n",
    "                    turns_with_response.append(len(structured_msg)-1)\n",
    "                else: # keep track until which turn it doesnt have any response.\n",
    "                    turns_without_response.append(len(structured_msg)-1)\n",
    "\n",
    "            if m['role'] == 'user':\n",
    "                structured_msg.append(m)\n",
    "            elif m['role'] == 'tool_response':\n",
    "                tool_started = True\n",
    "                structured_msg.append({'role':'tool','content':m['content']})\n",
    "            elif m['role'] == 'assistant': # if is assistant, we only keep it if it is the last msg or if the next msg is not tool_call.\n",
    "                if msg_id == len(messages) - 1 or messages[msg_id + 1]['role'] != 'tool_call':\n",
    "                    structured_msg.append(m)\n",
    "                    if tool_started:\n",
    "                        turns_with_response.append(len(structured_msg)-1)\n",
    "                    else:\n",
    "                        turns_without_response.append(len(structured_msg)-1)\n",
    "\n",
    "    for turn in turns_with_response:\n",
    "        truncated_msg = structured_msg[:turn]\n",
    "        assert truncated_msg[-1]['role'] != 'assistant', \"Last message should not be assistant!\"\n",
    "        cat_ds['rotated'].append(\n",
    "        {'conversations':truncated_msg,\n",
    "         'tools':tools,})\n",
    "    for turn in turns_without_response:\n",
    "        truncated_msg = structured_msg[:turn]\n",
    "        assert truncated_msg[-1]['role'] != 'assistant', \"Last message should not be assistant!\"\n",
    "        cat_ds['non-rotated'].append(\n",
    "        {'conversations':truncated_msg,\n",
    "         'tools':tools,})\n",
    "    # if np.random.rand() < 0.5: \n",
    "    #     chosen_turn = np.random.choice(turns_with_response)\n",
    "    #     cat_label = 'rotated'\n",
    "    # else:\n",
    "    #     chosen_turn = np.random.choice(turns_without_response)\n",
    "    #     cat_label = 'non-rotated'\n",
    "    # structured_msg = structured_msg[:chosen_turn]\n",
    "    \n",
    "\n",
    "    \n",
    "\n",
    "for k in invalid_cats:\n",
    "    print(f\"Invalid cat {k}: {invalid_cats[k]} samples\")\n",
    "\n",
    "for k in cat_ds:\n",
    "    print(f\"Valid cat {k}: {len(cat_ds[k])} samples\")\n",
    "\n",
    "print (f\"Total samples with assistant tool calls: {len(cat_ds['tool'])} / {len(ds)}\")\n"
   ]
  },
  {
   "cell_type": "code",
   "execution_count": 7,
   "id": "66dd0103",
   "metadata": {},
   "outputs": [
    {
     "name": "stderr",
     "output_type": "stream",
     "text": [
      "Token indices sequence length is longer than the specified maximum sequence length for this model (95538 > 32768). Running this sequence through the model will result in indexing errors\n",
      "Token indices sequence length is longer than the specified maximum sequence length for this model (95538 > 32768). Running this sequence through the model will result in indexing errors\n",
      "Computing input lengths: 100%|███████████████████████████████████████████████████████████████████████████████████████████████████████████████████████████| 259452/259452 [04:50<00:00, 893.64it/s]\n",
      "Computing input lengths: 100%|████████████████████████████████████████████████████████████████████████████████████████████████████████████████████████████| 79340/79340 [01:06<00:00, 1199.94it/s]\n",
      "Computing input lengths: 0it [00:00, ?it/s]\n"
     ]
    }
   ],
   "source": [
    "# Use multi process to get the lengths\n",
    "cat_ds_w_len = {k:async_process(get_len,cat_ds[k],workers=32, msg=\"Computing input lengths\") for k in cat_ds}\n"
   ]
  },
  {
   "cell_type": "code",
   "execution_count": 8,
   "id": "6c6fe075",
   "metadata": {},
   "outputs": [
    {
     "name": "stdout",
     "output_type": "stream",
     "text": [
      "Cat rotated: before filtering 259452, after filtering 137836\n",
      "Cat non-rotated: before filtering 79340, after filtering 54100\n",
      "Cat tool: before filtering 0, after filtering 0\n"
     ]
    }
   ],
   "source": [
    "MAX_LENGTH = 4096-512\n",
    "cat_ds_valid = {k:[s for s in cat_ds_w_len[k] if s['len'] <= MAX_LENGTH] for k in cat_ds_w_len}\n",
    "for k in cat_ds_w_len:\n",
    "    print (f\"Cat {k}: before filtering {len(cat_ds_w_len[k])}, after filtering {len(cat_ds_valid[k])}\")"
   ]
  },
  {
   "cell_type": "code",
   "execution_count": null,
   "id": "9f4497f7",
   "metadata": {},
   "outputs": [
    {
     "data": {
      "application/vnd.jupyter.widget-view+json": {
       "model_id": "6e7d3acd26b34306a7735513a2520f7a",
       "version_major": 2,
       "version_minor": 0
      },
      "text/plain": [
       "Adding requests:   0%|          | 0/191936 [00:00<?, ?it/s]"
      ]
     },
     "metadata": {},
     "output_type": "display_data"
    },
    {
     "data": {
      "application/vnd.jupyter.widget-view+json": {
       "model_id": "f3101571fe474322b21f83e1d38f70b9",
       "version_major": 2,
       "version_minor": 0
      },
      "text/plain": [
       "Processed prompts:   0%|                                                                                      …"
      ]
     },
     "metadata": {},
     "output_type": "display_data"
    }
   ],
   "source": [
    "# we should balance it out, since the dataset has more non-tool samples. we take an equal amount of tool and non-tool samples.\n",
    "tool_sampling_params = SamplingParams(temperature=0., max_tokens=512)\n",
    "rotated_ds = cat_ds_valid['rotated']\n",
    "non_rotated_ds = cat_ds_valid['non-rotated']\n",
    "\n",
    "balanced_ds = rotated_ds + non_rotated_ds\n",
    "np.random.shuffle(balanced_ds)\n",
    "\n",
    "balanced_inputs = [tool_prompt_format(m['conversations'],m['tools'],tokenizer) for m in balanced_ds]\n",
    "\n",
    "balanced_outputs = model.generate(balanced_inputs, tool_sampling_params,use_tqdm=True)\n",
    "balanced_outputs = [o.outputs[0].text for o in balanced_outputs]\n",
    "\n",
    "\n",
    "for sample,output in zip(balanced_ds,balanced_outputs):\n",
    "    sample['conversations'].append({'role':'assistant','content':output})\n",
    "\n",
    "random_ids = np.random.permutation(len(balanced_ds))\n",
    "val_size = 1000\n",
    "train_ids = random_ids[val_size:]\n",
    "val_ids = random_ids[:val_size]\n",
    "\n",
    "train_ds = [balanced_ds[i] for i in train_ids]\n",
    "val_ds = [balanced_ds[i] for i in val_ids]\n",
    "\n",
    "print (f\"Train size: {len(train_ds)}, Val size: {len(val_ds)}\")\n",
    "\n",
    "with open('/mnt/disk1/wjyeo/data/toucan_aside_train.json','w') as f:\n",
    "    json.dump(train_ds,f,indent = 4)\n",
    "with open('/mnt/disk1/wjyeo/data/toucan_aside_val.json','w') as f:\n",
    "    json.dump(val_ds,f,indent = 4)"
   ]
  },
  {
   "cell_type": "code",
   "execution_count": null,
   "id": "7336f663",
   "metadata": {},
   "outputs": [],
   "source": []
  }
 ],
 "metadata": {
  "kernelspec": {
   "display_name": "Python 3 (ipykernel)",
   "language": "python",
   "name": "python3"
  },
  "language_info": {
   "codemirror_mode": {
    "name": "ipython",
    "version": 3
   },
   "file_extension": ".py",
   "mimetype": "text/x-python",
   "name": "python",
   "nbconvert_exporter": "python",
   "pygments_lexer": "ipython3",
   "version": "3.12.0"
  }
 },
 "nbformat": 4,
 "nbformat_minor": 5
}
