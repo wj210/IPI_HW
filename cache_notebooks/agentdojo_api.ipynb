{
 "cells": [
  {
   "cell_type": "code",
   "execution_count": 1,
   "id": "b1477e3b",
   "metadata": {},
   "outputs": [
    {
     "name": "stderr",
     "output_type": "stream",
     "text": [
      "/export/home2/weijie210/miniconda3/envs/cot/lib/python3.10/site-packages/torch/cuda/__init__.py:129: UserWarning: CUDA initialization: The NVIDIA driver on your system is too old (found version 11060). Please update your GPU driver by downloading and installing a new version from the URL: http://www.nvidia.com/Download/index.aspx Alternatively, go to: https://pytorch.org to install a PyTorch version that has been compiled with your version of the CUDA driver. (Triggered internally at ../c10/cuda/CUDAFunctions.cpp:108.)\n",
      "  return torch._C._cuda_getDeviceCount() > 0\n",
      "The installed version of bitsandbytes was compiled without GPU support. 8-bit optimizers and GPU quantization are unavailable.\n",
      "/export/home2/weijie210/miniconda3/envs/cot/lib/python3.10/site-packages/torch/cuda/__init__.py:716: UserWarning: Can't initialize NVML\n",
      "  warnings.warn(\"Can't initialize NVML\")\n",
      "/export/home2/weijie210/miniconda3/envs/cot/lib/python3.10/site-packages/torch/cuda/__init__.py:716: UserWarning: Can't initialize NVML\n",
      "  warnings.warn(\"Can't initialize NVML\")\n"
     ]
    }
   ],
   "source": [
    "import os,sys\n",
    "sys.path.append(os.path.abspath(\".\")) \n",
    "sys.path.append(os.path.abspath(\"..\")) \n",
    "sys.path.append(os.path.abspath(\"InjecAgent\")) \n",
    "import json\n",
    "import numpy as np\n",
    "from tqdm import tqdm\n",
    "from collections import defaultdict,Counter\n",
    "from utils.utils import *\n",
    "from copy import deepcopy\n",
    "from utils.plot_utils import *\n",
    "home_dir = \"/export/home2/weijie210/StruQ\"\n",
    "cache_dir = f'{home_dir}/cache'\n",
    "os.makedirs(cache_dir,exist_ok=True)\n",
    "seed_all()\n",
    "\n",
    "from agentdojo.attacks.attack_registry import ATTACKS, load_attack\n",
    "from agentdojo.task_suite.load_suites import get_suite, get_suites\n",
    "from agentdojo.task_suite.task_suite import *\n",
    "from agentdojo.agent_pipeline.agent_pipeline import DEFENSES, AgentPipeline, PipelineConfig\n",
    "\n"
   ]
  },
  {
   "cell_type": "markdown",
   "id": "76f006a2",
   "metadata": {},
   "source": [
    "# Load Model"
   ]
  },
  {
   "cell_type": "code",
   "execution_count": 5,
   "id": "dcf3e0da",
   "metadata": {},
   "outputs": [],
   "source": [
    "model_path = 'deepseek'\n",
    "defense = None\n",
    "\n",
    "with open(f'/export/home2/weijie210/ipi_huawei/ds_key.txt','r') as f:\n",
    "    ds_key = f.read().strip()\n",
    "os.environ['OPENAI_API_KEY'] = ds_key\n",
    "\n",
    "agent_pipeline = AgentPipeline.from_config(\n",
    "        PipelineConfig(\n",
    "            llm='deepseek-chat',\n",
    "            defense=defense,\n",
    "            system_message_name=None,\n",
    "            system_message=None,\n",
    "            tool_output_format=None,\n",
    "            extra_args ={'max_tokens':512}\n",
    "            \n",
    "        )\n",
    "    )"
   ]
  },
  {
   "cell_type": "code",
   "execution_count": 6,
   "id": "1e09a5ed",
   "metadata": {},
   "outputs": [],
   "source": [
    "from agentdojo.base_tasks import BaseInjectionTask, BaseUserTask\n",
    "\n",
    "def run_task(suite,user_task,injection_task=None,task_injection = {},return_messages=False):\n",
    "    environment = suite.load_and_inject_default_environment(task_injection)\n",
    "    if isinstance(user_task, BaseUserTask):\n",
    "        task_environment = user_task.init_environment(environment)\n",
    "    else:\n",
    "        task_environment = environment\n",
    "    pre_environment = task_environment.model_copy(deep=True)\n",
    "    if isinstance(user_task, BaseUserTask):\n",
    "        prompt = user_task.PROMPT\n",
    "    else:\n",
    "        prompt = user_task.GOAL\n",
    "\n",
    "    messages = []\n",
    "    runtime = FunctionsRuntime(suite.tools)\n",
    "\n",
    "    _, _, task_environment, messages, _ = agent_pipeline.query(prompt, runtime, task_environment)\n",
    "    model_output = model_output_from_messages(messages)\n",
    "    functions_stack_trace = functions_stack_trace_from_messages(messages)\n",
    "    utility = suite._check_task_result(\n",
    "            user_task,\n",
    "            model_output or [],\n",
    "            pre_environment,\n",
    "            task_environment,  # type: ignore\n",
    "            functions_stack_trace,\n",
    "        )\n",
    "    security = None\n",
    "    if injection_task is not None:\n",
    "        security = suite._check_task_result(\n",
    "            injection_task,\n",
    "            model_output or [],\n",
    "            pre_environment,\n",
    "            task_environment,  # type: ignore\n",
    "            functions_stack_trace,\n",
    "        )\n",
    "    if not return_messages:\n",
    "        return utility,security\n",
    "    else:\n",
    "        return utility,security, messages\n",
    "    "
   ]
  },
  {
   "cell_type": "markdown",
   "id": "aff523d7",
   "metadata": {},
   "source": [
    "# Eval"
   ]
  },
  {
   "cell_type": "code",
   "execution_count": 7,
   "id": "62383c94",
   "metadata": {},
   "outputs": [
    {
     "name": "stdout",
     "output_type": "stream",
     "text": [
      "{'injection_task_1': <agentdojo.default_suites.v1.slack.injection_tasks.InjectionTask1 object at 0x15538e118070>, 'injection_task_2': <agentdojo.default_suites.v1.slack.injection_tasks.InjectionTask2 object at 0x15538e1180d0>, 'injection_task_3': <agentdojo.default_suites.v1.slack.injection_tasks.InjectionTask3 object at 0x15538e118130>, 'injection_task_4': <agentdojo.default_suites.v1.slack.injection_tasks.InjectionTask4 object at 0x15538e118190>, 'injection_task_5': <agentdojo.default_suites.v1.slack.injection_tasks.InjectionTask5 object at 0x15538e1181f0>}\n",
      "**Running benchmark for suite: 'slack'**\n",
      "Num User tasks to run: 21\n",
      "is dos_attack: False\n",
      "Num Injection tasks to run: 5\n"
     ]
    },
    {
     "name": "stderr",
     "output_type": "stream",
     "text": [
      "Running Injection utility for slack:   0%|          | 0/5 [00:00<?, ?it/s]"
     ]
    },
    {
     "name": "stderr",
     "output_type": "stream",
     "text": [
      "Running Injection utility for slack: 100%|██████████| 5/5 [02:10<00:00, 26.08s/it]\n"
     ]
    },
    {
     "name": "stdout",
     "output_type": "stream",
     "text": [
      "slack Injection utility: 1.00\n"
     ]
    },
    {
     "name": "stderr",
     "output_type": "stream",
     "text": [
      "Running Task utility for slack: 100%|██████████| 21/21 [13:25<00:00, 38.36s/it]\n"
     ]
    },
    {
     "name": "stdout",
     "output_type": "stream",
     "text": [
      "slack Task utility: 0.90\n"
     ]
    },
    {
     "name": "stderr",
     "output_type": "stream",
     "text": [
      "Running Attack for slack:  29%|██▊       | 6/21 [25:16<1:03:11, 252.75s/it]\n"
     ]
    },
    {
     "ename": "JSONDecodeError",
     "evalue": "Invalid \\escape: line 1 column 327 (char 326)",
     "output_type": "error",
     "traceback": [
      "\u001b[0;31m---------------------------------------------------------------------------\u001b[0m",
      "\u001b[0;31mJSONDecodeError\u001b[0m                           Traceback (most recent call last)",
      "Cell \u001b[0;32mIn[7], line 67\u001b[0m\n\u001b[1;32m     65\u001b[0m injection_task \u001b[38;5;241m=\u001b[39m suite\u001b[38;5;241m.\u001b[39mget_injection_task_by_id(injection_task_id)\n\u001b[1;32m     66\u001b[0m task_injections \u001b[38;5;241m=\u001b[39m attacker_\u001b[38;5;241m.\u001b[39mattack(user_task, injection_task)\n\u001b[0;32m---> 67\u001b[0m utility,security,messages \u001b[38;5;241m=\u001b[39m \u001b[43mrun_task\u001b[49m\u001b[43m(\u001b[49m\u001b[43msuite\u001b[49m\u001b[43m,\u001b[49m\u001b[43muser_task\u001b[49m\u001b[43m,\u001b[49m\u001b[43minjection_task\u001b[49m\u001b[43m,\u001b[49m\u001b[43mtask_injections\u001b[49m\u001b[43m,\u001b[49m\u001b[43mreturn_messages\u001b[49m\u001b[38;5;241;43m=\u001b[39;49m\u001b[38;5;28;43;01mTrue\u001b[39;49;00m\u001b[43m)\u001b[49m\n\u001b[1;32m     68\u001b[0m utility_with_attack[(user_task\u001b[38;5;241m.\u001b[39mID, injection_task_id)] \u001b[38;5;241m=\u001b[39m utility\n\u001b[1;32m     69\u001b[0m suite_security_results[(user_task\u001b[38;5;241m.\u001b[39mID, injection_task_id)] \u001b[38;5;241m=\u001b[39m security\n",
      "Cell \u001b[0;32mIn[6], line 18\u001b[0m, in \u001b[0;36mrun_task\u001b[0;34m(suite, user_task, injection_task, task_injection, return_messages)\u001b[0m\n\u001b[1;32m     15\u001b[0m messages \u001b[38;5;241m=\u001b[39m []\n\u001b[1;32m     16\u001b[0m runtime \u001b[38;5;241m=\u001b[39m FunctionsRuntime(suite\u001b[38;5;241m.\u001b[39mtools)\n\u001b[0;32m---> 18\u001b[0m _, _, task_environment, messages, _ \u001b[38;5;241m=\u001b[39m \u001b[43magent_pipeline\u001b[49m\u001b[38;5;241;43m.\u001b[39;49m\u001b[43mquery\u001b[49m\u001b[43m(\u001b[49m\u001b[43mprompt\u001b[49m\u001b[43m,\u001b[49m\u001b[43m \u001b[49m\u001b[43mruntime\u001b[49m\u001b[43m,\u001b[49m\u001b[43m \u001b[49m\u001b[43mtask_environment\u001b[49m\u001b[43m)\u001b[49m\n\u001b[1;32m     19\u001b[0m model_output \u001b[38;5;241m=\u001b[39m model_output_from_messages(messages)\n\u001b[1;32m     20\u001b[0m functions_stack_trace \u001b[38;5;241m=\u001b[39m functions_stack_trace_from_messages(messages)\n",
      "File \u001b[0;32m~/miniconda3/envs/cot/lib/python3.10/site-packages/agentdojo/agent_pipeline/agent_pipeline.py:172\u001b[0m, in \u001b[0;36mAgentPipeline.query\u001b[0;34m(self, query, runtime, env, messages, extra_args)\u001b[0m\n\u001b[1;32m    170\u001b[0m logger \u001b[38;5;241m=\u001b[39m Logger()\u001b[38;5;241m.\u001b[39mget()\n\u001b[1;32m    171\u001b[0m \u001b[38;5;28;01mfor\u001b[39;00m element \u001b[38;5;129;01min\u001b[39;00m \u001b[38;5;28mself\u001b[39m\u001b[38;5;241m.\u001b[39melements:\n\u001b[0;32m--> 172\u001b[0m     query, runtime, env, messages, extra_args \u001b[38;5;241m=\u001b[39m \u001b[43melement\u001b[49m\u001b[38;5;241;43m.\u001b[39;49m\u001b[43mquery\u001b[49m\u001b[43m(\u001b[49m\u001b[43mquery\u001b[49m\u001b[43m,\u001b[49m\u001b[43m \u001b[49m\u001b[43mruntime\u001b[49m\u001b[43m,\u001b[49m\u001b[43m \u001b[49m\u001b[43menv\u001b[49m\u001b[43m,\u001b[49m\u001b[43m \u001b[49m\u001b[43mmessages\u001b[49m\u001b[43m,\u001b[49m\u001b[43m \u001b[49m\u001b[43mextra_args\u001b[49m\u001b[43m)\u001b[49m\n\u001b[1;32m    173\u001b[0m     logger\u001b[38;5;241m.\u001b[39mlog(messages)\n\u001b[1;32m    174\u001b[0m \u001b[38;5;28;01mreturn\u001b[39;00m query, runtime, env, messages, extra_args\n",
      "File \u001b[0;32m~/miniconda3/envs/cot/lib/python3.10/site-packages/agentdojo/agent_pipeline/tool_execution.py:155\u001b[0m, in \u001b[0;36mToolsExecutionLoop.query\u001b[0;34m(self, query, runtime, env, messages, extra_args)\u001b[0m\n\u001b[1;32m    153\u001b[0m         \u001b[38;5;28;01mbreak\u001b[39;00m\n\u001b[1;32m    154\u001b[0m     \u001b[38;5;28;01mfor\u001b[39;00m element \u001b[38;5;129;01min\u001b[39;00m \u001b[38;5;28mself\u001b[39m\u001b[38;5;241m.\u001b[39melements:\n\u001b[0;32m--> 155\u001b[0m         query, runtime, env, messages, extra_args \u001b[38;5;241m=\u001b[39m \u001b[43melement\u001b[49m\u001b[38;5;241;43m.\u001b[39;49m\u001b[43mquery\u001b[49m\u001b[43m(\u001b[49m\u001b[43mquery\u001b[49m\u001b[43m,\u001b[49m\u001b[43m \u001b[49m\u001b[43mruntime\u001b[49m\u001b[43m,\u001b[49m\u001b[43m \u001b[49m\u001b[43menv\u001b[49m\u001b[43m,\u001b[49m\u001b[43m \u001b[49m\u001b[43mmessages\u001b[49m\u001b[43m,\u001b[49m\u001b[43m \u001b[49m\u001b[43mextra_args\u001b[49m\u001b[43m)\u001b[49m\n\u001b[1;32m    156\u001b[0m         logger\u001b[38;5;241m.\u001b[39mlog(messages)\n\u001b[1;32m    157\u001b[0m \u001b[38;5;28;01mreturn\u001b[39;00m query, runtime, env, messages, extra_args\n",
      "File \u001b[0;32m~/miniconda3/envs/cot/lib/python3.10/site-packages/agentdojo/agent_pipeline/llms/openai_llm.py:215\u001b[0m, in \u001b[0;36mOpenAILLM.query\u001b[0;34m(self, query, runtime, env, messages, extra_args)\u001b[0m\n\u001b[1;32m    209\u001b[0m         o[\u001b[38;5;124m'\u001b[39m\u001b[38;5;124mcontent\u001b[39m\u001b[38;5;124m'\u001b[39m] \u001b[38;5;241m=\u001b[39m content\n\u001b[1;32m    212\u001b[0m completion \u001b[38;5;241m=\u001b[39m chat_completion_request(\n\u001b[1;32m    213\u001b[0m     \u001b[38;5;28mself\u001b[39m\u001b[38;5;241m.\u001b[39mclient, \u001b[38;5;28mself\u001b[39m\u001b[38;5;241m.\u001b[39mmodel, openai_messages, openai_tools, \u001b[38;5;28mself\u001b[39m\u001b[38;5;241m.\u001b[39mreasoning_effort, \u001b[38;5;28mself\u001b[39m\u001b[38;5;241m.\u001b[39mtemperature,\u001b[38;5;28mself\u001b[39m\u001b[38;5;241m.\u001b[39mmax_tokens\n\u001b[1;32m    214\u001b[0m )\n\u001b[0;32m--> 215\u001b[0m output \u001b[38;5;241m=\u001b[39m \u001b[43m_openai_to_assistant_message\u001b[49m\u001b[43m(\u001b[49m\u001b[43mcompletion\u001b[49m\u001b[38;5;241;43m.\u001b[39;49m\u001b[43mchoices\u001b[49m\u001b[43m[\u001b[49m\u001b[38;5;241;43m0\u001b[39;49m\u001b[43m]\u001b[49m\u001b[38;5;241;43m.\u001b[39;49m\u001b[43mmessage\u001b[49m\u001b[43m)\u001b[49m\n\u001b[1;32m    216\u001b[0m messages \u001b[38;5;241m=\u001b[39m [\u001b[38;5;241m*\u001b[39mmessages, output]\n\u001b[1;32m    217\u001b[0m \u001b[38;5;28;01mreturn\u001b[39;00m query, runtime, env, messages, extra_args\n",
      "File \u001b[0;32m~/miniconda3/envs/cot/lib/python3.10/site-packages/agentdojo/agent_pipeline/llms/openai_llm.py:129\u001b[0m, in \u001b[0;36m_openai_to_assistant_message\u001b[0;34m(message)\u001b[0m\n\u001b[1;32m    127\u001b[0m \u001b[38;5;28;01mdef\u001b[39;00m\u001b[38;5;250m \u001b[39m\u001b[38;5;21m_openai_to_assistant_message\u001b[39m(message: ChatCompletionMessage) \u001b[38;5;241m-\u001b[39m\u001b[38;5;241m>\u001b[39m ChatAssistantMessage:\n\u001b[1;32m    128\u001b[0m     \u001b[38;5;28;01mif\u001b[39;00m message\u001b[38;5;241m.\u001b[39mtool_calls \u001b[38;5;129;01mis\u001b[39;00m \u001b[38;5;129;01mnot\u001b[39;00m \u001b[38;5;28;01mNone\u001b[39;00m:\n\u001b[0;32m--> 129\u001b[0m         tool_calls \u001b[38;5;241m=\u001b[39m [_openai_to_tool_call(tool_call) \u001b[38;5;28;01mfor\u001b[39;00m tool_call \u001b[38;5;129;01min\u001b[39;00m message\u001b[38;5;241m.\u001b[39mtool_calls]\n\u001b[1;32m    130\u001b[0m     \u001b[38;5;28;01melse\u001b[39;00m:\n\u001b[1;32m    131\u001b[0m         tool_calls \u001b[38;5;241m=\u001b[39m \u001b[38;5;28;01mNone\u001b[39;00m\n",
      "File \u001b[0;32m~/miniconda3/envs/cot/lib/python3.10/site-packages/agentdojo/agent_pipeline/llms/openai_llm.py:129\u001b[0m, in \u001b[0;36m<listcomp>\u001b[0;34m(.0)\u001b[0m\n\u001b[1;32m    127\u001b[0m \u001b[38;5;28;01mdef\u001b[39;00m\u001b[38;5;250m \u001b[39m\u001b[38;5;21m_openai_to_assistant_message\u001b[39m(message: ChatCompletionMessage) \u001b[38;5;241m-\u001b[39m\u001b[38;5;241m>\u001b[39m ChatAssistantMessage:\n\u001b[1;32m    128\u001b[0m     \u001b[38;5;28;01mif\u001b[39;00m message\u001b[38;5;241m.\u001b[39mtool_calls \u001b[38;5;129;01mis\u001b[39;00m \u001b[38;5;129;01mnot\u001b[39;00m \u001b[38;5;28;01mNone\u001b[39;00m:\n\u001b[0;32m--> 129\u001b[0m         tool_calls \u001b[38;5;241m=\u001b[39m [\u001b[43m_openai_to_tool_call\u001b[49m\u001b[43m(\u001b[49m\u001b[43mtool_call\u001b[49m\u001b[43m)\u001b[49m \u001b[38;5;28;01mfor\u001b[39;00m tool_call \u001b[38;5;129;01min\u001b[39;00m message\u001b[38;5;241m.\u001b[39mtool_calls]\n\u001b[1;32m    130\u001b[0m     \u001b[38;5;28;01melse\u001b[39;00m:\n\u001b[1;32m    131\u001b[0m         tool_calls \u001b[38;5;241m=\u001b[39m \u001b[38;5;28;01mNone\u001b[39;00m\n",
      "File \u001b[0;32m~/miniconda3/envs/cot/lib/python3.10/site-packages/agentdojo/agent_pipeline/llms/openai_llm.py:116\u001b[0m, in \u001b[0;36m_openai_to_tool_call\u001b[0;34m(tool_call)\u001b[0m\n\u001b[1;32m    113\u001b[0m \u001b[38;5;28;01mdef\u001b[39;00m\u001b[38;5;250m \u001b[39m\u001b[38;5;21m_openai_to_tool_call\u001b[39m(tool_call: ChatCompletionMessageToolCall) \u001b[38;5;241m-\u001b[39m\u001b[38;5;241m>\u001b[39m FunctionCall:\n\u001b[1;32m    114\u001b[0m     \u001b[38;5;28;01mreturn\u001b[39;00m FunctionCall(\n\u001b[1;32m    115\u001b[0m         function\u001b[38;5;241m=\u001b[39mtool_call\u001b[38;5;241m.\u001b[39mfunction\u001b[38;5;241m.\u001b[39mname,\n\u001b[0;32m--> 116\u001b[0m         args\u001b[38;5;241m=\u001b[39m\u001b[43mjson\u001b[49m\u001b[38;5;241;43m.\u001b[39;49m\u001b[43mloads\u001b[49m\u001b[43m(\u001b[49m\u001b[43mtool_call\u001b[49m\u001b[38;5;241;43m.\u001b[39;49m\u001b[43mfunction\u001b[49m\u001b[38;5;241;43m.\u001b[39;49m\u001b[43marguments\u001b[49m\u001b[43m)\u001b[49m,\n\u001b[1;32m    117\u001b[0m         \u001b[38;5;28mid\u001b[39m\u001b[38;5;241m=\u001b[39mtool_call\u001b[38;5;241m.\u001b[39mid,\n\u001b[1;32m    118\u001b[0m     )\n",
      "File \u001b[0;32m~/miniconda3/envs/cot/lib/python3.10/json/__init__.py:346\u001b[0m, in \u001b[0;36mloads\u001b[0;34m(s, cls, object_hook, parse_float, parse_int, parse_constant, object_pairs_hook, **kw)\u001b[0m\n\u001b[1;32m    341\u001b[0m     s \u001b[38;5;241m=\u001b[39m s\u001b[38;5;241m.\u001b[39mdecode(detect_encoding(s), \u001b[38;5;124m'\u001b[39m\u001b[38;5;124msurrogatepass\u001b[39m\u001b[38;5;124m'\u001b[39m)\n\u001b[1;32m    343\u001b[0m \u001b[38;5;28;01mif\u001b[39;00m (\u001b[38;5;28mcls\u001b[39m \u001b[38;5;129;01mis\u001b[39;00m \u001b[38;5;28;01mNone\u001b[39;00m \u001b[38;5;129;01mand\u001b[39;00m object_hook \u001b[38;5;129;01mis\u001b[39;00m \u001b[38;5;28;01mNone\u001b[39;00m \u001b[38;5;129;01mand\u001b[39;00m\n\u001b[1;32m    344\u001b[0m         parse_int \u001b[38;5;129;01mis\u001b[39;00m \u001b[38;5;28;01mNone\u001b[39;00m \u001b[38;5;129;01mand\u001b[39;00m parse_float \u001b[38;5;129;01mis\u001b[39;00m \u001b[38;5;28;01mNone\u001b[39;00m \u001b[38;5;129;01mand\u001b[39;00m\n\u001b[1;32m    345\u001b[0m         parse_constant \u001b[38;5;129;01mis\u001b[39;00m \u001b[38;5;28;01mNone\u001b[39;00m \u001b[38;5;129;01mand\u001b[39;00m object_pairs_hook \u001b[38;5;129;01mis\u001b[39;00m \u001b[38;5;28;01mNone\u001b[39;00m \u001b[38;5;129;01mand\u001b[39;00m \u001b[38;5;129;01mnot\u001b[39;00m kw):\n\u001b[0;32m--> 346\u001b[0m     \u001b[38;5;28;01mreturn\u001b[39;00m \u001b[43m_default_decoder\u001b[49m\u001b[38;5;241;43m.\u001b[39;49m\u001b[43mdecode\u001b[49m\u001b[43m(\u001b[49m\u001b[43ms\u001b[49m\u001b[43m)\u001b[49m\n\u001b[1;32m    347\u001b[0m \u001b[38;5;28;01mif\u001b[39;00m \u001b[38;5;28mcls\u001b[39m \u001b[38;5;129;01mis\u001b[39;00m \u001b[38;5;28;01mNone\u001b[39;00m:\n\u001b[1;32m    348\u001b[0m     \u001b[38;5;28mcls\u001b[39m \u001b[38;5;241m=\u001b[39m JSONDecoder\n",
      "File \u001b[0;32m~/miniconda3/envs/cot/lib/python3.10/json/decoder.py:337\u001b[0m, in \u001b[0;36mJSONDecoder.decode\u001b[0;34m(self, s, _w)\u001b[0m\n\u001b[1;32m    332\u001b[0m \u001b[38;5;28;01mdef\u001b[39;00m\u001b[38;5;250m \u001b[39m\u001b[38;5;21mdecode\u001b[39m(\u001b[38;5;28mself\u001b[39m, s, _w\u001b[38;5;241m=\u001b[39mWHITESPACE\u001b[38;5;241m.\u001b[39mmatch):\n\u001b[1;32m    333\u001b[0m \u001b[38;5;250m    \u001b[39m\u001b[38;5;124;03m\"\"\"Return the Python representation of ``s`` (a ``str`` instance\u001b[39;00m\n\u001b[1;32m    334\u001b[0m \u001b[38;5;124;03m    containing a JSON document).\u001b[39;00m\n\u001b[1;32m    335\u001b[0m \n\u001b[1;32m    336\u001b[0m \u001b[38;5;124;03m    \"\"\"\u001b[39;00m\n\u001b[0;32m--> 337\u001b[0m     obj, end \u001b[38;5;241m=\u001b[39m \u001b[38;5;28;43mself\u001b[39;49m\u001b[38;5;241;43m.\u001b[39;49m\u001b[43mraw_decode\u001b[49m\u001b[43m(\u001b[49m\u001b[43ms\u001b[49m\u001b[43m,\u001b[49m\u001b[43m \u001b[49m\u001b[43midx\u001b[49m\u001b[38;5;241;43m=\u001b[39;49m\u001b[43m_w\u001b[49m\u001b[43m(\u001b[49m\u001b[43ms\u001b[49m\u001b[43m,\u001b[49m\u001b[43m \u001b[49m\u001b[38;5;241;43m0\u001b[39;49m\u001b[43m)\u001b[49m\u001b[38;5;241;43m.\u001b[39;49m\u001b[43mend\u001b[49m\u001b[43m(\u001b[49m\u001b[43m)\u001b[49m\u001b[43m)\u001b[49m\n\u001b[1;32m    338\u001b[0m     end \u001b[38;5;241m=\u001b[39m _w(s, end)\u001b[38;5;241m.\u001b[39mend()\n\u001b[1;32m    339\u001b[0m     \u001b[38;5;28;01mif\u001b[39;00m end \u001b[38;5;241m!=\u001b[39m \u001b[38;5;28mlen\u001b[39m(s):\n",
      "File \u001b[0;32m~/miniconda3/envs/cot/lib/python3.10/json/decoder.py:353\u001b[0m, in \u001b[0;36mJSONDecoder.raw_decode\u001b[0;34m(self, s, idx)\u001b[0m\n\u001b[1;32m    344\u001b[0m \u001b[38;5;250m\u001b[39m\u001b[38;5;124;03m\"\"\"Decode a JSON document from ``s`` (a ``str`` beginning with\u001b[39;00m\n\u001b[1;32m    345\u001b[0m \u001b[38;5;124;03ma JSON document) and return a 2-tuple of the Python\u001b[39;00m\n\u001b[1;32m    346\u001b[0m \u001b[38;5;124;03mrepresentation and the index in ``s`` where the document ended.\u001b[39;00m\n\u001b[0;32m   (...)\u001b[0m\n\u001b[1;32m    350\u001b[0m \n\u001b[1;32m    351\u001b[0m \u001b[38;5;124;03m\"\"\"\u001b[39;00m\n\u001b[1;32m    352\u001b[0m \u001b[38;5;28;01mtry\u001b[39;00m:\n\u001b[0;32m--> 353\u001b[0m     obj, end \u001b[38;5;241m=\u001b[39m \u001b[38;5;28;43mself\u001b[39;49m\u001b[38;5;241;43m.\u001b[39;49m\u001b[43mscan_once\u001b[49m\u001b[43m(\u001b[49m\u001b[43ms\u001b[49m\u001b[43m,\u001b[49m\u001b[43m \u001b[49m\u001b[43midx\u001b[49m\u001b[43m)\u001b[49m\n\u001b[1;32m    354\u001b[0m \u001b[38;5;28;01mexcept\u001b[39;00m \u001b[38;5;167;01mStopIteration\u001b[39;00m \u001b[38;5;28;01mas\u001b[39;00m err:\n\u001b[1;32m    355\u001b[0m     \u001b[38;5;28;01mraise\u001b[39;00m JSONDecodeError(\u001b[38;5;124m\"\u001b[39m\u001b[38;5;124mExpecting value\u001b[39m\u001b[38;5;124m\"\u001b[39m, s, err\u001b[38;5;241m.\u001b[39mvalue) \u001b[38;5;28;01mfrom\u001b[39;00m\u001b[38;5;250m \u001b[39m\u001b[38;5;28;01mNone\u001b[39;00m\n",
      "\u001b[0;31mJSONDecodeError\u001b[0m: Invalid \\escape: line 1 column 327 (char 326)"
     ]
    }
   ],
   "source": [
    "benchmark_version = 'v1.2.1'\n",
    "# suites = tuple(get_suites(benchmark_version).keys())\n",
    "suites = ['slack','banking','travel','workspace']\n",
    "# suites = ['slack']\n",
    "attack_name = 'important_instructions'\n",
    "\n",
    "all_suite_results = defaultdict(dict)\n",
    "all_suite_asr_messages = defaultdict(dict)\n",
    "debug_messages = defaultdict(list)\n",
    "\n",
    "if 'qwen' in model_path.lower():\n",
    "    base_model_name = 'qwen3'\n",
    "elif 'llama3' in model_path.lower():\n",
    "    base_model_name = 'llama3'\n",
    "else:\n",
    "    base_model_name = model_path\n",
    "\n",
    "\n",
    "model_n = model_path.split('/')[-1]\n",
    "result_dict = 'results/agentdojo'\n",
    "os.makedirs(result_dict,exist_ok=True)\n",
    "\n",
    "result_file = f'{result_dict}/{base_model_name}_{model_n}.json'\n",
    "msg_file = f'{result_dict}/{base_model_name}_{model_n}_messages.pkl'\n",
    "\n",
    "if not os.path.exists(result_file):\n",
    "    for suite_name in suites:\n",
    "        suite = get_suite(benchmark_version, suite_name)\n",
    "        print (suite.injection_tasks)\n",
    "        print(f\"**Running benchmark for suite: '{suite.name}'**\")\n",
    "        user_tasks_to_run = suite.user_tasks.values()\n",
    "        print (f\"Num User tasks to run: {len(user_tasks_to_run)}\")\n",
    "        attacker_ = load_attack(attack_name, suite, target_pipeline = agent_pipeline)\n",
    "        print ('is dos_attack:', attacker_.is_dos_attack)\n",
    "        injection_tasks_to_run = suite.injection_tasks\n",
    "        print (f\"Num Injection tasks to run: {len(injection_tasks_to_run)}\")\n",
    "\n",
    "        #Injection utility\n",
    "        injection_task_utility = {}\n",
    "        for injection_task_id, injection_task in tqdm(injection_tasks_to_run.items(),total = len(injection_tasks_to_run),desc = f'Running Injection utility for {suite_name}'):\n",
    "            utility,_,message = run_task(suite,injection_task,return_messages=True)\n",
    "            injection_task_utility[injection_task_id] = utility\n",
    "            debug_messages['injection'].append(message)\n",
    "\n",
    "        print (f'{suite_name} Injection utility: {np.mean(list(injection_task_utility.values())):.2f}')\n",
    "        all_suite_results[suite_name]['injection_utility'] = np.mean(list(injection_task_utility.values()))\n",
    "\n",
    "        # ## Non-injection utility\n",
    "        task_utility = {}\n",
    "        for user_task in tqdm(user_tasks_to_run,total = len(user_tasks_to_run),desc = f'Running Task utility for {suite_name}'):\n",
    "            utility,_,message = run_task(suite,user_task,return_messages=True)\n",
    "            task_utility[user_task.ID] = utility\n",
    "            debug_messages['utility'].append(message)\n",
    "            \n",
    "            \n",
    "        print (f'{suite_name} Task utility: {np.mean(list(task_utility.values())):.2f}')\n",
    "        all_suite_results[suite_name]['task_utility'] = np.mean(list(task_utility.values()))\n",
    "        \n",
    "        ## With attack\n",
    "        utility_with_attack = {}\n",
    "        all_messages = {}\n",
    "        suite_security_results =  {}\n",
    "        for user_task in tqdm(user_tasks_to_run,total = len(user_tasks_to_run),desc = f'Running Attack for {suite_name}'):\n",
    "            for injection_task_id in injection_tasks_to_run:\n",
    "                injection_task = suite.get_injection_task_by_id(injection_task_id)\n",
    "                task_injections = attacker_.attack(user_task, injection_task)\n",
    "                utility,security,messages = run_task(suite,user_task,injection_task,task_injections,return_messages=True)\n",
    "                utility_with_attack[(user_task.ID, injection_task_id)] = utility\n",
    "                suite_security_results[(user_task.ID, injection_task_id)] = security\n",
    "                all_messages[(user_task.ID, injection_task_id)] = messages\n",
    "        all_suite_asr_messages[suite_name] = all_messages\n",
    "        all_suite_results[suite_name]['asr'] = np.mean(list(suite_security_results.values()))\n",
    "        all_suite_results[suite_name]['attack_utility'] = np.mean(list(utility_with_attack.values()))\n",
    "\n",
    "        print (f'{suite_name} Task with injection Utility: {np.mean(list(utility_with_attack.values())):.2f}')\n",
    "        print (f'{suite_name} ASR: {np.mean(list(suite_security_results.values())):.2f}')\n",
    "    with open(result_file, 'w') as f:\n",
    "        json.dump(all_suite_results, f, indent=4)\n",
    "        \n",
    "    with open(msg_file, 'wb') as f:\n",
    "        pickle.dump(all_suite_asr_messages, f)\n",
    "        \n",
    "\n",
    "else:\n",
    "    with open(result_file, 'r') as f:\n",
    "        all_suite_results = json.load(f)\n",
    "\n",
    "    for suite_name in all_suite_results:\n",
    "        suite_results = all_suite_results[suite_name]\n",
    "        print (f\"Results for {suite_name}:\")\n",
    "        print (f\"Injection utility: {suite_results['injection_utility']:.2f}\")\n",
    "        print (f\"Task utility: {suite_results['task_utility']:.2f}\")\n",
    "        print (f\"Task with injection utility: {suite_results['attack_utility']:.2f}\")\n",
    "        print (f\"ASR: {suite_results['asr']:.2f}\")"
   ]
  },
  {
   "cell_type": "code",
   "execution_count": null,
   "id": "bb930b10",
   "metadata": {},
   "outputs": [],
   "source": []
  }
 ],
 "metadata": {
  "kernelspec": {
   "display_name": "cot",
   "language": "python",
   "name": "python3"
  },
  "language_info": {
   "codemirror_mode": {
    "name": "ipython",
    "version": 3
   },
   "file_extension": ".py",
   "mimetype": "text/x-python",
   "name": "python",
   "nbconvert_exporter": "python",
   "pygments_lexer": "ipython3",
   "version": "3.10.0"
  }
 },
 "nbformat": 4,
 "nbformat_minor": 5
}
